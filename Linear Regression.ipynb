{
  "nbformat": 4,
  "nbformat_minor": 0,
  "metadata": {
    "colab": {
      "name": "70days Challenge.ipynb",
      "provenance": [],
      "collapsed_sections": [],
      "authorship_tag": "ABX9TyMBCLuokzX1hCfICX2NaB38",
      "include_colab_link": true
    },
    "kernelspec": {
      "name": "python3",
      "display_name": "Python 3"
    }
  },
  "cells": [
    {
      "cell_type": "markdown",
      "metadata": {
        "id": "view-in-github",
        "colab_type": "text"
      },
      "source": [
        "<a href=\"https://colab.research.google.com/github/Rvd001/ML/blob/master/Linear%20Regression.ipynb\" target=\"_parent\"><img src=\"https://colab.research.google.com/assets/colab-badge.svg\" alt=\"Open In Colab\"/></a>"
      ]
    },
    {
      "cell_type": "code",
      "metadata": {
        "id": "xNt9eMKIibaW",
        "colab_type": "code",
        "colab": {}
      },
      "source": [
        "import pandas"
      ],
      "execution_count": 1,
      "outputs": []
    },
    {
      "cell_type": "code",
      "metadata": {
        "id": "XFtba6GgiOf6",
        "colab_type": "code",
        "colab": {
          "base_uri": "https://localhost:8080/",
          "height": 1000
        },
        "outputId": "6d9874f1-fbf2-485b-ec67-7220fc17a370"
      },
      "source": [
        "dir(pandas)"
      ],
      "execution_count": 2,
      "outputs": [
        {
          "output_type": "execute_result",
          "data": {
            "text/plain": [
              "['BooleanDtype',\n",
              " 'Categorical',\n",
              " 'CategoricalDtype',\n",
              " 'CategoricalIndex',\n",
              " 'DataFrame',\n",
              " 'DateOffset',\n",
              " 'DatetimeIndex',\n",
              " 'DatetimeTZDtype',\n",
              " 'ExcelFile',\n",
              " 'ExcelWriter',\n",
              " 'Float64Index',\n",
              " 'Grouper',\n",
              " 'HDFStore',\n",
              " 'Index',\n",
              " 'IndexSlice',\n",
              " 'Int16Dtype',\n",
              " 'Int32Dtype',\n",
              " 'Int64Dtype',\n",
              " 'Int64Index',\n",
              " 'Int8Dtype',\n",
              " 'Interval',\n",
              " 'IntervalDtype',\n",
              " 'IntervalIndex',\n",
              " 'MultiIndex',\n",
              " 'NA',\n",
              " 'NaT',\n",
              " 'NamedAgg',\n",
              " 'Panel',\n",
              " 'Period',\n",
              " 'PeriodDtype',\n",
              " 'PeriodIndex',\n",
              " 'RangeIndex',\n",
              " 'Series',\n",
              " 'SparseArray',\n",
              " 'SparseDataFrame',\n",
              " 'SparseDtype',\n",
              " 'SparseSeries',\n",
              " 'StringDtype',\n",
              " 'Timedelta',\n",
              " 'TimedeltaIndex',\n",
              " 'Timestamp',\n",
              " 'UInt16Dtype',\n",
              " 'UInt32Dtype',\n",
              " 'UInt64Dtype',\n",
              " 'UInt64Index',\n",
              " 'UInt8Dtype',\n",
              " '__Datetime',\n",
              " '__DatetimeSub',\n",
              " '__SparseArray',\n",
              " '__SparseArraySub',\n",
              " '__builtins__',\n",
              " '__cached__',\n",
              " '__doc__',\n",
              " '__docformat__',\n",
              " '__file__',\n",
              " '__git_version__',\n",
              " '__loader__',\n",
              " '__name__',\n",
              " '__numpy',\n",
              " '__package__',\n",
              " '__path__',\n",
              " '__spec__',\n",
              " '__version__',\n",
              " '_config',\n",
              " '_hashtable',\n",
              " '_is_numpy_dev',\n",
              " '_lib',\n",
              " '_libs',\n",
              " '_np_version_under1p14',\n",
              " '_np_version_under1p15',\n",
              " '_np_version_under1p16',\n",
              " '_np_version_under1p17',\n",
              " '_np_version_under1p18',\n",
              " '_testing',\n",
              " '_tslib',\n",
              " '_typing',\n",
              " '_version',\n",
              " 'api',\n",
              " 'array',\n",
              " 'arrays',\n",
              " 'bdate_range',\n",
              " 'compat',\n",
              " 'concat',\n",
              " 'core',\n",
              " 'crosstab',\n",
              " 'cut',\n",
              " 'date_range',\n",
              " 'datetime',\n",
              " 'describe_option',\n",
              " 'errors',\n",
              " 'eval',\n",
              " 'factorize',\n",
              " 'get_dummies',\n",
              " 'get_option',\n",
              " 'infer_freq',\n",
              " 'interval_range',\n",
              " 'io',\n",
              " 'isna',\n",
              " 'isnull',\n",
              " 'json_normalize',\n",
              " 'lreshape',\n",
              " 'melt',\n",
              " 'merge',\n",
              " 'merge_asof',\n",
              " 'merge_ordered',\n",
              " 'notna',\n",
              " 'notnull',\n",
              " 'np',\n",
              " 'offsets',\n",
              " 'option_context',\n",
              " 'options',\n",
              " 'pandas',\n",
              " 'period_range',\n",
              " 'pivot',\n",
              " 'pivot_table',\n",
              " 'plotting',\n",
              " 'qcut',\n",
              " 'read_clipboard',\n",
              " 'read_csv',\n",
              " 'read_excel',\n",
              " 'read_feather',\n",
              " 'read_fwf',\n",
              " 'read_gbq',\n",
              " 'read_hdf',\n",
              " 'read_html',\n",
              " 'read_json',\n",
              " 'read_orc',\n",
              " 'read_parquet',\n",
              " 'read_pickle',\n",
              " 'read_sas',\n",
              " 'read_spss',\n",
              " 'read_sql',\n",
              " 'read_sql_query',\n",
              " 'read_sql_table',\n",
              " 'read_stata',\n",
              " 'read_table',\n",
              " 'reset_option',\n",
              " 'set_eng_float_format',\n",
              " 'set_option',\n",
              " 'show_versions',\n",
              " 'test',\n",
              " 'testing',\n",
              " 'timedelta_range',\n",
              " 'to_datetime',\n",
              " 'to_numeric',\n",
              " 'to_pickle',\n",
              " 'to_timedelta',\n",
              " 'tseries',\n",
              " 'unique',\n",
              " 'util',\n",
              " 'value_counts',\n",
              " 'wide_to_long']"
            ]
          },
          "metadata": {
            "tags": []
          },
          "execution_count": 2
        }
      ]
    },
    {
      "cell_type": "code",
      "metadata": {
        "id": "zD1-84GUiUSn",
        "colab_type": "code",
        "colab": {
          "base_uri": "https://localhost:8080/",
          "height": 1000
        },
        "outputId": "6ff3dc69-4eda-493c-cf78-12a724e71cb5"
      },
      "source": [
        "help(pandas.read_excel)"
      ],
      "execution_count": 3,
      "outputs": [
        {
          "output_type": "stream",
          "text": [
            "Help on function read_excel in module pandas.io.excel._base:\n",
            "\n",
            "read_excel(io, sheet_name=0, header=0, names=None, index_col=None, usecols=None, squeeze=False, dtype=None, engine=None, converters=None, true_values=None, false_values=None, skiprows=None, nrows=None, na_values=None, keep_default_na=True, verbose=False, parse_dates=False, date_parser=None, thousands=None, comment=None, skipfooter=0, convert_float=True, mangle_dupe_cols=True, **kwds)\n",
            "    Read an Excel file into a pandas DataFrame.\n",
            "    \n",
            "    Supports `xls`, `xlsx`, `xlsm`, `xlsb`, and `odf` file extensions\n",
            "    read from a local filesystem or URL. Supports an option to read\n",
            "    a single sheet or a list of sheets.\n",
            "    \n",
            "    Parameters\n",
            "    ----------\n",
            "    io : str, bytes, ExcelFile, xlrd.Book, path object, or file-like object\n",
            "        Any valid string path is acceptable. The string could be a URL. Valid\n",
            "        URL schemes include http, ftp, s3, and file. For file URLs, a host is\n",
            "        expected. A local file could be: ``file://localhost/path/to/table.xlsx``.\n",
            "    \n",
            "        If you want to pass in a path object, pandas accepts any ``os.PathLike``.\n",
            "    \n",
            "        By file-like object, we refer to objects with a ``read()`` method,\n",
            "        such as a file handler (e.g. via builtin ``open`` function)\n",
            "        or ``StringIO``.\n",
            "    sheet_name : str, int, list, or None, default 0\n",
            "        Strings are used for sheet names. Integers are used in zero-indexed\n",
            "        sheet positions. Lists of strings/integers are used to request\n",
            "        multiple sheets. Specify None to get all sheets.\n",
            "    \n",
            "        Available cases:\n",
            "    \n",
            "        * Defaults to ``0``: 1st sheet as a `DataFrame`\n",
            "        * ``1``: 2nd sheet as a `DataFrame`\n",
            "        * ``\"Sheet1\"``: Load sheet with name \"Sheet1\"\n",
            "        * ``[0, 1, \"Sheet5\"]``: Load first, second and sheet named \"Sheet5\"\n",
            "          as a dict of `DataFrame`\n",
            "        * None: All sheets.\n",
            "    \n",
            "    header : int, list of int, default 0\n",
            "        Row (0-indexed) to use for the column labels of the parsed\n",
            "        DataFrame. If a list of integers is passed those row positions will\n",
            "        be combined into a ``MultiIndex``. Use None if there is no header.\n",
            "    names : array-like, default None\n",
            "        List of column names to use. If file contains no header row,\n",
            "        then you should explicitly pass header=None.\n",
            "    index_col : int, list of int, default None\n",
            "        Column (0-indexed) to use as the row labels of the DataFrame.\n",
            "        Pass None if there is no such column.  If a list is passed,\n",
            "        those columns will be combined into a ``MultiIndex``.  If a\n",
            "        subset of data is selected with ``usecols``, index_col\n",
            "        is based on the subset.\n",
            "    usecols : int, str, list-like, or callable default None\n",
            "        * If None, then parse all columns.\n",
            "        * If str, then indicates comma separated list of Excel column letters\n",
            "          and column ranges (e.g. \"A:E\" or \"A,C,E:F\"). Ranges are inclusive of\n",
            "          both sides.\n",
            "        * If list of int, then indicates list of column numbers to be parsed.\n",
            "        * If list of string, then indicates list of column names to be parsed.\n",
            "    \n",
            "          .. versionadded:: 0.24.0\n",
            "    \n",
            "        * If callable, then evaluate each column name against it and parse the\n",
            "          column if the callable returns ``True``.\n",
            "    \n",
            "        Returns a subset of the columns according to behavior above.\n",
            "    \n",
            "          .. versionadded:: 0.24.0\n",
            "    \n",
            "    squeeze : bool, default False\n",
            "        If the parsed data only contains one column then return a Series.\n",
            "    dtype : Type name or dict of column -> type, default None\n",
            "        Data type for data or columns. E.g. {'a': np.float64, 'b': np.int32}\n",
            "        Use `object` to preserve data as stored in Excel and not interpret dtype.\n",
            "        If converters are specified, they will be applied INSTEAD\n",
            "        of dtype conversion.\n",
            "    engine : str, default None\n",
            "        If io is not a buffer or path, this must be set to identify io.\n",
            "        Acceptable values are None, \"xlrd\", \"openpyxl\" or \"odf\".\n",
            "    converters : dict, default None\n",
            "        Dict of functions for converting values in certain columns. Keys can\n",
            "        either be integers or column labels, values are functions that take one\n",
            "        input argument, the Excel cell content, and return the transformed\n",
            "        content.\n",
            "    true_values : list, default None\n",
            "        Values to consider as True.\n",
            "    false_values : list, default None\n",
            "        Values to consider as False.\n",
            "    skiprows : list-like\n",
            "        Rows to skip at the beginning (0-indexed).\n",
            "    nrows : int, default None\n",
            "        Number of rows to parse.\n",
            "    \n",
            "        .. versionadded:: 0.23.0\n",
            "    \n",
            "    na_values : scalar, str, list-like, or dict, default None\n",
            "        Additional strings to recognize as NA/NaN. If dict passed, specific\n",
            "        per-column NA values. By default the following values are interpreted\n",
            "        as NaN: '', '#N/A', '#N/A N/A', '#NA', '-1.#IND', '-1.#QNAN', '-NaN', '-nan',\n",
            "        '1.#IND', '1.#QNAN', '<NA>', 'N/A', 'NA', 'NULL', 'NaN', 'n/a',\n",
            "        'nan', 'null'.\n",
            "    keep_default_na : bool, default True\n",
            "        Whether or not to include the default NaN values when parsing the data.\n",
            "        Depending on whether `na_values` is passed in, the behavior is as follows:\n",
            "    \n",
            "        * If `keep_default_na` is True, and `na_values` are specified, `na_values`\n",
            "          is appended to the default NaN values used for parsing.\n",
            "        * If `keep_default_na` is True, and `na_values` are not specified, only\n",
            "          the default NaN values are used for parsing.\n",
            "        * If `keep_default_na` is False, and `na_values` are specified, only\n",
            "          the NaN values specified `na_values` are used for parsing.\n",
            "        * If `keep_default_na` is False, and `na_values` are not specified, no\n",
            "          strings will be parsed as NaN.\n",
            "    \n",
            "        Note that if `na_filter` is passed in as False, the `keep_default_na` and\n",
            "        `na_values` parameters will be ignored.\n",
            "    na_filter : bool, default True\n",
            "        Detect missing value markers (empty strings and the value of na_values). In\n",
            "        data without any NAs, passing na_filter=False can improve the performance\n",
            "        of reading a large file.\n",
            "    verbose : bool, default False\n",
            "        Indicate number of NA values placed in non-numeric columns.\n",
            "    parse_dates : bool, list-like, or dict, default False\n",
            "        The behavior is as follows:\n",
            "    \n",
            "        * bool. If True -> try parsing the index.\n",
            "        * list of int or names. e.g. If [1, 2, 3] -> try parsing columns 1, 2, 3\n",
            "          each as a separate date column.\n",
            "        * list of lists. e.g.  If [[1, 3]] -> combine columns 1 and 3 and parse as\n",
            "          a single date column.\n",
            "        * dict, e.g. {'foo' : [1, 3]} -> parse columns 1, 3 as date and call\n",
            "          result 'foo'\n",
            "    \n",
            "        If a column or index contains an unparseable date, the entire column or\n",
            "        index will be returned unaltered as an object data type. If you don`t want to\n",
            "        parse some cells as date just change their type in Excel to \"Text\".\n",
            "        For non-standard datetime parsing, use ``pd.to_datetime`` after ``pd.read_excel``.\n",
            "    \n",
            "        Note: A fast-path exists for iso8601-formatted dates.\n",
            "    date_parser : function, optional\n",
            "        Function to use for converting a sequence of string columns to an array of\n",
            "        datetime instances. The default uses ``dateutil.parser.parser`` to do the\n",
            "        conversion. Pandas will try to call `date_parser` in three different ways,\n",
            "        advancing to the next if an exception occurs: 1) Pass one or more arrays\n",
            "        (as defined by `parse_dates`) as arguments; 2) concatenate (row-wise) the\n",
            "        string values from the columns defined by `parse_dates` into a single array\n",
            "        and pass that; and 3) call `date_parser` once for each row using one or\n",
            "        more strings (corresponding to the columns defined by `parse_dates`) as\n",
            "        arguments.\n",
            "    thousands : str, default None\n",
            "        Thousands separator for parsing string columns to numeric.  Note that\n",
            "        this parameter is only necessary for columns stored as TEXT in Excel,\n",
            "        any numeric columns will automatically be parsed, regardless of display\n",
            "        format.\n",
            "    comment : str, default None\n",
            "        Comments out remainder of line. Pass a character or characters to this\n",
            "        argument to indicate comments in the input file. Any data between the\n",
            "        comment string and the end of the current line is ignored.\n",
            "    skipfooter : int, default 0\n",
            "        Rows at the end to skip (0-indexed).\n",
            "    convert_float : bool, default True\n",
            "        Convert integral floats to int (i.e., 1.0 --> 1). If False, all numeric\n",
            "        data will be read in as floats: Excel stores all numbers as floats\n",
            "        internally.\n",
            "    mangle_dupe_cols : bool, default True\n",
            "        Duplicate columns will be specified as 'X', 'X.1', ...'X.N', rather than\n",
            "        'X'...'X'. Passing in False will cause data to be overwritten if there\n",
            "        are duplicate names in the columns.\n",
            "    **kwds : optional\n",
            "            Optional keyword arguments can be passed to ``TextFileReader``.\n",
            "    \n",
            "    Returns\n",
            "    -------\n",
            "    DataFrame or dict of DataFrames\n",
            "        DataFrame from the passed in Excel file. See notes in sheet_name\n",
            "        argument for more information on when a dict of DataFrames is returned.\n",
            "    \n",
            "    See Also\n",
            "    --------\n",
            "    to_excel : Write DataFrame to an Excel file.\n",
            "    to_csv : Write DataFrame to a comma-separated values (csv) file.\n",
            "    read_csv : Read a comma-separated values (csv) file into DataFrame.\n",
            "    read_fwf : Read a table of fixed-width formatted lines into DataFrame.\n",
            "    \n",
            "    Examples\n",
            "    --------\n",
            "    The file can be read using the file name as string or an open file object:\n",
            "    \n",
            "    >>> pd.read_excel('tmp.xlsx', index_col=0)  # doctest: +SKIP\n",
            "           Name  Value\n",
            "    0   string1      1\n",
            "    1   string2      2\n",
            "    2  #Comment      3\n",
            "    \n",
            "    >>> pd.read_excel(open('tmp.xlsx', 'rb'),\n",
            "    ...               sheet_name='Sheet3')  # doctest: +SKIP\n",
            "       Unnamed: 0      Name  Value\n",
            "    0           0   string1      1\n",
            "    1           1   string2      2\n",
            "    2           2  #Comment      3\n",
            "    \n",
            "    Index and header can be specified via the `index_col` and `header` arguments\n",
            "    \n",
            "    >>> pd.read_excel('tmp.xlsx', index_col=None, header=None)  # doctest: +SKIP\n",
            "         0         1      2\n",
            "    0  NaN      Name  Value\n",
            "    1  0.0   string1      1\n",
            "    2  1.0   string2      2\n",
            "    3  2.0  #Comment      3\n",
            "    \n",
            "    Column types are inferred but can be explicitly specified\n",
            "    \n",
            "    >>> pd.read_excel('tmp.xlsx', index_col=0,\n",
            "    ...               dtype={'Name': str, 'Value': float})  # doctest: +SKIP\n",
            "           Name  Value\n",
            "    0   string1    1.0\n",
            "    1   string2    2.0\n",
            "    2  #Comment    3.0\n",
            "    \n",
            "    True, False, and NA values, and thousands separators have defaults,\n",
            "    but can be explicitly specified, too. Supply the values you would like\n",
            "    as strings or lists of strings!\n",
            "    \n",
            "    >>> pd.read_excel('tmp.xlsx', index_col=0,\n",
            "    ...               na_values=['string1', 'string2'])  # doctest: +SKIP\n",
            "           Name  Value\n",
            "    0       NaN      1\n",
            "    1       NaN      2\n",
            "    2  #Comment      3\n",
            "    \n",
            "    Comment lines in the excel input file can be skipped using the `comment` kwarg\n",
            "    \n",
            "    >>> pd.read_excel('tmp.xlsx', index_col=0, comment='#')  # doctest: +SKIP\n",
            "          Name  Value\n",
            "    0  string1    1.0\n",
            "    1  string2    2.0\n",
            "    2     None    NaN\n",
            "\n"
          ],
          "name": "stdout"
        }
      ]
    },
    {
      "cell_type": "code",
      "metadata": {
        "id": "B4S5dWWSiZ38",
        "colab_type": "code",
        "colab": {
          "base_uri": "https://localhost:8080/",
          "height": 274
        },
        "outputId": "0256304a-cbaf-4361-f63c-da60cb60bdac"
      },
      "source": [
        "help(print())"
      ],
      "execution_count": 4,
      "outputs": [
        {
          "output_type": "stream",
          "text": [
            "\n",
            "Help on NoneType object:\n",
            "\n",
            "class NoneType(object)\n",
            " |  Methods defined here:\n",
            " |  \n",
            " |  __bool__(self, /)\n",
            " |      self != 0\n",
            " |  \n",
            " |  __new__(*args, **kwargs) from builtins.type\n",
            " |      Create and return a new object.  See help(type) for accurate signature.\n",
            " |  \n",
            " |  __repr__(self, /)\n",
            " |      Return repr(self).\n",
            "\n"
          ],
          "name": "stdout"
        }
      ]
    },
    {
      "cell_type": "code",
      "metadata": {
        "id": "went-B-Yi-zi",
        "colab_type": "code",
        "colab": {
          "base_uri": "https://localhost:8080/",
          "height": 223
        },
        "outputId": "857ff8e0-c7c2-4244-cebf-f370dea668a2"
      },
      "source": [
        "help(print)"
      ],
      "execution_count": 5,
      "outputs": [
        {
          "output_type": "stream",
          "text": [
            "Help on built-in function print in module builtins:\n",
            "\n",
            "print(...)\n",
            "    print(value, ..., sep=' ', end='\\n', file=sys.stdout, flush=False)\n",
            "    \n",
            "    Prints the values to a stream, or to sys.stdout by default.\n",
            "    Optional keyword arguments:\n",
            "    file:  a file-like object (stream); defaults to the current sys.stdout.\n",
            "    sep:   string inserted between values, default a space.\n",
            "    end:   string appended after the last value, default a newline.\n",
            "    flush: whether to forcibly flush the stream.\n",
            "\n"
          ],
          "name": "stdout"
        }
      ]
    },
    {
      "cell_type": "code",
      "metadata": {
        "id": "h1lfXQLvjJS7",
        "colab_type": "code",
        "colab": {}
      },
      "source": [
        "import datetime"
      ],
      "execution_count": 6,
      "outputs": []
    },
    {
      "cell_type": "code",
      "metadata": {
        "id": "6fwD3MRileWt",
        "colab_type": "code",
        "colab": {
          "base_uri": "https://localhost:8080/",
          "height": 326
        },
        "outputId": "486ead8c-bdcd-47c3-b897-e7fd424be323"
      },
      "source": [
        "dir(datetime)"
      ],
      "execution_count": 7,
      "outputs": [
        {
          "output_type": "execute_result",
          "data": {
            "text/plain": [
              "['MAXYEAR',\n",
              " 'MINYEAR',\n",
              " '__builtins__',\n",
              " '__cached__',\n",
              " '__doc__',\n",
              " '__file__',\n",
              " '__loader__',\n",
              " '__name__',\n",
              " '__package__',\n",
              " '__spec__',\n",
              " 'date',\n",
              " 'datetime',\n",
              " 'datetime_CAPI',\n",
              " 'sys',\n",
              " 'time',\n",
              " 'timedelta',\n",
              " 'timezone',\n",
              " 'tzinfo']"
            ]
          },
          "metadata": {
            "tags": []
          },
          "execution_count": 7
        }
      ]
    },
    {
      "cell_type": "code",
      "metadata": {
        "id": "M7W-y3dMl5IR",
        "colab_type": "code",
        "colab": {}
      },
      "source": [
        "from datetime import datetime"
      ],
      "execution_count": 8,
      "outputs": []
    },
    {
      "cell_type": "code",
      "metadata": {
        "id": "2gsTTWanlgHd",
        "colab_type": "code",
        "colab": {}
      },
      "source": [
        "my_date = datetime.strptime('20200701', '%Y%m%d')"
      ],
      "execution_count": 9,
      "outputs": []
    },
    {
      "cell_type": "code",
      "metadata": {
        "id": "WODorks7l3CT",
        "colab_type": "code",
        "colab": {
          "base_uri": "https://localhost:8080/",
          "height": 34
        },
        "outputId": "1fc95fdb-b8b0-4fd0-957c-3346d4ab93f6"
      },
      "source": [
        "my_date"
      ],
      "execution_count": 10,
      "outputs": [
        {
          "output_type": "execute_result",
          "data": {
            "text/plain": [
              "datetime.datetime(2020, 7, 1, 0, 0)"
            ]
          },
          "metadata": {
            "tags": []
          },
          "execution_count": 10
        }
      ]
    },
    {
      "cell_type": "code",
      "metadata": {
        "id": "QURtJaXlmUvf",
        "colab_type": "code",
        "colab": {}
      },
      "source": [
        "my_date = datetime.strptime('20200701', '%Y%M%d')"
      ],
      "execution_count": 11,
      "outputs": []
    },
    {
      "cell_type": "code",
      "metadata": {
        "id": "e4rWItZemZCP",
        "colab_type": "code",
        "colab": {
          "base_uri": "https://localhost:8080/",
          "height": 34
        },
        "outputId": "cb755325-2c07-4958-b85d-2b8e25ff3f82"
      },
      "source": [
        "my_date"
      ],
      "execution_count": 12,
      "outputs": [
        {
          "output_type": "execute_result",
          "data": {
            "text/plain": [
              "datetime.datetime(2020, 1, 1, 0, 7)"
            ]
          },
          "metadata": {
            "tags": []
          },
          "execution_count": 12
        }
      ]
    },
    {
      "cell_type": "code",
      "metadata": {
        "id": "jqdYgy3SmgR2",
        "colab_type": "code",
        "colab": {
          "base_uri": "https://localhost:8080/",
          "height": 34
        },
        "outputId": "cb0f92b8-d236-4d36-956d-d22da9e31f7a"
      },
      "source": [
        "my_date = datetime.strptime('20200701', '%Y%M%d')\n",
        "my_date"
      ],
      "execution_count": 13,
      "outputs": [
        {
          "output_type": "execute_result",
          "data": {
            "text/plain": [
              "datetime.datetime(2020, 1, 1, 0, 7)"
            ]
          },
          "metadata": {
            "tags": []
          },
          "execution_count": 13
        }
      ]
    },
    {
      "cell_type": "code",
      "metadata": {
        "id": "MMAsTiuKmuOD",
        "colab_type": "code",
        "colab": {
          "base_uri": "https://localhost:8080/",
          "height": 34
        },
        "outputId": "7e35cfa1-7a6b-48dd-9d01-817b7a103b67"
      },
      "source": [
        "my_date = datetime.strptime('20200701', '%Y%m%d')\n",
        "my_date"
      ],
      "execution_count": 14,
      "outputs": [
        {
          "output_type": "execute_result",
          "data": {
            "text/plain": [
              "datetime.datetime(2020, 7, 1, 0, 0)"
            ]
          },
          "metadata": {
            "tags": []
          },
          "execution_count": 14
        }
      ]
    },
    {
      "cell_type": "code",
      "metadata": {
        "id": "_ukh8u2znRAx",
        "colab_type": "code",
        "colab": {
          "base_uri": "https://localhost:8080/",
          "height": 34
        },
        "outputId": "38aa51a6-9589-4372-e94f-43a853ccf4ab"
      },
      "source": [
        "my_date.date()"
      ],
      "execution_count": 15,
      "outputs": [
        {
          "output_type": "execute_result",
          "data": {
            "text/plain": [
              "datetime.date(2020, 7, 1)"
            ]
          },
          "metadata": {
            "tags": []
          },
          "execution_count": 15
        }
      ]
    },
    {
      "cell_type": "code",
      "metadata": {
        "id": "VR6b0UbXnday",
        "colab_type": "code",
        "colab": {
          "base_uri": "https://localhost:8080/",
          "height": 34
        },
        "outputId": "c5fc04e2-9139-49c8-cd30-061a9de1803f"
      },
      "source": [
        "my_date.time()"
      ],
      "execution_count": 16,
      "outputs": [
        {
          "output_type": "execute_result",
          "data": {
            "text/plain": [
              "datetime.time(0, 0)"
            ]
          },
          "metadata": {
            "tags": []
          },
          "execution_count": 16
        }
      ]
    },
    {
      "cell_type": "code",
      "metadata": {
        "id": "nEfqlMjVoSjm",
        "colab_type": "code",
        "colab": {
          "base_uri": "https://localhost:8080/",
          "height": 34
        },
        "outputId": "293c51b4-4f3d-4598-b959-e2fef0edffe6"
      },
      "source": [
        "my_date.timetz()"
      ],
      "execution_count": 17,
      "outputs": [
        {
          "output_type": "execute_result",
          "data": {
            "text/plain": [
              "datetime.time(0, 0)"
            ]
          },
          "metadata": {
            "tags": []
          },
          "execution_count": 17
        }
      ]
    },
    {
      "cell_type": "markdown",
      "metadata": {
        "id": "GniAw9z_pVcf",
        "colab_type": "text"
      },
      "source": [
        "## **Converting string to datetime**"
      ]
    },
    {
      "cell_type": "code",
      "metadata": {
        "id": "wQEPWYkip0Km",
        "colab_type": "code",
        "colab": {
          "base_uri": "https://localhost:8080/",
          "height": 34
        },
        "outputId": "32232427-6570-4119-f526-07ee080dc830"
      },
      "source": [
        "my_date = datetime.strptime('20200701', '%Y%m%d')\n",
        "my_date"
      ],
      "execution_count": 18,
      "outputs": [
        {
          "output_type": "execute_result",
          "data": {
            "text/plain": [
              "datetime.datetime(2020, 7, 1, 0, 0)"
            ]
          },
          "metadata": {
            "tags": []
          },
          "execution_count": 18
        }
      ]
    },
    {
      "cell_type": "markdown",
      "metadata": {
        "id": "rYPloHJ1r34z",
        "colab_type": "text"
      },
      "source": [
        "## **Converting Datetime to String**"
      ]
    },
    {
      "cell_type": "code",
      "metadata": {
        "id": "ZTEF5yGPqEu8",
        "colab_type": "code",
        "colab": {
          "base_uri": "https://localhost:8080/",
          "height": 35
        },
        "outputId": "3e1193f2-8924-46d0-9247-73287c4ba926"
      },
      "source": [
        "new_date = datetime.strftime(my_date,'%m/%d/%y%H:%M')\n",
        "new_date"
      ],
      "execution_count": 19,
      "outputs": [
        {
          "output_type": "execute_result",
          "data": {
            "application/vnd.google.colaboratory.intrinsic+json": {
              "type": "string"
            },
            "text/plain": [
              "'07/01/2000:00'"
            ]
          },
          "metadata": {
            "tags": []
          },
          "execution_count": 19
        }
      ]
    },
    {
      "cell_type": "code",
      "metadata": {
        "id": "qX016ozOps77",
        "colab_type": "code",
        "colab": {
          "base_uri": "https://localhost:8080/",
          "height": 35
        },
        "outputId": "ab201809-4fb1-467c-e474-814a492cf436"
      },
      "source": [
        "new_date = datetime.strftime(my_date,'%y/%d/%m/%H:%M')\n",
        "new_date"
      ],
      "execution_count": 20,
      "outputs": [
        {
          "output_type": "execute_result",
          "data": {
            "application/vnd.google.colaboratory.intrinsic+json": {
              "type": "string"
            },
            "text/plain": [
              "'20/01/07/00:00'"
            ]
          },
          "metadata": {
            "tags": []
          },
          "execution_count": 20
        }
      ]
    },
    {
      "cell_type": "code",
      "metadata": {
        "id": "wSnvhyrXrOpU",
        "colab_type": "code",
        "colab": {
          "base_uri": "https://localhost:8080/",
          "height": 35
        },
        "outputId": "fa6c4692-c419-4319-a911-308081543427"
      },
      "source": [
        "new_date = datetime.strftime(my_date,'%Y/%d/%m/%H:%M')\n",
        "new_date"
      ],
      "execution_count": 21,
      "outputs": [
        {
          "output_type": "execute_result",
          "data": {
            "application/vnd.google.colaboratory.intrinsic+json": {
              "type": "string"
            },
            "text/plain": [
              "'2020/01/07/00:00'"
            ]
          },
          "metadata": {
            "tags": []
          },
          "execution_count": 21
        }
      ]
    },
    {
      "cell_type": "code",
      "metadata": {
        "id": "Dd9rZ38MrXxg",
        "colab_type": "code",
        "colab": {
          "base_uri": "https://localhost:8080/",
          "height": 35
        },
        "outputId": "984a793c-7377-4b1b-8d11-ef58f44a8eef"
      },
      "source": [
        "new_date = datetime.strftime(my_date,'%Y/%d/%m/%H:%M')\n",
        "new_date"
      ],
      "execution_count": 22,
      "outputs": [
        {
          "output_type": "execute_result",
          "data": {
            "application/vnd.google.colaboratory.intrinsic+json": {
              "type": "string"
            },
            "text/plain": [
              "'2020/01/07/00:00'"
            ]
          },
          "metadata": {
            "tags": []
          },
          "execution_count": 22
        }
      ]
    },
    {
      "cell_type": "markdown",
      "metadata": {
        "id": "VFqEnuxhsJqf",
        "colab_type": "text"
      },
      "source": [
        "## **Changing Value field**"
      ]
    },
    {
      "cell_type": "code",
      "metadata": {
        "id": "jESqa0vRsIjQ",
        "colab_type": "code",
        "colab": {
          "base_uri": "https://localhost:8080/",
          "height": 34
        },
        "outputId": "5d5e27bb-006f-46b2-daf1-b2454278d2a1"
      },
      "source": [
        "my_date2 = my_date.replace(minute = 30)\n",
        "my_date2"
      ],
      "execution_count": 23,
      "outputs": [
        {
          "output_type": "execute_result",
          "data": {
            "text/plain": [
              "datetime.datetime(2020, 7, 1, 0, 30)"
            ]
          },
          "metadata": {
            "tags": []
          },
          "execution_count": 23
        }
      ]
    },
    {
      "cell_type": "code",
      "metadata": {
        "id": "-ibc695arcSQ",
        "colab_type": "code",
        "colab": {
          "base_uri": "https://localhost:8080/",
          "height": 34
        },
        "outputId": "c4dba925-f2cf-48fe-9c2a-b7d1825b0c3e"
      },
      "source": [
        "my_date2 = my_date.replace(minute = 30, second = 45)\n",
        "my_date2"
      ],
      "execution_count": 24,
      "outputs": [
        {
          "output_type": "execute_result",
          "data": {
            "text/plain": [
              "datetime.datetime(2020, 7, 1, 0, 30, 45)"
            ]
          },
          "metadata": {
            "tags": []
          },
          "execution_count": 24
        }
      ]
    },
    {
      "cell_type": "code",
      "metadata": {
        "id": "6sF2KMzPsoc-",
        "colab_type": "code",
        "colab": {
          "base_uri": "https://localhost:8080/",
          "height": 34
        },
        "outputId": "395b3ecb-9a60-40fb-fcbd-7f462179954f"
      },
      "source": [
        "my_date2 = my_date.replace(hour = 2, minute = 30, second = 45)\n",
        "my_date2"
      ],
      "execution_count": 25,
      "outputs": [
        {
          "output_type": "execute_result",
          "data": {
            "text/plain": [
              "datetime.datetime(2020, 7, 1, 2, 30, 45)"
            ]
          },
          "metadata": {
            "tags": []
          },
          "execution_count": 25
        }
      ]
    },
    {
      "cell_type": "markdown",
      "metadata": {
        "id": "W4QXTLSHsuIB",
        "colab_type": "text"
      },
      "source": [
        "## **Date Difference**"
      ]
    },
    {
      "cell_type": "code",
      "metadata": {
        "id": "5qXzAGv3s-rg",
        "colab_type": "code",
        "colab": {
          "base_uri": "https://localhost:8080/",
          "height": 34
        },
        "outputId": "aa3e11fa-4d16-4490-b421-7a01c9409c38"
      },
      "source": [
        "my_date"
      ],
      "execution_count": 26,
      "outputs": [
        {
          "output_type": "execute_result",
          "data": {
            "text/plain": [
              "datetime.datetime(2020, 7, 1, 0, 0)"
            ]
          },
          "metadata": {
            "tags": []
          },
          "execution_count": 26
        }
      ]
    },
    {
      "cell_type": "code",
      "metadata": {
        "id": "wjegMaRftAv6",
        "colab_type": "code",
        "colab": {
          "base_uri": "https://localhost:8080/",
          "height": 34
        },
        "outputId": "9bf8fee5-0284-44c6-cbe4-edf50a836029"
      },
      "source": [
        "my_date2"
      ],
      "execution_count": 27,
      "outputs": [
        {
          "output_type": "execute_result",
          "data": {
            "text/plain": [
              "datetime.datetime(2020, 7, 1, 2, 30, 45)"
            ]
          },
          "metadata": {
            "tags": []
          },
          "execution_count": 27
        }
      ]
    },
    {
      "cell_type": "code",
      "metadata": {
        "id": "OA0KZJoZsssK",
        "colab_type": "code",
        "colab": {
          "base_uri": "https://localhost:8080/",
          "height": 34
        },
        "outputId": "a48387af-8f92-4b9b-f8f4-ee4af1e5e9c4"
      },
      "source": [
        "date_diff = my_date2 - my_date\n",
        "date_diff"
      ],
      "execution_count": 28,
      "outputs": [
        {
          "output_type": "execute_result",
          "data": {
            "text/plain": [
              "datetime.timedelta(0, 9045)"
            ]
          },
          "metadata": {
            "tags": []
          },
          "execution_count": 28
        }
      ]
    },
    {
      "cell_type": "code",
      "metadata": {
        "id": "TgPV4hT6s3rp",
        "colab_type": "code",
        "colab": {
          "base_uri": "https://localhost:8080/",
          "height": 34
        },
        "outputId": "639f5dd8-9841-41c3-a5ac-5536c2182e4a"
      },
      "source": [
        "tup = 'a', 'b', 'c' \n",
        "tup"
      ],
      "execution_count": 29,
      "outputs": [
        {
          "output_type": "execute_result",
          "data": {
            "text/plain": [
              "('a', 'b', 'c')"
            ]
          },
          "metadata": {
            "tags": []
          },
          "execution_count": 29
        }
      ]
    },
    {
      "cell_type": "markdown",
      "metadata": {
        "id": "Ts9uphT9ttCg",
        "colab_type": "text"
      },
      "source": [
        "## **How to unpack tuple**"
      ]
    },
    {
      "cell_type": "code",
      "metadata": {
        "id": "ArnR2kDmtWWO",
        "colab_type": "code",
        "colab": {}
      },
      "source": [
        "#'a', 'b', 'd' = tup\n",
        "#my_tup"
      ],
      "execution_count": 30,
      "outputs": []
    },
    {
      "cell_type": "markdown",
      "metadata": {
        "id": "iKKfeIN_uSin",
        "colab_type": "text"
      },
      "source": [
        "## **How to Swap Variables with tuple**"
      ]
    },
    {
      "cell_type": "code",
      "metadata": {
        "id": "CwbsveFjtfq2",
        "colab_type": "code",
        "colab": {}
      },
      "source": [
        "#'b', 'a' = 'a', 'b'"
      ],
      "execution_count": 31,
      "outputs": []
    },
    {
      "cell_type": "code",
      "metadata": {
        "id": "XCFxsHIktfnp",
        "colab_type": "code",
        "colab": {}
      },
      "source": [
        ""
      ],
      "execution_count": 31,
      "outputs": []
    },
    {
      "cell_type": "code",
      "metadata": {
        "id": "T4Tj1Objtfk_",
        "colab_type": "code",
        "colab": {
          "base_uri": "https://localhost:8080/",
          "height": 34
        },
        "outputId": "57b7141a-1d0c-4732-a3f6-a378936523f1"
      },
      "source": [
        "n = 3 \n",
        "\n",
        "if n > 0: \n",
        "  print('1', end=\"\") \n",
        "  if n >= 3: \n",
        "    print('2', end='') \n",
        "    if  n  != 3: \n",
        "      print('3',end='') \n",
        "    else: \n",
        "      print('4', end='') \n",
        "else: \n",
        "      print('5', end='') "
      ],
      "execution_count": 32,
      "outputs": [
        {
          "output_type": "stream",
          "text": [
            "124"
          ],
          "name": "stdout"
        }
      ]
    },
    {
      "cell_type": "code",
      "metadata": {
        "id": "7_kuT5iMtfj9",
        "colab_type": "code",
        "colab": {}
      },
      "source": [
        "import pandas\n",
        "import sklearn\n"
      ],
      "execution_count": 33,
      "outputs": []
    },
    {
      "cell_type": "code",
      "metadata": {
        "id": "dGcV37EXtfhB",
        "colab_type": "code",
        "colab": {
          "base_uri": "https://localhost:8080/",
          "height": 328
        },
        "outputId": "c7ae89a5-7a07-468e-a3c1-8accc27ac9b7"
      },
      "source": [
        "!pip install quandl"
      ],
      "execution_count": 34,
      "outputs": [
        {
          "output_type": "stream",
          "text": [
            "Collecting quandl\n",
            "  Downloading https://files.pythonhosted.org/packages/1b/29/185269dbd2e2698c8098b35c52ce73a2c52cf76163e709f9f7789d03ebbb/Quandl-3.5.2-py2.py3-none-any.whl\n",
            "Requirement already satisfied: numpy>=1.8 in /usr/local/lib/python3.6/dist-packages (from quandl) (1.18.5)\n",
            "Requirement already satisfied: more-itertools in /usr/local/lib/python3.6/dist-packages (from quandl) (8.4.0)\n",
            "Requirement already satisfied: requests>=2.7.0 in /usr/local/lib/python3.6/dist-packages (from quandl) (2.23.0)\n",
            "Requirement already satisfied: pandas>=0.14 in /usr/local/lib/python3.6/dist-packages (from quandl) (1.0.5)\n",
            "Requirement already satisfied: python-dateutil in /usr/local/lib/python3.6/dist-packages (from quandl) (2.8.1)\n",
            "Requirement already satisfied: six in /usr/local/lib/python3.6/dist-packages (from quandl) (1.15.0)\n",
            "Collecting inflection>=0.3.1\n",
            "  Downloading https://files.pythonhosted.org/packages/d2/cd/f04c661d1b5ba6b7d77008e8fedd28a27a683eeeffcd93c6b2dbe54ea983/inflection-0.5.0-py2.py3-none-any.whl\n",
            "Requirement already satisfied: chardet<4,>=3.0.2 in /usr/local/lib/python3.6/dist-packages (from requests>=2.7.0->quandl) (3.0.4)\n",
            "Requirement already satisfied: idna<3,>=2.5 in /usr/local/lib/python3.6/dist-packages (from requests>=2.7.0->quandl) (2.10)\n",
            "Requirement already satisfied: urllib3!=1.25.0,!=1.25.1,<1.26,>=1.21.1 in /usr/local/lib/python3.6/dist-packages (from requests>=2.7.0->quandl) (1.24.3)\n",
            "Requirement already satisfied: certifi>=2017.4.17 in /usr/local/lib/python3.6/dist-packages (from requests>=2.7.0->quandl) (2020.6.20)\n",
            "Requirement already satisfied: pytz>=2017.2 in /usr/local/lib/python3.6/dist-packages (from pandas>=0.14->quandl) (2018.9)\n",
            "Installing collected packages: inflection, quandl\n",
            "Successfully installed inflection-0.5.0 quandl-3.5.2\n"
          ],
          "name": "stdout"
        }
      ]
    },
    {
      "cell_type": "code",
      "metadata": {
        "id": "Qa4H-U2AtfeG",
        "colab_type": "code",
        "colab": {}
      },
      "source": [
        "import quandl"
      ],
      "execution_count": 35,
      "outputs": []
    },
    {
      "cell_type": "code",
      "metadata": {
        "id": "TFCVBEG8tfZG",
        "colab_type": "code",
        "colab": {
          "base_uri": "https://localhost:8080/",
          "height": 703
        },
        "outputId": "2058c994-96c8-40fc-c7f8-7cf6c61565be"
      },
      "source": [
        "dir(quandl)"
      ],
      "execution_count": 36,
      "outputs": [
        {
          "output_type": "execute_result",
          "data": {
            "text/plain": [
              "['ApiConfig',\n",
              " 'AuthenticationError',\n",
              " 'ColumnNotFound',\n",
              " 'Data',\n",
              " 'Database',\n",
              " 'Dataset',\n",
              " 'Datatable',\n",
              " 'ForbiddenError',\n",
              " 'InternalServerError',\n",
              " 'InvalidDataError',\n",
              " 'InvalidRequestError',\n",
              " 'LimitExceededError',\n",
              " 'MergedDataset',\n",
              " 'NotFoundError',\n",
              " 'QuandlError',\n",
              " 'ServiceUnavailableError',\n",
              " '__builtins__',\n",
              " '__cached__',\n",
              " '__doc__',\n",
              " '__file__',\n",
              " '__loader__',\n",
              " '__name__',\n",
              " '__package__',\n",
              " '__path__',\n",
              " '__spec__',\n",
              " 'api_config',\n",
              " 'bulkdownload',\n",
              " 'connection',\n",
              " 'errors',\n",
              " 'export_table',\n",
              " 'get',\n",
              " 'get_table',\n",
              " 'message',\n",
              " 'model',\n",
              " 'operations',\n",
              " 'read_key',\n",
              " 'save_key',\n",
              " 'util',\n",
              " 'utils',\n",
              " 'version']"
            ]
          },
          "metadata": {
            "tags": []
          },
          "execution_count": 36
        }
      ]
    },
    {
      "cell_type": "markdown",
      "metadata": {
        "id": "RhtN02wV3Evm",
        "colab_type": "text"
      },
      "source": [
        "[Quandl Website](https:///www.quandl.com/)"
      ]
    },
    {
      "cell_type": "code",
      "metadata": {
        "id": "jOykG4e7tfWs",
        "colab_type": "code",
        "colab": {
          "base_uri": "https://localhost:8080/",
          "height": 336
        },
        "outputId": "1e2adb8a-baed-42ed-996d-555c3f679078"
      },
      "source": [
        "df = quandl.get('WIKI/GOOGL')\n",
        "df.head()"
      ],
      "execution_count": 37,
      "outputs": [
        {
          "output_type": "execute_result",
          "data": {
            "text/html": [
              "<div>\n",
              "<style scoped>\n",
              "    .dataframe tbody tr th:only-of-type {\n",
              "        vertical-align: middle;\n",
              "    }\n",
              "\n",
              "    .dataframe tbody tr th {\n",
              "        vertical-align: top;\n",
              "    }\n",
              "\n",
              "    .dataframe thead th {\n",
              "        text-align: right;\n",
              "    }\n",
              "</style>\n",
              "<table border=\"1\" class=\"dataframe\">\n",
              "  <thead>\n",
              "    <tr style=\"text-align: right;\">\n",
              "      <th></th>\n",
              "      <th>Open</th>\n",
              "      <th>High</th>\n",
              "      <th>Low</th>\n",
              "      <th>Close</th>\n",
              "      <th>Volume</th>\n",
              "      <th>Ex-Dividend</th>\n",
              "      <th>Split Ratio</th>\n",
              "      <th>Adj. Open</th>\n",
              "      <th>Adj. High</th>\n",
              "      <th>Adj. Low</th>\n",
              "      <th>Adj. Close</th>\n",
              "      <th>Adj. Volume</th>\n",
              "    </tr>\n",
              "    <tr>\n",
              "      <th>Date</th>\n",
              "      <th></th>\n",
              "      <th></th>\n",
              "      <th></th>\n",
              "      <th></th>\n",
              "      <th></th>\n",
              "      <th></th>\n",
              "      <th></th>\n",
              "      <th></th>\n",
              "      <th></th>\n",
              "      <th></th>\n",
              "      <th></th>\n",
              "      <th></th>\n",
              "    </tr>\n",
              "  </thead>\n",
              "  <tbody>\n",
              "    <tr>\n",
              "      <th>2004-08-19</th>\n",
              "      <td>100.01</td>\n",
              "      <td>104.06</td>\n",
              "      <td>95.96</td>\n",
              "      <td>100.335</td>\n",
              "      <td>44659000.0</td>\n",
              "      <td>0.0</td>\n",
              "      <td>1.0</td>\n",
              "      <td>50.159839</td>\n",
              "      <td>52.191109</td>\n",
              "      <td>48.128568</td>\n",
              "      <td>50.322842</td>\n",
              "      <td>44659000.0</td>\n",
              "    </tr>\n",
              "    <tr>\n",
              "      <th>2004-08-20</th>\n",
              "      <td>101.01</td>\n",
              "      <td>109.08</td>\n",
              "      <td>100.50</td>\n",
              "      <td>108.310</td>\n",
              "      <td>22834300.0</td>\n",
              "      <td>0.0</td>\n",
              "      <td>1.0</td>\n",
              "      <td>50.661387</td>\n",
              "      <td>54.708881</td>\n",
              "      <td>50.405597</td>\n",
              "      <td>54.322689</td>\n",
              "      <td>22834300.0</td>\n",
              "    </tr>\n",
              "    <tr>\n",
              "      <th>2004-08-23</th>\n",
              "      <td>110.76</td>\n",
              "      <td>113.48</td>\n",
              "      <td>109.05</td>\n",
              "      <td>109.400</td>\n",
              "      <td>18256100.0</td>\n",
              "      <td>0.0</td>\n",
              "      <td>1.0</td>\n",
              "      <td>55.551482</td>\n",
              "      <td>56.915693</td>\n",
              "      <td>54.693835</td>\n",
              "      <td>54.869377</td>\n",
              "      <td>18256100.0</td>\n",
              "    </tr>\n",
              "    <tr>\n",
              "      <th>2004-08-24</th>\n",
              "      <td>111.24</td>\n",
              "      <td>111.60</td>\n",
              "      <td>103.57</td>\n",
              "      <td>104.870</td>\n",
              "      <td>15247300.0</td>\n",
              "      <td>0.0</td>\n",
              "      <td>1.0</td>\n",
              "      <td>55.792225</td>\n",
              "      <td>55.972783</td>\n",
              "      <td>51.945350</td>\n",
              "      <td>52.597363</td>\n",
              "      <td>15247300.0</td>\n",
              "    </tr>\n",
              "    <tr>\n",
              "      <th>2004-08-25</th>\n",
              "      <td>104.76</td>\n",
              "      <td>108.00</td>\n",
              "      <td>103.88</td>\n",
              "      <td>106.000</td>\n",
              "      <td>9188600.0</td>\n",
              "      <td>0.0</td>\n",
              "      <td>1.0</td>\n",
              "      <td>52.542193</td>\n",
              "      <td>54.167209</td>\n",
              "      <td>52.100830</td>\n",
              "      <td>53.164113</td>\n",
              "      <td>9188600.0</td>\n",
              "    </tr>\n",
              "  </tbody>\n",
              "</table>\n",
              "</div>"
            ],
            "text/plain": [
              "              Open    High     Low  ...   Adj. Low  Adj. Close  Adj. Volume\n",
              "Date                                ...                                    \n",
              "2004-08-19  100.01  104.06   95.96  ...  48.128568   50.322842   44659000.0\n",
              "2004-08-20  101.01  109.08  100.50  ...  50.405597   54.322689   22834300.0\n",
              "2004-08-23  110.76  113.48  109.05  ...  54.693835   54.869377   18256100.0\n",
              "2004-08-24  111.24  111.60  103.57  ...  51.945350   52.597363   15247300.0\n",
              "2004-08-25  104.76  108.00  103.88  ...  52.100830   53.164113    9188600.0\n",
              "\n",
              "[5 rows x 12 columns]"
            ]
          },
          "metadata": {
            "tags": []
          },
          "execution_count": 37
        }
      ]
    },
    {
      "cell_type": "code",
      "metadata": {
        "id": "O6VEcL7LtfTv",
        "colab_type": "code",
        "colab": {
          "base_uri": "https://localhost:8080/",
          "height": 343
        },
        "outputId": "dbc7d595-d84d-44b8-e7b9-62d9e33ff5f0"
      },
      "source": [
        "df.info()"
      ],
      "execution_count": 38,
      "outputs": [
        {
          "output_type": "stream",
          "text": [
            "<class 'pandas.core.frame.DataFrame'>\n",
            "DatetimeIndex: 3424 entries, 2004-08-19 to 2018-03-27\n",
            "Data columns (total 12 columns):\n",
            " #   Column       Non-Null Count  Dtype  \n",
            "---  ------       --------------  -----  \n",
            " 0   Open         3424 non-null   float64\n",
            " 1   High         3424 non-null   float64\n",
            " 2   Low          3424 non-null   float64\n",
            " 3   Close        3424 non-null   float64\n",
            " 4   Volume       3424 non-null   float64\n",
            " 5   Ex-Dividend  3424 non-null   float64\n",
            " 6   Split Ratio  3424 non-null   float64\n",
            " 7   Adj. Open    3424 non-null   float64\n",
            " 8   Adj. High    3424 non-null   float64\n",
            " 9   Adj. Low     3424 non-null   float64\n",
            " 10  Adj. Close   3424 non-null   float64\n",
            " 11  Adj. Volume  3424 non-null   float64\n",
            "dtypes: float64(12)\n",
            "memory usage: 347.8 KB\n"
          ],
          "name": "stdout"
        }
      ]
    },
    {
      "cell_type": "code",
      "metadata": {
        "id": "xuOyZtxb1NJI",
        "colab_type": "code",
        "colab": {
          "base_uri": "https://localhost:8080/",
          "height": 336
        },
        "outputId": "88ea2c14-5b46-4c16-e386-a14943a43854"
      },
      "source": [
        "df.tail()"
      ],
      "execution_count": 39,
      "outputs": [
        {
          "output_type": "execute_result",
          "data": {
            "text/html": [
              "<div>\n",
              "<style scoped>\n",
              "    .dataframe tbody tr th:only-of-type {\n",
              "        vertical-align: middle;\n",
              "    }\n",
              "\n",
              "    .dataframe tbody tr th {\n",
              "        vertical-align: top;\n",
              "    }\n",
              "\n",
              "    .dataframe thead th {\n",
              "        text-align: right;\n",
              "    }\n",
              "</style>\n",
              "<table border=\"1\" class=\"dataframe\">\n",
              "  <thead>\n",
              "    <tr style=\"text-align: right;\">\n",
              "      <th></th>\n",
              "      <th>Open</th>\n",
              "      <th>High</th>\n",
              "      <th>Low</th>\n",
              "      <th>Close</th>\n",
              "      <th>Volume</th>\n",
              "      <th>Ex-Dividend</th>\n",
              "      <th>Split Ratio</th>\n",
              "      <th>Adj. Open</th>\n",
              "      <th>Adj. High</th>\n",
              "      <th>Adj. Low</th>\n",
              "      <th>Adj. Close</th>\n",
              "      <th>Adj. Volume</th>\n",
              "    </tr>\n",
              "    <tr>\n",
              "      <th>Date</th>\n",
              "      <th></th>\n",
              "      <th></th>\n",
              "      <th></th>\n",
              "      <th></th>\n",
              "      <th></th>\n",
              "      <th></th>\n",
              "      <th></th>\n",
              "      <th></th>\n",
              "      <th></th>\n",
              "      <th></th>\n",
              "      <th></th>\n",
              "      <th></th>\n",
              "    </tr>\n",
              "  </thead>\n",
              "  <tbody>\n",
              "    <tr>\n",
              "      <th>2018-03-21</th>\n",
              "      <td>1092.57</td>\n",
              "      <td>1108.70</td>\n",
              "      <td>1087.21</td>\n",
              "      <td>1094.00</td>\n",
              "      <td>1990515.0</td>\n",
              "      <td>0.0</td>\n",
              "      <td>1.0</td>\n",
              "      <td>1092.57</td>\n",
              "      <td>1108.70</td>\n",
              "      <td>1087.21</td>\n",
              "      <td>1094.00</td>\n",
              "      <td>1990515.0</td>\n",
              "    </tr>\n",
              "    <tr>\n",
              "      <th>2018-03-22</th>\n",
              "      <td>1080.01</td>\n",
              "      <td>1083.92</td>\n",
              "      <td>1049.64</td>\n",
              "      <td>1053.15</td>\n",
              "      <td>3418154.0</td>\n",
              "      <td>0.0</td>\n",
              "      <td>1.0</td>\n",
              "      <td>1080.01</td>\n",
              "      <td>1083.92</td>\n",
              "      <td>1049.64</td>\n",
              "      <td>1053.15</td>\n",
              "      <td>3418154.0</td>\n",
              "    </tr>\n",
              "    <tr>\n",
              "      <th>2018-03-23</th>\n",
              "      <td>1051.37</td>\n",
              "      <td>1066.78</td>\n",
              "      <td>1024.87</td>\n",
              "      <td>1026.55</td>\n",
              "      <td>2413517.0</td>\n",
              "      <td>0.0</td>\n",
              "      <td>1.0</td>\n",
              "      <td>1051.37</td>\n",
              "      <td>1066.78</td>\n",
              "      <td>1024.87</td>\n",
              "      <td>1026.55</td>\n",
              "      <td>2413517.0</td>\n",
              "    </tr>\n",
              "    <tr>\n",
              "      <th>2018-03-26</th>\n",
              "      <td>1050.60</td>\n",
              "      <td>1059.27</td>\n",
              "      <td>1010.58</td>\n",
              "      <td>1054.09</td>\n",
              "      <td>3272409.0</td>\n",
              "      <td>0.0</td>\n",
              "      <td>1.0</td>\n",
              "      <td>1050.60</td>\n",
              "      <td>1059.27</td>\n",
              "      <td>1010.58</td>\n",
              "      <td>1054.09</td>\n",
              "      <td>3272409.0</td>\n",
              "    </tr>\n",
              "    <tr>\n",
              "      <th>2018-03-27</th>\n",
              "      <td>1063.90</td>\n",
              "      <td>1064.54</td>\n",
              "      <td>997.62</td>\n",
              "      <td>1006.94</td>\n",
              "      <td>2940957.0</td>\n",
              "      <td>0.0</td>\n",
              "      <td>1.0</td>\n",
              "      <td>1063.90</td>\n",
              "      <td>1064.54</td>\n",
              "      <td>997.62</td>\n",
              "      <td>1006.94</td>\n",
              "      <td>2940957.0</td>\n",
              "    </tr>\n",
              "  </tbody>\n",
              "</table>\n",
              "</div>"
            ],
            "text/plain": [
              "               Open     High      Low  ...  Adj. Low  Adj. Close  Adj. Volume\n",
              "Date                                   ...                                   \n",
              "2018-03-21  1092.57  1108.70  1087.21  ...   1087.21     1094.00    1990515.0\n",
              "2018-03-22  1080.01  1083.92  1049.64  ...   1049.64     1053.15    3418154.0\n",
              "2018-03-23  1051.37  1066.78  1024.87  ...   1024.87     1026.55    2413517.0\n",
              "2018-03-26  1050.60  1059.27  1010.58  ...   1010.58     1054.09    3272409.0\n",
              "2018-03-27  1063.90  1064.54   997.62  ...    997.62     1006.94    2940957.0\n",
              "\n",
              "[5 rows x 12 columns]"
            ]
          },
          "metadata": {
            "tags": []
          },
          "execution_count": 39
        }
      ]
    },
    {
      "cell_type": "code",
      "metadata": {
        "id": "-hbh4_S-3Gm3",
        "colab_type": "code",
        "colab": {
          "base_uri": "https://localhost:8080/",
          "height": 336
        },
        "outputId": "a50d139e-b60d-4a78-a136-02f96c00410d"
      },
      "source": [
        "df.head()"
      ],
      "execution_count": 40,
      "outputs": [
        {
          "output_type": "execute_result",
          "data": {
            "text/html": [
              "<div>\n",
              "<style scoped>\n",
              "    .dataframe tbody tr th:only-of-type {\n",
              "        vertical-align: middle;\n",
              "    }\n",
              "\n",
              "    .dataframe tbody tr th {\n",
              "        vertical-align: top;\n",
              "    }\n",
              "\n",
              "    .dataframe thead th {\n",
              "        text-align: right;\n",
              "    }\n",
              "</style>\n",
              "<table border=\"1\" class=\"dataframe\">\n",
              "  <thead>\n",
              "    <tr style=\"text-align: right;\">\n",
              "      <th></th>\n",
              "      <th>Open</th>\n",
              "      <th>High</th>\n",
              "      <th>Low</th>\n",
              "      <th>Close</th>\n",
              "      <th>Volume</th>\n",
              "      <th>Ex-Dividend</th>\n",
              "      <th>Split Ratio</th>\n",
              "      <th>Adj. Open</th>\n",
              "      <th>Adj. High</th>\n",
              "      <th>Adj. Low</th>\n",
              "      <th>Adj. Close</th>\n",
              "      <th>Adj. Volume</th>\n",
              "    </tr>\n",
              "    <tr>\n",
              "      <th>Date</th>\n",
              "      <th></th>\n",
              "      <th></th>\n",
              "      <th></th>\n",
              "      <th></th>\n",
              "      <th></th>\n",
              "      <th></th>\n",
              "      <th></th>\n",
              "      <th></th>\n",
              "      <th></th>\n",
              "      <th></th>\n",
              "      <th></th>\n",
              "      <th></th>\n",
              "    </tr>\n",
              "  </thead>\n",
              "  <tbody>\n",
              "    <tr>\n",
              "      <th>2004-08-19</th>\n",
              "      <td>100.01</td>\n",
              "      <td>104.06</td>\n",
              "      <td>95.96</td>\n",
              "      <td>100.335</td>\n",
              "      <td>44659000.0</td>\n",
              "      <td>0.0</td>\n",
              "      <td>1.0</td>\n",
              "      <td>50.159839</td>\n",
              "      <td>52.191109</td>\n",
              "      <td>48.128568</td>\n",
              "      <td>50.322842</td>\n",
              "      <td>44659000.0</td>\n",
              "    </tr>\n",
              "    <tr>\n",
              "      <th>2004-08-20</th>\n",
              "      <td>101.01</td>\n",
              "      <td>109.08</td>\n",
              "      <td>100.50</td>\n",
              "      <td>108.310</td>\n",
              "      <td>22834300.0</td>\n",
              "      <td>0.0</td>\n",
              "      <td>1.0</td>\n",
              "      <td>50.661387</td>\n",
              "      <td>54.708881</td>\n",
              "      <td>50.405597</td>\n",
              "      <td>54.322689</td>\n",
              "      <td>22834300.0</td>\n",
              "    </tr>\n",
              "    <tr>\n",
              "      <th>2004-08-23</th>\n",
              "      <td>110.76</td>\n",
              "      <td>113.48</td>\n",
              "      <td>109.05</td>\n",
              "      <td>109.400</td>\n",
              "      <td>18256100.0</td>\n",
              "      <td>0.0</td>\n",
              "      <td>1.0</td>\n",
              "      <td>55.551482</td>\n",
              "      <td>56.915693</td>\n",
              "      <td>54.693835</td>\n",
              "      <td>54.869377</td>\n",
              "      <td>18256100.0</td>\n",
              "    </tr>\n",
              "    <tr>\n",
              "      <th>2004-08-24</th>\n",
              "      <td>111.24</td>\n",
              "      <td>111.60</td>\n",
              "      <td>103.57</td>\n",
              "      <td>104.870</td>\n",
              "      <td>15247300.0</td>\n",
              "      <td>0.0</td>\n",
              "      <td>1.0</td>\n",
              "      <td>55.792225</td>\n",
              "      <td>55.972783</td>\n",
              "      <td>51.945350</td>\n",
              "      <td>52.597363</td>\n",
              "      <td>15247300.0</td>\n",
              "    </tr>\n",
              "    <tr>\n",
              "      <th>2004-08-25</th>\n",
              "      <td>104.76</td>\n",
              "      <td>108.00</td>\n",
              "      <td>103.88</td>\n",
              "      <td>106.000</td>\n",
              "      <td>9188600.0</td>\n",
              "      <td>0.0</td>\n",
              "      <td>1.0</td>\n",
              "      <td>52.542193</td>\n",
              "      <td>54.167209</td>\n",
              "      <td>52.100830</td>\n",
              "      <td>53.164113</td>\n",
              "      <td>9188600.0</td>\n",
              "    </tr>\n",
              "  </tbody>\n",
              "</table>\n",
              "</div>"
            ],
            "text/plain": [
              "              Open    High     Low  ...   Adj. Low  Adj. Close  Adj. Volume\n",
              "Date                                ...                                    \n",
              "2004-08-19  100.01  104.06   95.96  ...  48.128568   50.322842   44659000.0\n",
              "2004-08-20  101.01  109.08  100.50  ...  50.405597   54.322689   22834300.0\n",
              "2004-08-23  110.76  113.48  109.05  ...  54.693835   54.869377   18256100.0\n",
              "2004-08-24  111.24  111.60  103.57  ...  51.945350   52.597363   15247300.0\n",
              "2004-08-25  104.76  108.00  103.88  ...  52.100830   53.164113    9188600.0\n",
              "\n",
              "[5 rows x 12 columns]"
            ]
          },
          "metadata": {
            "tags": []
          },
          "execution_count": 40
        }
      ]
    },
    {
      "cell_type": "code",
      "metadata": {
        "id": "TGKzFb8-1RBO",
        "colab_type": "code",
        "colab": {
          "base_uri": "https://localhost:8080/",
          "height": 656
        },
        "outputId": "e529d030-4271-455c-d973-625771fcc94f"
      },
      "source": [
        "df"
      ],
      "execution_count": 41,
      "outputs": [
        {
          "output_type": "execute_result",
          "data": {
            "text/html": [
              "<div>\n",
              "<style scoped>\n",
              "    .dataframe tbody tr th:only-of-type {\n",
              "        vertical-align: middle;\n",
              "    }\n",
              "\n",
              "    .dataframe tbody tr th {\n",
              "        vertical-align: top;\n",
              "    }\n",
              "\n",
              "    .dataframe thead th {\n",
              "        text-align: right;\n",
              "    }\n",
              "</style>\n",
              "<table border=\"1\" class=\"dataframe\">\n",
              "  <thead>\n",
              "    <tr style=\"text-align: right;\">\n",
              "      <th></th>\n",
              "      <th>Open</th>\n",
              "      <th>High</th>\n",
              "      <th>Low</th>\n",
              "      <th>Close</th>\n",
              "      <th>Volume</th>\n",
              "      <th>Ex-Dividend</th>\n",
              "      <th>Split Ratio</th>\n",
              "      <th>Adj. Open</th>\n",
              "      <th>Adj. High</th>\n",
              "      <th>Adj. Low</th>\n",
              "      <th>Adj. Close</th>\n",
              "      <th>Adj. Volume</th>\n",
              "    </tr>\n",
              "    <tr>\n",
              "      <th>Date</th>\n",
              "      <th></th>\n",
              "      <th></th>\n",
              "      <th></th>\n",
              "      <th></th>\n",
              "      <th></th>\n",
              "      <th></th>\n",
              "      <th></th>\n",
              "      <th></th>\n",
              "      <th></th>\n",
              "      <th></th>\n",
              "      <th></th>\n",
              "      <th></th>\n",
              "    </tr>\n",
              "  </thead>\n",
              "  <tbody>\n",
              "    <tr>\n",
              "      <th>2004-08-19</th>\n",
              "      <td>100.01</td>\n",
              "      <td>104.06</td>\n",
              "      <td>95.96</td>\n",
              "      <td>100.335</td>\n",
              "      <td>44659000.0</td>\n",
              "      <td>0.0</td>\n",
              "      <td>1.0</td>\n",
              "      <td>50.159839</td>\n",
              "      <td>52.191109</td>\n",
              "      <td>48.128568</td>\n",
              "      <td>50.322842</td>\n",
              "      <td>44659000.0</td>\n",
              "    </tr>\n",
              "    <tr>\n",
              "      <th>2004-08-20</th>\n",
              "      <td>101.01</td>\n",
              "      <td>109.08</td>\n",
              "      <td>100.50</td>\n",
              "      <td>108.310</td>\n",
              "      <td>22834300.0</td>\n",
              "      <td>0.0</td>\n",
              "      <td>1.0</td>\n",
              "      <td>50.661387</td>\n",
              "      <td>54.708881</td>\n",
              "      <td>50.405597</td>\n",
              "      <td>54.322689</td>\n",
              "      <td>22834300.0</td>\n",
              "    </tr>\n",
              "    <tr>\n",
              "      <th>2004-08-23</th>\n",
              "      <td>110.76</td>\n",
              "      <td>113.48</td>\n",
              "      <td>109.05</td>\n",
              "      <td>109.400</td>\n",
              "      <td>18256100.0</td>\n",
              "      <td>0.0</td>\n",
              "      <td>1.0</td>\n",
              "      <td>55.551482</td>\n",
              "      <td>56.915693</td>\n",
              "      <td>54.693835</td>\n",
              "      <td>54.869377</td>\n",
              "      <td>18256100.0</td>\n",
              "    </tr>\n",
              "    <tr>\n",
              "      <th>2004-08-24</th>\n",
              "      <td>111.24</td>\n",
              "      <td>111.60</td>\n",
              "      <td>103.57</td>\n",
              "      <td>104.870</td>\n",
              "      <td>15247300.0</td>\n",
              "      <td>0.0</td>\n",
              "      <td>1.0</td>\n",
              "      <td>55.792225</td>\n",
              "      <td>55.972783</td>\n",
              "      <td>51.945350</td>\n",
              "      <td>52.597363</td>\n",
              "      <td>15247300.0</td>\n",
              "    </tr>\n",
              "    <tr>\n",
              "      <th>2004-08-25</th>\n",
              "      <td>104.76</td>\n",
              "      <td>108.00</td>\n",
              "      <td>103.88</td>\n",
              "      <td>106.000</td>\n",
              "      <td>9188600.0</td>\n",
              "      <td>0.0</td>\n",
              "      <td>1.0</td>\n",
              "      <td>52.542193</td>\n",
              "      <td>54.167209</td>\n",
              "      <td>52.100830</td>\n",
              "      <td>53.164113</td>\n",
              "      <td>9188600.0</td>\n",
              "    </tr>\n",
              "    <tr>\n",
              "      <th>...</th>\n",
              "      <td>...</td>\n",
              "      <td>...</td>\n",
              "      <td>...</td>\n",
              "      <td>...</td>\n",
              "      <td>...</td>\n",
              "      <td>...</td>\n",
              "      <td>...</td>\n",
              "      <td>...</td>\n",
              "      <td>...</td>\n",
              "      <td>...</td>\n",
              "      <td>...</td>\n",
              "      <td>...</td>\n",
              "    </tr>\n",
              "    <tr>\n",
              "      <th>2018-03-21</th>\n",
              "      <td>1092.57</td>\n",
              "      <td>1108.70</td>\n",
              "      <td>1087.21</td>\n",
              "      <td>1094.000</td>\n",
              "      <td>1990515.0</td>\n",
              "      <td>0.0</td>\n",
              "      <td>1.0</td>\n",
              "      <td>1092.570000</td>\n",
              "      <td>1108.700000</td>\n",
              "      <td>1087.210000</td>\n",
              "      <td>1094.000000</td>\n",
              "      <td>1990515.0</td>\n",
              "    </tr>\n",
              "    <tr>\n",
              "      <th>2018-03-22</th>\n",
              "      <td>1080.01</td>\n",
              "      <td>1083.92</td>\n",
              "      <td>1049.64</td>\n",
              "      <td>1053.150</td>\n",
              "      <td>3418154.0</td>\n",
              "      <td>0.0</td>\n",
              "      <td>1.0</td>\n",
              "      <td>1080.010000</td>\n",
              "      <td>1083.920000</td>\n",
              "      <td>1049.640000</td>\n",
              "      <td>1053.150000</td>\n",
              "      <td>3418154.0</td>\n",
              "    </tr>\n",
              "    <tr>\n",
              "      <th>2018-03-23</th>\n",
              "      <td>1051.37</td>\n",
              "      <td>1066.78</td>\n",
              "      <td>1024.87</td>\n",
              "      <td>1026.550</td>\n",
              "      <td>2413517.0</td>\n",
              "      <td>0.0</td>\n",
              "      <td>1.0</td>\n",
              "      <td>1051.370000</td>\n",
              "      <td>1066.780000</td>\n",
              "      <td>1024.870000</td>\n",
              "      <td>1026.550000</td>\n",
              "      <td>2413517.0</td>\n",
              "    </tr>\n",
              "    <tr>\n",
              "      <th>2018-03-26</th>\n",
              "      <td>1050.60</td>\n",
              "      <td>1059.27</td>\n",
              "      <td>1010.58</td>\n",
              "      <td>1054.090</td>\n",
              "      <td>3272409.0</td>\n",
              "      <td>0.0</td>\n",
              "      <td>1.0</td>\n",
              "      <td>1050.600000</td>\n",
              "      <td>1059.270000</td>\n",
              "      <td>1010.580000</td>\n",
              "      <td>1054.090000</td>\n",
              "      <td>3272409.0</td>\n",
              "    </tr>\n",
              "    <tr>\n",
              "      <th>2018-03-27</th>\n",
              "      <td>1063.90</td>\n",
              "      <td>1064.54</td>\n",
              "      <td>997.62</td>\n",
              "      <td>1006.940</td>\n",
              "      <td>2940957.0</td>\n",
              "      <td>0.0</td>\n",
              "      <td>1.0</td>\n",
              "      <td>1063.900000</td>\n",
              "      <td>1064.540000</td>\n",
              "      <td>997.620000</td>\n",
              "      <td>1006.940000</td>\n",
              "      <td>2940957.0</td>\n",
              "    </tr>\n",
              "  </tbody>\n",
              "</table>\n",
              "<p>3424 rows × 12 columns</p>\n",
              "</div>"
            ],
            "text/plain": [
              "               Open     High      Low  ...     Adj. Low   Adj. Close  Adj. Volume\n",
              "Date                                   ...                                       \n",
              "2004-08-19   100.01   104.06    95.96  ...    48.128568    50.322842   44659000.0\n",
              "2004-08-20   101.01   109.08   100.50  ...    50.405597    54.322689   22834300.0\n",
              "2004-08-23   110.76   113.48   109.05  ...    54.693835    54.869377   18256100.0\n",
              "2004-08-24   111.24   111.60   103.57  ...    51.945350    52.597363   15247300.0\n",
              "2004-08-25   104.76   108.00   103.88  ...    52.100830    53.164113    9188600.0\n",
              "...             ...      ...      ...  ...          ...          ...          ...\n",
              "2018-03-21  1092.57  1108.70  1087.21  ...  1087.210000  1094.000000    1990515.0\n",
              "2018-03-22  1080.01  1083.92  1049.64  ...  1049.640000  1053.150000    3418154.0\n",
              "2018-03-23  1051.37  1066.78  1024.87  ...  1024.870000  1026.550000    2413517.0\n",
              "2018-03-26  1050.60  1059.27  1010.58  ...  1010.580000  1054.090000    3272409.0\n",
              "2018-03-27  1063.90  1064.54   997.62  ...   997.620000  1006.940000    2940957.0\n",
              "\n",
              "[3424 rows x 12 columns]"
            ]
          },
          "metadata": {
            "tags": []
          },
          "execution_count": 41
        }
      ]
    },
    {
      "cell_type": "code",
      "metadata": {
        "id": "CkenyPN04tkF",
        "colab_type": "code",
        "colab": {
          "base_uri": "https://localhost:8080/",
          "height": 68
        },
        "outputId": "6eae620b-7cb1-4b52-ab79-8aecf200801a"
      },
      "source": [
        "df.columns"
      ],
      "execution_count": 42,
      "outputs": [
        {
          "output_type": "execute_result",
          "data": {
            "text/plain": [
              "Index(['Open', 'High', 'Low', 'Close', 'Volume', 'Ex-Dividend', 'Split Ratio',\n",
              "       'Adj. Open', 'Adj. High', 'Adj. Low', 'Adj. Close', 'Adj. Volume'],\n",
              "      dtype='object')"
            ]
          },
          "metadata": {
            "tags": []
          },
          "execution_count": 42
        }
      ]
    },
    {
      "cell_type": "code",
      "metadata": {
        "id": "EpAXMOts1yIL",
        "colab_type": "code",
        "colab": {
          "base_uri": "https://localhost:8080/",
          "height": 448
        },
        "outputId": "69d67182-2018-4e65-a955-9f23b6c5258e"
      },
      "source": [
        "df = df[['Adj. Open','Adj. High', 'Adj. Low', 'Adj. Close', 'Adj. Volume']]\n",
        "df"
      ],
      "execution_count": 43,
      "outputs": [
        {
          "output_type": "execute_result",
          "data": {
            "text/html": [
              "<div>\n",
              "<style scoped>\n",
              "    .dataframe tbody tr th:only-of-type {\n",
              "        vertical-align: middle;\n",
              "    }\n",
              "\n",
              "    .dataframe tbody tr th {\n",
              "        vertical-align: top;\n",
              "    }\n",
              "\n",
              "    .dataframe thead th {\n",
              "        text-align: right;\n",
              "    }\n",
              "</style>\n",
              "<table border=\"1\" class=\"dataframe\">\n",
              "  <thead>\n",
              "    <tr style=\"text-align: right;\">\n",
              "      <th></th>\n",
              "      <th>Adj. Open</th>\n",
              "      <th>Adj. High</th>\n",
              "      <th>Adj. Low</th>\n",
              "      <th>Adj. Close</th>\n",
              "      <th>Adj. Volume</th>\n",
              "    </tr>\n",
              "    <tr>\n",
              "      <th>Date</th>\n",
              "      <th></th>\n",
              "      <th></th>\n",
              "      <th></th>\n",
              "      <th></th>\n",
              "      <th></th>\n",
              "    </tr>\n",
              "  </thead>\n",
              "  <tbody>\n",
              "    <tr>\n",
              "      <th>2004-08-19</th>\n",
              "      <td>50.159839</td>\n",
              "      <td>52.191109</td>\n",
              "      <td>48.128568</td>\n",
              "      <td>50.322842</td>\n",
              "      <td>44659000.0</td>\n",
              "    </tr>\n",
              "    <tr>\n",
              "      <th>2004-08-20</th>\n",
              "      <td>50.661387</td>\n",
              "      <td>54.708881</td>\n",
              "      <td>50.405597</td>\n",
              "      <td>54.322689</td>\n",
              "      <td>22834300.0</td>\n",
              "    </tr>\n",
              "    <tr>\n",
              "      <th>2004-08-23</th>\n",
              "      <td>55.551482</td>\n",
              "      <td>56.915693</td>\n",
              "      <td>54.693835</td>\n",
              "      <td>54.869377</td>\n",
              "      <td>18256100.0</td>\n",
              "    </tr>\n",
              "    <tr>\n",
              "      <th>2004-08-24</th>\n",
              "      <td>55.792225</td>\n",
              "      <td>55.972783</td>\n",
              "      <td>51.945350</td>\n",
              "      <td>52.597363</td>\n",
              "      <td>15247300.0</td>\n",
              "    </tr>\n",
              "    <tr>\n",
              "      <th>2004-08-25</th>\n",
              "      <td>52.542193</td>\n",
              "      <td>54.167209</td>\n",
              "      <td>52.100830</td>\n",
              "      <td>53.164113</td>\n",
              "      <td>9188600.0</td>\n",
              "    </tr>\n",
              "    <tr>\n",
              "      <th>...</th>\n",
              "      <td>...</td>\n",
              "      <td>...</td>\n",
              "      <td>...</td>\n",
              "      <td>...</td>\n",
              "      <td>...</td>\n",
              "    </tr>\n",
              "    <tr>\n",
              "      <th>2018-03-21</th>\n",
              "      <td>1092.570000</td>\n",
              "      <td>1108.700000</td>\n",
              "      <td>1087.210000</td>\n",
              "      <td>1094.000000</td>\n",
              "      <td>1990515.0</td>\n",
              "    </tr>\n",
              "    <tr>\n",
              "      <th>2018-03-22</th>\n",
              "      <td>1080.010000</td>\n",
              "      <td>1083.920000</td>\n",
              "      <td>1049.640000</td>\n",
              "      <td>1053.150000</td>\n",
              "      <td>3418154.0</td>\n",
              "    </tr>\n",
              "    <tr>\n",
              "      <th>2018-03-23</th>\n",
              "      <td>1051.370000</td>\n",
              "      <td>1066.780000</td>\n",
              "      <td>1024.870000</td>\n",
              "      <td>1026.550000</td>\n",
              "      <td>2413517.0</td>\n",
              "    </tr>\n",
              "    <tr>\n",
              "      <th>2018-03-26</th>\n",
              "      <td>1050.600000</td>\n",
              "      <td>1059.270000</td>\n",
              "      <td>1010.580000</td>\n",
              "      <td>1054.090000</td>\n",
              "      <td>3272409.0</td>\n",
              "    </tr>\n",
              "    <tr>\n",
              "      <th>2018-03-27</th>\n",
              "      <td>1063.900000</td>\n",
              "      <td>1064.540000</td>\n",
              "      <td>997.620000</td>\n",
              "      <td>1006.940000</td>\n",
              "      <td>2940957.0</td>\n",
              "    </tr>\n",
              "  </tbody>\n",
              "</table>\n",
              "<p>3424 rows × 5 columns</p>\n",
              "</div>"
            ],
            "text/plain": [
              "              Adj. Open    Adj. High     Adj. Low   Adj. Close  Adj. Volume\n",
              "Date                                                                       \n",
              "2004-08-19    50.159839    52.191109    48.128568    50.322842   44659000.0\n",
              "2004-08-20    50.661387    54.708881    50.405597    54.322689   22834300.0\n",
              "2004-08-23    55.551482    56.915693    54.693835    54.869377   18256100.0\n",
              "2004-08-24    55.792225    55.972783    51.945350    52.597363   15247300.0\n",
              "2004-08-25    52.542193    54.167209    52.100830    53.164113    9188600.0\n",
              "...                 ...          ...          ...          ...          ...\n",
              "2018-03-21  1092.570000  1108.700000  1087.210000  1094.000000    1990515.0\n",
              "2018-03-22  1080.010000  1083.920000  1049.640000  1053.150000    3418154.0\n",
              "2018-03-23  1051.370000  1066.780000  1024.870000  1026.550000    2413517.0\n",
              "2018-03-26  1050.600000  1059.270000  1010.580000  1054.090000    3272409.0\n",
              "2018-03-27  1063.900000  1064.540000   997.620000  1006.940000    2940957.0\n",
              "\n",
              "[3424 rows x 5 columns]"
            ]
          },
          "metadata": {
            "tags": []
          },
          "execution_count": 43
        }
      ]
    },
    {
      "cell_type": "code",
      "metadata": {
        "id": "kFhmP3t65O9S",
        "colab_type": "code",
        "colab": {
          "base_uri": "https://localhost:8080/",
          "height": 34
        },
        "outputId": "d82f491e-2831-48d0-84f8-79c00f084f8d"
      },
      "source": [
        "df.columns"
      ],
      "execution_count": 44,
      "outputs": [
        {
          "output_type": "execute_result",
          "data": {
            "text/plain": [
              "Index(['Adj. Open', 'Adj. High', 'Adj. Low', 'Adj. Close', 'Adj. Volume'], dtype='object')"
            ]
          },
          "metadata": {
            "tags": []
          },
          "execution_count": 44
        }
      ]
    },
    {
      "cell_type": "code",
      "metadata": {
        "id": "m9fFSGUf4rvT",
        "colab_type": "code",
        "colab": {
          "base_uri": "https://localhost:8080/",
          "height": 674
        },
        "outputId": "7daf7ae2-8e2b-43db-f430-11a6961084df"
      },
      "source": [
        "df['HL_PCT'] = (df['Adj. High'] - df['Adj. Close']) / df['Adj. Close'] * 100\n",
        "df['PCT_change'] = (df['Adj. Close'] - df['Adj. Open'] ) / df['Adj. Open']  * 100\n",
        "df"
      ],
      "execution_count": 45,
      "outputs": [
        {
          "output_type": "stream",
          "text": [
            "/usr/local/lib/python3.6/dist-packages/ipykernel_launcher.py:1: SettingWithCopyWarning: \n",
            "A value is trying to be set on a copy of a slice from a DataFrame.\n",
            "Try using .loc[row_indexer,col_indexer] = value instead\n",
            "\n",
            "See the caveats in the documentation: https://pandas.pydata.org/pandas-docs/stable/user_guide/indexing.html#returning-a-view-versus-a-copy\n",
            "  \"\"\"Entry point for launching an IPython kernel.\n",
            "/usr/local/lib/python3.6/dist-packages/ipykernel_launcher.py:2: SettingWithCopyWarning: \n",
            "A value is trying to be set on a copy of a slice from a DataFrame.\n",
            "Try using .loc[row_indexer,col_indexer] = value instead\n",
            "\n",
            "See the caveats in the documentation: https://pandas.pydata.org/pandas-docs/stable/user_guide/indexing.html#returning-a-view-versus-a-copy\n",
            "  \n"
          ],
          "name": "stderr"
        },
        {
          "output_type": "execute_result",
          "data": {
            "text/html": [
              "<div>\n",
              "<style scoped>\n",
              "    .dataframe tbody tr th:only-of-type {\n",
              "        vertical-align: middle;\n",
              "    }\n",
              "\n",
              "    .dataframe tbody tr th {\n",
              "        vertical-align: top;\n",
              "    }\n",
              "\n",
              "    .dataframe thead th {\n",
              "        text-align: right;\n",
              "    }\n",
              "</style>\n",
              "<table border=\"1\" class=\"dataframe\">\n",
              "  <thead>\n",
              "    <tr style=\"text-align: right;\">\n",
              "      <th></th>\n",
              "      <th>Adj. Open</th>\n",
              "      <th>Adj. High</th>\n",
              "      <th>Adj. Low</th>\n",
              "      <th>Adj. Close</th>\n",
              "      <th>Adj. Volume</th>\n",
              "      <th>HL_PCT</th>\n",
              "      <th>PCT_change</th>\n",
              "    </tr>\n",
              "    <tr>\n",
              "      <th>Date</th>\n",
              "      <th></th>\n",
              "      <th></th>\n",
              "      <th></th>\n",
              "      <th></th>\n",
              "      <th></th>\n",
              "      <th></th>\n",
              "      <th></th>\n",
              "    </tr>\n",
              "  </thead>\n",
              "  <tbody>\n",
              "    <tr>\n",
              "      <th>2004-08-19</th>\n",
              "      <td>50.159839</td>\n",
              "      <td>52.191109</td>\n",
              "      <td>48.128568</td>\n",
              "      <td>50.322842</td>\n",
              "      <td>44659000.0</td>\n",
              "      <td>3.712563</td>\n",
              "      <td>0.324968</td>\n",
              "    </tr>\n",
              "    <tr>\n",
              "      <th>2004-08-20</th>\n",
              "      <td>50.661387</td>\n",
              "      <td>54.708881</td>\n",
              "      <td>50.405597</td>\n",
              "      <td>54.322689</td>\n",
              "      <td>22834300.0</td>\n",
              "      <td>0.710922</td>\n",
              "      <td>7.227007</td>\n",
              "    </tr>\n",
              "    <tr>\n",
              "      <th>2004-08-23</th>\n",
              "      <td>55.551482</td>\n",
              "      <td>56.915693</td>\n",
              "      <td>54.693835</td>\n",
              "      <td>54.869377</td>\n",
              "      <td>18256100.0</td>\n",
              "      <td>3.729433</td>\n",
              "      <td>-1.227880</td>\n",
              "    </tr>\n",
              "    <tr>\n",
              "      <th>2004-08-24</th>\n",
              "      <td>55.792225</td>\n",
              "      <td>55.972783</td>\n",
              "      <td>51.945350</td>\n",
              "      <td>52.597363</td>\n",
              "      <td>15247300.0</td>\n",
              "      <td>6.417469</td>\n",
              "      <td>-5.726357</td>\n",
              "    </tr>\n",
              "    <tr>\n",
              "      <th>2004-08-25</th>\n",
              "      <td>52.542193</td>\n",
              "      <td>54.167209</td>\n",
              "      <td>52.100830</td>\n",
              "      <td>53.164113</td>\n",
              "      <td>9188600.0</td>\n",
              "      <td>1.886792</td>\n",
              "      <td>1.183658</td>\n",
              "    </tr>\n",
              "    <tr>\n",
              "      <th>...</th>\n",
              "      <td>...</td>\n",
              "      <td>...</td>\n",
              "      <td>...</td>\n",
              "      <td>...</td>\n",
              "      <td>...</td>\n",
              "      <td>...</td>\n",
              "      <td>...</td>\n",
              "    </tr>\n",
              "    <tr>\n",
              "      <th>2018-03-21</th>\n",
              "      <td>1092.570000</td>\n",
              "      <td>1108.700000</td>\n",
              "      <td>1087.210000</td>\n",
              "      <td>1094.000000</td>\n",
              "      <td>1990515.0</td>\n",
              "      <td>1.343693</td>\n",
              "      <td>0.130884</td>\n",
              "    </tr>\n",
              "    <tr>\n",
              "      <th>2018-03-22</th>\n",
              "      <td>1080.010000</td>\n",
              "      <td>1083.920000</td>\n",
              "      <td>1049.640000</td>\n",
              "      <td>1053.150000</td>\n",
              "      <td>3418154.0</td>\n",
              "      <td>2.921711</td>\n",
              "      <td>-2.487014</td>\n",
              "    </tr>\n",
              "    <tr>\n",
              "      <th>2018-03-23</th>\n",
              "      <td>1051.370000</td>\n",
              "      <td>1066.780000</td>\n",
              "      <td>1024.870000</td>\n",
              "      <td>1026.550000</td>\n",
              "      <td>2413517.0</td>\n",
              "      <td>3.918952</td>\n",
              "      <td>-2.360729</td>\n",
              "    </tr>\n",
              "    <tr>\n",
              "      <th>2018-03-26</th>\n",
              "      <td>1050.600000</td>\n",
              "      <td>1059.270000</td>\n",
              "      <td>1010.580000</td>\n",
              "      <td>1054.090000</td>\n",
              "      <td>3272409.0</td>\n",
              "      <td>0.491419</td>\n",
              "      <td>0.332191</td>\n",
              "    </tr>\n",
              "    <tr>\n",
              "      <th>2018-03-27</th>\n",
              "      <td>1063.900000</td>\n",
              "      <td>1064.540000</td>\n",
              "      <td>997.620000</td>\n",
              "      <td>1006.940000</td>\n",
              "      <td>2940957.0</td>\n",
              "      <td>5.720301</td>\n",
              "      <td>-5.353887</td>\n",
              "    </tr>\n",
              "  </tbody>\n",
              "</table>\n",
              "<p>3424 rows × 7 columns</p>\n",
              "</div>"
            ],
            "text/plain": [
              "              Adj. Open    Adj. High  ...    HL_PCT  PCT_change\n",
              "Date                                  ...                      \n",
              "2004-08-19    50.159839    52.191109  ...  3.712563    0.324968\n",
              "2004-08-20    50.661387    54.708881  ...  0.710922    7.227007\n",
              "2004-08-23    55.551482    56.915693  ...  3.729433   -1.227880\n",
              "2004-08-24    55.792225    55.972783  ...  6.417469   -5.726357\n",
              "2004-08-25    52.542193    54.167209  ...  1.886792    1.183658\n",
              "...                 ...          ...  ...       ...         ...\n",
              "2018-03-21  1092.570000  1108.700000  ...  1.343693    0.130884\n",
              "2018-03-22  1080.010000  1083.920000  ...  2.921711   -2.487014\n",
              "2018-03-23  1051.370000  1066.780000  ...  3.918952   -2.360729\n",
              "2018-03-26  1050.600000  1059.270000  ...  0.491419    0.332191\n",
              "2018-03-27  1063.900000  1064.540000  ...  5.720301   -5.353887\n",
              "\n",
              "[3424 rows x 7 columns]"
            ]
          },
          "metadata": {
            "tags": []
          },
          "execution_count": 45
        }
      ]
    },
    {
      "cell_type": "code",
      "metadata": {
        "id": "1VzkkDZL6nov",
        "colab_type": "code",
        "colab": {
          "base_uri": "https://localhost:8080/",
          "height": 68
        },
        "outputId": "7c8838e4-ce85-4fe6-8fce-60b241b27bee"
      },
      "source": [
        "df.columns"
      ],
      "execution_count": 46,
      "outputs": [
        {
          "output_type": "execute_result",
          "data": {
            "text/plain": [
              "Index(['Adj. Open', 'Adj. High', 'Adj. Low', 'Adj. Close', 'Adj. Volume',\n",
              "       'HL_PCT', 'PCT_change'],\n",
              "      dtype='object')"
            ]
          },
          "metadata": {
            "tags": []
          },
          "execution_count": 46
        }
      ]
    },
    {
      "cell_type": "code",
      "metadata": {
        "id": "UiSuTtYT4rp5",
        "colab_type": "code",
        "colab": {
          "base_uri": "https://localhost:8080/",
          "height": 448
        },
        "outputId": "b391334d-2aae-4fce-bd58-0279c78fe2e6"
      },
      "source": [
        "df =  df[['Adj. Close', 'HL_PCT', 'PCT_change', 'Adj. Volume']]\n",
        "df"
      ],
      "execution_count": 47,
      "outputs": [
        {
          "output_type": "execute_result",
          "data": {
            "text/html": [
              "<div>\n",
              "<style scoped>\n",
              "    .dataframe tbody tr th:only-of-type {\n",
              "        vertical-align: middle;\n",
              "    }\n",
              "\n",
              "    .dataframe tbody tr th {\n",
              "        vertical-align: top;\n",
              "    }\n",
              "\n",
              "    .dataframe thead th {\n",
              "        text-align: right;\n",
              "    }\n",
              "</style>\n",
              "<table border=\"1\" class=\"dataframe\">\n",
              "  <thead>\n",
              "    <tr style=\"text-align: right;\">\n",
              "      <th></th>\n",
              "      <th>Adj. Close</th>\n",
              "      <th>HL_PCT</th>\n",
              "      <th>PCT_change</th>\n",
              "      <th>Adj. Volume</th>\n",
              "    </tr>\n",
              "    <tr>\n",
              "      <th>Date</th>\n",
              "      <th></th>\n",
              "      <th></th>\n",
              "      <th></th>\n",
              "      <th></th>\n",
              "    </tr>\n",
              "  </thead>\n",
              "  <tbody>\n",
              "    <tr>\n",
              "      <th>2004-08-19</th>\n",
              "      <td>50.322842</td>\n",
              "      <td>3.712563</td>\n",
              "      <td>0.324968</td>\n",
              "      <td>44659000.0</td>\n",
              "    </tr>\n",
              "    <tr>\n",
              "      <th>2004-08-20</th>\n",
              "      <td>54.322689</td>\n",
              "      <td>0.710922</td>\n",
              "      <td>7.227007</td>\n",
              "      <td>22834300.0</td>\n",
              "    </tr>\n",
              "    <tr>\n",
              "      <th>2004-08-23</th>\n",
              "      <td>54.869377</td>\n",
              "      <td>3.729433</td>\n",
              "      <td>-1.227880</td>\n",
              "      <td>18256100.0</td>\n",
              "    </tr>\n",
              "    <tr>\n",
              "      <th>2004-08-24</th>\n",
              "      <td>52.597363</td>\n",
              "      <td>6.417469</td>\n",
              "      <td>-5.726357</td>\n",
              "      <td>15247300.0</td>\n",
              "    </tr>\n",
              "    <tr>\n",
              "      <th>2004-08-25</th>\n",
              "      <td>53.164113</td>\n",
              "      <td>1.886792</td>\n",
              "      <td>1.183658</td>\n",
              "      <td>9188600.0</td>\n",
              "    </tr>\n",
              "    <tr>\n",
              "      <th>...</th>\n",
              "      <td>...</td>\n",
              "      <td>...</td>\n",
              "      <td>...</td>\n",
              "      <td>...</td>\n",
              "    </tr>\n",
              "    <tr>\n",
              "      <th>2018-03-21</th>\n",
              "      <td>1094.000000</td>\n",
              "      <td>1.343693</td>\n",
              "      <td>0.130884</td>\n",
              "      <td>1990515.0</td>\n",
              "    </tr>\n",
              "    <tr>\n",
              "      <th>2018-03-22</th>\n",
              "      <td>1053.150000</td>\n",
              "      <td>2.921711</td>\n",
              "      <td>-2.487014</td>\n",
              "      <td>3418154.0</td>\n",
              "    </tr>\n",
              "    <tr>\n",
              "      <th>2018-03-23</th>\n",
              "      <td>1026.550000</td>\n",
              "      <td>3.918952</td>\n",
              "      <td>-2.360729</td>\n",
              "      <td>2413517.0</td>\n",
              "    </tr>\n",
              "    <tr>\n",
              "      <th>2018-03-26</th>\n",
              "      <td>1054.090000</td>\n",
              "      <td>0.491419</td>\n",
              "      <td>0.332191</td>\n",
              "      <td>3272409.0</td>\n",
              "    </tr>\n",
              "    <tr>\n",
              "      <th>2018-03-27</th>\n",
              "      <td>1006.940000</td>\n",
              "      <td>5.720301</td>\n",
              "      <td>-5.353887</td>\n",
              "      <td>2940957.0</td>\n",
              "    </tr>\n",
              "  </tbody>\n",
              "</table>\n",
              "<p>3424 rows × 4 columns</p>\n",
              "</div>"
            ],
            "text/plain": [
              "             Adj. Close    HL_PCT  PCT_change  Adj. Volume\n",
              "Date                                                      \n",
              "2004-08-19    50.322842  3.712563    0.324968   44659000.0\n",
              "2004-08-20    54.322689  0.710922    7.227007   22834300.0\n",
              "2004-08-23    54.869377  3.729433   -1.227880   18256100.0\n",
              "2004-08-24    52.597363  6.417469   -5.726357   15247300.0\n",
              "2004-08-25    53.164113  1.886792    1.183658    9188600.0\n",
              "...                 ...       ...         ...          ...\n",
              "2018-03-21  1094.000000  1.343693    0.130884    1990515.0\n",
              "2018-03-22  1053.150000  2.921711   -2.487014    3418154.0\n",
              "2018-03-23  1026.550000  3.918952   -2.360729    2413517.0\n",
              "2018-03-26  1054.090000  0.491419    0.332191    3272409.0\n",
              "2018-03-27  1006.940000  5.720301   -5.353887    2940957.0\n",
              "\n",
              "[3424 rows x 4 columns]"
            ]
          },
          "metadata": {
            "tags": []
          },
          "execution_count": 47
        }
      ]
    },
    {
      "cell_type": "code",
      "metadata": {
        "id": "UM_BygEH4rnt",
        "colab_type": "code",
        "colab": {
          "base_uri": "https://localhost:8080/",
          "height": 448
        },
        "outputId": "eede4df0-7983-4598-fc33-0d512bec01dd"
      },
      "source": [
        "df"
      ],
      "execution_count": 48,
      "outputs": [
        {
          "output_type": "execute_result",
          "data": {
            "text/html": [
              "<div>\n",
              "<style scoped>\n",
              "    .dataframe tbody tr th:only-of-type {\n",
              "        vertical-align: middle;\n",
              "    }\n",
              "\n",
              "    .dataframe tbody tr th {\n",
              "        vertical-align: top;\n",
              "    }\n",
              "\n",
              "    .dataframe thead th {\n",
              "        text-align: right;\n",
              "    }\n",
              "</style>\n",
              "<table border=\"1\" class=\"dataframe\">\n",
              "  <thead>\n",
              "    <tr style=\"text-align: right;\">\n",
              "      <th></th>\n",
              "      <th>Adj. Close</th>\n",
              "      <th>HL_PCT</th>\n",
              "      <th>PCT_change</th>\n",
              "      <th>Adj. Volume</th>\n",
              "    </tr>\n",
              "    <tr>\n",
              "      <th>Date</th>\n",
              "      <th></th>\n",
              "      <th></th>\n",
              "      <th></th>\n",
              "      <th></th>\n",
              "    </tr>\n",
              "  </thead>\n",
              "  <tbody>\n",
              "    <tr>\n",
              "      <th>2004-08-19</th>\n",
              "      <td>50.322842</td>\n",
              "      <td>3.712563</td>\n",
              "      <td>0.324968</td>\n",
              "      <td>44659000.0</td>\n",
              "    </tr>\n",
              "    <tr>\n",
              "      <th>2004-08-20</th>\n",
              "      <td>54.322689</td>\n",
              "      <td>0.710922</td>\n",
              "      <td>7.227007</td>\n",
              "      <td>22834300.0</td>\n",
              "    </tr>\n",
              "    <tr>\n",
              "      <th>2004-08-23</th>\n",
              "      <td>54.869377</td>\n",
              "      <td>3.729433</td>\n",
              "      <td>-1.227880</td>\n",
              "      <td>18256100.0</td>\n",
              "    </tr>\n",
              "    <tr>\n",
              "      <th>2004-08-24</th>\n",
              "      <td>52.597363</td>\n",
              "      <td>6.417469</td>\n",
              "      <td>-5.726357</td>\n",
              "      <td>15247300.0</td>\n",
              "    </tr>\n",
              "    <tr>\n",
              "      <th>2004-08-25</th>\n",
              "      <td>53.164113</td>\n",
              "      <td>1.886792</td>\n",
              "      <td>1.183658</td>\n",
              "      <td>9188600.0</td>\n",
              "    </tr>\n",
              "    <tr>\n",
              "      <th>...</th>\n",
              "      <td>...</td>\n",
              "      <td>...</td>\n",
              "      <td>...</td>\n",
              "      <td>...</td>\n",
              "    </tr>\n",
              "    <tr>\n",
              "      <th>2018-03-21</th>\n",
              "      <td>1094.000000</td>\n",
              "      <td>1.343693</td>\n",
              "      <td>0.130884</td>\n",
              "      <td>1990515.0</td>\n",
              "    </tr>\n",
              "    <tr>\n",
              "      <th>2018-03-22</th>\n",
              "      <td>1053.150000</td>\n",
              "      <td>2.921711</td>\n",
              "      <td>-2.487014</td>\n",
              "      <td>3418154.0</td>\n",
              "    </tr>\n",
              "    <tr>\n",
              "      <th>2018-03-23</th>\n",
              "      <td>1026.550000</td>\n",
              "      <td>3.918952</td>\n",
              "      <td>-2.360729</td>\n",
              "      <td>2413517.0</td>\n",
              "    </tr>\n",
              "    <tr>\n",
              "      <th>2018-03-26</th>\n",
              "      <td>1054.090000</td>\n",
              "      <td>0.491419</td>\n",
              "      <td>0.332191</td>\n",
              "      <td>3272409.0</td>\n",
              "    </tr>\n",
              "    <tr>\n",
              "      <th>2018-03-27</th>\n",
              "      <td>1006.940000</td>\n",
              "      <td>5.720301</td>\n",
              "      <td>-5.353887</td>\n",
              "      <td>2940957.0</td>\n",
              "    </tr>\n",
              "  </tbody>\n",
              "</table>\n",
              "<p>3424 rows × 4 columns</p>\n",
              "</div>"
            ],
            "text/plain": [
              "             Adj. Close    HL_PCT  PCT_change  Adj. Volume\n",
              "Date                                                      \n",
              "2004-08-19    50.322842  3.712563    0.324968   44659000.0\n",
              "2004-08-20    54.322689  0.710922    7.227007   22834300.0\n",
              "2004-08-23    54.869377  3.729433   -1.227880   18256100.0\n",
              "2004-08-24    52.597363  6.417469   -5.726357   15247300.0\n",
              "2004-08-25    53.164113  1.886792    1.183658    9188600.0\n",
              "...                 ...       ...         ...          ...\n",
              "2018-03-21  1094.000000  1.343693    0.130884    1990515.0\n",
              "2018-03-22  1053.150000  2.921711   -2.487014    3418154.0\n",
              "2018-03-23  1026.550000  3.918952   -2.360729    2413517.0\n",
              "2018-03-26  1054.090000  0.491419    0.332191    3272409.0\n",
              "2018-03-27  1006.940000  5.720301   -5.353887    2940957.0\n",
              "\n",
              "[3424 rows x 4 columns]"
            ]
          },
          "metadata": {
            "tags": []
          },
          "execution_count": 48
        }
      ]
    },
    {
      "cell_type": "code",
      "metadata": {
        "id": "gkY4q7Q34rkp",
        "colab_type": "code",
        "colab": {
          "base_uri": "https://localhost:8080/",
          "height": 234
        },
        "outputId": "32f13716-7b06-497a-ed2e-9b64bd66f090"
      },
      "source": [
        "df.head()"
      ],
      "execution_count": 49,
      "outputs": [
        {
          "output_type": "execute_result",
          "data": {
            "text/html": [
              "<div>\n",
              "<style scoped>\n",
              "    .dataframe tbody tr th:only-of-type {\n",
              "        vertical-align: middle;\n",
              "    }\n",
              "\n",
              "    .dataframe tbody tr th {\n",
              "        vertical-align: top;\n",
              "    }\n",
              "\n",
              "    .dataframe thead th {\n",
              "        text-align: right;\n",
              "    }\n",
              "</style>\n",
              "<table border=\"1\" class=\"dataframe\">\n",
              "  <thead>\n",
              "    <tr style=\"text-align: right;\">\n",
              "      <th></th>\n",
              "      <th>Adj. Close</th>\n",
              "      <th>HL_PCT</th>\n",
              "      <th>PCT_change</th>\n",
              "      <th>Adj. Volume</th>\n",
              "    </tr>\n",
              "    <tr>\n",
              "      <th>Date</th>\n",
              "      <th></th>\n",
              "      <th></th>\n",
              "      <th></th>\n",
              "      <th></th>\n",
              "    </tr>\n",
              "  </thead>\n",
              "  <tbody>\n",
              "    <tr>\n",
              "      <th>2004-08-19</th>\n",
              "      <td>50.322842</td>\n",
              "      <td>3.712563</td>\n",
              "      <td>0.324968</td>\n",
              "      <td>44659000.0</td>\n",
              "    </tr>\n",
              "    <tr>\n",
              "      <th>2004-08-20</th>\n",
              "      <td>54.322689</td>\n",
              "      <td>0.710922</td>\n",
              "      <td>7.227007</td>\n",
              "      <td>22834300.0</td>\n",
              "    </tr>\n",
              "    <tr>\n",
              "      <th>2004-08-23</th>\n",
              "      <td>54.869377</td>\n",
              "      <td>3.729433</td>\n",
              "      <td>-1.227880</td>\n",
              "      <td>18256100.0</td>\n",
              "    </tr>\n",
              "    <tr>\n",
              "      <th>2004-08-24</th>\n",
              "      <td>52.597363</td>\n",
              "      <td>6.417469</td>\n",
              "      <td>-5.726357</td>\n",
              "      <td>15247300.0</td>\n",
              "    </tr>\n",
              "    <tr>\n",
              "      <th>2004-08-25</th>\n",
              "      <td>53.164113</td>\n",
              "      <td>1.886792</td>\n",
              "      <td>1.183658</td>\n",
              "      <td>9188600.0</td>\n",
              "    </tr>\n",
              "  </tbody>\n",
              "</table>\n",
              "</div>"
            ],
            "text/plain": [
              "            Adj. Close    HL_PCT  PCT_change  Adj. Volume\n",
              "Date                                                     \n",
              "2004-08-19   50.322842  3.712563    0.324968   44659000.0\n",
              "2004-08-20   54.322689  0.710922    7.227007   22834300.0\n",
              "2004-08-23   54.869377  3.729433   -1.227880   18256100.0\n",
              "2004-08-24   52.597363  6.417469   -5.726357   15247300.0\n",
              "2004-08-25   53.164113  1.886792    1.183658    9188600.0"
            ]
          },
          "metadata": {
            "tags": []
          },
          "execution_count": 49
        }
      ]
    },
    {
      "cell_type": "code",
      "metadata": {
        "id": "881LLCSv2RzP",
        "colab_type": "code",
        "colab": {
          "base_uri": "https://localhost:8080/",
          "height": 206
        },
        "outputId": "96ae63f5-395c-4734-86a7-f2de99884b91"
      },
      "source": [
        "df.info()"
      ],
      "execution_count": 50,
      "outputs": [
        {
          "output_type": "stream",
          "text": [
            "<class 'pandas.core.frame.DataFrame'>\n",
            "DatetimeIndex: 3424 entries, 2004-08-19 to 2018-03-27\n",
            "Data columns (total 4 columns):\n",
            " #   Column       Non-Null Count  Dtype  \n",
            "---  ------       --------------  -----  \n",
            " 0   Adj. Close   3424 non-null   float64\n",
            " 1   HL_PCT       3424 non-null   float64\n",
            " 2   PCT_change   3424 non-null   float64\n",
            " 3   Adj. Volume  3424 non-null   float64\n",
            "dtypes: float64(4)\n",
            "memory usage: 133.8 KB\n"
          ],
          "name": "stdout"
        }
      ]
    },
    {
      "cell_type": "code",
      "metadata": {
        "id": "4psdmIuH4rhR",
        "colab_type": "code",
        "colab": {
          "base_uri": "https://localhost:8080/",
          "height": 34
        },
        "outputId": "54cff86b-cf79-41f6-d66d-c07a09ecc5f9"
      },
      "source": [
        "len(df)"
      ],
      "execution_count": 51,
      "outputs": [
        {
          "output_type": "execute_result",
          "data": {
            "text/plain": [
              "3424"
            ]
          },
          "metadata": {
            "tags": []
          },
          "execution_count": 51
        }
      ]
    },
    {
      "cell_type": "code",
      "metadata": {
        "id": "DGUQzWVn2srb",
        "colab_type": "code",
        "colab": {
          "base_uri": "https://localhost:8080/",
          "height": 34
        },
        "outputId": "b1f97352-c530-41b5-cb74-3fe5849f42d2"
      },
      "source": [
        "df.columns"
      ],
      "execution_count": 52,
      "outputs": [
        {
          "output_type": "execute_result",
          "data": {
            "text/plain": [
              "Index(['Adj. Close', 'HL_PCT', 'PCT_change', 'Adj. Volume'], dtype='object')"
            ]
          },
          "metadata": {
            "tags": []
          },
          "execution_count": 52
        }
      ]
    },
    {
      "cell_type": "code",
      "metadata": {
        "id": "4n7mKAwr25BX",
        "colab_type": "code",
        "colab": {}
      },
      "source": [
        "import numpy as np"
      ],
      "execution_count": 53,
      "outputs": []
    },
    {
      "cell_type": "code",
      "metadata": {
        "id": "ZEZ-8I8n2kVJ",
        "colab_type": "code",
        "colab": {
          "base_uri": "https://localhost:8080/",
          "height": 79
        },
        "outputId": "ff48bf26-d850-47e1-ec1e-40032c44d1bf"
      },
      "source": [
        "df[df['Adj. Volume'] == np.nan]"
      ],
      "execution_count": 54,
      "outputs": [
        {
          "output_type": "execute_result",
          "data": {
            "text/html": [
              "<div>\n",
              "<style scoped>\n",
              "    .dataframe tbody tr th:only-of-type {\n",
              "        vertical-align: middle;\n",
              "    }\n",
              "\n",
              "    .dataframe tbody tr th {\n",
              "        vertical-align: top;\n",
              "    }\n",
              "\n",
              "    .dataframe thead th {\n",
              "        text-align: right;\n",
              "    }\n",
              "</style>\n",
              "<table border=\"1\" class=\"dataframe\">\n",
              "  <thead>\n",
              "    <tr style=\"text-align: right;\">\n",
              "      <th></th>\n",
              "      <th>Adj. Close</th>\n",
              "      <th>HL_PCT</th>\n",
              "      <th>PCT_change</th>\n",
              "      <th>Adj. Volume</th>\n",
              "    </tr>\n",
              "    <tr>\n",
              "      <th>Date</th>\n",
              "      <th></th>\n",
              "      <th></th>\n",
              "      <th></th>\n",
              "      <th></th>\n",
              "    </tr>\n",
              "  </thead>\n",
              "  <tbody>\n",
              "  </tbody>\n",
              "</table>\n",
              "</div>"
            ],
            "text/plain": [
              "Empty DataFrame\n",
              "Columns: [Adj. Close, HL_PCT, PCT_change, Adj. Volume]\n",
              "Index: []"
            ]
          },
          "metadata": {
            "tags": []
          },
          "execution_count": 54
        }
      ]
    },
    {
      "cell_type": "code",
      "metadata": {
        "id": "BXL1hMYq3TLF",
        "colab_type": "code",
        "colab": {
          "base_uri": "https://localhost:8080/",
          "height": 448
        },
        "outputId": "da4f4f91-6c77-46be-fd9a-83f8c5d25b3c"
      },
      "source": [
        "df[df['Adj. Volume'] != np.nan]"
      ],
      "execution_count": 55,
      "outputs": [
        {
          "output_type": "execute_result",
          "data": {
            "text/html": [
              "<div>\n",
              "<style scoped>\n",
              "    .dataframe tbody tr th:only-of-type {\n",
              "        vertical-align: middle;\n",
              "    }\n",
              "\n",
              "    .dataframe tbody tr th {\n",
              "        vertical-align: top;\n",
              "    }\n",
              "\n",
              "    .dataframe thead th {\n",
              "        text-align: right;\n",
              "    }\n",
              "</style>\n",
              "<table border=\"1\" class=\"dataframe\">\n",
              "  <thead>\n",
              "    <tr style=\"text-align: right;\">\n",
              "      <th></th>\n",
              "      <th>Adj. Close</th>\n",
              "      <th>HL_PCT</th>\n",
              "      <th>PCT_change</th>\n",
              "      <th>Adj. Volume</th>\n",
              "    </tr>\n",
              "    <tr>\n",
              "      <th>Date</th>\n",
              "      <th></th>\n",
              "      <th></th>\n",
              "      <th></th>\n",
              "      <th></th>\n",
              "    </tr>\n",
              "  </thead>\n",
              "  <tbody>\n",
              "    <tr>\n",
              "      <th>2004-08-19</th>\n",
              "      <td>50.322842</td>\n",
              "      <td>3.712563</td>\n",
              "      <td>0.324968</td>\n",
              "      <td>44659000.0</td>\n",
              "    </tr>\n",
              "    <tr>\n",
              "      <th>2004-08-20</th>\n",
              "      <td>54.322689</td>\n",
              "      <td>0.710922</td>\n",
              "      <td>7.227007</td>\n",
              "      <td>22834300.0</td>\n",
              "    </tr>\n",
              "    <tr>\n",
              "      <th>2004-08-23</th>\n",
              "      <td>54.869377</td>\n",
              "      <td>3.729433</td>\n",
              "      <td>-1.227880</td>\n",
              "      <td>18256100.0</td>\n",
              "    </tr>\n",
              "    <tr>\n",
              "      <th>2004-08-24</th>\n",
              "      <td>52.597363</td>\n",
              "      <td>6.417469</td>\n",
              "      <td>-5.726357</td>\n",
              "      <td>15247300.0</td>\n",
              "    </tr>\n",
              "    <tr>\n",
              "      <th>2004-08-25</th>\n",
              "      <td>53.164113</td>\n",
              "      <td>1.886792</td>\n",
              "      <td>1.183658</td>\n",
              "      <td>9188600.0</td>\n",
              "    </tr>\n",
              "    <tr>\n",
              "      <th>...</th>\n",
              "      <td>...</td>\n",
              "      <td>...</td>\n",
              "      <td>...</td>\n",
              "      <td>...</td>\n",
              "    </tr>\n",
              "    <tr>\n",
              "      <th>2018-03-21</th>\n",
              "      <td>1094.000000</td>\n",
              "      <td>1.343693</td>\n",
              "      <td>0.130884</td>\n",
              "      <td>1990515.0</td>\n",
              "    </tr>\n",
              "    <tr>\n",
              "      <th>2018-03-22</th>\n",
              "      <td>1053.150000</td>\n",
              "      <td>2.921711</td>\n",
              "      <td>-2.487014</td>\n",
              "      <td>3418154.0</td>\n",
              "    </tr>\n",
              "    <tr>\n",
              "      <th>2018-03-23</th>\n",
              "      <td>1026.550000</td>\n",
              "      <td>3.918952</td>\n",
              "      <td>-2.360729</td>\n",
              "      <td>2413517.0</td>\n",
              "    </tr>\n",
              "    <tr>\n",
              "      <th>2018-03-26</th>\n",
              "      <td>1054.090000</td>\n",
              "      <td>0.491419</td>\n",
              "      <td>0.332191</td>\n",
              "      <td>3272409.0</td>\n",
              "    </tr>\n",
              "    <tr>\n",
              "      <th>2018-03-27</th>\n",
              "      <td>1006.940000</td>\n",
              "      <td>5.720301</td>\n",
              "      <td>-5.353887</td>\n",
              "      <td>2940957.0</td>\n",
              "    </tr>\n",
              "  </tbody>\n",
              "</table>\n",
              "<p>3424 rows × 4 columns</p>\n",
              "</div>"
            ],
            "text/plain": [
              "             Adj. Close    HL_PCT  PCT_change  Adj. Volume\n",
              "Date                                                      \n",
              "2004-08-19    50.322842  3.712563    0.324968   44659000.0\n",
              "2004-08-20    54.322689  0.710922    7.227007   22834300.0\n",
              "2004-08-23    54.869377  3.729433   -1.227880   18256100.0\n",
              "2004-08-24    52.597363  6.417469   -5.726357   15247300.0\n",
              "2004-08-25    53.164113  1.886792    1.183658    9188600.0\n",
              "...                 ...       ...         ...          ...\n",
              "2018-03-21  1094.000000  1.343693    0.130884    1990515.0\n",
              "2018-03-22  1053.150000  2.921711   -2.487014    3418154.0\n",
              "2018-03-23  1026.550000  3.918952   -2.360729    2413517.0\n",
              "2018-03-26  1054.090000  0.491419    0.332191    3272409.0\n",
              "2018-03-27  1006.940000  5.720301   -5.353887    2940957.0\n",
              "\n",
              "[3424 rows x 4 columns]"
            ]
          },
          "metadata": {
            "tags": []
          },
          "execution_count": 55
        }
      ]
    },
    {
      "cell_type": "code",
      "metadata": {
        "id": "9lN7VHfc2IK6",
        "colab_type": "code",
        "colab": {
          "base_uri": "https://localhost:8080/",
          "height": 448
        },
        "outputId": "15b4ddba-1ea3-4dc6-cbdc-53ceacdef47d"
      },
      "source": [
        "df[df.isnull()]"
      ],
      "execution_count": 56,
      "outputs": [
        {
          "output_type": "execute_result",
          "data": {
            "text/html": [
              "<div>\n",
              "<style scoped>\n",
              "    .dataframe tbody tr th:only-of-type {\n",
              "        vertical-align: middle;\n",
              "    }\n",
              "\n",
              "    .dataframe tbody tr th {\n",
              "        vertical-align: top;\n",
              "    }\n",
              "\n",
              "    .dataframe thead th {\n",
              "        text-align: right;\n",
              "    }\n",
              "</style>\n",
              "<table border=\"1\" class=\"dataframe\">\n",
              "  <thead>\n",
              "    <tr style=\"text-align: right;\">\n",
              "      <th></th>\n",
              "      <th>Adj. Close</th>\n",
              "      <th>HL_PCT</th>\n",
              "      <th>PCT_change</th>\n",
              "      <th>Adj. Volume</th>\n",
              "    </tr>\n",
              "    <tr>\n",
              "      <th>Date</th>\n",
              "      <th></th>\n",
              "      <th></th>\n",
              "      <th></th>\n",
              "      <th></th>\n",
              "    </tr>\n",
              "  </thead>\n",
              "  <tbody>\n",
              "    <tr>\n",
              "      <th>2004-08-19</th>\n",
              "      <td>NaN</td>\n",
              "      <td>NaN</td>\n",
              "      <td>NaN</td>\n",
              "      <td>NaN</td>\n",
              "    </tr>\n",
              "    <tr>\n",
              "      <th>2004-08-20</th>\n",
              "      <td>NaN</td>\n",
              "      <td>NaN</td>\n",
              "      <td>NaN</td>\n",
              "      <td>NaN</td>\n",
              "    </tr>\n",
              "    <tr>\n",
              "      <th>2004-08-23</th>\n",
              "      <td>NaN</td>\n",
              "      <td>NaN</td>\n",
              "      <td>NaN</td>\n",
              "      <td>NaN</td>\n",
              "    </tr>\n",
              "    <tr>\n",
              "      <th>2004-08-24</th>\n",
              "      <td>NaN</td>\n",
              "      <td>NaN</td>\n",
              "      <td>NaN</td>\n",
              "      <td>NaN</td>\n",
              "    </tr>\n",
              "    <tr>\n",
              "      <th>2004-08-25</th>\n",
              "      <td>NaN</td>\n",
              "      <td>NaN</td>\n",
              "      <td>NaN</td>\n",
              "      <td>NaN</td>\n",
              "    </tr>\n",
              "    <tr>\n",
              "      <th>...</th>\n",
              "      <td>...</td>\n",
              "      <td>...</td>\n",
              "      <td>...</td>\n",
              "      <td>...</td>\n",
              "    </tr>\n",
              "    <tr>\n",
              "      <th>2018-03-21</th>\n",
              "      <td>NaN</td>\n",
              "      <td>NaN</td>\n",
              "      <td>NaN</td>\n",
              "      <td>NaN</td>\n",
              "    </tr>\n",
              "    <tr>\n",
              "      <th>2018-03-22</th>\n",
              "      <td>NaN</td>\n",
              "      <td>NaN</td>\n",
              "      <td>NaN</td>\n",
              "      <td>NaN</td>\n",
              "    </tr>\n",
              "    <tr>\n",
              "      <th>2018-03-23</th>\n",
              "      <td>NaN</td>\n",
              "      <td>NaN</td>\n",
              "      <td>NaN</td>\n",
              "      <td>NaN</td>\n",
              "    </tr>\n",
              "    <tr>\n",
              "      <th>2018-03-26</th>\n",
              "      <td>NaN</td>\n",
              "      <td>NaN</td>\n",
              "      <td>NaN</td>\n",
              "      <td>NaN</td>\n",
              "    </tr>\n",
              "    <tr>\n",
              "      <th>2018-03-27</th>\n",
              "      <td>NaN</td>\n",
              "      <td>NaN</td>\n",
              "      <td>NaN</td>\n",
              "      <td>NaN</td>\n",
              "    </tr>\n",
              "  </tbody>\n",
              "</table>\n",
              "<p>3424 rows × 4 columns</p>\n",
              "</div>"
            ],
            "text/plain": [
              "            Adj. Close  HL_PCT  PCT_change  Adj. Volume\n",
              "Date                                                   \n",
              "2004-08-19         NaN     NaN         NaN          NaN\n",
              "2004-08-20         NaN     NaN         NaN          NaN\n",
              "2004-08-23         NaN     NaN         NaN          NaN\n",
              "2004-08-24         NaN     NaN         NaN          NaN\n",
              "2004-08-25         NaN     NaN         NaN          NaN\n",
              "...                ...     ...         ...          ...\n",
              "2018-03-21         NaN     NaN         NaN          NaN\n",
              "2018-03-22         NaN     NaN         NaN          NaN\n",
              "2018-03-23         NaN     NaN         NaN          NaN\n",
              "2018-03-26         NaN     NaN         NaN          NaN\n",
              "2018-03-27         NaN     NaN         NaN          NaN\n",
              "\n",
              "[3424 rows x 4 columns]"
            ]
          },
          "metadata": {
            "tags": []
          },
          "execution_count": 56
        }
      ]
    },
    {
      "cell_type": "code",
      "metadata": {
        "id": "JuASGF_x3aew",
        "colab_type": "code",
        "colab": {
          "base_uri": "https://localhost:8080/",
          "height": 554
        },
        "outputId": "f18cfaf6-288d-40de-db24-aaffbc69d96b"
      },
      "source": [
        "df.fillna(-99999, inplace = True)\n",
        "df[df.isnull()]"
      ],
      "execution_count": 57,
      "outputs": [
        {
          "output_type": "stream",
          "text": [
            "/usr/local/lib/python3.6/dist-packages/pandas/core/frame.py:4153: SettingWithCopyWarning: \n",
            "A value is trying to be set on a copy of a slice from a DataFrame\n",
            "\n",
            "See the caveats in the documentation: https://pandas.pydata.org/pandas-docs/stable/user_guide/indexing.html#returning-a-view-versus-a-copy\n",
            "  downcast=downcast,\n"
          ],
          "name": "stderr"
        },
        {
          "output_type": "execute_result",
          "data": {
            "text/html": [
              "<div>\n",
              "<style scoped>\n",
              "    .dataframe tbody tr th:only-of-type {\n",
              "        vertical-align: middle;\n",
              "    }\n",
              "\n",
              "    .dataframe tbody tr th {\n",
              "        vertical-align: top;\n",
              "    }\n",
              "\n",
              "    .dataframe thead th {\n",
              "        text-align: right;\n",
              "    }\n",
              "</style>\n",
              "<table border=\"1\" class=\"dataframe\">\n",
              "  <thead>\n",
              "    <tr style=\"text-align: right;\">\n",
              "      <th></th>\n",
              "      <th>Adj. Close</th>\n",
              "      <th>HL_PCT</th>\n",
              "      <th>PCT_change</th>\n",
              "      <th>Adj. Volume</th>\n",
              "    </tr>\n",
              "    <tr>\n",
              "      <th>Date</th>\n",
              "      <th></th>\n",
              "      <th></th>\n",
              "      <th></th>\n",
              "      <th></th>\n",
              "    </tr>\n",
              "  </thead>\n",
              "  <tbody>\n",
              "    <tr>\n",
              "      <th>2004-08-19</th>\n",
              "      <td>NaN</td>\n",
              "      <td>NaN</td>\n",
              "      <td>NaN</td>\n",
              "      <td>NaN</td>\n",
              "    </tr>\n",
              "    <tr>\n",
              "      <th>2004-08-20</th>\n",
              "      <td>NaN</td>\n",
              "      <td>NaN</td>\n",
              "      <td>NaN</td>\n",
              "      <td>NaN</td>\n",
              "    </tr>\n",
              "    <tr>\n",
              "      <th>2004-08-23</th>\n",
              "      <td>NaN</td>\n",
              "      <td>NaN</td>\n",
              "      <td>NaN</td>\n",
              "      <td>NaN</td>\n",
              "    </tr>\n",
              "    <tr>\n",
              "      <th>2004-08-24</th>\n",
              "      <td>NaN</td>\n",
              "      <td>NaN</td>\n",
              "      <td>NaN</td>\n",
              "      <td>NaN</td>\n",
              "    </tr>\n",
              "    <tr>\n",
              "      <th>2004-08-25</th>\n",
              "      <td>NaN</td>\n",
              "      <td>NaN</td>\n",
              "      <td>NaN</td>\n",
              "      <td>NaN</td>\n",
              "    </tr>\n",
              "    <tr>\n",
              "      <th>...</th>\n",
              "      <td>...</td>\n",
              "      <td>...</td>\n",
              "      <td>...</td>\n",
              "      <td>...</td>\n",
              "    </tr>\n",
              "    <tr>\n",
              "      <th>2018-03-21</th>\n",
              "      <td>NaN</td>\n",
              "      <td>NaN</td>\n",
              "      <td>NaN</td>\n",
              "      <td>NaN</td>\n",
              "    </tr>\n",
              "    <tr>\n",
              "      <th>2018-03-22</th>\n",
              "      <td>NaN</td>\n",
              "      <td>NaN</td>\n",
              "      <td>NaN</td>\n",
              "      <td>NaN</td>\n",
              "    </tr>\n",
              "    <tr>\n",
              "      <th>2018-03-23</th>\n",
              "      <td>NaN</td>\n",
              "      <td>NaN</td>\n",
              "      <td>NaN</td>\n",
              "      <td>NaN</td>\n",
              "    </tr>\n",
              "    <tr>\n",
              "      <th>2018-03-26</th>\n",
              "      <td>NaN</td>\n",
              "      <td>NaN</td>\n",
              "      <td>NaN</td>\n",
              "      <td>NaN</td>\n",
              "    </tr>\n",
              "    <tr>\n",
              "      <th>2018-03-27</th>\n",
              "      <td>NaN</td>\n",
              "      <td>NaN</td>\n",
              "      <td>NaN</td>\n",
              "      <td>NaN</td>\n",
              "    </tr>\n",
              "  </tbody>\n",
              "</table>\n",
              "<p>3424 rows × 4 columns</p>\n",
              "</div>"
            ],
            "text/plain": [
              "            Adj. Close  HL_PCT  PCT_change  Adj. Volume\n",
              "Date                                                   \n",
              "2004-08-19         NaN     NaN         NaN          NaN\n",
              "2004-08-20         NaN     NaN         NaN          NaN\n",
              "2004-08-23         NaN     NaN         NaN          NaN\n",
              "2004-08-24         NaN     NaN         NaN          NaN\n",
              "2004-08-25         NaN     NaN         NaN          NaN\n",
              "...                ...     ...         ...          ...\n",
              "2018-03-21         NaN     NaN         NaN          NaN\n",
              "2018-03-22         NaN     NaN         NaN          NaN\n",
              "2018-03-23         NaN     NaN         NaN          NaN\n",
              "2018-03-26         NaN     NaN         NaN          NaN\n",
              "2018-03-27         NaN     NaN         NaN          NaN\n",
              "\n",
              "[3424 rows x 4 columns]"
            ]
          },
          "metadata": {
            "tags": []
          },
          "execution_count": 57
        }
      ]
    },
    {
      "cell_type": "code",
      "metadata": {
        "id": "x2G0Pvlr2IHb",
        "colab_type": "code",
        "colab": {
          "base_uri": "https://localhost:8080/",
          "height": 554
        },
        "outputId": "92231e3b-ceaf-4fda-bbb8-2b63758d29a3"
      },
      "source": [
        "df.fillna(-99999,axis = 1, inplace = True)\n",
        "df[df.isnull()]"
      ],
      "execution_count": 58,
      "outputs": [
        {
          "output_type": "stream",
          "text": [
            "/usr/local/lib/python3.6/dist-packages/pandas/core/frame.py:4153: SettingWithCopyWarning: \n",
            "A value is trying to be set on a copy of a slice from a DataFrame\n",
            "\n",
            "See the caveats in the documentation: https://pandas.pydata.org/pandas-docs/stable/user_guide/indexing.html#returning-a-view-versus-a-copy\n",
            "  downcast=downcast,\n"
          ],
          "name": "stderr"
        },
        {
          "output_type": "execute_result",
          "data": {
            "text/html": [
              "<div>\n",
              "<style scoped>\n",
              "    .dataframe tbody tr th:only-of-type {\n",
              "        vertical-align: middle;\n",
              "    }\n",
              "\n",
              "    .dataframe tbody tr th {\n",
              "        vertical-align: top;\n",
              "    }\n",
              "\n",
              "    .dataframe thead th {\n",
              "        text-align: right;\n",
              "    }\n",
              "</style>\n",
              "<table border=\"1\" class=\"dataframe\">\n",
              "  <thead>\n",
              "    <tr style=\"text-align: right;\">\n",
              "      <th></th>\n",
              "      <th>Adj. Close</th>\n",
              "      <th>HL_PCT</th>\n",
              "      <th>PCT_change</th>\n",
              "      <th>Adj. Volume</th>\n",
              "    </tr>\n",
              "    <tr>\n",
              "      <th>Date</th>\n",
              "      <th></th>\n",
              "      <th></th>\n",
              "      <th></th>\n",
              "      <th></th>\n",
              "    </tr>\n",
              "  </thead>\n",
              "  <tbody>\n",
              "    <tr>\n",
              "      <th>2004-08-19</th>\n",
              "      <td>NaN</td>\n",
              "      <td>NaN</td>\n",
              "      <td>NaN</td>\n",
              "      <td>NaN</td>\n",
              "    </tr>\n",
              "    <tr>\n",
              "      <th>2004-08-20</th>\n",
              "      <td>NaN</td>\n",
              "      <td>NaN</td>\n",
              "      <td>NaN</td>\n",
              "      <td>NaN</td>\n",
              "    </tr>\n",
              "    <tr>\n",
              "      <th>2004-08-23</th>\n",
              "      <td>NaN</td>\n",
              "      <td>NaN</td>\n",
              "      <td>NaN</td>\n",
              "      <td>NaN</td>\n",
              "    </tr>\n",
              "    <tr>\n",
              "      <th>2004-08-24</th>\n",
              "      <td>NaN</td>\n",
              "      <td>NaN</td>\n",
              "      <td>NaN</td>\n",
              "      <td>NaN</td>\n",
              "    </tr>\n",
              "    <tr>\n",
              "      <th>2004-08-25</th>\n",
              "      <td>NaN</td>\n",
              "      <td>NaN</td>\n",
              "      <td>NaN</td>\n",
              "      <td>NaN</td>\n",
              "    </tr>\n",
              "    <tr>\n",
              "      <th>...</th>\n",
              "      <td>...</td>\n",
              "      <td>...</td>\n",
              "      <td>...</td>\n",
              "      <td>...</td>\n",
              "    </tr>\n",
              "    <tr>\n",
              "      <th>2018-03-21</th>\n",
              "      <td>NaN</td>\n",
              "      <td>NaN</td>\n",
              "      <td>NaN</td>\n",
              "      <td>NaN</td>\n",
              "    </tr>\n",
              "    <tr>\n",
              "      <th>2018-03-22</th>\n",
              "      <td>NaN</td>\n",
              "      <td>NaN</td>\n",
              "      <td>NaN</td>\n",
              "      <td>NaN</td>\n",
              "    </tr>\n",
              "    <tr>\n",
              "      <th>2018-03-23</th>\n",
              "      <td>NaN</td>\n",
              "      <td>NaN</td>\n",
              "      <td>NaN</td>\n",
              "      <td>NaN</td>\n",
              "    </tr>\n",
              "    <tr>\n",
              "      <th>2018-03-26</th>\n",
              "      <td>NaN</td>\n",
              "      <td>NaN</td>\n",
              "      <td>NaN</td>\n",
              "      <td>NaN</td>\n",
              "    </tr>\n",
              "    <tr>\n",
              "      <th>2018-03-27</th>\n",
              "      <td>NaN</td>\n",
              "      <td>NaN</td>\n",
              "      <td>NaN</td>\n",
              "      <td>NaN</td>\n",
              "    </tr>\n",
              "  </tbody>\n",
              "</table>\n",
              "<p>3424 rows × 4 columns</p>\n",
              "</div>"
            ],
            "text/plain": [
              "            Adj. Close  HL_PCT  PCT_change  Adj. Volume\n",
              "Date                                                   \n",
              "2004-08-19         NaN     NaN         NaN          NaN\n",
              "2004-08-20         NaN     NaN         NaN          NaN\n",
              "2004-08-23         NaN     NaN         NaN          NaN\n",
              "2004-08-24         NaN     NaN         NaN          NaN\n",
              "2004-08-25         NaN     NaN         NaN          NaN\n",
              "...                ...     ...         ...          ...\n",
              "2018-03-21         NaN     NaN         NaN          NaN\n",
              "2018-03-22         NaN     NaN         NaN          NaN\n",
              "2018-03-23         NaN     NaN         NaN          NaN\n",
              "2018-03-26         NaN     NaN         NaN          NaN\n",
              "2018-03-27         NaN     NaN         NaN          NaN\n",
              "\n",
              "[3424 rows x 4 columns]"
            ]
          },
          "metadata": {
            "tags": []
          },
          "execution_count": 58
        }
      ]
    },
    {
      "cell_type": "code",
      "metadata": {
        "id": "DtUJP1ce383C",
        "colab_type": "code",
        "colab": {
          "base_uri": "https://localhost:8080/",
          "height": 34
        },
        "outputId": "25a4af60-c485-429a-9d02-6111ce299ee5"
      },
      "source": [
        "df.columns"
      ],
      "execution_count": 59,
      "outputs": [
        {
          "output_type": "execute_result",
          "data": {
            "text/plain": [
              "Index(['Adj. Close', 'HL_PCT', 'PCT_change', 'Adj. Volume'], dtype='object')"
            ]
          },
          "metadata": {
            "tags": []
          },
          "execution_count": 59
        }
      ]
    },
    {
      "cell_type": "code",
      "metadata": {
        "id": "U9g0E5Rd2ICA",
        "colab_type": "code",
        "colab": {}
      },
      "source": [
        "forecast_col = 'Adj. Close'"
      ],
      "execution_count": 60,
      "outputs": []
    },
    {
      "cell_type": "code",
      "metadata": {
        "id": "WMRerPx_2H_x",
        "colab_type": "code",
        "colab": {
          "base_uri": "https://localhost:8080/",
          "height": 35
        },
        "outputId": "f28df697-ab51-4561-bcbb-9cd8af074d36"
      },
      "source": [
        "forecast_col"
      ],
      "execution_count": 61,
      "outputs": [
        {
          "output_type": "execute_result",
          "data": {
            "application/vnd.google.colaboratory.intrinsic+json": {
              "type": "string"
            },
            "text/plain": [
              "'Adj. Close'"
            ]
          },
          "metadata": {
            "tags": []
          },
          "execution_count": 61
        }
      ]
    },
    {
      "cell_type": "code",
      "metadata": {
        "id": "bGx0b6pC4ZQb",
        "colab_type": "code",
        "colab": {
          "base_uri": "https://localhost:8080/",
          "height": 34
        },
        "outputId": "18418f4b-a5a1-4e69-91a3-bbaf76060cb9"
      },
      "source": [
        "len(df)"
      ],
      "execution_count": 62,
      "outputs": [
        {
          "output_type": "execute_result",
          "data": {
            "text/plain": [
              "3424"
            ]
          },
          "metadata": {
            "tags": []
          },
          "execution_count": 62
        }
      ]
    },
    {
      "cell_type": "code",
      "metadata": {
        "id": "dVFvJuY24T_y",
        "colab_type": "code",
        "colab": {}
      },
      "source": [
        "import math"
      ],
      "execution_count": 63,
      "outputs": []
    },
    {
      "cell_type": "code",
      "metadata": {
        "id": "HkjEnQVX2H81",
        "colab_type": "code",
        "colab": {
          "base_uri": "https://localhost:8080/",
          "height": 34
        },
        "outputId": "ea5f9f12-9444-475d-d232-51986645c8ce"
      },
      "source": [
        "forecast_out = int(math.ceil(0.01 * len(df)))\n",
        "forecast_out"
      ],
      "execution_count": 64,
      "outputs": [
        {
          "output_type": "execute_result",
          "data": {
            "text/plain": [
              "35"
            ]
          },
          "metadata": {
            "tags": []
          },
          "execution_count": 64
        }
      ]
    },
    {
      "cell_type": "code",
      "metadata": {
        "id": "fs7memCy86G2",
        "colab_type": "code",
        "colab": {
          "base_uri": "https://localhost:8080/",
          "height": 34
        },
        "outputId": "979d2f2c-ccc9-4d4e-f524-61e049852c03"
      },
      "source": [
        "math.ceil(0.01 * len(df))"
      ],
      "execution_count": 65,
      "outputs": [
        {
          "output_type": "execute_result",
          "data": {
            "text/plain": [
              "35"
            ]
          },
          "metadata": {
            "tags": []
          },
          "execution_count": 65
        }
      ]
    },
    {
      "cell_type": "code",
      "metadata": {
        "id": "xgtPAZ2wudqY",
        "colab_type": "code",
        "colab": {
          "base_uri": "https://localhost:8080/",
          "height": 140
        },
        "outputId": "06080122-901e-4110-a1f6-a3e751df11c0"
      },
      "source": [
        "forecast_col = 'Adj. Close'\n",
        "forecast_out = int(math.ceil(0.01 * len(df)))\n",
        "df['label'] = df[forecast_col].shift(-forecast_out)"
      ],
      "execution_count": 66,
      "outputs": [
        {
          "output_type": "stream",
          "text": [
            "/usr/local/lib/python3.6/dist-packages/ipykernel_launcher.py:3: SettingWithCopyWarning: \n",
            "A value is trying to be set on a copy of a slice from a DataFrame.\n",
            "Try using .loc[row_indexer,col_indexer] = value instead\n",
            "\n",
            "See the caveats in the documentation: https://pandas.pydata.org/pandas-docs/stable/user_guide/indexing.html#returning-a-view-versus-a-copy\n",
            "  This is separate from the ipykernel package so we can avoid doing imports until\n"
          ],
          "name": "stderr"
        }
      ]
    },
    {
      "cell_type": "code",
      "metadata": {
        "id": "FpZYCq4y2H6u",
        "colab_type": "code",
        "colab": {
          "base_uri": "https://localhost:8080/",
          "height": 448
        },
        "outputId": "358561b0-7af1-42ef-e40e-1f7db2507e3a"
      },
      "source": [
        "df"
      ],
      "execution_count": 67,
      "outputs": [
        {
          "output_type": "execute_result",
          "data": {
            "text/html": [
              "<div>\n",
              "<style scoped>\n",
              "    .dataframe tbody tr th:only-of-type {\n",
              "        vertical-align: middle;\n",
              "    }\n",
              "\n",
              "    .dataframe tbody tr th {\n",
              "        vertical-align: top;\n",
              "    }\n",
              "\n",
              "    .dataframe thead th {\n",
              "        text-align: right;\n",
              "    }\n",
              "</style>\n",
              "<table border=\"1\" class=\"dataframe\">\n",
              "  <thead>\n",
              "    <tr style=\"text-align: right;\">\n",
              "      <th></th>\n",
              "      <th>Adj. Close</th>\n",
              "      <th>HL_PCT</th>\n",
              "      <th>PCT_change</th>\n",
              "      <th>Adj. Volume</th>\n",
              "      <th>label</th>\n",
              "    </tr>\n",
              "    <tr>\n",
              "      <th>Date</th>\n",
              "      <th></th>\n",
              "      <th></th>\n",
              "      <th></th>\n",
              "      <th></th>\n",
              "      <th></th>\n",
              "    </tr>\n",
              "  </thead>\n",
              "  <tbody>\n",
              "    <tr>\n",
              "      <th>2004-08-19</th>\n",
              "      <td>50.322842</td>\n",
              "      <td>3.712563</td>\n",
              "      <td>0.324968</td>\n",
              "      <td>44659000.0</td>\n",
              "      <td>69.078238</td>\n",
              "    </tr>\n",
              "    <tr>\n",
              "      <th>2004-08-20</th>\n",
              "      <td>54.322689</td>\n",
              "      <td>0.710922</td>\n",
              "      <td>7.227007</td>\n",
              "      <td>22834300.0</td>\n",
              "      <td>67.839414</td>\n",
              "    </tr>\n",
              "    <tr>\n",
              "      <th>2004-08-23</th>\n",
              "      <td>54.869377</td>\n",
              "      <td>3.729433</td>\n",
              "      <td>-1.227880</td>\n",
              "      <td>18256100.0</td>\n",
              "      <td>68.912727</td>\n",
              "    </tr>\n",
              "    <tr>\n",
              "      <th>2004-08-24</th>\n",
              "      <td>52.597363</td>\n",
              "      <td>6.417469</td>\n",
              "      <td>-5.726357</td>\n",
              "      <td>15247300.0</td>\n",
              "      <td>70.668146</td>\n",
              "    </tr>\n",
              "    <tr>\n",
              "      <th>2004-08-25</th>\n",
              "      <td>53.164113</td>\n",
              "      <td>1.886792</td>\n",
              "      <td>1.183658</td>\n",
              "      <td>9188600.0</td>\n",
              "      <td>71.219849</td>\n",
              "    </tr>\n",
              "    <tr>\n",
              "      <th>...</th>\n",
              "      <td>...</td>\n",
              "      <td>...</td>\n",
              "      <td>...</td>\n",
              "      <td>...</td>\n",
              "      <td>...</td>\n",
              "    </tr>\n",
              "    <tr>\n",
              "      <th>2018-03-21</th>\n",
              "      <td>1094.000000</td>\n",
              "      <td>1.343693</td>\n",
              "      <td>0.130884</td>\n",
              "      <td>1990515.0</td>\n",
              "      <td>NaN</td>\n",
              "    </tr>\n",
              "    <tr>\n",
              "      <th>2018-03-22</th>\n",
              "      <td>1053.150000</td>\n",
              "      <td>2.921711</td>\n",
              "      <td>-2.487014</td>\n",
              "      <td>3418154.0</td>\n",
              "      <td>NaN</td>\n",
              "    </tr>\n",
              "    <tr>\n",
              "      <th>2018-03-23</th>\n",
              "      <td>1026.550000</td>\n",
              "      <td>3.918952</td>\n",
              "      <td>-2.360729</td>\n",
              "      <td>2413517.0</td>\n",
              "      <td>NaN</td>\n",
              "    </tr>\n",
              "    <tr>\n",
              "      <th>2018-03-26</th>\n",
              "      <td>1054.090000</td>\n",
              "      <td>0.491419</td>\n",
              "      <td>0.332191</td>\n",
              "      <td>3272409.0</td>\n",
              "      <td>NaN</td>\n",
              "    </tr>\n",
              "    <tr>\n",
              "      <th>2018-03-27</th>\n",
              "      <td>1006.940000</td>\n",
              "      <td>5.720301</td>\n",
              "      <td>-5.353887</td>\n",
              "      <td>2940957.0</td>\n",
              "      <td>NaN</td>\n",
              "    </tr>\n",
              "  </tbody>\n",
              "</table>\n",
              "<p>3424 rows × 5 columns</p>\n",
              "</div>"
            ],
            "text/plain": [
              "             Adj. Close    HL_PCT  PCT_change  Adj. Volume      label\n",
              "Date                                                                 \n",
              "2004-08-19    50.322842  3.712563    0.324968   44659000.0  69.078238\n",
              "2004-08-20    54.322689  0.710922    7.227007   22834300.0  67.839414\n",
              "2004-08-23    54.869377  3.729433   -1.227880   18256100.0  68.912727\n",
              "2004-08-24    52.597363  6.417469   -5.726357   15247300.0  70.668146\n",
              "2004-08-25    53.164113  1.886792    1.183658    9188600.0  71.219849\n",
              "...                 ...       ...         ...          ...        ...\n",
              "2018-03-21  1094.000000  1.343693    0.130884    1990515.0        NaN\n",
              "2018-03-22  1053.150000  2.921711   -2.487014    3418154.0        NaN\n",
              "2018-03-23  1026.550000  3.918952   -2.360729    2413517.0        NaN\n",
              "2018-03-26  1054.090000  0.491419    0.332191    3272409.0        NaN\n",
              "2018-03-27  1006.940000  5.720301   -5.353887    2940957.0        NaN\n",
              "\n",
              "[3424 rows x 5 columns]"
            ]
          },
          "metadata": {
            "tags": []
          },
          "execution_count": 67
        }
      ]
    },
    {
      "cell_type": "code",
      "metadata": {
        "id": "GR8TbtMU2H3P",
        "colab_type": "code",
        "colab": {
          "base_uri": "https://localhost:8080/",
          "height": 234
        },
        "outputId": "0564f876-8f41-4a64-85e7-1c4e3fa8e5d1"
      },
      "source": [
        "df.head()"
      ],
      "execution_count": 68,
      "outputs": [
        {
          "output_type": "execute_result",
          "data": {
            "text/html": [
              "<div>\n",
              "<style scoped>\n",
              "    .dataframe tbody tr th:only-of-type {\n",
              "        vertical-align: middle;\n",
              "    }\n",
              "\n",
              "    .dataframe tbody tr th {\n",
              "        vertical-align: top;\n",
              "    }\n",
              "\n",
              "    .dataframe thead th {\n",
              "        text-align: right;\n",
              "    }\n",
              "</style>\n",
              "<table border=\"1\" class=\"dataframe\">\n",
              "  <thead>\n",
              "    <tr style=\"text-align: right;\">\n",
              "      <th></th>\n",
              "      <th>Adj. Close</th>\n",
              "      <th>HL_PCT</th>\n",
              "      <th>PCT_change</th>\n",
              "      <th>Adj. Volume</th>\n",
              "      <th>label</th>\n",
              "    </tr>\n",
              "    <tr>\n",
              "      <th>Date</th>\n",
              "      <th></th>\n",
              "      <th></th>\n",
              "      <th></th>\n",
              "      <th></th>\n",
              "      <th></th>\n",
              "    </tr>\n",
              "  </thead>\n",
              "  <tbody>\n",
              "    <tr>\n",
              "      <th>2004-08-19</th>\n",
              "      <td>50.322842</td>\n",
              "      <td>3.712563</td>\n",
              "      <td>0.324968</td>\n",
              "      <td>44659000.0</td>\n",
              "      <td>69.078238</td>\n",
              "    </tr>\n",
              "    <tr>\n",
              "      <th>2004-08-20</th>\n",
              "      <td>54.322689</td>\n",
              "      <td>0.710922</td>\n",
              "      <td>7.227007</td>\n",
              "      <td>22834300.0</td>\n",
              "      <td>67.839414</td>\n",
              "    </tr>\n",
              "    <tr>\n",
              "      <th>2004-08-23</th>\n",
              "      <td>54.869377</td>\n",
              "      <td>3.729433</td>\n",
              "      <td>-1.227880</td>\n",
              "      <td>18256100.0</td>\n",
              "      <td>68.912727</td>\n",
              "    </tr>\n",
              "    <tr>\n",
              "      <th>2004-08-24</th>\n",
              "      <td>52.597363</td>\n",
              "      <td>6.417469</td>\n",
              "      <td>-5.726357</td>\n",
              "      <td>15247300.0</td>\n",
              "      <td>70.668146</td>\n",
              "    </tr>\n",
              "    <tr>\n",
              "      <th>2004-08-25</th>\n",
              "      <td>53.164113</td>\n",
              "      <td>1.886792</td>\n",
              "      <td>1.183658</td>\n",
              "      <td>9188600.0</td>\n",
              "      <td>71.219849</td>\n",
              "    </tr>\n",
              "  </tbody>\n",
              "</table>\n",
              "</div>"
            ],
            "text/plain": [
              "            Adj. Close    HL_PCT  PCT_change  Adj. Volume      label\n",
              "Date                                                                \n",
              "2004-08-19   50.322842  3.712563    0.324968   44659000.0  69.078238\n",
              "2004-08-20   54.322689  0.710922    7.227007   22834300.0  67.839414\n",
              "2004-08-23   54.869377  3.729433   -1.227880   18256100.0  68.912727\n",
              "2004-08-24   52.597363  6.417469   -5.726357   15247300.0  70.668146\n",
              "2004-08-25   53.164113  1.886792    1.183658    9188600.0  71.219849"
            ]
          },
          "metadata": {
            "tags": []
          },
          "execution_count": 68
        }
      ]
    },
    {
      "cell_type": "code",
      "metadata": {
        "id": "qoWSwp862H0d",
        "colab_type": "code",
        "colab": {
          "base_uri": "https://localhost:8080/",
          "height": 1000
        },
        "outputId": "880992b7-de8a-4b27-a7a8-ae3574f32222"
      },
      "source": [
        "df.head(50)"
      ],
      "execution_count": 69,
      "outputs": [
        {
          "output_type": "execute_result",
          "data": {
            "text/html": [
              "<div>\n",
              "<style scoped>\n",
              "    .dataframe tbody tr th:only-of-type {\n",
              "        vertical-align: middle;\n",
              "    }\n",
              "\n",
              "    .dataframe tbody tr th {\n",
              "        vertical-align: top;\n",
              "    }\n",
              "\n",
              "    .dataframe thead th {\n",
              "        text-align: right;\n",
              "    }\n",
              "</style>\n",
              "<table border=\"1\" class=\"dataframe\">\n",
              "  <thead>\n",
              "    <tr style=\"text-align: right;\">\n",
              "      <th></th>\n",
              "      <th>Adj. Close</th>\n",
              "      <th>HL_PCT</th>\n",
              "      <th>PCT_change</th>\n",
              "      <th>Adj. Volume</th>\n",
              "      <th>label</th>\n",
              "    </tr>\n",
              "    <tr>\n",
              "      <th>Date</th>\n",
              "      <th></th>\n",
              "      <th></th>\n",
              "      <th></th>\n",
              "      <th></th>\n",
              "      <th></th>\n",
              "    </tr>\n",
              "  </thead>\n",
              "  <tbody>\n",
              "    <tr>\n",
              "      <th>2004-08-19</th>\n",
              "      <td>50.322842</td>\n",
              "      <td>3.712563</td>\n",
              "      <td>0.324968</td>\n",
              "      <td>44659000.0</td>\n",
              "      <td>69.078238</td>\n",
              "    </tr>\n",
              "    <tr>\n",
              "      <th>2004-08-20</th>\n",
              "      <td>54.322689</td>\n",
              "      <td>0.710922</td>\n",
              "      <td>7.227007</td>\n",
              "      <td>22834300.0</td>\n",
              "      <td>67.839414</td>\n",
              "    </tr>\n",
              "    <tr>\n",
              "      <th>2004-08-23</th>\n",
              "      <td>54.869377</td>\n",
              "      <td>3.729433</td>\n",
              "      <td>-1.227880</td>\n",
              "      <td>18256100.0</td>\n",
              "      <td>68.912727</td>\n",
              "    </tr>\n",
              "    <tr>\n",
              "      <th>2004-08-24</th>\n",
              "      <td>52.597363</td>\n",
              "      <td>6.417469</td>\n",
              "      <td>-5.726357</td>\n",
              "      <td>15247300.0</td>\n",
              "      <td>70.668146</td>\n",
              "    </tr>\n",
              "    <tr>\n",
              "      <th>2004-08-25</th>\n",
              "      <td>53.164113</td>\n",
              "      <td>1.886792</td>\n",
              "      <td>1.183658</td>\n",
              "      <td>9188600.0</td>\n",
              "      <td>71.219849</td>\n",
              "    </tr>\n",
              "    <tr>\n",
              "      <th>2004-08-26</th>\n",
              "      <td>54.122070</td>\n",
              "      <td>0.037068</td>\n",
              "      <td>2.820391</td>\n",
              "      <td>7094800.0</td>\n",
              "      <td>72.278116</td>\n",
              "    </tr>\n",
              "    <tr>\n",
              "      <th>2004-08-27</th>\n",
              "      <td>53.239345</td>\n",
              "      <td>2.326896</td>\n",
              "      <td>-1.803885</td>\n",
              "      <td>6211700.0</td>\n",
              "      <td>74.810934</td>\n",
              "    </tr>\n",
              "    <tr>\n",
              "      <th>2004-08-30</th>\n",
              "      <td>51.162935</td>\n",
              "      <td>3.411430</td>\n",
              "      <td>-3.106003</td>\n",
              "      <td>5196700.0</td>\n",
              "      <td>74.199045</td>\n",
              "    </tr>\n",
              "    <tr>\n",
              "      <th>2004-08-31</th>\n",
              "      <td>51.343492</td>\n",
              "      <td>1.308977</td>\n",
              "      <td>0.048866</td>\n",
              "      <td>4917800.0</td>\n",
              "      <td>70.462511</td>\n",
              "    </tr>\n",
              "    <tr>\n",
              "      <th>2004-09-01</th>\n",
              "      <td>50.280210</td>\n",
              "      <td>2.713217</td>\n",
              "      <td>-2.385589</td>\n",
              "      <td>9138200.0</td>\n",
              "      <td>74.921275</td>\n",
              "    </tr>\n",
              "    <tr>\n",
              "      <th>2004-09-02</th>\n",
              "      <td>50.912161</td>\n",
              "      <td>0.847207</td>\n",
              "      <td>2.442224</td>\n",
              "      <td>15118600.0</td>\n",
              "      <td>86.481962</td>\n",
              "    </tr>\n",
              "    <tr>\n",
              "      <th>2004-09-03</th>\n",
              "      <td>50.159839</td>\n",
              "      <td>1.729827</td>\n",
              "      <td>-0.931154</td>\n",
              "      <td>5152400.0</td>\n",
              "      <td>93.990139</td>\n",
              "    </tr>\n",
              "    <tr>\n",
              "      <th>2004-09-07</th>\n",
              "      <td>50.947269</td>\n",
              "      <td>0.413467</td>\n",
              "      <td>0.564301</td>\n",
              "      <td>5847500.0</td>\n",
              "      <td>91.181468</td>\n",
              "    </tr>\n",
              "    <tr>\n",
              "      <th>2004-09-08</th>\n",
              "      <td>51.308384</td>\n",
              "      <td>0.713587</td>\n",
              "      <td>1.548541</td>\n",
              "      <td>4985600.0</td>\n",
              "      <td>93.272925</td>\n",
              "    </tr>\n",
              "    <tr>\n",
              "      <th>2004-09-09</th>\n",
              "      <td>51.313400</td>\n",
              "      <td>0.390969</td>\n",
              "      <td>-0.185366</td>\n",
              "      <td>4061700.0</td>\n",
              "      <td>96.949273</td>\n",
              "    </tr>\n",
              "    <tr>\n",
              "      <th>2004-09-10</th>\n",
              "      <td>52.828075</td>\n",
              "      <td>1.167758</td>\n",
              "      <td>3.804080</td>\n",
              "      <td>8698800.0</td>\n",
              "      <td>95.615155</td>\n",
              "    </tr>\n",
              "    <tr>\n",
              "      <th>2004-09-13</th>\n",
              "      <td>53.916435</td>\n",
              "      <td>0.846512</td>\n",
              "      <td>0.815905</td>\n",
              "      <td>7844100.0</td>\n",
              "      <td>98.318500</td>\n",
              "    </tr>\n",
              "    <tr>\n",
              "      <th>2004-09-14</th>\n",
              "      <td>55.917612</td>\n",
              "      <td>0.457440</td>\n",
              "      <td>3.769546</td>\n",
              "      <td>10828900.0</td>\n",
              "      <td>97.736704</td>\n",
              "    </tr>\n",
              "    <tr>\n",
              "      <th>2004-09-15</th>\n",
              "      <td>56.173402</td>\n",
              "      <td>1.991071</td>\n",
              "      <td>1.302460</td>\n",
              "      <td>10713000.0</td>\n",
              "      <td>96.131750</td>\n",
              "    </tr>\n",
              "    <tr>\n",
              "      <th>2004-09-16</th>\n",
              "      <td>57.161452</td>\n",
              "      <td>1.605686</td>\n",
              "      <td>1.450952</td>\n",
              "      <td>9266300.0</td>\n",
              "      <td>92.635958</td>\n",
              "    </tr>\n",
              "    <tr>\n",
              "      <th>2004-09-17</th>\n",
              "      <td>58.926902</td>\n",
              "      <td>0.000000</td>\n",
              "      <td>2.683097</td>\n",
              "      <td>9472500.0</td>\n",
              "      <td>84.937193</td>\n",
              "    </tr>\n",
              "    <tr>\n",
              "      <th>2004-09-20</th>\n",
              "      <td>59.864797</td>\n",
              "      <td>1.876676</td>\n",
              "      <td>2.060710</td>\n",
              "      <td>10628700.0</td>\n",
              "      <td>86.542147</td>\n",
              "    </tr>\n",
              "    <tr>\n",
              "      <th>2004-09-21</th>\n",
              "      <td>59.102444</td>\n",
              "      <td>2.189409</td>\n",
              "      <td>-1.963394</td>\n",
              "      <td>7228700.0</td>\n",
              "      <td>84.611187</td>\n",
              "    </tr>\n",
              "    <tr>\n",
              "      <th>2004-09-22</th>\n",
              "      <td>59.373280</td>\n",
              "      <td>1.089711</td>\n",
              "      <td>0.791826</td>\n",
              "      <td>7581200.0</td>\n",
              "      <td>84.189886</td>\n",
              "    </tr>\n",
              "    <tr>\n",
              "      <th>2004-09-23</th>\n",
              "      <td>60.597057</td>\n",
              "      <td>1.498096</td>\n",
              "      <td>1.666106</td>\n",
              "      <td>8535600.0</td>\n",
              "      <td>91.793357</td>\n",
              "    </tr>\n",
              "    <tr>\n",
              "      <th>2004-09-24</th>\n",
              "      <td>60.100525</td>\n",
              "      <td>3.563381</td>\n",
              "      <td>-0.942382</td>\n",
              "      <td>9123400.0</td>\n",
              "      <td>91.281778</td>\n",
              "    </tr>\n",
              "    <tr>\n",
              "      <th>2004-09-27</th>\n",
              "      <td>59.313094</td>\n",
              "      <td>2.215457</td>\n",
              "      <td>-1.087320</td>\n",
              "      <td>7066100.0</td>\n",
              "      <td>92.721222</td>\n",
              "    </tr>\n",
              "    <tr>\n",
              "      <th>2004-09-28</th>\n",
              "      <td>63.626409</td>\n",
              "      <td>0.425666</td>\n",
              "      <td>4.713165</td>\n",
              "      <td>16929000.0</td>\n",
              "      <td>86.539640</td>\n",
              "    </tr>\n",
              "    <tr>\n",
              "      <th>2004-09-29</th>\n",
              "      <td>65.742942</td>\n",
              "      <td>3.005798</td>\n",
              "      <td>3.595985</td>\n",
              "      <td>30516400.0</td>\n",
              "      <td>86.517070</td>\n",
              "    </tr>\n",
              "    <tr>\n",
              "      <th>2004-09-30</th>\n",
              "      <td>65.000651</td>\n",
              "      <td>2.083333</td>\n",
              "      <td>-0.230179</td>\n",
              "      <td>13758000.0</td>\n",
              "      <td>84.029391</td>\n",
              "    </tr>\n",
              "    <tr>\n",
              "      <th>2004-10-01</th>\n",
              "      <td>66.495265</td>\n",
              "      <td>1.252074</td>\n",
              "      <td>1.360856</td>\n",
              "      <td>15124800.0</td>\n",
              "      <td>84.962270</td>\n",
              "    </tr>\n",
              "    <tr>\n",
              "      <th>2004-10-04</th>\n",
              "      <td>67.739104</td>\n",
              "      <td>1.340145</td>\n",
              "      <td>-0.158936</td>\n",
              "      <td>13022700.0</td>\n",
              "      <td>82.805613</td>\n",
              "    </tr>\n",
              "    <tr>\n",
              "      <th>2004-10-05</th>\n",
              "      <td>69.399229</td>\n",
              "      <td>0.115632</td>\n",
              "      <td>2.755087</td>\n",
              "      <td>14973200.0</td>\n",
              "      <td>84.019360</td>\n",
              "    </tr>\n",
              "    <tr>\n",
              "      <th>2004-10-06</th>\n",
              "      <td>68.752232</td>\n",
              "      <td>0.999416</td>\n",
              "      <td>-0.428561</td>\n",
              "      <td>13381400.0</td>\n",
              "      <td>87.650569</td>\n",
              "    </tr>\n",
              "    <tr>\n",
              "      <th>2004-10-07</th>\n",
              "      <td>69.639972</td>\n",
              "      <td>0.741808</td>\n",
              "      <td>1.676919</td>\n",
              "      <td>14115000.0</td>\n",
              "      <td>89.972737</td>\n",
              "    </tr>\n",
              "    <tr>\n",
              "      <th>2004-10-08</th>\n",
              "      <td>69.078238</td>\n",
              "      <td>1.415814</td>\n",
              "      <td>-0.720825</td>\n",
              "      <td>11069500.0</td>\n",
              "      <td>90.805307</td>\n",
              "    </tr>\n",
              "    <tr>\n",
              "      <th>2004-10-11</th>\n",
              "      <td>67.839414</td>\n",
              "      <td>2.661541</td>\n",
              "      <td>-1.277279</td>\n",
              "      <td>10472100.0</td>\n",
              "      <td>91.271747</td>\n",
              "    </tr>\n",
              "    <tr>\n",
              "      <th>2004-10-12</th>\n",
              "      <td>68.912727</td>\n",
              "      <td>0.152838</td>\n",
              "      <td>2.163730</td>\n",
              "      <td>11665500.0</td>\n",
              "      <td>90.258620</td>\n",
              "    </tr>\n",
              "    <tr>\n",
              "      <th>2004-10-13</th>\n",
              "      <td>70.668146</td>\n",
              "      <td>1.880767</td>\n",
              "      <td>-1.633622</td>\n",
              "      <td>19766200.0</td>\n",
              "      <td>89.977753</td>\n",
              "    </tr>\n",
              "    <tr>\n",
              "      <th>2004-10-14</th>\n",
              "      <td>71.219849</td>\n",
              "      <td>0.267606</td>\n",
              "      <td>0.694937</td>\n",
              "      <td>10442100.0</td>\n",
              "      <td>90.479301</td>\n",
              "    </tr>\n",
              "    <tr>\n",
              "      <th>2004-10-15</th>\n",
              "      <td>72.278116</td>\n",
              "      <td>0.964541</td>\n",
              "      <td>-0.579510</td>\n",
              "      <td>13194700.0</td>\n",
              "      <td>88.417938</td>\n",
              "    </tr>\n",
              "    <tr>\n",
              "      <th>2004-10-18</th>\n",
              "      <td>74.810934</td>\n",
              "      <td>0.026817</td>\n",
              "      <td>4.220235</td>\n",
              "      <td>14036300.0</td>\n",
              "      <td>85.980413</td>\n",
              "    </tr>\n",
              "    <tr>\n",
              "      <th>2004-10-19</th>\n",
              "      <td>74.199045</td>\n",
              "      <td>3.014736</td>\n",
              "      <td>-1.700997</td>\n",
              "      <td>18109800.0</td>\n",
              "      <td>85.253168</td>\n",
              "    </tr>\n",
              "    <tr>\n",
              "      <th>2004-10-20</th>\n",
              "      <td>70.462511</td>\n",
              "      <td>6.050253</td>\n",
              "      <td>-5.035825</td>\n",
              "      <td>22722600.0</td>\n",
              "      <td>86.983510</td>\n",
              "    </tr>\n",
              "    <tr>\n",
              "      <th>2004-10-21</th>\n",
              "      <td>74.921275</td>\n",
              "      <td>0.502075</td>\n",
              "      <td>3.642545</td>\n",
              "      <td>29149800.0</td>\n",
              "      <td>86.090754</td>\n",
              "    </tr>\n",
              "    <tr>\n",
              "      <th>2004-10-22</th>\n",
              "      <td>86.481962</td>\n",
              "      <td>4.488778</td>\n",
              "      <td>1.170534</td>\n",
              "      <td>73710000.0</td>\n",
              "      <td>85.488896</td>\n",
              "    </tr>\n",
              "    <tr>\n",
              "      <th>2004-10-25</th>\n",
              "      <td>93.990139</td>\n",
              "      <td>3.751334</td>\n",
              "      <td>6.308146</td>\n",
              "      <td>65462800.0</td>\n",
              "      <td>89.621653</td>\n",
              "    </tr>\n",
              "    <tr>\n",
              "      <th>2004-10-26</th>\n",
              "      <td>91.181468</td>\n",
              "      <td>5.962596</td>\n",
              "      <td>-2.493443</td>\n",
              "      <td>44569500.0</td>\n",
              "      <td>90.168341</td>\n",
              "    </tr>\n",
              "    <tr>\n",
              "      <th>2004-10-27</th>\n",
              "      <td>93.272925</td>\n",
              "      <td>1.908910</td>\n",
              "      <td>1.896345</td>\n",
              "      <td>26686200.0</td>\n",
              "      <td>88.508216</td>\n",
              "    </tr>\n",
              "    <tr>\n",
              "      <th>2004-10-28</th>\n",
              "      <td>96.949273</td>\n",
              "      <td>0.563890</td>\n",
              "      <td>3.573916</td>\n",
              "      <td>29663900.0</td>\n",
              "      <td>90.318806</td>\n",
              "    </tr>\n",
              "  </tbody>\n",
              "</table>\n",
              "</div>"
            ],
            "text/plain": [
              "            Adj. Close    HL_PCT  PCT_change  Adj. Volume      label\n",
              "Date                                                                \n",
              "2004-08-19   50.322842  3.712563    0.324968   44659000.0  69.078238\n",
              "2004-08-20   54.322689  0.710922    7.227007   22834300.0  67.839414\n",
              "2004-08-23   54.869377  3.729433   -1.227880   18256100.0  68.912727\n",
              "2004-08-24   52.597363  6.417469   -5.726357   15247300.0  70.668146\n",
              "2004-08-25   53.164113  1.886792    1.183658    9188600.0  71.219849\n",
              "2004-08-26   54.122070  0.037068    2.820391    7094800.0  72.278116\n",
              "2004-08-27   53.239345  2.326896   -1.803885    6211700.0  74.810934\n",
              "2004-08-30   51.162935  3.411430   -3.106003    5196700.0  74.199045\n",
              "2004-08-31   51.343492  1.308977    0.048866    4917800.0  70.462511\n",
              "2004-09-01   50.280210  2.713217   -2.385589    9138200.0  74.921275\n",
              "2004-09-02   50.912161  0.847207    2.442224   15118600.0  86.481962\n",
              "2004-09-03   50.159839  1.729827   -0.931154    5152400.0  93.990139\n",
              "2004-09-07   50.947269  0.413467    0.564301    5847500.0  91.181468\n",
              "2004-09-08   51.308384  0.713587    1.548541    4985600.0  93.272925\n",
              "2004-09-09   51.313400  0.390969   -0.185366    4061700.0  96.949273\n",
              "2004-09-10   52.828075  1.167758    3.804080    8698800.0  95.615155\n",
              "2004-09-13   53.916435  0.846512    0.815905    7844100.0  98.318500\n",
              "2004-09-14   55.917612  0.457440    3.769546   10828900.0  97.736704\n",
              "2004-09-15   56.173402  1.991071    1.302460   10713000.0  96.131750\n",
              "2004-09-16   57.161452  1.605686    1.450952    9266300.0  92.635958\n",
              "2004-09-17   58.926902  0.000000    2.683097    9472500.0  84.937193\n",
              "2004-09-20   59.864797  1.876676    2.060710   10628700.0  86.542147\n",
              "2004-09-21   59.102444  2.189409   -1.963394    7228700.0  84.611187\n",
              "2004-09-22   59.373280  1.089711    0.791826    7581200.0  84.189886\n",
              "2004-09-23   60.597057  1.498096    1.666106    8535600.0  91.793357\n",
              "2004-09-24   60.100525  3.563381   -0.942382    9123400.0  91.281778\n",
              "2004-09-27   59.313094  2.215457   -1.087320    7066100.0  92.721222\n",
              "2004-09-28   63.626409  0.425666    4.713165   16929000.0  86.539640\n",
              "2004-09-29   65.742942  3.005798    3.595985   30516400.0  86.517070\n",
              "2004-09-30   65.000651  2.083333   -0.230179   13758000.0  84.029391\n",
              "2004-10-01   66.495265  1.252074    1.360856   15124800.0  84.962270\n",
              "2004-10-04   67.739104  1.340145   -0.158936   13022700.0  82.805613\n",
              "2004-10-05   69.399229  0.115632    2.755087   14973200.0  84.019360\n",
              "2004-10-06   68.752232  0.999416   -0.428561   13381400.0  87.650569\n",
              "2004-10-07   69.639972  0.741808    1.676919   14115000.0  89.972737\n",
              "2004-10-08   69.078238  1.415814   -0.720825   11069500.0  90.805307\n",
              "2004-10-11   67.839414  2.661541   -1.277279   10472100.0  91.271747\n",
              "2004-10-12   68.912727  0.152838    2.163730   11665500.0  90.258620\n",
              "2004-10-13   70.668146  1.880767   -1.633622   19766200.0  89.977753\n",
              "2004-10-14   71.219849  0.267606    0.694937   10442100.0  90.479301\n",
              "2004-10-15   72.278116  0.964541   -0.579510   13194700.0  88.417938\n",
              "2004-10-18   74.810934  0.026817    4.220235   14036300.0  85.980413\n",
              "2004-10-19   74.199045  3.014736   -1.700997   18109800.0  85.253168\n",
              "2004-10-20   70.462511  6.050253   -5.035825   22722600.0  86.983510\n",
              "2004-10-21   74.921275  0.502075    3.642545   29149800.0  86.090754\n",
              "2004-10-22   86.481962  4.488778    1.170534   73710000.0  85.488896\n",
              "2004-10-25   93.990139  3.751334    6.308146   65462800.0  89.621653\n",
              "2004-10-26   91.181468  5.962596   -2.493443   44569500.0  90.168341\n",
              "2004-10-27   93.272925  1.908910    1.896345   26686200.0  88.508216\n",
              "2004-10-28   96.949273  0.563890    3.573916   29663900.0  90.318806"
            ]
          },
          "metadata": {
            "tags": []
          },
          "execution_count": 69
        }
      ]
    },
    {
      "cell_type": "code",
      "metadata": {
        "id": "YW8w5itB2Hw1",
        "colab_type": "code",
        "colab": {
          "base_uri": "https://localhost:8080/",
          "height": 1000
        },
        "outputId": "dd5c160d-470d-424a-e782-7d1d3f8fc343"
      },
      "source": [
        "df.tail(50)"
      ],
      "execution_count": 70,
      "outputs": [
        {
          "output_type": "execute_result",
          "data": {
            "text/html": [
              "<div>\n",
              "<style scoped>\n",
              "    .dataframe tbody tr th:only-of-type {\n",
              "        vertical-align: middle;\n",
              "    }\n",
              "\n",
              "    .dataframe tbody tr th {\n",
              "        vertical-align: top;\n",
              "    }\n",
              "\n",
              "    .dataframe thead th {\n",
              "        text-align: right;\n",
              "    }\n",
              "</style>\n",
              "<table border=\"1\" class=\"dataframe\">\n",
              "  <thead>\n",
              "    <tr style=\"text-align: right;\">\n",
              "      <th></th>\n",
              "      <th>Adj. Close</th>\n",
              "      <th>HL_PCT</th>\n",
              "      <th>PCT_change</th>\n",
              "      <th>Adj. Volume</th>\n",
              "      <th>label</th>\n",
              "    </tr>\n",
              "    <tr>\n",
              "      <th>Date</th>\n",
              "      <th></th>\n",
              "      <th></th>\n",
              "      <th></th>\n",
              "      <th></th>\n",
              "      <th></th>\n",
              "    </tr>\n",
              "  </thead>\n",
              "  <tbody>\n",
              "    <tr>\n",
              "      <th>2018-01-16</th>\n",
              "      <td>1130.70</td>\n",
              "      <td>1.607854</td>\n",
              "      <td>-0.842753</td>\n",
              "      <td>1783881.0</td>\n",
              "      <td>1115.04</td>\n",
              "    </tr>\n",
              "    <tr>\n",
              "      <th>2018-01-17</th>\n",
              "      <td>1139.10</td>\n",
              "      <td>0.019313</td>\n",
              "      <td>0.241121</td>\n",
              "      <td>1353097.0</td>\n",
              "      <td>1129.38</td>\n",
              "    </tr>\n",
              "    <tr>\n",
              "      <th>2018-01-18</th>\n",
              "      <td>1135.97</td>\n",
              "      <td>0.406701</td>\n",
              "      <td>-0.296660</td>\n",
              "      <td>1333633.0</td>\n",
              "      <td>1160.84</td>\n",
              "    </tr>\n",
              "    <tr>\n",
              "      <th>2018-01-19</th>\n",
              "      <td>1143.50</td>\n",
              "      <td>0.024486</td>\n",
              "      <td>0.480655</td>\n",
              "      <td>1418376.0</td>\n",
              "      <td>1165.93</td>\n",
              "    </tr>\n",
              "    <tr>\n",
              "      <th>2018-01-22</th>\n",
              "      <td>1164.16</td>\n",
              "      <td>0.233645</td>\n",
              "      <td>1.778252</td>\n",
              "      <td>1437954.0</td>\n",
              "      <td>1139.91</td>\n",
              "    </tr>\n",
              "    <tr>\n",
              "      <th>2018-01-23</th>\n",
              "      <td>1176.17</td>\n",
              "      <td>0.198951</td>\n",
              "      <td>0.474108</td>\n",
              "      <td>1832126.0</td>\n",
              "      <td>1148.89</td>\n",
              "    </tr>\n",
              "    <tr>\n",
              "      <th>2018-01-24</th>\n",
              "      <td>1171.29</td>\n",
              "      <td>1.345525</td>\n",
              "      <td>-1.155294</td>\n",
              "      <td>1818182.0</td>\n",
              "      <td>1150.61</td>\n",
              "    </tr>\n",
              "    <tr>\n",
              "      <th>2018-01-25</th>\n",
              "      <td>1182.14</td>\n",
              "      <td>0.241934</td>\n",
              "      <td>0.121114</td>\n",
              "      <td>1398961.0</td>\n",
              "      <td>1134.42</td>\n",
              "    </tr>\n",
              "    <tr>\n",
              "      <th>2018-01-26</th>\n",
              "      <td>1187.56</td>\n",
              "      <td>0.000000</td>\n",
              "      <td>0.002526</td>\n",
              "      <td>1981476.0</td>\n",
              "      <td>1100.07</td>\n",
              "    </tr>\n",
              "    <tr>\n",
              "      <th>2018-01-29</th>\n",
              "      <td>1186.48</td>\n",
              "      <td>0.970939</td>\n",
              "      <td>-0.127946</td>\n",
              "      <td>1533931.0</td>\n",
              "      <td>1095.80</td>\n",
              "    </tr>\n",
              "    <tr>\n",
              "      <th>2018-01-30</th>\n",
              "      <td>1177.37</td>\n",
              "      <td>0.896914</td>\n",
              "      <td>-0.029718</td>\n",
              "      <td>1792602.0</td>\n",
              "      <td>1094.00</td>\n",
              "    </tr>\n",
              "    <tr>\n",
              "      <th>2018-01-31</th>\n",
              "      <td>1182.22</td>\n",
              "      <td>0.346805</td>\n",
              "      <td>-0.134312</td>\n",
              "      <td>1643877.0</td>\n",
              "      <td>1053.15</td>\n",
              "    </tr>\n",
              "    <tr>\n",
              "      <th>2018-02-01</th>\n",
              "      <td>1181.59</td>\n",
              "      <td>0.495942</td>\n",
              "      <td>0.476195</td>\n",
              "      <td>2774967.0</td>\n",
              "      <td>1026.55</td>\n",
              "    </tr>\n",
              "    <tr>\n",
              "      <th>2018-02-02</th>\n",
              "      <td>1119.20</td>\n",
              "      <td>1.081129</td>\n",
              "      <td>-0.729098</td>\n",
              "      <td>5798880.0</td>\n",
              "      <td>1054.09</td>\n",
              "    </tr>\n",
              "    <tr>\n",
              "      <th>2018-02-05</th>\n",
              "      <td>1068.76</td>\n",
              "      <td>4.325574</td>\n",
              "      <td>-2.893850</td>\n",
              "      <td>3742469.0</td>\n",
              "      <td>1006.94</td>\n",
              "    </tr>\n",
              "    <tr>\n",
              "      <th>2018-02-06</th>\n",
              "      <td>1084.43</td>\n",
              "      <td>0.272032</td>\n",
              "      <td>4.879205</td>\n",
              "      <td>3732527.0</td>\n",
              "      <td>NaN</td>\n",
              "    </tr>\n",
              "    <tr>\n",
              "      <th>2018-02-07</th>\n",
              "      <td>1055.41</td>\n",
              "      <td>2.948617</td>\n",
              "      <td>-2.724499</td>\n",
              "      <td>2544683.0</td>\n",
              "      <td>NaN</td>\n",
              "    </tr>\n",
              "    <tr>\n",
              "      <th>2018-02-08</th>\n",
              "      <td>1005.60</td>\n",
              "      <td>5.800517</td>\n",
              "      <td>-5.120439</td>\n",
              "      <td>3067173.0</td>\n",
              "      <td>NaN</td>\n",
              "    </tr>\n",
              "    <tr>\n",
              "      <th>2018-02-09</th>\n",
              "      <td>1043.43</td>\n",
              "      <td>0.794495</td>\n",
              "      <td>1.710726</td>\n",
              "      <td>4436032.0</td>\n",
              "      <td>NaN</td>\n",
              "    </tr>\n",
              "    <tr>\n",
              "      <th>2018-02-12</th>\n",
              "      <td>1054.56</td>\n",
              "      <td>1.044037</td>\n",
              "      <td>-0.199684</td>\n",
              "      <td>2796258.0</td>\n",
              "      <td>NaN</td>\n",
              "    </tr>\n",
              "    <tr>\n",
              "      <th>2018-02-13</th>\n",
              "      <td>1054.14</td>\n",
              "      <td>0.671638</td>\n",
              "      <td>0.394286</td>\n",
              "      <td>1574121.0</td>\n",
              "      <td>NaN</td>\n",
              "    </tr>\n",
              "    <tr>\n",
              "      <th>2018-02-14</th>\n",
              "      <td>1072.70</td>\n",
              "      <td>0.258227</td>\n",
              "      <td>1.743304</td>\n",
              "      <td>2029979.0</td>\n",
              "      <td>NaN</td>\n",
              "    </tr>\n",
              "    <tr>\n",
              "      <th>2018-02-15</th>\n",
              "      <td>1091.36</td>\n",
              "      <td>0.251063</td>\n",
              "      <td>0.730075</td>\n",
              "      <td>1806206.0</td>\n",
              "      <td>NaN</td>\n",
              "    </tr>\n",
              "    <tr>\n",
              "      <th>2018-02-16</th>\n",
              "      <td>1095.50</td>\n",
              "      <td>1.169329</td>\n",
              "      <td>0.193894</td>\n",
              "      <td>1971928.0</td>\n",
              "      <td>NaN</td>\n",
              "    </tr>\n",
              "    <tr>\n",
              "      <th>2018-02-20</th>\n",
              "      <td>1103.59</td>\n",
              "      <td>1.150790</td>\n",
              "      <td>0.991068</td>\n",
              "      <td>1646405.0</td>\n",
              "      <td>NaN</td>\n",
              "    </tr>\n",
              "    <tr>\n",
              "      <th>2018-02-21</th>\n",
              "      <td>1113.75</td>\n",
              "      <td>2.015713</td>\n",
              "      <td>0.419259</td>\n",
              "      <td>2024534.0</td>\n",
              "      <td>NaN</td>\n",
              "    </tr>\n",
              "    <tr>\n",
              "      <th>2018-02-22</th>\n",
              "      <td>1109.90</td>\n",
              "      <td>1.401928</td>\n",
              "      <td>-0.828292</td>\n",
              "      <td>1386115.0</td>\n",
              "      <td>NaN</td>\n",
              "    </tr>\n",
              "    <tr>\n",
              "      <th>2018-02-23</th>\n",
              "      <td>1128.09</td>\n",
              "      <td>0.080667</td>\n",
              "      <td>0.842973</td>\n",
              "      <td>1234539.0</td>\n",
              "      <td>NaN</td>\n",
              "    </tr>\n",
              "    <tr>\n",
              "      <th>2018-02-26</th>\n",
              "      <td>1143.70</td>\n",
              "      <td>0.043718</td>\n",
              "      <td>1.046066</td>\n",
              "      <td>1489118.0</td>\n",
              "      <td>NaN</td>\n",
              "    </tr>\n",
              "    <tr>\n",
              "      <th>2018-02-27</th>\n",
              "      <td>1117.51</td>\n",
              "      <td>2.392820</td>\n",
              "      <td>-2.289936</td>\n",
              "      <td>2094863.0</td>\n",
              "      <td>NaN</td>\n",
              "    </tr>\n",
              "    <tr>\n",
              "      <th>2018-02-28</th>\n",
              "      <td>1103.92</td>\n",
              "      <td>2.149612</td>\n",
              "      <td>-1.611408</td>\n",
              "      <td>2431023.0</td>\n",
              "      <td>NaN</td>\n",
              "    </tr>\n",
              "    <tr>\n",
              "      <th>2018-03-01</th>\n",
              "      <td>1071.41</td>\n",
              "      <td>3.720331</td>\n",
              "      <td>-3.436559</td>\n",
              "      <td>2766856.0</td>\n",
              "      <td>NaN</td>\n",
              "    </tr>\n",
              "    <tr>\n",
              "      <th>2018-03-02</th>\n",
              "      <td>1084.14</td>\n",
              "      <td>0.253657</td>\n",
              "      <td>2.472637</td>\n",
              "      <td>2508145.0</td>\n",
              "      <td>NaN</td>\n",
              "    </tr>\n",
              "    <tr>\n",
              "      <th>2018-03-05</th>\n",
              "      <td>1094.76</td>\n",
              "      <td>0.586430</td>\n",
              "      <td>1.542486</td>\n",
              "      <td>1432369.0</td>\n",
              "      <td>NaN</td>\n",
              "    </tr>\n",
              "    <tr>\n",
              "      <th>2018-03-06</th>\n",
              "      <td>1100.90</td>\n",
              "      <td>0.429648</td>\n",
              "      <td>-0.108883</td>\n",
              "      <td>1169068.0</td>\n",
              "      <td>NaN</td>\n",
              "    </tr>\n",
              "    <tr>\n",
              "      <th>2018-03-07</th>\n",
              "      <td>1115.04</td>\n",
              "      <td>0.104032</td>\n",
              "      <td>2.033272</td>\n",
              "      <td>1537429.0</td>\n",
              "      <td>NaN</td>\n",
              "    </tr>\n",
              "    <tr>\n",
              "      <th>2018-03-08</th>\n",
              "      <td>1129.38</td>\n",
              "      <td>0.182401</td>\n",
              "      <td>1.090226</td>\n",
              "      <td>1510478.0</td>\n",
              "      <td>NaN</td>\n",
              "    </tr>\n",
              "    <tr>\n",
              "      <th>2018-03-09</th>\n",
              "      <td>1160.84</td>\n",
              "      <td>0.013783</td>\n",
              "      <td>1.872751</td>\n",
              "      <td>2070174.0</td>\n",
              "      <td>NaN</td>\n",
              "    </tr>\n",
              "    <tr>\n",
              "      <th>2018-03-12</th>\n",
              "      <td>1165.93</td>\n",
              "      <td>1.048948</td>\n",
              "      <td>0.075533</td>\n",
              "      <td>2129297.0</td>\n",
              "      <td>NaN</td>\n",
              "    </tr>\n",
              "    <tr>\n",
              "      <th>2018-03-13</th>\n",
              "      <td>1139.91</td>\n",
              "      <td>3.341492</td>\n",
              "      <td>-2.723945</td>\n",
              "      <td>2129435.0</td>\n",
              "      <td>NaN</td>\n",
              "    </tr>\n",
              "    <tr>\n",
              "      <th>2018-03-14</th>\n",
              "      <td>1148.89</td>\n",
              "      <td>0.946131</td>\n",
              "      <td>0.269681</td>\n",
              "      <td>2033697.0</td>\n",
              "      <td>NaN</td>\n",
              "    </tr>\n",
              "    <tr>\n",
              "      <th>2018-03-15</th>\n",
              "      <td>1150.61</td>\n",
              "      <td>1.033365</td>\n",
              "      <td>0.090469</td>\n",
              "      <td>1623868.0</td>\n",
              "      <td>NaN</td>\n",
              "    </tr>\n",
              "    <tr>\n",
              "      <th>2018-03-16</th>\n",
              "      <td>1134.42</td>\n",
              "      <td>1.973696</td>\n",
              "      <td>-1.811572</td>\n",
              "      <td>2654602.0</td>\n",
              "      <td>NaN</td>\n",
              "    </tr>\n",
              "    <tr>\n",
              "      <th>2018-03-19</th>\n",
              "      <td>1100.07</td>\n",
              "      <td>1.754434</td>\n",
              "      <td>-1.582630</td>\n",
              "      <td>3076349.0</td>\n",
              "      <td>NaN</td>\n",
              "    </tr>\n",
              "    <tr>\n",
              "      <th>2018-03-20</th>\n",
              "      <td>1095.80</td>\n",
              "      <td>0.889761</td>\n",
              "      <td>-0.236708</td>\n",
              "      <td>2709310.0</td>\n",
              "      <td>NaN</td>\n",
              "    </tr>\n",
              "    <tr>\n",
              "      <th>2018-03-21</th>\n",
              "      <td>1094.00</td>\n",
              "      <td>1.343693</td>\n",
              "      <td>0.130884</td>\n",
              "      <td>1990515.0</td>\n",
              "      <td>NaN</td>\n",
              "    </tr>\n",
              "    <tr>\n",
              "      <th>2018-03-22</th>\n",
              "      <td>1053.15</td>\n",
              "      <td>2.921711</td>\n",
              "      <td>-2.487014</td>\n",
              "      <td>3418154.0</td>\n",
              "      <td>NaN</td>\n",
              "    </tr>\n",
              "    <tr>\n",
              "      <th>2018-03-23</th>\n",
              "      <td>1026.55</td>\n",
              "      <td>3.918952</td>\n",
              "      <td>-2.360729</td>\n",
              "      <td>2413517.0</td>\n",
              "      <td>NaN</td>\n",
              "    </tr>\n",
              "    <tr>\n",
              "      <th>2018-03-26</th>\n",
              "      <td>1054.09</td>\n",
              "      <td>0.491419</td>\n",
              "      <td>0.332191</td>\n",
              "      <td>3272409.0</td>\n",
              "      <td>NaN</td>\n",
              "    </tr>\n",
              "    <tr>\n",
              "      <th>2018-03-27</th>\n",
              "      <td>1006.94</td>\n",
              "      <td>5.720301</td>\n",
              "      <td>-5.353887</td>\n",
              "      <td>2940957.0</td>\n",
              "      <td>NaN</td>\n",
              "    </tr>\n",
              "  </tbody>\n",
              "</table>\n",
              "</div>"
            ],
            "text/plain": [
              "            Adj. Close    HL_PCT  PCT_change  Adj. Volume    label\n",
              "Date                                                              \n",
              "2018-01-16     1130.70  1.607854   -0.842753    1783881.0  1115.04\n",
              "2018-01-17     1139.10  0.019313    0.241121    1353097.0  1129.38\n",
              "2018-01-18     1135.97  0.406701   -0.296660    1333633.0  1160.84\n",
              "2018-01-19     1143.50  0.024486    0.480655    1418376.0  1165.93\n",
              "2018-01-22     1164.16  0.233645    1.778252    1437954.0  1139.91\n",
              "2018-01-23     1176.17  0.198951    0.474108    1832126.0  1148.89\n",
              "2018-01-24     1171.29  1.345525   -1.155294    1818182.0  1150.61\n",
              "2018-01-25     1182.14  0.241934    0.121114    1398961.0  1134.42\n",
              "2018-01-26     1187.56  0.000000    0.002526    1981476.0  1100.07\n",
              "2018-01-29     1186.48  0.970939   -0.127946    1533931.0  1095.80\n",
              "2018-01-30     1177.37  0.896914   -0.029718    1792602.0  1094.00\n",
              "2018-01-31     1182.22  0.346805   -0.134312    1643877.0  1053.15\n",
              "2018-02-01     1181.59  0.495942    0.476195    2774967.0  1026.55\n",
              "2018-02-02     1119.20  1.081129   -0.729098    5798880.0  1054.09\n",
              "2018-02-05     1068.76  4.325574   -2.893850    3742469.0  1006.94\n",
              "2018-02-06     1084.43  0.272032    4.879205    3732527.0      NaN\n",
              "2018-02-07     1055.41  2.948617   -2.724499    2544683.0      NaN\n",
              "2018-02-08     1005.60  5.800517   -5.120439    3067173.0      NaN\n",
              "2018-02-09     1043.43  0.794495    1.710726    4436032.0      NaN\n",
              "2018-02-12     1054.56  1.044037   -0.199684    2796258.0      NaN\n",
              "2018-02-13     1054.14  0.671638    0.394286    1574121.0      NaN\n",
              "2018-02-14     1072.70  0.258227    1.743304    2029979.0      NaN\n",
              "2018-02-15     1091.36  0.251063    0.730075    1806206.0      NaN\n",
              "2018-02-16     1095.50  1.169329    0.193894    1971928.0      NaN\n",
              "2018-02-20     1103.59  1.150790    0.991068    1646405.0      NaN\n",
              "2018-02-21     1113.75  2.015713    0.419259    2024534.0      NaN\n",
              "2018-02-22     1109.90  1.401928   -0.828292    1386115.0      NaN\n",
              "2018-02-23     1128.09  0.080667    0.842973    1234539.0      NaN\n",
              "2018-02-26     1143.70  0.043718    1.046066    1489118.0      NaN\n",
              "2018-02-27     1117.51  2.392820   -2.289936    2094863.0      NaN\n",
              "2018-02-28     1103.92  2.149612   -1.611408    2431023.0      NaN\n",
              "2018-03-01     1071.41  3.720331   -3.436559    2766856.0      NaN\n",
              "2018-03-02     1084.14  0.253657    2.472637    2508145.0      NaN\n",
              "2018-03-05     1094.76  0.586430    1.542486    1432369.0      NaN\n",
              "2018-03-06     1100.90  0.429648   -0.108883    1169068.0      NaN\n",
              "2018-03-07     1115.04  0.104032    2.033272    1537429.0      NaN\n",
              "2018-03-08     1129.38  0.182401    1.090226    1510478.0      NaN\n",
              "2018-03-09     1160.84  0.013783    1.872751    2070174.0      NaN\n",
              "2018-03-12     1165.93  1.048948    0.075533    2129297.0      NaN\n",
              "2018-03-13     1139.91  3.341492   -2.723945    2129435.0      NaN\n",
              "2018-03-14     1148.89  0.946131    0.269681    2033697.0      NaN\n",
              "2018-03-15     1150.61  1.033365    0.090469    1623868.0      NaN\n",
              "2018-03-16     1134.42  1.973696   -1.811572    2654602.0      NaN\n",
              "2018-03-19     1100.07  1.754434   -1.582630    3076349.0      NaN\n",
              "2018-03-20     1095.80  0.889761   -0.236708    2709310.0      NaN\n",
              "2018-03-21     1094.00  1.343693    0.130884    1990515.0      NaN\n",
              "2018-03-22     1053.15  2.921711   -2.487014    3418154.0      NaN\n",
              "2018-03-23     1026.55  3.918952   -2.360729    2413517.0      NaN\n",
              "2018-03-26     1054.09  0.491419    0.332191    3272409.0      NaN\n",
              "2018-03-27     1006.94  5.720301   -5.353887    2940957.0      NaN"
            ]
          },
          "metadata": {
            "tags": []
          },
          "execution_count": 70
        }
      ]
    },
    {
      "cell_type": "code",
      "metadata": {
        "id": "O6B-JOLM50ik",
        "colab_type": "code",
        "colab": {
          "base_uri": "https://localhost:8080/",
          "height": 1000
        },
        "outputId": "36f724c4-4b3a-427d-ce59-18deac4a092c"
      },
      "source": [
        "df.tail(36)"
      ],
      "execution_count": 71,
      "outputs": [
        {
          "output_type": "execute_result",
          "data": {
            "text/html": [
              "<div>\n",
              "<style scoped>\n",
              "    .dataframe tbody tr th:only-of-type {\n",
              "        vertical-align: middle;\n",
              "    }\n",
              "\n",
              "    .dataframe tbody tr th {\n",
              "        vertical-align: top;\n",
              "    }\n",
              "\n",
              "    .dataframe thead th {\n",
              "        text-align: right;\n",
              "    }\n",
              "</style>\n",
              "<table border=\"1\" class=\"dataframe\">\n",
              "  <thead>\n",
              "    <tr style=\"text-align: right;\">\n",
              "      <th></th>\n",
              "      <th>Adj. Close</th>\n",
              "      <th>HL_PCT</th>\n",
              "      <th>PCT_change</th>\n",
              "      <th>Adj. Volume</th>\n",
              "      <th>label</th>\n",
              "    </tr>\n",
              "    <tr>\n",
              "      <th>Date</th>\n",
              "      <th></th>\n",
              "      <th></th>\n",
              "      <th></th>\n",
              "      <th></th>\n",
              "      <th></th>\n",
              "    </tr>\n",
              "  </thead>\n",
              "  <tbody>\n",
              "    <tr>\n",
              "      <th>2018-02-05</th>\n",
              "      <td>1068.76</td>\n",
              "      <td>4.325574</td>\n",
              "      <td>-2.893850</td>\n",
              "      <td>3742469.0</td>\n",
              "      <td>1006.94</td>\n",
              "    </tr>\n",
              "    <tr>\n",
              "      <th>2018-02-06</th>\n",
              "      <td>1084.43</td>\n",
              "      <td>0.272032</td>\n",
              "      <td>4.879205</td>\n",
              "      <td>3732527.0</td>\n",
              "      <td>NaN</td>\n",
              "    </tr>\n",
              "    <tr>\n",
              "      <th>2018-02-07</th>\n",
              "      <td>1055.41</td>\n",
              "      <td>2.948617</td>\n",
              "      <td>-2.724499</td>\n",
              "      <td>2544683.0</td>\n",
              "      <td>NaN</td>\n",
              "    </tr>\n",
              "    <tr>\n",
              "      <th>2018-02-08</th>\n",
              "      <td>1005.60</td>\n",
              "      <td>5.800517</td>\n",
              "      <td>-5.120439</td>\n",
              "      <td>3067173.0</td>\n",
              "      <td>NaN</td>\n",
              "    </tr>\n",
              "    <tr>\n",
              "      <th>2018-02-09</th>\n",
              "      <td>1043.43</td>\n",
              "      <td>0.794495</td>\n",
              "      <td>1.710726</td>\n",
              "      <td>4436032.0</td>\n",
              "      <td>NaN</td>\n",
              "    </tr>\n",
              "    <tr>\n",
              "      <th>2018-02-12</th>\n",
              "      <td>1054.56</td>\n",
              "      <td>1.044037</td>\n",
              "      <td>-0.199684</td>\n",
              "      <td>2796258.0</td>\n",
              "      <td>NaN</td>\n",
              "    </tr>\n",
              "    <tr>\n",
              "      <th>2018-02-13</th>\n",
              "      <td>1054.14</td>\n",
              "      <td>0.671638</td>\n",
              "      <td>0.394286</td>\n",
              "      <td>1574121.0</td>\n",
              "      <td>NaN</td>\n",
              "    </tr>\n",
              "    <tr>\n",
              "      <th>2018-02-14</th>\n",
              "      <td>1072.70</td>\n",
              "      <td>0.258227</td>\n",
              "      <td>1.743304</td>\n",
              "      <td>2029979.0</td>\n",
              "      <td>NaN</td>\n",
              "    </tr>\n",
              "    <tr>\n",
              "      <th>2018-02-15</th>\n",
              "      <td>1091.36</td>\n",
              "      <td>0.251063</td>\n",
              "      <td>0.730075</td>\n",
              "      <td>1806206.0</td>\n",
              "      <td>NaN</td>\n",
              "    </tr>\n",
              "    <tr>\n",
              "      <th>2018-02-16</th>\n",
              "      <td>1095.50</td>\n",
              "      <td>1.169329</td>\n",
              "      <td>0.193894</td>\n",
              "      <td>1971928.0</td>\n",
              "      <td>NaN</td>\n",
              "    </tr>\n",
              "    <tr>\n",
              "      <th>2018-02-20</th>\n",
              "      <td>1103.59</td>\n",
              "      <td>1.150790</td>\n",
              "      <td>0.991068</td>\n",
              "      <td>1646405.0</td>\n",
              "      <td>NaN</td>\n",
              "    </tr>\n",
              "    <tr>\n",
              "      <th>2018-02-21</th>\n",
              "      <td>1113.75</td>\n",
              "      <td>2.015713</td>\n",
              "      <td>0.419259</td>\n",
              "      <td>2024534.0</td>\n",
              "      <td>NaN</td>\n",
              "    </tr>\n",
              "    <tr>\n",
              "      <th>2018-02-22</th>\n",
              "      <td>1109.90</td>\n",
              "      <td>1.401928</td>\n",
              "      <td>-0.828292</td>\n",
              "      <td>1386115.0</td>\n",
              "      <td>NaN</td>\n",
              "    </tr>\n",
              "    <tr>\n",
              "      <th>2018-02-23</th>\n",
              "      <td>1128.09</td>\n",
              "      <td>0.080667</td>\n",
              "      <td>0.842973</td>\n",
              "      <td>1234539.0</td>\n",
              "      <td>NaN</td>\n",
              "    </tr>\n",
              "    <tr>\n",
              "      <th>2018-02-26</th>\n",
              "      <td>1143.70</td>\n",
              "      <td>0.043718</td>\n",
              "      <td>1.046066</td>\n",
              "      <td>1489118.0</td>\n",
              "      <td>NaN</td>\n",
              "    </tr>\n",
              "    <tr>\n",
              "      <th>2018-02-27</th>\n",
              "      <td>1117.51</td>\n",
              "      <td>2.392820</td>\n",
              "      <td>-2.289936</td>\n",
              "      <td>2094863.0</td>\n",
              "      <td>NaN</td>\n",
              "    </tr>\n",
              "    <tr>\n",
              "      <th>2018-02-28</th>\n",
              "      <td>1103.92</td>\n",
              "      <td>2.149612</td>\n",
              "      <td>-1.611408</td>\n",
              "      <td>2431023.0</td>\n",
              "      <td>NaN</td>\n",
              "    </tr>\n",
              "    <tr>\n",
              "      <th>2018-03-01</th>\n",
              "      <td>1071.41</td>\n",
              "      <td>3.720331</td>\n",
              "      <td>-3.436559</td>\n",
              "      <td>2766856.0</td>\n",
              "      <td>NaN</td>\n",
              "    </tr>\n",
              "    <tr>\n",
              "      <th>2018-03-02</th>\n",
              "      <td>1084.14</td>\n",
              "      <td>0.253657</td>\n",
              "      <td>2.472637</td>\n",
              "      <td>2508145.0</td>\n",
              "      <td>NaN</td>\n",
              "    </tr>\n",
              "    <tr>\n",
              "      <th>2018-03-05</th>\n",
              "      <td>1094.76</td>\n",
              "      <td>0.586430</td>\n",
              "      <td>1.542486</td>\n",
              "      <td>1432369.0</td>\n",
              "      <td>NaN</td>\n",
              "    </tr>\n",
              "    <tr>\n",
              "      <th>2018-03-06</th>\n",
              "      <td>1100.90</td>\n",
              "      <td>0.429648</td>\n",
              "      <td>-0.108883</td>\n",
              "      <td>1169068.0</td>\n",
              "      <td>NaN</td>\n",
              "    </tr>\n",
              "    <tr>\n",
              "      <th>2018-03-07</th>\n",
              "      <td>1115.04</td>\n",
              "      <td>0.104032</td>\n",
              "      <td>2.033272</td>\n",
              "      <td>1537429.0</td>\n",
              "      <td>NaN</td>\n",
              "    </tr>\n",
              "    <tr>\n",
              "      <th>2018-03-08</th>\n",
              "      <td>1129.38</td>\n",
              "      <td>0.182401</td>\n",
              "      <td>1.090226</td>\n",
              "      <td>1510478.0</td>\n",
              "      <td>NaN</td>\n",
              "    </tr>\n",
              "    <tr>\n",
              "      <th>2018-03-09</th>\n",
              "      <td>1160.84</td>\n",
              "      <td>0.013783</td>\n",
              "      <td>1.872751</td>\n",
              "      <td>2070174.0</td>\n",
              "      <td>NaN</td>\n",
              "    </tr>\n",
              "    <tr>\n",
              "      <th>2018-03-12</th>\n",
              "      <td>1165.93</td>\n",
              "      <td>1.048948</td>\n",
              "      <td>0.075533</td>\n",
              "      <td>2129297.0</td>\n",
              "      <td>NaN</td>\n",
              "    </tr>\n",
              "    <tr>\n",
              "      <th>2018-03-13</th>\n",
              "      <td>1139.91</td>\n",
              "      <td>3.341492</td>\n",
              "      <td>-2.723945</td>\n",
              "      <td>2129435.0</td>\n",
              "      <td>NaN</td>\n",
              "    </tr>\n",
              "    <tr>\n",
              "      <th>2018-03-14</th>\n",
              "      <td>1148.89</td>\n",
              "      <td>0.946131</td>\n",
              "      <td>0.269681</td>\n",
              "      <td>2033697.0</td>\n",
              "      <td>NaN</td>\n",
              "    </tr>\n",
              "    <tr>\n",
              "      <th>2018-03-15</th>\n",
              "      <td>1150.61</td>\n",
              "      <td>1.033365</td>\n",
              "      <td>0.090469</td>\n",
              "      <td>1623868.0</td>\n",
              "      <td>NaN</td>\n",
              "    </tr>\n",
              "    <tr>\n",
              "      <th>2018-03-16</th>\n",
              "      <td>1134.42</td>\n",
              "      <td>1.973696</td>\n",
              "      <td>-1.811572</td>\n",
              "      <td>2654602.0</td>\n",
              "      <td>NaN</td>\n",
              "    </tr>\n",
              "    <tr>\n",
              "      <th>2018-03-19</th>\n",
              "      <td>1100.07</td>\n",
              "      <td>1.754434</td>\n",
              "      <td>-1.582630</td>\n",
              "      <td>3076349.0</td>\n",
              "      <td>NaN</td>\n",
              "    </tr>\n",
              "    <tr>\n",
              "      <th>2018-03-20</th>\n",
              "      <td>1095.80</td>\n",
              "      <td>0.889761</td>\n",
              "      <td>-0.236708</td>\n",
              "      <td>2709310.0</td>\n",
              "      <td>NaN</td>\n",
              "    </tr>\n",
              "    <tr>\n",
              "      <th>2018-03-21</th>\n",
              "      <td>1094.00</td>\n",
              "      <td>1.343693</td>\n",
              "      <td>0.130884</td>\n",
              "      <td>1990515.0</td>\n",
              "      <td>NaN</td>\n",
              "    </tr>\n",
              "    <tr>\n",
              "      <th>2018-03-22</th>\n",
              "      <td>1053.15</td>\n",
              "      <td>2.921711</td>\n",
              "      <td>-2.487014</td>\n",
              "      <td>3418154.0</td>\n",
              "      <td>NaN</td>\n",
              "    </tr>\n",
              "    <tr>\n",
              "      <th>2018-03-23</th>\n",
              "      <td>1026.55</td>\n",
              "      <td>3.918952</td>\n",
              "      <td>-2.360729</td>\n",
              "      <td>2413517.0</td>\n",
              "      <td>NaN</td>\n",
              "    </tr>\n",
              "    <tr>\n",
              "      <th>2018-03-26</th>\n",
              "      <td>1054.09</td>\n",
              "      <td>0.491419</td>\n",
              "      <td>0.332191</td>\n",
              "      <td>3272409.0</td>\n",
              "      <td>NaN</td>\n",
              "    </tr>\n",
              "    <tr>\n",
              "      <th>2018-03-27</th>\n",
              "      <td>1006.94</td>\n",
              "      <td>5.720301</td>\n",
              "      <td>-5.353887</td>\n",
              "      <td>2940957.0</td>\n",
              "      <td>NaN</td>\n",
              "    </tr>\n",
              "  </tbody>\n",
              "</table>\n",
              "</div>"
            ],
            "text/plain": [
              "            Adj. Close    HL_PCT  PCT_change  Adj. Volume    label\n",
              "Date                                                              \n",
              "2018-02-05     1068.76  4.325574   -2.893850    3742469.0  1006.94\n",
              "2018-02-06     1084.43  0.272032    4.879205    3732527.0      NaN\n",
              "2018-02-07     1055.41  2.948617   -2.724499    2544683.0      NaN\n",
              "2018-02-08     1005.60  5.800517   -5.120439    3067173.0      NaN\n",
              "2018-02-09     1043.43  0.794495    1.710726    4436032.0      NaN\n",
              "2018-02-12     1054.56  1.044037   -0.199684    2796258.0      NaN\n",
              "2018-02-13     1054.14  0.671638    0.394286    1574121.0      NaN\n",
              "2018-02-14     1072.70  0.258227    1.743304    2029979.0      NaN\n",
              "2018-02-15     1091.36  0.251063    0.730075    1806206.0      NaN\n",
              "2018-02-16     1095.50  1.169329    0.193894    1971928.0      NaN\n",
              "2018-02-20     1103.59  1.150790    0.991068    1646405.0      NaN\n",
              "2018-02-21     1113.75  2.015713    0.419259    2024534.0      NaN\n",
              "2018-02-22     1109.90  1.401928   -0.828292    1386115.0      NaN\n",
              "2018-02-23     1128.09  0.080667    0.842973    1234539.0      NaN\n",
              "2018-02-26     1143.70  0.043718    1.046066    1489118.0      NaN\n",
              "2018-02-27     1117.51  2.392820   -2.289936    2094863.0      NaN\n",
              "2018-02-28     1103.92  2.149612   -1.611408    2431023.0      NaN\n",
              "2018-03-01     1071.41  3.720331   -3.436559    2766856.0      NaN\n",
              "2018-03-02     1084.14  0.253657    2.472637    2508145.0      NaN\n",
              "2018-03-05     1094.76  0.586430    1.542486    1432369.0      NaN\n",
              "2018-03-06     1100.90  0.429648   -0.108883    1169068.0      NaN\n",
              "2018-03-07     1115.04  0.104032    2.033272    1537429.0      NaN\n",
              "2018-03-08     1129.38  0.182401    1.090226    1510478.0      NaN\n",
              "2018-03-09     1160.84  0.013783    1.872751    2070174.0      NaN\n",
              "2018-03-12     1165.93  1.048948    0.075533    2129297.0      NaN\n",
              "2018-03-13     1139.91  3.341492   -2.723945    2129435.0      NaN\n",
              "2018-03-14     1148.89  0.946131    0.269681    2033697.0      NaN\n",
              "2018-03-15     1150.61  1.033365    0.090469    1623868.0      NaN\n",
              "2018-03-16     1134.42  1.973696   -1.811572    2654602.0      NaN\n",
              "2018-03-19     1100.07  1.754434   -1.582630    3076349.0      NaN\n",
              "2018-03-20     1095.80  0.889761   -0.236708    2709310.0      NaN\n",
              "2018-03-21     1094.00  1.343693    0.130884    1990515.0      NaN\n",
              "2018-03-22     1053.15  2.921711   -2.487014    3418154.0      NaN\n",
              "2018-03-23     1026.55  3.918952   -2.360729    2413517.0      NaN\n",
              "2018-03-26     1054.09  0.491419    0.332191    3272409.0      NaN\n",
              "2018-03-27     1006.94  5.720301   -5.353887    2940957.0      NaN"
            ]
          },
          "metadata": {
            "tags": []
          },
          "execution_count": 71
        }
      ]
    },
    {
      "cell_type": "code",
      "metadata": {
        "id": "4qOlzYMXEtzg",
        "colab_type": "code",
        "colab": {}
      },
      "source": [
        "#df.dropna(inplace = True)\n",
        "#df.tail()"
      ],
      "execution_count": 72,
      "outputs": []
    },
    {
      "cell_type": "markdown",
      "metadata": {
        "id": "cK4YYr1LPSkM",
        "colab_type": "text"
      },
      "source": [
        ""
      ]
    },
    {
      "cell_type": "code",
      "metadata": {
        "id": "5gQ0OJcv8Fv7",
        "colab_type": "code",
        "colab": {}
      },
      "source": [
        "from sklearn import preprocessing, svm\n",
        "from sklearn import model_selection\n",
        "from sklearn.model_selection import train_test_split\n",
        "import numpy as np\n",
        "import pandas as pd"
      ],
      "execution_count": 73,
      "outputs": []
    },
    {
      "cell_type": "markdown",
      "metadata": {
        "id": "YArETmvhF-32",
        "colab_type": "text"
      },
      "source": [
        "## **Upper case X is the feature & Lower case y is the label**"
      ]
    },
    {
      "cell_type": "code",
      "metadata": {
        "id": "vbcBzIqWGN7-",
        "colab_type": "code",
        "colab": {
          "base_uri": "https://localhost:8080/",
          "height": 141
        },
        "outputId": "6cc45725-1e99-463c-fc74-ac8442da1b9d"
      },
      "source": [
        "df.head(2)"
      ],
      "execution_count": 74,
      "outputs": [
        {
          "output_type": "execute_result",
          "data": {
            "text/html": [
              "<div>\n",
              "<style scoped>\n",
              "    .dataframe tbody tr th:only-of-type {\n",
              "        vertical-align: middle;\n",
              "    }\n",
              "\n",
              "    .dataframe tbody tr th {\n",
              "        vertical-align: top;\n",
              "    }\n",
              "\n",
              "    .dataframe thead th {\n",
              "        text-align: right;\n",
              "    }\n",
              "</style>\n",
              "<table border=\"1\" class=\"dataframe\">\n",
              "  <thead>\n",
              "    <tr style=\"text-align: right;\">\n",
              "      <th></th>\n",
              "      <th>Adj. Close</th>\n",
              "      <th>HL_PCT</th>\n",
              "      <th>PCT_change</th>\n",
              "      <th>Adj. Volume</th>\n",
              "      <th>label</th>\n",
              "    </tr>\n",
              "    <tr>\n",
              "      <th>Date</th>\n",
              "      <th></th>\n",
              "      <th></th>\n",
              "      <th></th>\n",
              "      <th></th>\n",
              "      <th></th>\n",
              "    </tr>\n",
              "  </thead>\n",
              "  <tbody>\n",
              "    <tr>\n",
              "      <th>2004-08-19</th>\n",
              "      <td>50.322842</td>\n",
              "      <td>3.712563</td>\n",
              "      <td>0.324968</td>\n",
              "      <td>44659000.0</td>\n",
              "      <td>69.078238</td>\n",
              "    </tr>\n",
              "    <tr>\n",
              "      <th>2004-08-20</th>\n",
              "      <td>54.322689</td>\n",
              "      <td>0.710922</td>\n",
              "      <td>7.227007</td>\n",
              "      <td>22834300.0</td>\n",
              "      <td>67.839414</td>\n",
              "    </tr>\n",
              "  </tbody>\n",
              "</table>\n",
              "</div>"
            ],
            "text/plain": [
              "            Adj. Close    HL_PCT  PCT_change  Adj. Volume      label\n",
              "Date                                                                \n",
              "2004-08-19   50.322842  3.712563    0.324968   44659000.0  69.078238\n",
              "2004-08-20   54.322689  0.710922    7.227007   22834300.0  67.839414"
            ]
          },
          "metadata": {
            "tags": []
          },
          "execution_count": 74
        }
      ]
    },
    {
      "cell_type": "code",
      "metadata": {
        "id": "Rrm7MYgmFH0i",
        "colab_type": "code",
        "colab": {
          "base_uri": "https://localhost:8080/",
          "height": 141
        },
        "outputId": "c9fb67a5-e74d-4f55-85b7-46fee8e75f57"
      },
      "source": [
        "X = df.drop('label', axis = 1)\n",
        "X.head(2)"
      ],
      "execution_count": 75,
      "outputs": [
        {
          "output_type": "execute_result",
          "data": {
            "text/html": [
              "<div>\n",
              "<style scoped>\n",
              "    .dataframe tbody tr th:only-of-type {\n",
              "        vertical-align: middle;\n",
              "    }\n",
              "\n",
              "    .dataframe tbody tr th {\n",
              "        vertical-align: top;\n",
              "    }\n",
              "\n",
              "    .dataframe thead th {\n",
              "        text-align: right;\n",
              "    }\n",
              "</style>\n",
              "<table border=\"1\" class=\"dataframe\">\n",
              "  <thead>\n",
              "    <tr style=\"text-align: right;\">\n",
              "      <th></th>\n",
              "      <th>Adj. Close</th>\n",
              "      <th>HL_PCT</th>\n",
              "      <th>PCT_change</th>\n",
              "      <th>Adj. Volume</th>\n",
              "    </tr>\n",
              "    <tr>\n",
              "      <th>Date</th>\n",
              "      <th></th>\n",
              "      <th></th>\n",
              "      <th></th>\n",
              "      <th></th>\n",
              "    </tr>\n",
              "  </thead>\n",
              "  <tbody>\n",
              "    <tr>\n",
              "      <th>2004-08-19</th>\n",
              "      <td>50.322842</td>\n",
              "      <td>3.712563</td>\n",
              "      <td>0.324968</td>\n",
              "      <td>44659000.0</td>\n",
              "    </tr>\n",
              "    <tr>\n",
              "      <th>2004-08-20</th>\n",
              "      <td>54.322689</td>\n",
              "      <td>0.710922</td>\n",
              "      <td>7.227007</td>\n",
              "      <td>22834300.0</td>\n",
              "    </tr>\n",
              "  </tbody>\n",
              "</table>\n",
              "</div>"
            ],
            "text/plain": [
              "            Adj. Close    HL_PCT  PCT_change  Adj. Volume\n",
              "Date                                                     \n",
              "2004-08-19   50.322842  3.712563    0.324968   44659000.0\n",
              "2004-08-20   54.322689  0.710922    7.227007   22834300.0"
            ]
          },
          "metadata": {
            "tags": []
          },
          "execution_count": 75
        }
      ]
    },
    {
      "cell_type": "code",
      "metadata": {
        "id": "luv_3jLVDxkg",
        "colab_type": "code",
        "colab": {
          "base_uri": "https://localhost:8080/",
          "height": 234
        },
        "outputId": "c9fe1713-a5d6-48e9-d390-ee62c907b97b"
      },
      "source": [
        "X.head()"
      ],
      "execution_count": 76,
      "outputs": [
        {
          "output_type": "execute_result",
          "data": {
            "text/html": [
              "<div>\n",
              "<style scoped>\n",
              "    .dataframe tbody tr th:only-of-type {\n",
              "        vertical-align: middle;\n",
              "    }\n",
              "\n",
              "    .dataframe tbody tr th {\n",
              "        vertical-align: top;\n",
              "    }\n",
              "\n",
              "    .dataframe thead th {\n",
              "        text-align: right;\n",
              "    }\n",
              "</style>\n",
              "<table border=\"1\" class=\"dataframe\">\n",
              "  <thead>\n",
              "    <tr style=\"text-align: right;\">\n",
              "      <th></th>\n",
              "      <th>Adj. Close</th>\n",
              "      <th>HL_PCT</th>\n",
              "      <th>PCT_change</th>\n",
              "      <th>Adj. Volume</th>\n",
              "    </tr>\n",
              "    <tr>\n",
              "      <th>Date</th>\n",
              "      <th></th>\n",
              "      <th></th>\n",
              "      <th></th>\n",
              "      <th></th>\n",
              "    </tr>\n",
              "  </thead>\n",
              "  <tbody>\n",
              "    <tr>\n",
              "      <th>2004-08-19</th>\n",
              "      <td>50.322842</td>\n",
              "      <td>3.712563</td>\n",
              "      <td>0.324968</td>\n",
              "      <td>44659000.0</td>\n",
              "    </tr>\n",
              "    <tr>\n",
              "      <th>2004-08-20</th>\n",
              "      <td>54.322689</td>\n",
              "      <td>0.710922</td>\n",
              "      <td>7.227007</td>\n",
              "      <td>22834300.0</td>\n",
              "    </tr>\n",
              "    <tr>\n",
              "      <th>2004-08-23</th>\n",
              "      <td>54.869377</td>\n",
              "      <td>3.729433</td>\n",
              "      <td>-1.227880</td>\n",
              "      <td>18256100.0</td>\n",
              "    </tr>\n",
              "    <tr>\n",
              "      <th>2004-08-24</th>\n",
              "      <td>52.597363</td>\n",
              "      <td>6.417469</td>\n",
              "      <td>-5.726357</td>\n",
              "      <td>15247300.0</td>\n",
              "    </tr>\n",
              "    <tr>\n",
              "      <th>2004-08-25</th>\n",
              "      <td>53.164113</td>\n",
              "      <td>1.886792</td>\n",
              "      <td>1.183658</td>\n",
              "      <td>9188600.0</td>\n",
              "    </tr>\n",
              "  </tbody>\n",
              "</table>\n",
              "</div>"
            ],
            "text/plain": [
              "            Adj. Close    HL_PCT  PCT_change  Adj. Volume\n",
              "Date                                                     \n",
              "2004-08-19   50.322842  3.712563    0.324968   44659000.0\n",
              "2004-08-20   54.322689  0.710922    7.227007   22834300.0\n",
              "2004-08-23   54.869377  3.729433   -1.227880   18256100.0\n",
              "2004-08-24   52.597363  6.417469   -5.726357   15247300.0\n",
              "2004-08-25   53.164113  1.886792    1.183658    9188600.0"
            ]
          },
          "metadata": {
            "tags": []
          },
          "execution_count": 76
        }
      ]
    },
    {
      "cell_type": "code",
      "metadata": {
        "id": "9orZ6kUQHBog",
        "colab_type": "code",
        "colab": {
          "base_uri": "https://localhost:8080/",
          "height": 240
        },
        "outputId": "4f4163f8-bd0d-4f47-effe-a87e28155bc9"
      },
      "source": [
        "X = np.array(df.drop('label', axis = 1))\n",
        "X"
      ],
      "execution_count": 77,
      "outputs": [
        {
          "output_type": "execute_result",
          "data": {
            "text/plain": [
              "array([[ 5.03228418e+01,  3.71256291e+00,  3.24967503e-01,\n",
              "         4.46590000e+07],\n",
              "       [ 5.43226889e+01,  7.10922353e-01,  7.22700723e+00,\n",
              "         2.28343000e+07],\n",
              "       [ 5.48693765e+01,  3.72943327e+00, -1.22788010e+00,\n",
              "         1.82561000e+07],\n",
              "       ...,\n",
              "       [ 1.02655000e+03,  3.91895183e+00, -2.36072933e+00,\n",
              "         2.41351700e+06],\n",
              "       [ 1.05409000e+03,  4.91419139e-01,  3.32191129e-01,\n",
              "         3.27240900e+06],\n",
              "       [ 1.00694000e+03,  5.72030111e+00, -5.35388664e+00,\n",
              "         2.94095700e+06]])"
            ]
          },
          "metadata": {
            "tags": []
          },
          "execution_count": 77
        }
      ]
    },
    {
      "cell_type": "code",
      "metadata": {
        "id": "ZSa4DJEjGFOC",
        "colab_type": "code",
        "colab": {
          "base_uri": "https://localhost:8080/",
          "height": 86
        },
        "outputId": "ad027a4d-1fd2-4178-b720-2ee89221d4b1"
      },
      "source": [
        "y = df['label']\n",
        "y.head(2)"
      ],
      "execution_count": 78,
      "outputs": [
        {
          "output_type": "execute_result",
          "data": {
            "text/plain": [
              "Date\n",
              "2004-08-19    69.078238\n",
              "2004-08-20    67.839414\n",
              "Name: label, dtype: float64"
            ]
          },
          "metadata": {
            "tags": []
          },
          "execution_count": 78
        }
      ]
    },
    {
      "cell_type": "code",
      "metadata": {
        "id": "GYKESowlGFKG",
        "colab_type": "code",
        "colab": {
          "base_uri": "https://localhost:8080/",
          "height": 51
        },
        "outputId": "2ba5b5ce-bd53-4076-e949-fddd417a5284"
      },
      "source": [
        "y = np.array(df['label'])\n",
        "y"
      ],
      "execution_count": 79,
      "outputs": [
        {
          "output_type": "execute_result",
          "data": {
            "text/plain": [
              "array([69.0782379 , 67.83941377, 68.91272699, ...,         nan,\n",
              "               nan,         nan])"
            ]
          },
          "metadata": {
            "tags": []
          },
          "execution_count": 79
        }
      ]
    },
    {
      "cell_type": "markdown",
      "metadata": {
        "id": "GfwwlcbPPZqY",
        "colab_type": "text"
      },
      "source": [
        "Preprocess/ scale your X data before training and testing"
      ]
    },
    {
      "cell_type": "code",
      "metadata": {
        "id": "USggGWf9GFGk",
        "colab_type": "code",
        "colab": {
          "base_uri": "https://localhost:8080/",
          "height": 137
        },
        "outputId": "97781961-3532-4d8a-e44b-539efa80b725"
      },
      "source": [
        "X = preprocessing.scale(X)\n",
        "X"
      ],
      "execution_count": 80,
      "outputs": [
        {
          "output_type": "execute_result",
          "data": {
            "text/plain": [
              "array([[-1.39187095,  2.33516806,  0.23254018,  4.46712802],\n",
              "       [-1.37635178, -0.31135438,  4.81828847,  1.8207495 ],\n",
              "       [-1.37423066,  2.35004252, -0.79917922,  1.26561472],\n",
              "       ...,\n",
              "       [ 2.39583323,  2.51713951, -1.55184968, -0.65539548],\n",
              "       [ 2.50268682, -0.50488861,  0.23733959, -0.55124957],\n",
              "       [ 2.31974758,  4.10537475, -3.54051775, -0.59144015]])"
            ]
          },
          "metadata": {
            "tags": []
          },
          "execution_count": 80
        }
      ]
    },
    {
      "cell_type": "code",
      "metadata": {
        "id": "7APOvs_5GFDV",
        "colab_type": "code",
        "colab": {
          "base_uri": "https://localhost:8080/",
          "height": 34
        },
        "outputId": "d45020b7-e5d6-4cdd-bdd1-8b217199f35c"
      },
      "source": [
        "print(len(X), len(y))"
      ],
      "execution_count": 81,
      "outputs": [
        {
          "output_type": "stream",
          "text": [
            "3424 3424\n"
          ],
          "name": "stdout"
        }
      ]
    },
    {
      "cell_type": "code",
      "metadata": {
        "id": "sk6T_1FyEQOa",
        "colab_type": "code",
        "colab": {
          "base_uri": "https://localhost:8080/",
          "height": 34
        },
        "outputId": "3676c5f8-93c6-405a-8931-781af448923a"
      },
      "source": [
        "forecast_out"
      ],
      "execution_count": 82,
      "outputs": [
        {
          "output_type": "execute_result",
          "data": {
            "text/plain": [
              "35"
            ]
          },
          "metadata": {
            "tags": []
          },
          "execution_count": 82
        }
      ]
    },
    {
      "cell_type": "code",
      "metadata": {
        "id": "KjGbDzwfEJfx",
        "colab_type": "code",
        "colab": {
          "base_uri": "https://localhost:8080/",
          "height": 34
        },
        "outputId": "fc4de9be-c197-4b77-b7fc-7c6533b7e20a"
      },
      "source": [
        "X = X[:-forecast_out]\n",
        "len(X)"
      ],
      "execution_count": 83,
      "outputs": [
        {
          "output_type": "execute_result",
          "data": {
            "text/plain": [
              "3389"
            ]
          },
          "metadata": {
            "tags": []
          },
          "execution_count": 83
        }
      ]
    },
    {
      "cell_type": "code",
      "metadata": {
        "id": "qQSEf0qWEJdJ",
        "colab_type": "code",
        "colab": {
          "base_uri": "https://localhost:8080/",
          "height": 34
        },
        "outputId": "bd7af277-de1e-4f89-bd17-885546eb33b9"
      },
      "source": [
        "len(y)"
      ],
      "execution_count": 84,
      "outputs": [
        {
          "output_type": "execute_result",
          "data": {
            "text/plain": [
              "3424"
            ]
          },
          "metadata": {
            "tags": []
          },
          "execution_count": 84
        }
      ]
    },
    {
      "cell_type": "code",
      "metadata": {
        "id": "3_fXm_6KEksK",
        "colab_type": "code",
        "colab": {
          "base_uri": "https://localhost:8080/",
          "height": 34
        },
        "outputId": "2d549b08-9521-4d8e-9e89-273611fec71a"
      },
      "source": [
        "X_lately = X[-forecast_out:]\n",
        "len(X_lately)"
      ],
      "execution_count": 85,
      "outputs": [
        {
          "output_type": "execute_result",
          "data": {
            "text/plain": [
              "35"
            ]
          },
          "metadata": {
            "tags": []
          },
          "execution_count": 85
        }
      ]
    },
    {
      "cell_type": "code",
      "metadata": {
        "id": "-b-RLt_fE4hQ",
        "colab_type": "code",
        "colab": {
          "base_uri": "https://localhost:8080/",
          "height": 34
        },
        "outputId": "07d0602a-0488-4843-e0f6-f98fd2be71be"
      },
      "source": [
        "len(df)"
      ],
      "execution_count": 86,
      "outputs": [
        {
          "output_type": "execute_result",
          "data": {
            "text/plain": [
              "3424"
            ]
          },
          "metadata": {
            "tags": []
          },
          "execution_count": 86
        }
      ]
    },
    {
      "cell_type": "code",
      "metadata": {
        "id": "YgFnFAf9E8eH",
        "colab_type": "code",
        "colab": {
          "base_uri": "https://localhost:8080/",
          "height": 123
        },
        "outputId": "94ffde12-6be0-4f0d-a424-5ef12a649935"
      },
      "source": [
        "df.dropna(inplace = True)"
      ],
      "execution_count": 87,
      "outputs": [
        {
          "output_type": "stream",
          "text": [
            "/usr/local/lib/python3.6/dist-packages/ipykernel_launcher.py:1: SettingWithCopyWarning: \n",
            "A value is trying to be set on a copy of a slice from a DataFrame\n",
            "\n",
            "See the caveats in the documentation: https://pandas.pydata.org/pandas-docs/stable/user_guide/indexing.html#returning-a-view-versus-a-copy\n",
            "  \"\"\"Entry point for launching an IPython kernel.\n"
          ],
          "name": "stderr"
        }
      ]
    },
    {
      "cell_type": "code",
      "metadata": {
        "id": "Cmr3CR1GFFby",
        "colab_type": "code",
        "colab": {
          "base_uri": "https://localhost:8080/",
          "height": 34
        },
        "outputId": "30584868-8037-4563-b52a-dd66bffd4597"
      },
      "source": [
        "len(df)"
      ],
      "execution_count": 88,
      "outputs": [
        {
          "output_type": "execute_result",
          "data": {
            "text/plain": [
              "3389"
            ]
          },
          "metadata": {
            "tags": []
          },
          "execution_count": 88
        }
      ]
    },
    {
      "cell_type": "code",
      "metadata": {
        "id": "UbBo7qNrFI3x",
        "colab_type": "code",
        "colab": {
          "base_uri": "https://localhost:8080/",
          "height": 34
        },
        "outputId": "2be96a66-45a2-4910-9e61-b3ba523d43fa"
      },
      "source": [
        "y = np.array(df['label'])\n",
        "len(y)"
      ],
      "execution_count": 89,
      "outputs": [
        {
          "output_type": "execute_result",
          "data": {
            "text/plain": [
              "3389"
            ]
          },
          "metadata": {
            "tags": []
          },
          "execution_count": 89
        }
      ]
    },
    {
      "cell_type": "code",
      "metadata": {
        "id": "Wh1Hjtv_F2Io",
        "colab_type": "code",
        "colab": {
          "base_uri": "https://localhost:8080/",
          "height": 34
        },
        "outputId": "13fb39da-bf84-49fd-c4de-2af2a4424297"
      },
      "source": [
        "print(len(X), len(y))"
      ],
      "execution_count": 90,
      "outputs": [
        {
          "output_type": "stream",
          "text": [
            "3389 3389\n"
          ],
          "name": "stdout"
        }
      ]
    },
    {
      "cell_type": "code",
      "metadata": {
        "id": "y4plCS9bGFBg",
        "colab_type": "code",
        "colab": {}
      },
      "source": [
        "X_train, X_test , y_train, y_test = train_test_split(X, y, test_size = 0.2)"
      ],
      "execution_count": 91,
      "outputs": []
    },
    {
      "cell_type": "code",
      "metadata": {
        "id": "tRQ-iVP3GE6f",
        "colab_type": "code",
        "colab": {
          "base_uri": "https://localhost:8080/",
          "height": 137
        },
        "outputId": "59b2a545-0f53-4399-ec82-00540991ac3c"
      },
      "source": [
        "X_train"
      ],
      "execution_count": 92,
      "outputs": [
        {
          "output_type": "execute_result",
          "data": {
            "text/plain": [
              "array([[ 0.09696744, -0.25659011, -0.20755428, -0.64933474],\n",
              "       [ 0.55134788, -0.71740999,  0.45955865, -0.6607795 ],\n",
              "       [-0.29135242, -0.41778965, -0.29323137, -0.43633623],\n",
              "       ...,\n",
              "       [ 2.42729956, -0.5938978 , -0.06930632, -0.8449302 ],\n",
              "       [-0.37705328,  0.00756955, -0.63718448, -0.4287456 ],\n",
              "       [ 0.65525271, -0.69043047,  0.7042419 , -0.76697743]])"
            ]
          },
          "metadata": {
            "tags": []
          },
          "execution_count": 92
        }
      ]
    },
    {
      "cell_type": "code",
      "metadata": {
        "id": "kpJRWsPlGE3l",
        "colab_type": "code",
        "colab": {
          "base_uri": "https://localhost:8080/",
          "height": 137
        },
        "outputId": "17a0f9eb-b07f-4414-a5d4-f5e86f9b1fc1"
      },
      "source": [
        "X_test"
      ],
      "execution_count": 93,
      "outputs": [
        {
          "output_type": "execute_result",
          "data": {
            "text/plain": [
              "array([[-0.17022192, -0.54299683,  0.35105655, -0.2436845 ],\n",
              "       [-0.66116603, -0.26925186,  0.50329121, -0.14022878],\n",
              "       [-0.95430812, -0.93816893,  1.45908249, -0.07572052],\n",
              "       ...,\n",
              "       [ 1.34941303,  1.07602867, -0.88225562, -0.53702707],\n",
              "       [ 1.2525309 , -0.08042627,  0.20416602, -0.80645406],\n",
              "       [ 1.67272855, -0.56562893, -0.05130807, -0.81786256]])"
            ]
          },
          "metadata": {
            "tags": []
          },
          "execution_count": 93
        }
      ]
    },
    {
      "cell_type": "code",
      "metadata": {
        "id": "trCjYPf7GE08",
        "colab_type": "code",
        "colab": {
          "base_uri": "https://localhost:8080/",
          "height": 51
        },
        "outputId": "47c58a08-7032-469f-a6d4-f90f96a3c275"
      },
      "source": [
        "y_train"
      ],
      "execution_count": 94,
      "outputs": [
        {
          "output_type": "execute_result",
          "data": {
            "text/plain": [
              "array([ 429.25506928,  544.86      ,  362.74475832, ..., 1111.88      ,\n",
              "        306.67668154,  587.81      ])"
            ]
          },
          "metadata": {
            "tags": []
          },
          "execution_count": 94
        }
      ]
    },
    {
      "cell_type": "code",
      "metadata": {
        "id": "4CrJm5kzGExr",
        "colab_type": "code",
        "colab": {
          "base_uri": "https://localhost:8080/",
          "height": 1000
        },
        "outputId": "6d20d871-f226-495e-d96e-15dfd8c5ca0f"
      },
      "source": [
        "y_test"
      ],
      "execution_count": 95,
      "outputs": [
        {
          "output_type": "execute_result",
          "data": {
            "text/plain": [
              "array([ 333.98096725,  227.04586885,  164.08651937,  255.77455154,\n",
              "        267.38539309,  959.22      ,  265.19362732,  356.52054477,\n",
              "         84.61118663,  294.43388921,  535.08      ,  189.73068043,\n",
              "        258.4227262 ,  241.33497796,  849.87      ,  308.00578435,\n",
              "        268.30824184,  243.17565997,  229.70908995,  205.23353627,\n",
              "        417.04738533,  150.29895849,  321.61278787,  847.8       ,\n",
              "        242.80451428,  431.18101449, 1042.97      , 1026.55      ,\n",
              "        699.62      ,  611.01614832,  233.68636743,  317.97154771,\n",
              "        302.77965178,  294.7197717 ,  310.19755012,  959.9       ,\n",
              "        655.3       ,  204.03985147,  755.31      ,  351.46995408,\n",
              "        231.73534481,  188.68244463,  291.76565262,  367.78531804,\n",
              "        563.77      ,  953.53      ,  247.07770521,  800.94      ,\n",
              "        254.77145508,  334.03112207,  754.41      ,  591.97      ,\n",
              "        245.4075496 ,  533.20094022,  538.03      ,  815.95      ,\n",
              "        236.03862863,  518.38018999,  263.30279049,  542.65      ,\n",
              "        603.03150047,  448.12832922,  538.65      ,  842.17      ,\n",
              "        585.25      ,  210.97124803,  730.3       ,  283.04874436,\n",
              "        429.78069182,   96.91416474,  451.73446101,   95.99633148,\n",
              "        348.57602078,  314.35538496,  555.95      ,  239.29869214,\n",
              "        247.92532172,  524.58434161,  588.28096699,  275.35499449,\n",
              "        272.89239267,  943.29      ,  543.76      ,  311.01507374,\n",
              "        949.89      ,  309.34993361,  255.86483022, 1005.07      ,\n",
              "        706.36      ,  262.45517398,  776.7       ,  297.23754382,\n",
              "        311.52665293,  339.73372546,  325.67031306,  339.92932927,\n",
              "        272.04979164,  194.18442873,  783.79      ,  704.25      ,\n",
              "        258.39764879,  444.42690327, 1049.38      ,  301.31011546,\n",
              "        304.71562795,  264.4613669 ,   90.29874357,  313.10151438,\n",
              "        812.5       ,  549.2       ,  561.29      ,  243.87782749,\n",
              "       1043.43      ,  847.81      ,  213.94041356,  263.46328592,\n",
              "        303.36144773,  247.98049202,  240.3017886 ,  260.01263409,\n",
              "        170.11011362,  196.34108612,  707.88      ,  500.72      ,\n",
              "        337.47675842,  564.19      ,  851.        ,  240.66791881,\n",
              "        305.67358507,  413.56162512, 1033.04      ,  547.2       ,\n",
              "       1005.65      ,  217.54654534,  171.72008345,  760.04      ,\n",
              "        553.65      ,  284.2574756 ,  514.36278865,  593.08      ,\n",
              "        573.66      ,  548.7       ,  548.84      ,  808.2       ,\n",
              "        308.75309121,  243.04024194,  561.39      ,  396.31338144,\n",
              "        410.79809436,  757.08      ,  148.57363257,  288.03413378,\n",
              "        364.8763383 ,  717.51      ,  157.45605175,  380.09331164,\n",
              "        838.96      ,  341.91546027,  313.6632484 ,   93.22276976,\n",
              "         97.26023302, 1171.29      ,  237.03670961,  272.51121602,\n",
              "        948.45      ,  216.68889787,  244.34928283,  683.17      ,\n",
              "        191.2152632 ,  595.18227065,  514.18724677,  208.64406424,\n",
              "        258.79888737,  235.73268421,  231.36419912,  224.54309302,\n",
              "        302.1226236 ,  245.24203868,  765.84      ,  137.98093392,\n",
              "        277.33109452,  850.14      ,  954.72      ,  361.50593419,\n",
              "        809.57      ,  296.16924609,  155.56521492,  236.02859767,\n",
              "        224.80896373,  248.48204025,  580.75774352,  583.36      ,\n",
              "        293.80695392,  310.15241078, 1100.9       , 1130.7       ,\n",
              "        308.0760011 ,  155.81598903,  209.74747035,  222.84791015,\n",
              "        415.08633174, 1182.22      ,  184.94591031,  970.5       ,\n",
              "        278.71536764,  293.8972326 ,  747.74      ,  441.82888344,\n",
              "        231.60494227,  555.45      ,  196.15551328,  940.3       ,\n",
              "       1007.87      ,  292.10670542,   94.431501  ,  991.46      ,\n",
              "        258.84402671,  274.18638711,  263.67895166,  539.37      ,\n",
              "        300.57785504,  304.55011704,  290.41147239,  845.095     ,\n",
              "        317.79600583,  305.72875538,  270.43480634,  309.39005747,\n",
              "        220.42543219,  301.43048704,  507.27089666,  219.63800147,\n",
              "        268.50886113,  549.18      ,   88.07186942,  315.34845046,\n",
              "        254.18439287,  301.56590506,  599.02      ,  261.57244909,\n",
              "        299.72522305,  199.03440013,  294.28844022, 1095.5       ,\n",
              "        233.61113519,  307.21333814,  827.09      ,  560.38986984,\n",
              "         92.79645376,  245.98934554,  130.80879422,  780.23      ,\n",
              "        266.94904613,  308.09857077,   86.51706991,  585.69      ,\n",
              "        314.34535399,  552.51      ,  231.44946232,  864.58      ,\n",
              "        335.36524037,  975.96      ,  258.54309777,  729.05      ,\n",
              "        266.82365907,  195.60381022,  829.88      ,  841.46      ,\n",
              "        268.13771544,  274.37697544,  926.18      ,  240.85349166,\n",
              "        254.68619188,  193.8534069 ,  452.95322321,  334.80350635,\n",
              "        740.07      ,  335.64610738,  217.60171565,  245.83386559,\n",
              "        194.67093051,  237.34766952,  236.62945245,  313.46262911,\n",
              "         97.06964469,  795.39      ,  141.7325147 ,  263.66139748,\n",
              "        239.5093424 ,  149.18050593,  439.89290726, 1072.7       ,\n",
              "         89.76710245,  202.34963394,  554.21079563,  296.75605752,\n",
              "        200.59421513,  184.82052325,   93.4384355 ,  300.26187966,\n",
              "        258.35752493,  256.49176551,  236.01856671,  179.94045896,\n",
              "        656.99      ,  275.85654272, 1119.2       ,  849.27      ,\n",
              "        289.97512543,  242.09733127,  174.38832004,  246.62129632,\n",
              "        183.31086307,  765.12      ,  253.45739871,  232.81367351,\n",
              "        284.98973601,   84.96227039,   94.33119135,  391.55870421,\n",
              "         98.11286502,  267.72644589,  145.89536502,  732.17      ,\n",
              "        729.12      , 1053.4       ,  149.17047497,  317.31953501,\n",
              "        232.3622801 ,  950.44      ,  528.87257899,  199.69142831,\n",
              "        538.15122127,  244.90098588,  310.65897449, 1150.61      ,\n",
              "        807.05      ,  338.34443686,  551.82      ,  230.87769733,\n",
              "        958.62      , 1091.36      ,  780.29      ,  197.76046762,\n",
              "        258.85405768,  256.46167261,  238.24042537,  354.23850031,\n",
              "        223.13379264,  301.65618374,  227.18128687,  146.23641781,\n",
              "        268.72452687,  545.32      ,  257.52495487,  827.18      ,\n",
              "        315.79482838,  187.67934817,  261.38687625,  665.07      ,\n",
              "       1117.51      ,  253.14643881,  461.54474441,  189.28430251,\n",
              "        197.25891939,  769.83      ,  526.62      ,  293.77686103,\n",
              "        788.72      ,  293.37562244,  815.24      ,  354.11311326,\n",
              "         93.23781621,  226.08791172,  258.31740107,  290.15066731,\n",
              "        174.63407867,   86.09075391,  747.6       ,  232.91899864,\n",
              "        368.13138632, 1085.09      ,  589.52      , 1071.41      ,\n",
              "        191.06479873,  257.26414978,  208.14251601,  291.66534297,\n",
              "        298.78732786,  246.7667453 ,  540.63      ,  605.19      ,\n",
              "        721.46      ,  553.95      ,  307.83525795,  148.15233206,\n",
              "        396.41870657,  220.21979742,  333.73520862,  232.21683111,\n",
              "        309.99191535,  539.65      ,  808.49      ,  215.16419125,\n",
              "        327.61130471,  838.51      ,  169.11203264,  317.72578907,\n",
              "        147.12917366,  171.8755634 ,  255.54133161,  250.78916212,\n",
              "        241.54061273,  295.42193923,  378.9146733 ,  242.92488585,\n",
              "        729.13      ,  434.16522646,  218.28883673,  725.41      ,\n",
              "        572.54      ,  316.85309515,  798.82      ,  201.57223418,\n",
              "        243.07535032,  102.69200037,  324.36628766,  299.40924766,\n",
              "        541.54      ,  735.86      ,  283.12899208,  764.33      ,\n",
              "        762.85      ,  591.11      ,  233.21992757,  663.14      ,\n",
              "        161.15747769,  653.29      ,  222.81280177,  240.2466183 ,\n",
              "        517.30186129,  371.14067571,  804.57      ,  297.88955652,\n",
              "        329.51718799,  263.33789887,  170.81228115,  238.33571953,\n",
              "         92.63595833,  373.43275113,  222.67236827,  584.67      ,\n",
              "        208.83465257,  704.16      ,  829.23      ,  202.64554739,\n",
              "        186.04931642,  291.5449714 ,  560.4600866 ,  521.19      ,\n",
              "        284.92955023,  182.08708539,  314.35538496,  657.5       ,\n",
              "        807.99      ,  140.56390732,  195.45334575,  275.14434423,\n",
              "        785.        ,  595.44      ,  171.34893776,  767.13      ,\n",
              "        341.89539834,  271.65356854,  297.48831794,  166.51401281,\n",
              "        564.37      ,  298.99296263,  242.06723838,  397.9133203 ,\n",
              "        290.95314448,  272.17016322,   97.83199801,  285.42608297,\n",
              "        568.46981185,  541.7       ,  202.79601186,  350.68452955,\n",
              "        110.3406109 ,  173.76138475,  233.34531463,  545.2       ,\n",
              "         95.61515482,  559.5       ,  300.35717382,  703.53      ,\n",
              "        542.69      ,  189.83099008,  412.04193398,  177.10169597,\n",
              "        728.07      ,  264.6619862 ,  188.27619056,  955.89      ,\n",
              "        177.07661856,  717.22      ,  408.41172788,  230.5466755 ,\n",
              "         90.80530728,  801.19      ,   92.87670148,  450.40485664,\n",
              "        237.74389262,   97.05459825,  927.69      ,  244.35429831,\n",
              "        811.77      ,  143.44279416,  530.72830744,  238.66674137,\n",
              "        296.66577884,  156.97958093,  745.98      ,  145.92044243,\n",
              "        795.17      ,  144.07976042,  964.07      , 1063.29      ,\n",
              "        543.045     ,  721.71      ,  807.8       ,  211.91917419,\n",
              "        733.62      ,  326.51291409,  153.52391361,  245.6332463 ,\n",
              "        200.11774431, 1041.2       ,  220.4806025 ,  642.        ,\n",
              "       1053.15      ,  344.97490448,  439.55185447,  241.14438963,\n",
              "        234.46878267,  170.63673927,  254.83665635,  242.50860082,\n",
              "        930.09      ,  730.55      ,  507.45646951,  748.46      ,\n",
              "        142.22904744,   97.9172612 ,  237.13200378, 1103.59      ,\n",
              "        298.23060932,  241.88166553,  281.31840296,  315.43872914,\n",
              "        235.88816417,  283.47506035,  308.45216228,  212.9373171 ,\n",
              "        644.03      ,  397.67257715,  205.88554897,  320.98083709,\n",
              "        162.85271072,  298.59673953,  570.56      ,  860.08      ,\n",
              "        536.92      ,  255.66922641,  245.67337016,  316.81793662,\n",
              "        238.47113756,  396.24818017,  985.54      ,  853.99      ,\n",
              "        250.63368217,  147.01381757,  283.21425527,  975.22      ,\n",
              "        307.04782723,  226.8051257 ,  544.51      , 1143.7       ,\n",
              "        241.27479217,  304.91123176,  556.18      ,  191.32560381,\n",
              "        272.45103023, 1060.2       ,  312.53476488,  195.80442952,\n",
              "        445.71086675,  954.84      ,  741.        ,  228.21949171,\n",
              "        310.07216306,  243.51169728,  303.2561226 ,  191.79204367,\n",
              "        194.74636337,  156.52317204,  158.10806445,  266.38229663,\n",
              "         96.79379317,  272.24037997,  341.20205807,  169.5784725 ,\n",
              "        821.49      ,  234.30327175,   74.81093419, 1109.9       ,\n",
              "        764.32      ,  506.91      ,  453.94628871,  592.42      ,\n",
              "        181.87141965,  354.59459956,  795.82      ,  284.51326519,\n",
              "        267.33523827,  867.91      ,  151.66818516,  179.57432875,\n",
              "         94.24091267,  777.85      ,  262.82631967,  349.85998426,\n",
              "        247.3334948 ,  788.48      ,  991.86      ,  201.51204839,\n",
              "        310.1473953 ,  290.19079117,  187.82981264,  761.53      ,\n",
              "        436.01092395,   98.95546604,  143.59827412,  218.71013724,\n",
              "        219.71824919,  205.83539414,  307.95061404,  753.28      ,\n",
              "        303.97333657,  242.14748609, 1128.09      ,  573.14      ,\n",
              "        358.54178414,  184.61990396,  453.90114936,  198.63316154,\n",
              "        183.79736486,  938.93      ,  250.13213394,  265.95096515,\n",
              "        498.16      ,  578.33      ,  872.37      ,  286.62478325,\n",
              "        441.22702556,  220.77150047,  162.43642568,  264.24570117,\n",
              "        738.1       ,  274.14626325,  280.86700955,  338.62028839,\n",
              "        544.65      ,  671.68      ,  956.71      ,  706.85      ,\n",
              "        800.12      , 1003.88      ])"
            ]
          },
          "metadata": {
            "tags": []
          },
          "execution_count": 95
        }
      ]
    },
    {
      "cell_type": "markdown",
      "metadata": {
        "id": "Yf4OEAmYVydB",
        "colab_type": "text"
      },
      "source": [
        "## **Calling the Model(classifier)**"
      ]
    },
    {
      "cell_type": "markdown",
      "metadata": {
        "id": "C5ofxsS2by6m",
        "colab_type": "text"
      },
      "source": [
        "## **Using Linear Regression**"
      ]
    },
    {
      "cell_type": "code",
      "metadata": {
        "id": "9eSbK3yxWCnN",
        "colab_type": "code",
        "colab": {}
      },
      "source": [
        "from sklearn.linear_model import LinearRegression"
      ],
      "execution_count": 96,
      "outputs": []
    },
    {
      "cell_type": "code",
      "metadata": {
        "id": "WMh6fP4eV2yj",
        "colab_type": "code",
        "colab": {
          "base_uri": "https://localhost:8080/",
          "height": 34
        },
        "outputId": "f39f533a-34a0-4ab2-9189-6bf2ce3ba47e"
      },
      "source": [
        "clf = LinearRegression()\n",
        "clf"
      ],
      "execution_count": 97,
      "outputs": [
        {
          "output_type": "execute_result",
          "data": {
            "text/plain": [
              "LinearRegression(copy_X=True, fit_intercept=True, n_jobs=None, normalize=False)"
            ]
          },
          "metadata": {
            "tags": []
          },
          "execution_count": 97
        }
      ]
    },
    {
      "cell_type": "markdown",
      "metadata": {
        "id": "Q3Rt9mreX0Fc",
        "colab_type": "text"
      },
      "source": [
        "You fit training data and test/score the test data to see how good your model is"
      ]
    },
    {
      "cell_type": "code",
      "metadata": {
        "id": "Dtk5qZNsV6NA",
        "colab_type": "code",
        "colab": {
          "base_uri": "https://localhost:8080/",
          "height": 34
        },
        "outputId": "5179f943-f0f9-4a6d-8907-27c4198bcfbf"
      },
      "source": [
        "train = clf.fit(X_train,y_train)\n",
        "train"
      ],
      "execution_count": 98,
      "outputs": [
        {
          "output_type": "execute_result",
          "data": {
            "text/plain": [
              "LinearRegression(copy_X=True, fit_intercept=True, n_jobs=None, normalize=False)"
            ]
          },
          "metadata": {
            "tags": []
          },
          "execution_count": 98
        }
      ]
    },
    {
      "cell_type": "code",
      "metadata": {
        "id": "2dUt5xOUV58-",
        "colab_type": "code",
        "colab": {}
      },
      "source": [
        "import pandas as pd\n",
        "import matplotlib.pyplot as plt"
      ],
      "execution_count": 99,
      "outputs": []
    },
    {
      "cell_type": "markdown",
      "metadata": {
        "id": "VAd_dbIAaLrn",
        "colab_type": "text"
      },
      "source": [
        "test_size = 0.2 means 80% of the data is used for training"
      ]
    },
    {
      "cell_type": "code",
      "metadata": {
        "id": "-l3RfYMLYuAV",
        "colab_type": "code",
        "colab": {
          "base_uri": "https://localhost:8080/",
          "height": 34
        },
        "outputId": "73f2cea0-2a8a-4a76-afe0-274c6f35f0ff"
      },
      "source": [
        "print(len(X_train), len(y_train))"
      ],
      "execution_count": 100,
      "outputs": [
        {
          "output_type": "stream",
          "text": [
            "2711 2711\n"
          ],
          "name": "stdout"
        }
      ]
    },
    {
      "cell_type": "markdown",
      "metadata": {
        "id": "E2_kiXiRaEKC",
        "colab_type": "text"
      },
      "source": [
        "test_size = 0.2 means 20% of the data is used for testing"
      ]
    },
    {
      "cell_type": "code",
      "metadata": {
        "id": "n-pELRsaZpBF",
        "colab_type": "code",
        "colab": {
          "base_uri": "https://localhost:8080/",
          "height": 34
        },
        "outputId": "5929921a-15ff-4142-eaed-293d57818be3"
      },
      "source": [
        "print(len(X_test), len(y_test))"
      ],
      "execution_count": 101,
      "outputs": [
        {
          "output_type": "stream",
          "text": [
            "678 678\n"
          ],
          "name": "stdout"
        }
      ]
    },
    {
      "cell_type": "code",
      "metadata": {
        "id": "Rn0Gf2XUZ0Er",
        "colab_type": "code",
        "colab": {
          "base_uri": "https://localhost:8080/",
          "height": 34
        },
        "outputId": "0b2a8ac4-d173-43d4-f893-9291642fa74a"
      },
      "source": [
        "print(len(X), len(y))"
      ],
      "execution_count": 102,
      "outputs": [
        {
          "output_type": "stream",
          "text": [
            "3389 3389\n"
          ],
          "name": "stdout"
        }
      ]
    },
    {
      "cell_type": "code",
      "metadata": {
        "id": "OVoI89ccV56q",
        "colab_type": "code",
        "colab": {}
      },
      "source": [
        "#plt.scatter(X_train, y_train)"
      ],
      "execution_count": 103,
      "outputs": []
    },
    {
      "cell_type": "code",
      "metadata": {
        "id": "FEaFI7vhV53A",
        "colab_type": "code",
        "colab": {
          "base_uri": "https://localhost:8080/",
          "height": 34
        },
        "outputId": "c4e31434-f115-4ef6-9a9a-83aa310efc58"
      },
      "source": [
        "train = clf.fit(X_train,y_train)\n",
        "train"
      ],
      "execution_count": 104,
      "outputs": [
        {
          "output_type": "execute_result",
          "data": {
            "text/plain": [
              "LinearRegression(copy_X=True, fit_intercept=True, n_jobs=None, normalize=False)"
            ]
          },
          "metadata": {
            "tags": []
          },
          "execution_count": 104
        }
      ]
    },
    {
      "cell_type": "code",
      "metadata": {
        "id": "fNxfkjmuV51R",
        "colab_type": "code",
        "colab": {
          "base_uri": "https://localhost:8080/",
          "height": 34
        },
        "outputId": "20d7530f-bae4-4aa7-aec3-1c9548c71c45"
      },
      "source": [
        "accuracy = train.score(X_test,y_test)\n",
        "accuracy"
      ],
      "execution_count": 105,
      "outputs": [
        {
          "output_type": "execute_result",
          "data": {
            "text/plain": [
              "0.9774503278357185"
            ]
          },
          "metadata": {
            "tags": []
          },
          "execution_count": 105
        }
      ]
    },
    {
      "cell_type": "markdown",
      "metadata": {
        "id": "jnVLEKESJLp6",
        "colab_type": "text"
      },
      "source": [
        "Scoring your model is just a way to see how good your data is behaving with the data you have already, It is a way to evaluate how your data ois doing."
      ]
    },
    {
      "cell_type": "markdown",
      "metadata": {
        "id": "fpz9rzypexUl",
        "colab_type": "text"
      },
      "source": [
        "[link text](https://)n_jobs is the no of processors being used by a thread\n"
      ]
    },
    {
      "cell_type": "code",
      "metadata": {
        "id": "bJmS6SN6ejrA",
        "colab_type": "code",
        "colab": {
          "base_uri": "https://localhost:8080/",
          "height": 34
        },
        "outputId": "765a5a0e-20df-4b7a-f1c5-3c818c00baf1"
      },
      "source": [
        "clf = LinearRegression(n_jobs= -1)\n",
        "clf.fit(X_train,y_train)\n",
        "accuracy = clf.score(X_test,y_test)\n",
        "accuracy"
      ],
      "execution_count": 106,
      "outputs": [
        {
          "output_type": "execute_result",
          "data": {
            "text/plain": [
              "0.9774503278357185"
            ]
          },
          "metadata": {
            "tags": []
          },
          "execution_count": 106
        }
      ]
    },
    {
      "cell_type": "markdown",
      "metadata": {
        "id": "u0Ki8qRmbtQy",
        "colab_type": "text"
      },
      "source": [
        "## **Using SVM**\n",
        "\n",
        "*   List item\n",
        "*   List item\n",
        "\n"
      ]
    },
    {
      "cell_type": "code",
      "metadata": {
        "id": "MzKZTZaLV5x-",
        "colab_type": "code",
        "colab": {}
      },
      "source": [
        "from sklearn import svm"
      ],
      "execution_count": 107,
      "outputs": []
    },
    {
      "cell_type": "code",
      "metadata": {
        "id": "jSRcJXRhV5uh",
        "colab_type": "code",
        "colab": {
          "base_uri": "https://localhost:8080/",
          "height": 34
        },
        "outputId": "912c3acc-9db0-4368-d461-850590d8dbe2"
      },
      "source": [
        "clf = svm.SVR()\n",
        "clf.fit(X_train,y_train)\n",
        "accuracy = clf.score(X_test,y_test)\n",
        "accuracy"
      ],
      "execution_count": 108,
      "outputs": [
        {
          "output_type": "execute_result",
          "data": {
            "text/plain": [
              "0.783297359457747"
            ]
          },
          "metadata": {
            "tags": []
          },
          "execution_count": 108
        }
      ]
    },
    {
      "cell_type": "code",
      "metadata": {
        "id": "2p4BpcKzcZeB",
        "colab_type": "code",
        "colab": {
          "base_uri": "https://localhost:8080/",
          "height": 34
        },
        "outputId": "b8d44321-9af5-4d5a-8c93-63c94ce7c060"
      },
      "source": [
        "accuracy"
      ],
      "execution_count": 109,
      "outputs": [
        {
          "output_type": "execute_result",
          "data": {
            "text/plain": [
              "0.783297359457747"
            ]
          },
          "metadata": {
            "tags": []
          },
          "execution_count": 109
        }
      ]
    },
    {
      "cell_type": "code",
      "metadata": {
        "id": "vZ4zb3-LdBe9",
        "colab_type": "code",
        "colab": {
          "base_uri": "https://localhost:8080/",
          "height": 34
        },
        "outputId": "355ccc24-c2f3-4afa-98da-4075faf563e7"
      },
      "source": [
        "clf = svm.SVR()\n",
        "clf.fit(X_train,y_train)\n",
        "accuracy = clf.score(X_test,y_test)\n",
        "accuracy"
      ],
      "execution_count": 110,
      "outputs": [
        {
          "output_type": "execute_result",
          "data": {
            "text/plain": [
              "0.783297359457747"
            ]
          },
          "metadata": {
            "tags": []
          },
          "execution_count": 110
        }
      ]
    },
    {
      "cell_type": "code",
      "metadata": {
        "id": "PCBoWrX3dEUL",
        "colab_type": "code",
        "colab": {
          "base_uri": "https://localhost:8080/",
          "height": 34
        },
        "outputId": "4d39f9c9-9c57-4b6c-ba6a-deea016e86d7"
      },
      "source": [
        "clf = svm.SVR(kernel='poly')\n",
        "clf.fit(X_train,y_train)\n",
        "accuracy = clf.score(X_test,y_test)\n",
        "accuracy"
      ],
      "execution_count": 111,
      "outputs": [
        {
          "output_type": "execute_result",
          "data": {
            "text/plain": [
              "0.654379172815217"
            ]
          },
          "metadata": {
            "tags": []
          },
          "execution_count": 111
        }
      ]
    },
    {
      "cell_type": "code",
      "metadata": {
        "id": "wOnVQEtYdOIf",
        "colab_type": "code",
        "colab": {
          "base_uri": "https://localhost:8080/",
          "height": 34
        },
        "outputId": "5dbd946b-8ccb-49a6-fec9-244188d1b702"
      },
      "source": [
        "clf = svm.SVR(kernel='linear')\n",
        "clf.fit(X_train,y_train)\n",
        "accuracy = clf.score(X_test,y_test)\n",
        "accuracy"
      ],
      "execution_count": 112,
      "outputs": [
        {
          "output_type": "execute_result",
          "data": {
            "text/plain": [
              "0.9760003494344367"
            ]
          },
          "metadata": {
            "tags": []
          },
          "execution_count": 112
        }
      ]
    },
    {
      "cell_type": "markdown",
      "metadata": {
        "id": "UY5mZWrGji28",
        "colab_type": "text"
      },
      "source": [
        "## **Predicting values**"
      ]
    },
    {
      "cell_type": "code",
      "metadata": {
        "id": "SX3Nkd2xKTzC",
        "colab_type": "code",
        "colab": {
          "base_uri": "https://localhost:8080/",
          "height": 34
        },
        "outputId": "cb6e8963-dc1a-42a4-9795-55ed064f9965"
      },
      "source": [
        "clf = LinearRegression(n_jobs= -1)\n",
        "clf.fit(X_train,y_train)\n",
        "accuracy = clf.score(X_test,y_test)\n",
        "accuracy"
      ],
      "execution_count": 113,
      "outputs": [
        {
          "output_type": "execute_result",
          "data": {
            "text/plain": [
              "0.9774503278357185"
            ]
          },
          "metadata": {
            "tags": []
          },
          "execution_count": 113
        }
      ]
    },
    {
      "cell_type": "code",
      "metadata": {
        "id": "wt3zlcSDKZld",
        "colab_type": "code",
        "colab": {
          "base_uri": "https://localhost:8080/",
          "height": 171
        },
        "outputId": "db2e7227-06a7-4acf-c6b5-3d977d2b22e5"
      },
      "source": [
        "#forecast_set is the predicted label for the features passed through the model\n",
        "forecast_set = clf.predict(X_lately)\n",
        "forecast_set"
      ],
      "execution_count": 114,
      "outputs": [
        {
          "output_type": "execute_result",
          "data": {
            "text/plain": [
              "array([1076.91597846, 1091.52807103, 1105.54152905, 1100.15008723,\n",
              "       1093.65224438, 1091.03865004, 1089.49588534, 1086.46406257,\n",
              "       1080.25272499, 1075.88643788, 1073.60879153, 1093.07218026,\n",
              "       1111.4311054 , 1115.89305059, 1130.81108569, 1134.81475767,\n",
              "       1133.45429908, 1130.99948022, 1132.78015785, 1151.12899608,\n",
              "       1150.1504174 , 1160.3552426 , 1156.89859396, 1164.69667826,\n",
              "       1184.92736538, 1197.28985341, 1191.47488042, 1203.52467149,\n",
              "       1209.08488325, 1207.06370201, 1197.83488442, 1203.45850485,\n",
              "       1202.04624339, 1137.59633625, 1084.29319495])"
            ]
          },
          "metadata": {
            "tags": []
          },
          "execution_count": 114
        }
      ]
    },
    {
      "cell_type": "code",
      "metadata": {
        "id": "93uzLg3KKkxI",
        "colab_type": "code",
        "colab": {
          "base_uri": "https://localhost:8080/",
          "height": 34
        },
        "outputId": "a44c0a0f-2f01-4cfa-93a5-0f0131099ae5"
      },
      "source": [
        "len(X_lately)"
      ],
      "execution_count": 115,
      "outputs": [
        {
          "output_type": "execute_result",
          "data": {
            "text/plain": [
              "35"
            ]
          },
          "metadata": {
            "tags": []
          },
          "execution_count": 115
        }
      ]
    },
    {
      "cell_type": "code",
      "metadata": {
        "id": "YJUpBpzaKqg6",
        "colab_type": "code",
        "colab": {
          "base_uri": "https://localhost:8080/",
          "height": 34
        },
        "outputId": "1b161748-160c-4805-d688-5f9d0ccb5f97"
      },
      "source": [
        "len(forecast_set)"
      ],
      "execution_count": 116,
      "outputs": [
        {
          "output_type": "execute_result",
          "data": {
            "text/plain": [
              "35"
            ]
          },
          "metadata": {
            "tags": []
          },
          "execution_count": 116
        }
      ]
    },
    {
      "cell_type": "code",
      "metadata": {
        "id": "HTfRVs8TKvCa",
        "colab_type": "code",
        "colab": {
          "base_uri": "https://localhost:8080/",
          "height": 137
        },
        "outputId": "1d4001d7-2c5a-454b-b7cd-05d1421addb7"
      },
      "source": [
        "print(forecast_set, accuracy, forecast_out)"
      ],
      "execution_count": 117,
      "outputs": [
        {
          "output_type": "stream",
          "text": [
            "[1076.91597846 1091.52807103 1105.54152905 1100.15008723 1093.65224438\n",
            " 1091.03865004 1089.49588534 1086.46406257 1080.25272499 1075.88643788\n",
            " 1073.60879153 1093.07218026 1111.4311054  1115.89305059 1130.81108569\n",
            " 1134.81475767 1133.45429908 1130.99948022 1132.78015785 1151.12899608\n",
            " 1150.1504174  1160.3552426  1156.89859396 1164.69667826 1184.92736538\n",
            " 1197.28985341 1191.47488042 1203.52467149 1209.08488325 1207.06370201\n",
            " 1197.83488442 1203.45850485 1202.04624339 1137.59633625 1084.29319495] 0.9774503278357185 35\n"
          ],
          "name": "stdout"
        }
      ]
    },
    {
      "cell_type": "code",
      "metadata": {
        "id": "_I1hY5k3K2tL",
        "colab_type": "code",
        "colab": {}
      },
      "source": [
        "import datetime"
      ],
      "execution_count": 118,
      "outputs": []
    },
    {
      "cell_type": "code",
      "metadata": {
        "id": "7VV4H6f1udwb",
        "colab_type": "code",
        "colab": {
          "base_uri": "https://localhost:8080/",
          "height": 326
        },
        "outputId": "f1f4f912-9310-48a4-c296-86141935fe29"
      },
      "source": [
        "dir(datetime)"
      ],
      "execution_count": 119,
      "outputs": [
        {
          "output_type": "execute_result",
          "data": {
            "text/plain": [
              "['MAXYEAR',\n",
              " 'MINYEAR',\n",
              " '__builtins__',\n",
              " '__cached__',\n",
              " '__doc__',\n",
              " '__file__',\n",
              " '__loader__',\n",
              " '__name__',\n",
              " '__package__',\n",
              " '__spec__',\n",
              " 'date',\n",
              " 'datetime',\n",
              " 'datetime_CAPI',\n",
              " 'sys',\n",
              " 'time',\n",
              " 'timedelta',\n",
              " 'timezone',\n",
              " 'tzinfo']"
            ]
          },
          "metadata": {
            "tags": []
          },
          "execution_count": 119
        }
      ]
    },
    {
      "cell_type": "code",
      "metadata": {
        "id": "jMU9Nv8uumDE",
        "colab_type": "code",
        "colab": {}
      },
      "source": [
        "from datetime import datetime"
      ],
      "execution_count": 120,
      "outputs": []
    },
    {
      "cell_type": "code",
      "metadata": {
        "id": "OZu0RIioupsj",
        "colab_type": "code",
        "colab": {
          "base_uri": "https://localhost:8080/",
          "height": 1000
        },
        "outputId": "30094be6-ec3e-40cb-fca7-df99e7123f22"
      },
      "source": [
        "dir(datetime)"
      ],
      "execution_count": 121,
      "outputs": [
        {
          "output_type": "execute_result",
          "data": {
            "text/plain": [
              "['__add__',\n",
              " '__class__',\n",
              " '__delattr__',\n",
              " '__dir__',\n",
              " '__doc__',\n",
              " '__eq__',\n",
              " '__format__',\n",
              " '__ge__',\n",
              " '__getattribute__',\n",
              " '__gt__',\n",
              " '__hash__',\n",
              " '__init__',\n",
              " '__init_subclass__',\n",
              " '__le__',\n",
              " '__lt__',\n",
              " '__ne__',\n",
              " '__new__',\n",
              " '__radd__',\n",
              " '__reduce__',\n",
              " '__reduce_ex__',\n",
              " '__repr__',\n",
              " '__rsub__',\n",
              " '__setattr__',\n",
              " '__sizeof__',\n",
              " '__str__',\n",
              " '__sub__',\n",
              " '__subclasshook__',\n",
              " 'astimezone',\n",
              " 'combine',\n",
              " 'ctime',\n",
              " 'date',\n",
              " 'day',\n",
              " 'dst',\n",
              " 'fold',\n",
              " 'fromordinal',\n",
              " 'fromtimestamp',\n",
              " 'hour',\n",
              " 'isocalendar',\n",
              " 'isoformat',\n",
              " 'isoweekday',\n",
              " 'max',\n",
              " 'microsecond',\n",
              " 'min',\n",
              " 'minute',\n",
              " 'month',\n",
              " 'now',\n",
              " 'replace',\n",
              " 'resolution',\n",
              " 'second',\n",
              " 'strftime',\n",
              " 'strptime',\n",
              " 'time',\n",
              " 'timestamp',\n",
              " 'timetuple',\n",
              " 'timetz',\n",
              " 'today',\n",
              " 'toordinal',\n",
              " 'tzinfo',\n",
              " 'tzname',\n",
              " 'utcfromtimestamp',\n",
              " 'utcnow',\n",
              " 'utcoffset',\n",
              " 'utctimetuple',\n",
              " 'weekday',\n",
              " 'year']"
            ]
          },
          "metadata": {
            "tags": []
          },
          "execution_count": 121
        }
      ]
    },
    {
      "cell_type": "code",
      "metadata": {
        "id": "oLU1hTDj-MtC",
        "colab_type": "code",
        "colab": {}
      },
      "source": [
        "import datetime\n",
        "import matplotlib.pyplot as plt\n",
        "from matplotlib import style\n",
        "style.use('ggplot')"
      ],
      "execution_count": 122,
      "outputs": []
    },
    {
      "cell_type": "code",
      "metadata": {
        "id": "zbZ8oifc-li8",
        "colab_type": "code",
        "colab": {
          "base_uri": "https://localhost:8080/",
          "height": 234
        },
        "outputId": "a5576ec9-0f33-4519-d0e5-7f87780765ad"
      },
      "source": [
        "df.head()"
      ],
      "execution_count": 123,
      "outputs": [
        {
          "output_type": "execute_result",
          "data": {
            "text/html": [
              "<div>\n",
              "<style scoped>\n",
              "    .dataframe tbody tr th:only-of-type {\n",
              "        vertical-align: middle;\n",
              "    }\n",
              "\n",
              "    .dataframe tbody tr th {\n",
              "        vertical-align: top;\n",
              "    }\n",
              "\n",
              "    .dataframe thead th {\n",
              "        text-align: right;\n",
              "    }\n",
              "</style>\n",
              "<table border=\"1\" class=\"dataframe\">\n",
              "  <thead>\n",
              "    <tr style=\"text-align: right;\">\n",
              "      <th></th>\n",
              "      <th>Adj. Close</th>\n",
              "      <th>HL_PCT</th>\n",
              "      <th>PCT_change</th>\n",
              "      <th>Adj. Volume</th>\n",
              "      <th>label</th>\n",
              "    </tr>\n",
              "    <tr>\n",
              "      <th>Date</th>\n",
              "      <th></th>\n",
              "      <th></th>\n",
              "      <th></th>\n",
              "      <th></th>\n",
              "      <th></th>\n",
              "    </tr>\n",
              "  </thead>\n",
              "  <tbody>\n",
              "    <tr>\n",
              "      <th>2004-08-19</th>\n",
              "      <td>50.322842</td>\n",
              "      <td>3.712563</td>\n",
              "      <td>0.324968</td>\n",
              "      <td>44659000.0</td>\n",
              "      <td>69.078238</td>\n",
              "    </tr>\n",
              "    <tr>\n",
              "      <th>2004-08-20</th>\n",
              "      <td>54.322689</td>\n",
              "      <td>0.710922</td>\n",
              "      <td>7.227007</td>\n",
              "      <td>22834300.0</td>\n",
              "      <td>67.839414</td>\n",
              "    </tr>\n",
              "    <tr>\n",
              "      <th>2004-08-23</th>\n",
              "      <td>54.869377</td>\n",
              "      <td>3.729433</td>\n",
              "      <td>-1.227880</td>\n",
              "      <td>18256100.0</td>\n",
              "      <td>68.912727</td>\n",
              "    </tr>\n",
              "    <tr>\n",
              "      <th>2004-08-24</th>\n",
              "      <td>52.597363</td>\n",
              "      <td>6.417469</td>\n",
              "      <td>-5.726357</td>\n",
              "      <td>15247300.0</td>\n",
              "      <td>70.668146</td>\n",
              "    </tr>\n",
              "    <tr>\n",
              "      <th>2004-08-25</th>\n",
              "      <td>53.164113</td>\n",
              "      <td>1.886792</td>\n",
              "      <td>1.183658</td>\n",
              "      <td>9188600.0</td>\n",
              "      <td>71.219849</td>\n",
              "    </tr>\n",
              "  </tbody>\n",
              "</table>\n",
              "</div>"
            ],
            "text/plain": [
              "            Adj. Close    HL_PCT  PCT_change  Adj. Volume      label\n",
              "Date                                                                \n",
              "2004-08-19   50.322842  3.712563    0.324968   44659000.0  69.078238\n",
              "2004-08-20   54.322689  0.710922    7.227007   22834300.0  67.839414\n",
              "2004-08-23   54.869377  3.729433   -1.227880   18256100.0  68.912727\n",
              "2004-08-24   52.597363  6.417469   -5.726357   15247300.0  70.668146\n",
              "2004-08-25   53.164113  1.886792    1.183658    9188600.0  71.219849"
            ]
          },
          "metadata": {
            "tags": []
          },
          "execution_count": 123
        }
      ]
    },
    {
      "cell_type": "code",
      "metadata": {
        "id": "pwEDLtB6_E02",
        "colab_type": "code",
        "colab": {
          "base_uri": "https://localhost:8080/",
          "height": 234
        },
        "outputId": "c3ad75c9-0beb-4411-b540-0c0823c16d03"
      },
      "source": [
        "df.tail() "
      ],
      "execution_count": 124,
      "outputs": [
        {
          "output_type": "execute_result",
          "data": {
            "text/html": [
              "<div>\n",
              "<style scoped>\n",
              "    .dataframe tbody tr th:only-of-type {\n",
              "        vertical-align: middle;\n",
              "    }\n",
              "\n",
              "    .dataframe tbody tr th {\n",
              "        vertical-align: top;\n",
              "    }\n",
              "\n",
              "    .dataframe thead th {\n",
              "        text-align: right;\n",
              "    }\n",
              "</style>\n",
              "<table border=\"1\" class=\"dataframe\">\n",
              "  <thead>\n",
              "    <tr style=\"text-align: right;\">\n",
              "      <th></th>\n",
              "      <th>Adj. Close</th>\n",
              "      <th>HL_PCT</th>\n",
              "      <th>PCT_change</th>\n",
              "      <th>Adj. Volume</th>\n",
              "      <th>label</th>\n",
              "    </tr>\n",
              "    <tr>\n",
              "      <th>Date</th>\n",
              "      <th></th>\n",
              "      <th></th>\n",
              "      <th></th>\n",
              "      <th></th>\n",
              "      <th></th>\n",
              "    </tr>\n",
              "  </thead>\n",
              "  <tbody>\n",
              "    <tr>\n",
              "      <th>2018-01-30</th>\n",
              "      <td>1177.37</td>\n",
              "      <td>0.896914</td>\n",
              "      <td>-0.029718</td>\n",
              "      <td>1792602.0</td>\n",
              "      <td>1094.00</td>\n",
              "    </tr>\n",
              "    <tr>\n",
              "      <th>2018-01-31</th>\n",
              "      <td>1182.22</td>\n",
              "      <td>0.346805</td>\n",
              "      <td>-0.134312</td>\n",
              "      <td>1643877.0</td>\n",
              "      <td>1053.15</td>\n",
              "    </tr>\n",
              "    <tr>\n",
              "      <th>2018-02-01</th>\n",
              "      <td>1181.59</td>\n",
              "      <td>0.495942</td>\n",
              "      <td>0.476195</td>\n",
              "      <td>2774967.0</td>\n",
              "      <td>1026.55</td>\n",
              "    </tr>\n",
              "    <tr>\n",
              "      <th>2018-02-02</th>\n",
              "      <td>1119.20</td>\n",
              "      <td>1.081129</td>\n",
              "      <td>-0.729098</td>\n",
              "      <td>5798880.0</td>\n",
              "      <td>1054.09</td>\n",
              "    </tr>\n",
              "    <tr>\n",
              "      <th>2018-02-05</th>\n",
              "      <td>1068.76</td>\n",
              "      <td>4.325574</td>\n",
              "      <td>-2.893850</td>\n",
              "      <td>3742469.0</td>\n",
              "      <td>1006.94</td>\n",
              "    </tr>\n",
              "  </tbody>\n",
              "</table>\n",
              "</div>"
            ],
            "text/plain": [
              "            Adj. Close    HL_PCT  PCT_change  Adj. Volume    label\n",
              "Date                                                              \n",
              "2018-01-30     1177.37  0.896914   -0.029718    1792602.0  1094.00\n",
              "2018-01-31     1182.22  0.346805   -0.134312    1643877.0  1053.15\n",
              "2018-02-01     1181.59  0.495942    0.476195    2774967.0  1026.55\n",
              "2018-02-02     1119.20  1.081129   -0.729098    5798880.0  1054.09\n",
              "2018-02-05     1068.76  4.325574   -2.893850    3742469.0  1006.94"
            ]
          },
          "metadata": {
            "tags": []
          },
          "execution_count": 124
        }
      ]
    },
    {
      "cell_type": "code",
      "metadata": {
        "id": "FdY_rr_N-zej",
        "colab_type": "code",
        "colab": {
          "base_uri": "https://localhost:8080/",
          "height": 120
        },
        "outputId": "71cb4736-bd5c-4b0e-db35-d56fdcea90e0"
      },
      "source": [
        "#iloc is used for index/position while ;oc is used when you want to mention the name of the field itself.\n",
        "#this takes the value for the last row\n",
        "last_date = df.iloc[-1]\n",
        "last_date"
      ],
      "execution_count": 125,
      "outputs": [
        {
          "output_type": "execute_result",
          "data": {
            "text/plain": [
              "Adj. Close     1.068760e+03\n",
              "HL_PCT         4.325574e+00\n",
              "PCT_change    -2.893850e+00\n",
              "Adj. Volume    3.742469e+06\n",
              "label          1.006940e+03\n",
              "Name: 2018-02-05 00:00:00, dtype: float64"
            ]
          },
          "metadata": {
            "tags": []
          },
          "execution_count": 125
        }
      ]
    },
    {
      "cell_type": "code",
      "metadata": {
        "id": "8rabvC7P_L3v",
        "colab_type": "code",
        "colab": {
          "base_uri": "https://localhost:8080/",
          "height": 34
        },
        "outputId": "1f8e57a0-6acb-453a-961d-d7df5d54d8d8"
      },
      "source": [
        "#.name will give the name of the index on which iloc was called\n",
        "last_date = df.iloc[-1].name\n",
        "last_date"
      ],
      "execution_count": 126,
      "outputs": [
        {
          "output_type": "execute_result",
          "data": {
            "text/plain": [
              "Timestamp('2018-02-05 00:00:00')"
            ]
          },
          "metadata": {
            "tags": []
          },
          "execution_count": 126
        }
      ]
    },
    {
      "cell_type": "code",
      "metadata": {
        "id": "o904OZ9A_RM8",
        "colab_type": "code",
        "colab": {
          "base_uri": "https://localhost:8080/",
          "height": 34
        },
        "outputId": "66109c5a-a1f9-4368-e780-a38053314ac0"
      },
      "source": [
        "#timestamp() function to find the number of seconds that has passed. Output :\n",
        "#As we can see in the output, the Timestamp. timestamp() function has returned a float value indicating this \n",
        "#many seconds has passed since the epoch for the given Timestamp object.\n",
        "last_unix = last_date.timestamp()\n",
        "last_unix"
      ],
      "execution_count": 127,
      "outputs": [
        {
          "output_type": "execute_result",
          "data": {
            "text/plain": [
              "1517788800.0"
            ]
          },
          "metadata": {
            "tags": []
          },
          "execution_count": 127
        }
      ]
    },
    {
      "cell_type": "code",
      "metadata": {
        "id": "mD9lG57_PbQJ",
        "colab_type": "code",
        "colab": {
          "base_uri": "https://localhost:8080/",
          "height": 34
        },
        "outputId": "2f5b5b6f-cff3-4adb-82b0-885dfa8f4bef"
      },
      "source": [
        "a_day = 24 * 60 * 60\n",
        "a_day"
      ],
      "execution_count": 128,
      "outputs": [
        {
          "output_type": "execute_result",
          "data": {
            "text/plain": [
              "86400"
            ]
          },
          "metadata": {
            "tags": []
          },
          "execution_count": 128
        }
      ]
    },
    {
      "cell_type": "code",
      "metadata": {
        "id": "b9RKB6-iCeQl",
        "colab_type": "code",
        "colab": {}
      },
      "source": [
        "one_day = 86400"
      ],
      "execution_count": 129,
      "outputs": []
    },
    {
      "cell_type": "code",
      "metadata": {
        "id": "F7uJzc-E_hAP",
        "colab_type": "code",
        "colab": {
          "base_uri": "https://localhost:8080/",
          "height": 34
        },
        "outputId": "b83aa9d4-3076-431e-eb4b-937b307862cf"
      },
      "source": [
        "next_unix = last_unix + one_day\n",
        "next_unix"
      ],
      "execution_count": 130,
      "outputs": [
        {
          "output_type": "execute_result",
          "data": {
            "text/plain": [
              "1517875200.0"
            ]
          },
          "metadata": {
            "tags": []
          },
          "execution_count": 130
        }
      ]
    },
    {
      "cell_type": "code",
      "metadata": {
        "id": "G1q8R_4jCkih",
        "colab_type": "code",
        "colab": {
          "base_uri": "https://localhost:8080/",
          "height": 34
        },
        "outputId": "530b13e1-2392-4775-fac2-56a370c9e0d9"
      },
      "source": [
        "last_unix = last_date.timestamp()\n",
        "last_unix"
      ],
      "execution_count": 131,
      "outputs": [
        {
          "output_type": "execute_result",
          "data": {
            "text/plain": [
              "1517788800.0"
            ]
          },
          "metadata": {
            "tags": []
          },
          "execution_count": 131
        }
      ]
    },
    {
      "cell_type": "code",
      "metadata": {
        "id": "cmEPka6JbYPw",
        "colab_type": "code",
        "colab": {
          "base_uri": "https://localhost:8080/",
          "height": 34
        },
        "outputId": "d36dd490-b9ee-49fd-bd1d-f7a9924911d1"
      },
      "source": [
        "last_date"
      ],
      "execution_count": 132,
      "outputs": [
        {
          "output_type": "execute_result",
          "data": {
            "text/plain": [
              "Timestamp('2018-02-05 00:00:00')"
            ]
          },
          "metadata": {
            "tags": []
          },
          "execution_count": 132
        }
      ]
    },
    {
      "cell_type": "markdown",
      "metadata": {
        "id": "Wq1N8wF1bbxw",
        "colab_type": "text"
      },
      "source": [
        "epoch time starts from 1970"
      ]
    },
    {
      "cell_type": "code",
      "metadata": {
        "id": "rSG80eFJbipU",
        "colab_type": "code",
        "colab": {
          "base_uri": "https://localhost:8080/",
          "height": 34
        },
        "outputId": "e87cf1d9-0960-4e5c-93c5-edb65fbf3e39"
      },
      "source": [
        "no_of_years_since_epoch = 2018 - 1970\n",
        "no_of_years_since_epoch"
      ],
      "execution_count": 133,
      "outputs": [
        {
          "output_type": "execute_result",
          "data": {
            "text/plain": [
              "48"
            ]
          },
          "metadata": {
            "tags": []
          },
          "execution_count": 133
        }
      ]
    },
    {
      "cell_type": "markdown",
      "metadata": {
        "id": "UpfLdCkHbux9",
        "colab_type": "text"
      },
      "source": [
        "We have #365 days in a year"
      ]
    },
    {
      "cell_type": "code",
      "metadata": {
        "id": "5ktyvmI6btsR",
        "colab_type": "code",
        "colab": {
          "base_uri": "https://localhost:8080/",
          "height": 34
        },
        "outputId": "dfc8252f-7ebf-4de7-8f79-ee8cdf14036d"
      },
      "source": [
        "no_of_days_since_epoch = no_of_years_since_epoch * 365\n",
        "no_of_days_since_epoch"
      ],
      "execution_count": 134,
      "outputs": [
        {
          "output_type": "execute_result",
          "data": {
            "text/plain": [
              "17520"
            ]
          },
          "metadata": {
            "tags": []
          },
          "execution_count": 134
        }
      ]
    },
    {
      "cell_type": "markdown",
      "metadata": {
        "id": "nBbMYLCvb9Hm",
        "colab_type": "text"
      },
      "source": [
        "We have #86400 seconds in a day\n"
      ]
    },
    {
      "cell_type": "code",
      "metadata": {
        "id": "3N7h2LGnb8XE",
        "colab_type": "code",
        "colab": {
          "base_uri": "https://localhost:8080/",
          "height": 34
        },
        "outputId": "3305e595-8fa9-484a-bd13-56a914ca3f07"
      },
      "source": [
        "no_of_seconds_since_epoch = no_of_days_since_epoch * 86400\n",
        "no_of_seconds_since_epoch"
      ],
      "execution_count": 135,
      "outputs": [
        {
          "output_type": "execute_result",
          "data": {
            "text/plain": [
              "1513728000"
            ]
          },
          "metadata": {
            "tags": []
          },
          "execution_count": 135
        }
      ]
    },
    {
      "cell_type": "code",
      "metadata": {
        "id": "QfdMP5GoadUj",
        "colab_type": "code",
        "colab": {
          "base_uri": "https://localhost:8080/",
          "height": 34
        },
        "outputId": "efd22c66-7f91-4710-d99b-cf823e01c013"
      },
      "source": [
        "no_of_days = 1517788800/86400\n",
        "no_of_days"
      ],
      "execution_count": 136,
      "outputs": [
        {
          "output_type": "execute_result",
          "data": {
            "text/plain": [
              "17567.0"
            ]
          },
          "metadata": {
            "tags": []
          },
          "execution_count": 136
        }
      ]
    },
    {
      "cell_type": "code",
      "metadata": {
        "id": "G1pCsyFhbAZ9",
        "colab_type": "code",
        "colab": {
          "base_uri": "https://localhost:8080/",
          "height": 34
        },
        "outputId": "633a7015-4b12-4edc-9ca6-f4b496774945"
      },
      "source": [
        "2018 - 1970"
      ],
      "execution_count": 137,
      "outputs": [
        {
          "output_type": "execute_result",
          "data": {
            "text/plain": [
              "48"
            ]
          },
          "metadata": {
            "tags": []
          },
          "execution_count": 137
        }
      ]
    },
    {
      "cell_type": "code",
      "metadata": {
        "id": "5OBcxbfTbGiR",
        "colab_type": "code",
        "colab": {
          "base_uri": "https://localhost:8080/",
          "height": 34
        },
        "outputId": "cfdb6908-9ce1-4260-a85f-bf95fd69ed20"
      },
      "source": [
        "48 * 86400"
      ],
      "execution_count": 138,
      "outputs": [
        {
          "output_type": "execute_result",
          "data": {
            "text/plain": [
              "4147200"
            ]
          },
          "metadata": {
            "tags": []
          },
          "execution_count": 138
        }
      ]
    },
    {
      "cell_type": "code",
      "metadata": {
        "id": "quMQ7sC8bPYS",
        "colab_type": "code",
        "colab": {
          "base_uri": "https://localhost:8080/",
          "height": 34
        },
        "outputId": "1c165c59-83ff-43b5-943e-ae94b6520fbf"
      },
      "source": [
        "1517788800 / 4147200"
      ],
      "execution_count": 139,
      "outputs": [
        {
          "output_type": "execute_result",
          "data": {
            "text/plain": [
              "365.9791666666667"
            ]
          },
          "metadata": {
            "tags": []
          },
          "execution_count": 139
        }
      ]
    },
    {
      "cell_type": "code",
      "metadata": {
        "id": "Pbwr07ClaroI",
        "colab_type": "code",
        "colab": {
          "base_uri": "https://localhost:8080/",
          "height": 34
        },
        "outputId": "7e55e7c5-a6ce-474c-d1b0-c2fbab17fb8d"
      },
      "source": [
        "no_of_weeks = 17567 / 7\n",
        "no_of_weeks"
      ],
      "execution_count": 140,
      "outputs": [
        {
          "output_type": "execute_result",
          "data": {
            "text/plain": [
              "2509.5714285714284"
            ]
          },
          "metadata": {
            "tags": []
          },
          "execution_count": 140
        }
      ]
    },
    {
      "cell_type": "code",
      "metadata": {
        "id": "L7llUHMXarkp",
        "colab_type": "code",
        "colab": {
          "base_uri": "https://localhost:8080/",
          "height": 617
        },
        "outputId": "efeeee74-87af-4929-a607-200e964f60f9"
      },
      "source": [
        "X_lately"
      ],
      "execution_count": 141,
      "outputs": [
        {
          "output_type": "execute_result",
          "data": {
            "text/plain": [
              "array([[ 2.51580102, -0.13691121,  0.1412663 , -0.76234496],\n",
              "       [ 2.57217657, -0.67086492,  0.53002653, -0.57449085],\n",
              "       [ 2.622965  , -0.82441166,  0.54990695, -0.7682545 ],\n",
              "       [ 2.60236251, -0.51438062, -0.18213542, -0.7918798 ],\n",
              "       [ 2.57822928, -0.30824814, -0.43576398, -0.77476995],\n",
              "       [ 2.56771464, -0.38898972, -0.26386317, -0.80120658],\n",
              "       [ 2.55999355, -0.70225037, -0.05415684, -0.84367193],\n",
              "       [ 2.54831493, -0.68917583, -0.15683226, -0.8371515 ],\n",
              "       [ 2.52639326, -0.26704514, -0.38203759, -0.82344228],\n",
              "       [ 2.50990351, -0.19587604, -0.37741547, -0.82894113],\n",
              "       [ 2.50000966, -0.54896561, -0.11493011, -0.80783383],\n",
              "       [ 2.5768713 , -0.71060053,  1.29052176, -0.75939783],\n",
              "       [ 2.64791303, -0.56821242,  1.10486504, -0.7600303 ],\n",
              "       [ 2.66436398, -0.2687087 , -0.06391545, -0.79171453],\n",
              "       [ 2.72073953, -0.67690686,  0.42847749, -0.76696664],\n",
              "       [ 2.7359489 , -0.5464676 ,  0.20859595, -0.808731  ],\n",
              "       [ 2.73043938, -0.49050497, -0.31900577, -0.78605162],\n",
              "       [ 2.72015754, -0.72849566,  0.2050883 , -0.82342446],\n",
              "       [ 2.72690863, -0.70265563, -0.00905454, -0.81436905],\n",
              "       [ 2.79973513, -0.88748129,  1.24656612, -0.7159092 ],\n",
              "       [ 2.79992913,  0.47946266, -0.54329912, -0.7317427 ],\n",
              "       [ 2.83252064, -0.92114038,  0.17683201, -0.7839779 ],\n",
              "       [ 2.82037642, -0.57958402, -0.18047237, -0.78633803],\n",
              "       [ 2.84959238, -0.91657962,  0.33597981, -0.77606242],\n",
              "       [ 2.92975197, -0.73216613,  1.19810925, -0.77368847],\n",
              "       [ 2.97635007, -0.76275557,  0.33162966, -0.7258927 ],\n",
              "       [ 2.95741595,  0.2481697 , -0.75095251, -0.7275835 ],\n",
              "       [ 2.99951332, -0.72485755,  0.09709864, -0.77841661],\n",
              "       [ 3.0205426 , -0.93816893,  0.01830866, -0.7077831 ],\n",
              "       [ 3.01635226, -0.08209957, -0.06837781, -0.76205067],\n",
              "       [ 2.981006  , -0.14736677, -0.00311486, -0.73068523],\n",
              "       [ 2.99982371, -0.63239359, -0.07260739, -0.74871905],\n",
              "       [ 2.99737935, -0.50090092,  0.33301614, -0.61156746],\n",
              "       [ 2.7553098 ,  0.01505419, -0.46778619, -0.24489949],\n",
              "       [ 2.55960556,  2.87565464, -1.90605746, -0.49425191]])"
            ]
          },
          "metadata": {
            "tags": []
          },
          "execution_count": 141
        }
      ]
    },
    {
      "cell_type": "code",
      "metadata": {
        "id": "lr8Vwxq2Cp5r",
        "colab_type": "code",
        "colab": {
          "base_uri": "https://localhost:8080/",
          "height": 34
        },
        "outputId": "e11899d8-9a66-4873-d718-88eae493a0dd"
      },
      "source": [
        "type(last_unix)"
      ],
      "execution_count": 142,
      "outputs": [
        {
          "output_type": "execute_result",
          "data": {
            "text/plain": [
              "float"
            ]
          },
          "metadata": {
            "tags": []
          },
          "execution_count": 142
        }
      ]
    },
    {
      "cell_type": "code",
      "metadata": {
        "id": "08MBHJ2rCvux",
        "colab_type": "code",
        "colab": {
          "base_uri": "https://localhost:8080/",
          "height": 356
        },
        "outputId": "1a909f9f-a47f-45f9-8f99-856762645aef"
      },
      "source": [
        "df['Forecast'] = np.nan\n",
        "df.head()"
      ],
      "execution_count": 143,
      "outputs": [
        {
          "output_type": "stream",
          "text": [
            "/usr/local/lib/python3.6/dist-packages/ipykernel_launcher.py:1: SettingWithCopyWarning: \n",
            "A value is trying to be set on a copy of a slice from a DataFrame.\n",
            "Try using .loc[row_indexer,col_indexer] = value instead\n",
            "\n",
            "See the caveats in the documentation: https://pandas.pydata.org/pandas-docs/stable/user_guide/indexing.html#returning-a-view-versus-a-copy\n",
            "  \"\"\"Entry point for launching an IPython kernel.\n"
          ],
          "name": "stderr"
        },
        {
          "output_type": "execute_result",
          "data": {
            "text/html": [
              "<div>\n",
              "<style scoped>\n",
              "    .dataframe tbody tr th:only-of-type {\n",
              "        vertical-align: middle;\n",
              "    }\n",
              "\n",
              "    .dataframe tbody tr th {\n",
              "        vertical-align: top;\n",
              "    }\n",
              "\n",
              "    .dataframe thead th {\n",
              "        text-align: right;\n",
              "    }\n",
              "</style>\n",
              "<table border=\"1\" class=\"dataframe\">\n",
              "  <thead>\n",
              "    <tr style=\"text-align: right;\">\n",
              "      <th></th>\n",
              "      <th>Adj. Close</th>\n",
              "      <th>HL_PCT</th>\n",
              "      <th>PCT_change</th>\n",
              "      <th>Adj. Volume</th>\n",
              "      <th>label</th>\n",
              "      <th>Forecast</th>\n",
              "    </tr>\n",
              "    <tr>\n",
              "      <th>Date</th>\n",
              "      <th></th>\n",
              "      <th></th>\n",
              "      <th></th>\n",
              "      <th></th>\n",
              "      <th></th>\n",
              "      <th></th>\n",
              "    </tr>\n",
              "  </thead>\n",
              "  <tbody>\n",
              "    <tr>\n",
              "      <th>2004-08-19</th>\n",
              "      <td>50.322842</td>\n",
              "      <td>3.712563</td>\n",
              "      <td>0.324968</td>\n",
              "      <td>44659000.0</td>\n",
              "      <td>69.078238</td>\n",
              "      <td>NaN</td>\n",
              "    </tr>\n",
              "    <tr>\n",
              "      <th>2004-08-20</th>\n",
              "      <td>54.322689</td>\n",
              "      <td>0.710922</td>\n",
              "      <td>7.227007</td>\n",
              "      <td>22834300.0</td>\n",
              "      <td>67.839414</td>\n",
              "      <td>NaN</td>\n",
              "    </tr>\n",
              "    <tr>\n",
              "      <th>2004-08-23</th>\n",
              "      <td>54.869377</td>\n",
              "      <td>3.729433</td>\n",
              "      <td>-1.227880</td>\n",
              "      <td>18256100.0</td>\n",
              "      <td>68.912727</td>\n",
              "      <td>NaN</td>\n",
              "    </tr>\n",
              "    <tr>\n",
              "      <th>2004-08-24</th>\n",
              "      <td>52.597363</td>\n",
              "      <td>6.417469</td>\n",
              "      <td>-5.726357</td>\n",
              "      <td>15247300.0</td>\n",
              "      <td>70.668146</td>\n",
              "      <td>NaN</td>\n",
              "    </tr>\n",
              "    <tr>\n",
              "      <th>2004-08-25</th>\n",
              "      <td>53.164113</td>\n",
              "      <td>1.886792</td>\n",
              "      <td>1.183658</td>\n",
              "      <td>9188600.0</td>\n",
              "      <td>71.219849</td>\n",
              "      <td>NaN</td>\n",
              "    </tr>\n",
              "  </tbody>\n",
              "</table>\n",
              "</div>"
            ],
            "text/plain": [
              "            Adj. Close    HL_PCT  PCT_change  Adj. Volume      label  Forecast\n",
              "Date                                                                          \n",
              "2004-08-19   50.322842  3.712563    0.324968   44659000.0  69.078238       NaN\n",
              "2004-08-20   54.322689  0.710922    7.227007   22834300.0  67.839414       NaN\n",
              "2004-08-23   54.869377  3.729433   -1.227880   18256100.0  68.912727       NaN\n",
              "2004-08-24   52.597363  6.417469   -5.726357   15247300.0  70.668146       NaN\n",
              "2004-08-25   53.164113  1.886792    1.183658    9188600.0  71.219849       NaN"
            ]
          },
          "metadata": {
            "tags": []
          },
          "execution_count": 143
        }
      ]
    },
    {
      "cell_type": "code",
      "metadata": {
        "id": "8VE8PhM3DmR8",
        "colab_type": "code",
        "colab": {
          "base_uri": "https://localhost:8080/",
          "height": 171
        },
        "outputId": "8edf362e-ff4c-41af-9231-9bab20a609fa"
      },
      "source": [
        "forecast_set"
      ],
      "execution_count": 144,
      "outputs": [
        {
          "output_type": "execute_result",
          "data": {
            "text/plain": [
              "array([1076.91597846, 1091.52807103, 1105.54152905, 1100.15008723,\n",
              "       1093.65224438, 1091.03865004, 1089.49588534, 1086.46406257,\n",
              "       1080.25272499, 1075.88643788, 1073.60879153, 1093.07218026,\n",
              "       1111.4311054 , 1115.89305059, 1130.81108569, 1134.81475767,\n",
              "       1133.45429908, 1130.99948022, 1132.78015785, 1151.12899608,\n",
              "       1150.1504174 , 1160.3552426 , 1156.89859396, 1164.69667826,\n",
              "       1184.92736538, 1197.28985341, 1191.47488042, 1203.52467149,\n",
              "       1209.08488325, 1207.06370201, 1197.83488442, 1203.45850485,\n",
              "       1202.04624339, 1137.59633625, 1084.29319495])"
            ]
          },
          "metadata": {
            "tags": []
          },
          "execution_count": 144
        }
      ]
    },
    {
      "cell_type": "code",
      "metadata": {
        "id": "3rEPEZMdDyuT",
        "colab_type": "code",
        "colab": {
          "base_uri": "https://localhost:8080/",
          "height": 234
        },
        "outputId": "b091ce7a-4268-45d2-9e85-4a8e94ac7311"
      },
      "source": [
        "df.head()"
      ],
      "execution_count": 145,
      "outputs": [
        {
          "output_type": "execute_result",
          "data": {
            "text/html": [
              "<div>\n",
              "<style scoped>\n",
              "    .dataframe tbody tr th:only-of-type {\n",
              "        vertical-align: middle;\n",
              "    }\n",
              "\n",
              "    .dataframe tbody tr th {\n",
              "        vertical-align: top;\n",
              "    }\n",
              "\n",
              "    .dataframe thead th {\n",
              "        text-align: right;\n",
              "    }\n",
              "</style>\n",
              "<table border=\"1\" class=\"dataframe\">\n",
              "  <thead>\n",
              "    <tr style=\"text-align: right;\">\n",
              "      <th></th>\n",
              "      <th>Adj. Close</th>\n",
              "      <th>HL_PCT</th>\n",
              "      <th>PCT_change</th>\n",
              "      <th>Adj. Volume</th>\n",
              "      <th>label</th>\n",
              "      <th>Forecast</th>\n",
              "    </tr>\n",
              "    <tr>\n",
              "      <th>Date</th>\n",
              "      <th></th>\n",
              "      <th></th>\n",
              "      <th></th>\n",
              "      <th></th>\n",
              "      <th></th>\n",
              "      <th></th>\n",
              "    </tr>\n",
              "  </thead>\n",
              "  <tbody>\n",
              "    <tr>\n",
              "      <th>2004-08-19</th>\n",
              "      <td>50.322842</td>\n",
              "      <td>3.712563</td>\n",
              "      <td>0.324968</td>\n",
              "      <td>44659000.0</td>\n",
              "      <td>69.078238</td>\n",
              "      <td>NaN</td>\n",
              "    </tr>\n",
              "    <tr>\n",
              "      <th>2004-08-20</th>\n",
              "      <td>54.322689</td>\n",
              "      <td>0.710922</td>\n",
              "      <td>7.227007</td>\n",
              "      <td>22834300.0</td>\n",
              "      <td>67.839414</td>\n",
              "      <td>NaN</td>\n",
              "    </tr>\n",
              "    <tr>\n",
              "      <th>2004-08-23</th>\n",
              "      <td>54.869377</td>\n",
              "      <td>3.729433</td>\n",
              "      <td>-1.227880</td>\n",
              "      <td>18256100.0</td>\n",
              "      <td>68.912727</td>\n",
              "      <td>NaN</td>\n",
              "    </tr>\n",
              "    <tr>\n",
              "      <th>2004-08-24</th>\n",
              "      <td>52.597363</td>\n",
              "      <td>6.417469</td>\n",
              "      <td>-5.726357</td>\n",
              "      <td>15247300.0</td>\n",
              "      <td>70.668146</td>\n",
              "      <td>NaN</td>\n",
              "    </tr>\n",
              "    <tr>\n",
              "      <th>2004-08-25</th>\n",
              "      <td>53.164113</td>\n",
              "      <td>1.886792</td>\n",
              "      <td>1.183658</td>\n",
              "      <td>9188600.0</td>\n",
              "      <td>71.219849</td>\n",
              "      <td>NaN</td>\n",
              "    </tr>\n",
              "  </tbody>\n",
              "</table>\n",
              "</div>"
            ],
            "text/plain": [
              "            Adj. Close    HL_PCT  PCT_change  Adj. Volume      label  Forecast\n",
              "Date                                                                          \n",
              "2004-08-19   50.322842  3.712563    0.324968   44659000.0  69.078238       NaN\n",
              "2004-08-20   54.322689  0.710922    7.227007   22834300.0  67.839414       NaN\n",
              "2004-08-23   54.869377  3.729433   -1.227880   18256100.0  68.912727       NaN\n",
              "2004-08-24   52.597363  6.417469   -5.726357   15247300.0  70.668146       NaN\n",
              "2004-08-25   53.164113  1.886792    1.183658    9188600.0  71.219849       NaN"
            ]
          },
          "metadata": {
            "tags": []
          },
          "execution_count": 145
        }
      ]
    },
    {
      "cell_type": "code",
      "metadata": {
        "id": "i43heYtmrSvO",
        "colab_type": "code",
        "colab": {
          "base_uri": "https://localhost:8080/",
          "height": 34
        },
        "outputId": "19a8cbf6-4a4c-455c-ee88-1c9e59b58a95"
      },
      "source": [
        "len(df)"
      ],
      "execution_count": 146,
      "outputs": [
        {
          "output_type": "execute_result",
          "data": {
            "text/plain": [
              "3389"
            ]
          },
          "metadata": {
            "tags": []
          },
          "execution_count": 146
        }
      ]
    },
    {
      "cell_type": "code",
      "metadata": {
        "id": "kvKssmQXtR-1",
        "colab_type": "code",
        "colab": {}
      },
      "source": [
        "from datetime import datetime"
      ],
      "execution_count": 147,
      "outputs": []
    },
    {
      "cell_type": "code",
      "metadata": {
        "id": "MwggQtWctp9X",
        "colab_type": "code",
        "colab": {
          "base_uri": "https://localhost:8080/",
          "height": 234
        },
        "outputId": "0d1109e9-9982-4cca-91fc-fbc703a02125"
      },
      "source": [
        "df.tail()"
      ],
      "execution_count": 148,
      "outputs": [
        {
          "output_type": "execute_result",
          "data": {
            "text/html": [
              "<div>\n",
              "<style scoped>\n",
              "    .dataframe tbody tr th:only-of-type {\n",
              "        vertical-align: middle;\n",
              "    }\n",
              "\n",
              "    .dataframe tbody tr th {\n",
              "        vertical-align: top;\n",
              "    }\n",
              "\n",
              "    .dataframe thead th {\n",
              "        text-align: right;\n",
              "    }\n",
              "</style>\n",
              "<table border=\"1\" class=\"dataframe\">\n",
              "  <thead>\n",
              "    <tr style=\"text-align: right;\">\n",
              "      <th></th>\n",
              "      <th>Adj. Close</th>\n",
              "      <th>HL_PCT</th>\n",
              "      <th>PCT_change</th>\n",
              "      <th>Adj. Volume</th>\n",
              "      <th>label</th>\n",
              "      <th>Forecast</th>\n",
              "    </tr>\n",
              "    <tr>\n",
              "      <th>Date</th>\n",
              "      <th></th>\n",
              "      <th></th>\n",
              "      <th></th>\n",
              "      <th></th>\n",
              "      <th></th>\n",
              "      <th></th>\n",
              "    </tr>\n",
              "  </thead>\n",
              "  <tbody>\n",
              "    <tr>\n",
              "      <th>2018-01-30</th>\n",
              "      <td>1177.37</td>\n",
              "      <td>0.896914</td>\n",
              "      <td>-0.029718</td>\n",
              "      <td>1792602.0</td>\n",
              "      <td>1094.00</td>\n",
              "      <td>NaN</td>\n",
              "    </tr>\n",
              "    <tr>\n",
              "      <th>2018-01-31</th>\n",
              "      <td>1182.22</td>\n",
              "      <td>0.346805</td>\n",
              "      <td>-0.134312</td>\n",
              "      <td>1643877.0</td>\n",
              "      <td>1053.15</td>\n",
              "      <td>NaN</td>\n",
              "    </tr>\n",
              "    <tr>\n",
              "      <th>2018-02-01</th>\n",
              "      <td>1181.59</td>\n",
              "      <td>0.495942</td>\n",
              "      <td>0.476195</td>\n",
              "      <td>2774967.0</td>\n",
              "      <td>1026.55</td>\n",
              "      <td>NaN</td>\n",
              "    </tr>\n",
              "    <tr>\n",
              "      <th>2018-02-02</th>\n",
              "      <td>1119.20</td>\n",
              "      <td>1.081129</td>\n",
              "      <td>-0.729098</td>\n",
              "      <td>5798880.0</td>\n",
              "      <td>1054.09</td>\n",
              "      <td>NaN</td>\n",
              "    </tr>\n",
              "    <tr>\n",
              "      <th>2018-02-05</th>\n",
              "      <td>1068.76</td>\n",
              "      <td>4.325574</td>\n",
              "      <td>-2.893850</td>\n",
              "      <td>3742469.0</td>\n",
              "      <td>1006.94</td>\n",
              "      <td>NaN</td>\n",
              "    </tr>\n",
              "  </tbody>\n",
              "</table>\n",
              "</div>"
            ],
            "text/plain": [
              "            Adj. Close    HL_PCT  PCT_change  Adj. Volume    label  Forecast\n",
              "Date                                                                        \n",
              "2018-01-30     1177.37  0.896914   -0.029718    1792602.0  1094.00       NaN\n",
              "2018-01-31     1182.22  0.346805   -0.134312    1643877.0  1053.15       NaN\n",
              "2018-02-01     1181.59  0.495942    0.476195    2774967.0  1026.55       NaN\n",
              "2018-02-02     1119.20  1.081129   -0.729098    5798880.0  1054.09       NaN\n",
              "2018-02-05     1068.76  4.325574   -2.893850    3742469.0  1006.94       NaN"
            ]
          },
          "metadata": {
            "tags": []
          },
          "execution_count": 148
        }
      ]
    },
    {
      "cell_type": "code",
      "metadata": {
        "id": "gLhQsiMIrbQP",
        "colab_type": "code",
        "colab": {
          "base_uri": "https://localhost:8080/",
          "height": 68
        },
        "outputId": "b6b564b2-9b5f-455c-d3f4-2473c30bb8c7"
      },
      "source": [
        "import datetime\n",
        "last_date = df.iloc[-1]\n",
        "last_date = df.iloc[-1].name #This takes the the Date fieldname which is actually a date\n",
        "last_unix = last_date.timestamp()\n",
        "one_day = 86400\n",
        "next_unix = last_unix + one_day\n",
        "print(last_date)\n",
        "print(last_unix)\n",
        "print(next_unix)"
      ],
      "execution_count": 149,
      "outputs": [
        {
          "output_type": "stream",
          "text": [
            "2018-02-05 00:00:00\n",
            "1517788800.0\n",
            "1517875200.0\n"
          ],
          "name": "stdout"
        }
      ]
    },
    {
      "cell_type": "code",
      "metadata": {
        "id": "MYgD6O1TyBe8",
        "colab_type": "code",
        "colab": {
          "base_uri": "https://localhost:8080/",
          "height": 34
        },
        "outputId": "491f3017-e887-475d-b234-27be9dd61655"
      },
      "source": [
        "type(df.iloc[-1].name)"
      ],
      "execution_count": 150,
      "outputs": [
        {
          "output_type": "execute_result",
          "data": {
            "text/plain": [
              "pandas._libs.tslibs.timestamps.Timestamp"
            ]
          },
          "metadata": {
            "tags": []
          },
          "execution_count": 150
        }
      ]
    },
    {
      "cell_type": "code",
      "metadata": {
        "id": "3lSC0JNFtPMd",
        "colab_type": "code",
        "colab": {
          "base_uri": "https://localhost:8080/",
          "height": 171
        },
        "outputId": "9df28f90-1be0-4524-e84e-175d40eb9aba"
      },
      "source": [
        "forecast_set"
      ],
      "execution_count": 151,
      "outputs": [
        {
          "output_type": "execute_result",
          "data": {
            "text/plain": [
              "array([1076.91597846, 1091.52807103, 1105.54152905, 1100.15008723,\n",
              "       1093.65224438, 1091.03865004, 1089.49588534, 1086.46406257,\n",
              "       1080.25272499, 1075.88643788, 1073.60879153, 1093.07218026,\n",
              "       1111.4311054 , 1115.89305059, 1130.81108569, 1134.81475767,\n",
              "       1133.45429908, 1130.99948022, 1132.78015785, 1151.12899608,\n",
              "       1150.1504174 , 1160.3552426 , 1156.89859396, 1164.69667826,\n",
              "       1184.92736538, 1197.28985341, 1191.47488042, 1203.52467149,\n",
              "       1209.08488325, 1207.06370201, 1197.83488442, 1203.45850485,\n",
              "       1202.04624339, 1137.59633625, 1084.29319495])"
            ]
          },
          "metadata": {
            "tags": []
          },
          "execution_count": 151
        }
      ]
    },
    {
      "cell_type": "code",
      "metadata": {
        "id": "pbFGH3cJxEoD",
        "colab_type": "code",
        "colab": {
          "base_uri": "https://localhost:8080/",
          "height": 34
        },
        "outputId": "4b8ff7a0-b693-4d28-ae1c-a46c9474bd1f"
      },
      "source": [
        "next_unix"
      ],
      "execution_count": 152,
      "outputs": [
        {
          "output_type": "execute_result",
          "data": {
            "text/plain": [
              "1517875200.0"
            ]
          },
          "metadata": {
            "tags": []
          },
          "execution_count": 152
        }
      ]
    },
    {
      "cell_type": "code",
      "metadata": {
        "id": "TIyw_vcQzYdp",
        "colab_type": "code",
        "colab": {}
      },
      "source": [
        "import datetime"
      ],
      "execution_count": 153,
      "outputs": []
    },
    {
      "cell_type": "code",
      "metadata": {
        "id": "zM70w08tzxnH",
        "colab_type": "code",
        "colab": {
          "base_uri": "https://localhost:8080/",
          "height": 137
        },
        "outputId": "16ea7a61-5021-4de1-db02-5a03843b3af3"
      },
      "source": [
        "last_date = df.iloc[-1]\n",
        "last_date"
      ],
      "execution_count": 154,
      "outputs": [
        {
          "output_type": "execute_result",
          "data": {
            "text/plain": [
              "Adj. Close     1.068760e+03\n",
              "HL_PCT         4.325574e+00\n",
              "PCT_change    -2.893850e+00\n",
              "Adj. Volume    3.742469e+06\n",
              "label          1.006940e+03\n",
              "Forecast                NaN\n",
              "Name: 2018-02-05 00:00:00, dtype: float64"
            ]
          },
          "metadata": {
            "tags": []
          },
          "execution_count": 154
        }
      ]
    },
    {
      "cell_type": "markdown",
      "metadata": {
        "id": "sjdqeGXQ0RLr",
        "colab_type": "text"
      },
      "source": [
        "fromtimestamp() function converts from epoch time back to local time"
      ]
    },
    {
      "cell_type": "code",
      "metadata": {
        "id": "zUfY_z-jyyc3",
        "colab_type": "code",
        "colab": {
          "base_uri": "https://localhost:8080/",
          "height": 34
        },
        "outputId": "74bf8d1b-e1eb-4ed3-f572-512e0a1c6630"
      },
      "source": [
        "new_date =  datetime.datetime.fromtimestamp(next_unix)\n",
        "new_date"
      ],
      "execution_count": 155,
      "outputs": [
        {
          "output_type": "execute_result",
          "data": {
            "text/plain": [
              "datetime.datetime(2018, 2, 6, 0, 0)"
            ]
          },
          "metadata": {
            "tags": []
          },
          "execution_count": 155
        }
      ]
    },
    {
      "cell_type": "code",
      "metadata": {
        "id": "zv7NOpstzQxp",
        "colab_type": "code",
        "colab": {
          "base_uri": "https://localhost:8080/",
          "height": 34
        },
        "outputId": "ae398502-a120-4c49-ca37-baf21a97cd3b"
      },
      "source": [
        "p = [1,3,5,3,2]\n",
        "p"
      ],
      "execution_count": 156,
      "outputs": [
        {
          "output_type": "execute_result",
          "data": {
            "text/plain": [
              "[1, 3, 5, 3, 2]"
            ]
          },
          "metadata": {
            "tags": []
          },
          "execution_count": 156
        }
      ]
    },
    {
      "cell_type": "code",
      "metadata": {
        "id": "OFqaG4kU1PZN",
        "colab_type": "code",
        "colab": {
          "base_uri": "https://localhost:8080/",
          "height": 34
        },
        "outputId": "9557473c-b49b-4d14-bd20-8ce357cb4965"
      },
      "source": [
        "[i*2 for i in p]"
      ],
      "execution_count": 157,
      "outputs": [
        {
          "output_type": "execute_result",
          "data": {
            "text/plain": [
              "[2, 6, 10, 6, 4]"
            ]
          },
          "metadata": {
            "tags": []
          },
          "execution_count": 157
        }
      ]
    },
    {
      "cell_type": "markdown",
      "metadata": {
        "id": "dxEkIERl1YxV",
        "colab_type": "text"
      },
      "source": [
        "\n",
        "\n",
        "```\n",
        "[do this for each_element in sequence ]\n",
        "```\n",
        "\n"
      ]
    },
    {
      "cell_type": "code",
      "metadata": {
        "id": "YQSQiGoI1P9W",
        "colab_type": "code",
        "colab": {
          "base_uri": "https://localhost:8080/",
          "height": 68
        },
        "outputId": "8d3d60c2-2c17-453a-b7fc-f1f59dc394e6"
      },
      "source": [
        "df.columns"
      ],
      "execution_count": 158,
      "outputs": [
        {
          "output_type": "execute_result",
          "data": {
            "text/plain": [
              "Index(['Adj. Close', 'HL_PCT', 'PCT_change', 'Adj. Volume', 'label',\n",
              "       'Forecast'],\n",
              "      dtype='object')"
            ]
          },
          "metadata": {
            "tags": []
          },
          "execution_count": 158
        }
      ]
    },
    {
      "cell_type": "code",
      "metadata": {
        "id": "4yN6Ezr01v6P",
        "colab_type": "code",
        "colab": {
          "base_uri": "https://localhost:8080/",
          "height": 34
        },
        "outputId": "5afe0781-3462-4241-dea6-6072c518e795"
      },
      "source": [
        "len(df.columns)"
      ],
      "execution_count": 159,
      "outputs": [
        {
          "output_type": "execute_result",
          "data": {
            "text/plain": [
              "6"
            ]
          },
          "metadata": {
            "tags": []
          },
          "execution_count": 159
        }
      ]
    },
    {
      "cell_type": "code",
      "metadata": {
        "id": "noP7C4Nh1yu0",
        "colab_type": "code",
        "colab": {
          "base_uri": "https://localhost:8080/",
          "height": 34
        },
        "outputId": "d6535320-c09e-4c30-985d-5be69da8d777"
      },
      "source": [
        "range(5)"
      ],
      "execution_count": 160,
      "outputs": [
        {
          "output_type": "execute_result",
          "data": {
            "text/plain": [
              "range(0, 5)"
            ]
          },
          "metadata": {
            "tags": []
          },
          "execution_count": 160
        }
      ]
    },
    {
      "cell_type": "code",
      "metadata": {
        "id": "_yTsOdhd2N63",
        "colab_type": "code",
        "colab": {
          "base_uri": "https://localhost:8080/",
          "height": 34
        },
        "outputId": "2d56eb37-8f36-4194-881d-335e6ae6f6e3"
      },
      "source": [
        "list(range(5))"
      ],
      "execution_count": 161,
      "outputs": [
        {
          "output_type": "execute_result",
          "data": {
            "text/plain": [
              "[0, 1, 2, 3, 4]"
            ]
          },
          "metadata": {
            "tags": []
          },
          "execution_count": 161
        }
      ]
    },
    {
      "cell_type": "markdown",
      "metadata": {
        "id": "kEGEW03mCeg0",
        "colab_type": "text"
      },
      "source": [
        "- convert timestamp of date to actual date\n",
        "-  always add a new day as the loop restarts\n",
        "-  make all the columns nan aside the elements_in_forecast_set which was added to all the columns\n",
        "- df.loc[next_date] = [np.nan for _ in range(len(df.columns)-1)] + [i]\n",
        "- [np.nan for _ in range(len(df.columns)-1)] inserts nan for 5 elements in the list / array\n",
        "- # + [i] adds the i loop_elements to the nan list. This is just a list addition \n",
        "- #[ ]  adding this square bracket means creating a list, so anything within that returns a list, A for loop in it automatically creates a list\n",
        "- df.loc[next_date] helps to fix the loop into df\n",
        "- when .loc or .iloc is used, it automatically takes the row except an axis is specified, axis = 0 means row, axis = 1 means column"
      ]
    },
    {
      "cell_type": "code",
      "metadata": {
        "id": "LVzW7PTmFKZt",
        "colab_type": "code",
        "colab": {
          "base_uri": "https://localhost:8080/",
          "height": 34
        },
        "outputId": "7be4e4ce-9275-4866-d2c5-ab53a91935cd"
      },
      "source": [
        "type([np.nan for _ in range(5)] )"
      ],
      "execution_count": 162,
      "outputs": [
        {
          "output_type": "execute_result",
          "data": {
            "text/plain": [
              "list"
            ]
          },
          "metadata": {
            "tags": []
          },
          "execution_count": 162
        }
      ]
    },
    {
      "cell_type": "code",
      "metadata": {
        "id": "SLtbMuNR2Ste",
        "colab_type": "code",
        "colab": {
          "base_uri": "https://localhost:8080/",
          "height": 123
        },
        "outputId": "d176dec3-3182-4b57-9b72-09586f89c9f8"
      },
      "source": [
        "for i in forecast_set:\n",
        "  next_date = datetime.datetime.fromtimestamp(next_unix)\n",
        "  next_unix += one_day\n",
        "  df.loc[next_date] = [np.nan for _ in range(len(df.columns)-1)] + [i]"
      ],
      "execution_count": 163,
      "outputs": [
        {
          "output_type": "stream",
          "text": [
            "/usr/local/lib/python3.6/dist-packages/pandas/core/indexing.py:671: SettingWithCopyWarning: \n",
            "A value is trying to be set on a copy of a slice from a DataFrame\n",
            "\n",
            "See the caveats in the documentation: https://pandas.pydata.org/pandas-docs/stable/user_guide/indexing.html#returning-a-view-versus-a-copy\n",
            "  self._setitem_with_indexer(indexer, value)\n"
          ],
          "name": "stderr"
        }
      ]
    },
    {
      "cell_type": "code",
      "metadata": {
        "id": "xlr6dvj3ATrP",
        "colab_type": "code",
        "colab": {
          "base_uri": "https://localhost:8080/",
          "height": 137
        },
        "outputId": "86787d3f-3fa6-4679-e7b4-3a46409ea798"
      },
      "source": [
        "last_date = df.iloc[-1]\n",
        "last_date"
      ],
      "execution_count": 164,
      "outputs": [
        {
          "output_type": "execute_result",
          "data": {
            "text/plain": [
              "Adj. Close             NaN\n",
              "HL_PCT                 NaN\n",
              "PCT_change             NaN\n",
              "Adj. Volume            NaN\n",
              "label                  NaN\n",
              "Forecast       1084.293195\n",
              "Name: 2018-03-12 00:00:00, dtype: float64"
            ]
          },
          "metadata": {
            "tags": []
          },
          "execution_count": 164
        }
      ]
    },
    {
      "cell_type": "code",
      "metadata": {
        "id": "ZqbQNxc_9Ua9",
        "colab_type": "code",
        "colab": {
          "base_uri": "https://localhost:8080/",
          "height": 137
        },
        "outputId": "9dfcfb4f-b314-49d1-9451-0cf8ac4fa774"
      },
      "source": [
        "df.loc[next_date]"
      ],
      "execution_count": 165,
      "outputs": [
        {
          "output_type": "execute_result",
          "data": {
            "text/plain": [
              "Adj. Close             NaN\n",
              "HL_PCT                 NaN\n",
              "PCT_change             NaN\n",
              "Adj. Volume            NaN\n",
              "label                  NaN\n",
              "Forecast       1084.293195\n",
              "Name: 2018-03-12 00:00:00, dtype: float64"
            ]
          },
          "metadata": {
            "tags": []
          },
          "execution_count": 165
        }
      ]
    },
    {
      "cell_type": "code",
      "metadata": {
        "id": "gJQKKfq6H-P2",
        "colab_type": "code",
        "colab": {
          "base_uri": "https://localhost:8080/",
          "height": 171
        },
        "outputId": "83b05338-31fa-4963-9bb9-e13a99c5b43e"
      },
      "source": [
        "forecast_set"
      ],
      "execution_count": 166,
      "outputs": [
        {
          "output_type": "execute_result",
          "data": {
            "text/plain": [
              "array([1076.91597846, 1091.52807103, 1105.54152905, 1100.15008723,\n",
              "       1093.65224438, 1091.03865004, 1089.49588534, 1086.46406257,\n",
              "       1080.25272499, 1075.88643788, 1073.60879153, 1093.07218026,\n",
              "       1111.4311054 , 1115.89305059, 1130.81108569, 1134.81475767,\n",
              "       1133.45429908, 1130.99948022, 1132.78015785, 1151.12899608,\n",
              "       1150.1504174 , 1160.3552426 , 1156.89859396, 1164.69667826,\n",
              "       1184.92736538, 1197.28985341, 1191.47488042, 1203.52467149,\n",
              "       1209.08488325, 1207.06370201, 1197.83488442, 1203.45850485,\n",
              "       1202.04624339, 1137.59633625, 1084.29319495])"
            ]
          },
          "metadata": {
            "tags": []
          },
          "execution_count": 166
        }
      ]
    },
    {
      "cell_type": "code",
      "metadata": {
        "id": "TneVdWEmAswE",
        "colab_type": "code",
        "colab": {
          "base_uri": "https://localhost:8080/",
          "height": 1000
        },
        "outputId": "206037b0-64f6-4f20-bbd2-1534bfd4cc18"
      },
      "source": [
        "df.tail(37)"
      ],
      "execution_count": 167,
      "outputs": [
        {
          "output_type": "execute_result",
          "data": {
            "text/html": [
              "<div>\n",
              "<style scoped>\n",
              "    .dataframe tbody tr th:only-of-type {\n",
              "        vertical-align: middle;\n",
              "    }\n",
              "\n",
              "    .dataframe tbody tr th {\n",
              "        vertical-align: top;\n",
              "    }\n",
              "\n",
              "    .dataframe thead th {\n",
              "        text-align: right;\n",
              "    }\n",
              "</style>\n",
              "<table border=\"1\" class=\"dataframe\">\n",
              "  <thead>\n",
              "    <tr style=\"text-align: right;\">\n",
              "      <th></th>\n",
              "      <th>Adj. Close</th>\n",
              "      <th>HL_PCT</th>\n",
              "      <th>PCT_change</th>\n",
              "      <th>Adj. Volume</th>\n",
              "      <th>label</th>\n",
              "      <th>Forecast</th>\n",
              "    </tr>\n",
              "    <tr>\n",
              "      <th>Date</th>\n",
              "      <th></th>\n",
              "      <th></th>\n",
              "      <th></th>\n",
              "      <th></th>\n",
              "      <th></th>\n",
              "      <th></th>\n",
              "    </tr>\n",
              "  </thead>\n",
              "  <tbody>\n",
              "    <tr>\n",
              "      <th>2018-02-02</th>\n",
              "      <td>1119.20</td>\n",
              "      <td>1.081129</td>\n",
              "      <td>-0.729098</td>\n",
              "      <td>5798880.0</td>\n",
              "      <td>1054.09</td>\n",
              "      <td>NaN</td>\n",
              "    </tr>\n",
              "    <tr>\n",
              "      <th>2018-02-05</th>\n",
              "      <td>1068.76</td>\n",
              "      <td>4.325574</td>\n",
              "      <td>-2.893850</td>\n",
              "      <td>3742469.0</td>\n",
              "      <td>1006.94</td>\n",
              "      <td>NaN</td>\n",
              "    </tr>\n",
              "    <tr>\n",
              "      <th>2018-02-06</th>\n",
              "      <td>NaN</td>\n",
              "      <td>NaN</td>\n",
              "      <td>NaN</td>\n",
              "      <td>NaN</td>\n",
              "      <td>NaN</td>\n",
              "      <td>1076.915978</td>\n",
              "    </tr>\n",
              "    <tr>\n",
              "      <th>2018-02-07</th>\n",
              "      <td>NaN</td>\n",
              "      <td>NaN</td>\n",
              "      <td>NaN</td>\n",
              "      <td>NaN</td>\n",
              "      <td>NaN</td>\n",
              "      <td>1091.528071</td>\n",
              "    </tr>\n",
              "    <tr>\n",
              "      <th>2018-02-08</th>\n",
              "      <td>NaN</td>\n",
              "      <td>NaN</td>\n",
              "      <td>NaN</td>\n",
              "      <td>NaN</td>\n",
              "      <td>NaN</td>\n",
              "      <td>1105.541529</td>\n",
              "    </tr>\n",
              "    <tr>\n",
              "      <th>2018-02-09</th>\n",
              "      <td>NaN</td>\n",
              "      <td>NaN</td>\n",
              "      <td>NaN</td>\n",
              "      <td>NaN</td>\n",
              "      <td>NaN</td>\n",
              "      <td>1100.150087</td>\n",
              "    </tr>\n",
              "    <tr>\n",
              "      <th>2018-02-10</th>\n",
              "      <td>NaN</td>\n",
              "      <td>NaN</td>\n",
              "      <td>NaN</td>\n",
              "      <td>NaN</td>\n",
              "      <td>NaN</td>\n",
              "      <td>1093.652244</td>\n",
              "    </tr>\n",
              "    <tr>\n",
              "      <th>2018-02-11</th>\n",
              "      <td>NaN</td>\n",
              "      <td>NaN</td>\n",
              "      <td>NaN</td>\n",
              "      <td>NaN</td>\n",
              "      <td>NaN</td>\n",
              "      <td>1091.038650</td>\n",
              "    </tr>\n",
              "    <tr>\n",
              "      <th>2018-02-12</th>\n",
              "      <td>NaN</td>\n",
              "      <td>NaN</td>\n",
              "      <td>NaN</td>\n",
              "      <td>NaN</td>\n",
              "      <td>NaN</td>\n",
              "      <td>1089.495885</td>\n",
              "    </tr>\n",
              "    <tr>\n",
              "      <th>2018-02-13</th>\n",
              "      <td>NaN</td>\n",
              "      <td>NaN</td>\n",
              "      <td>NaN</td>\n",
              "      <td>NaN</td>\n",
              "      <td>NaN</td>\n",
              "      <td>1086.464063</td>\n",
              "    </tr>\n",
              "    <tr>\n",
              "      <th>2018-02-14</th>\n",
              "      <td>NaN</td>\n",
              "      <td>NaN</td>\n",
              "      <td>NaN</td>\n",
              "      <td>NaN</td>\n",
              "      <td>NaN</td>\n",
              "      <td>1080.252725</td>\n",
              "    </tr>\n",
              "    <tr>\n",
              "      <th>2018-02-15</th>\n",
              "      <td>NaN</td>\n",
              "      <td>NaN</td>\n",
              "      <td>NaN</td>\n",
              "      <td>NaN</td>\n",
              "      <td>NaN</td>\n",
              "      <td>1075.886438</td>\n",
              "    </tr>\n",
              "    <tr>\n",
              "      <th>2018-02-16</th>\n",
              "      <td>NaN</td>\n",
              "      <td>NaN</td>\n",
              "      <td>NaN</td>\n",
              "      <td>NaN</td>\n",
              "      <td>NaN</td>\n",
              "      <td>1073.608792</td>\n",
              "    </tr>\n",
              "    <tr>\n",
              "      <th>2018-02-17</th>\n",
              "      <td>NaN</td>\n",
              "      <td>NaN</td>\n",
              "      <td>NaN</td>\n",
              "      <td>NaN</td>\n",
              "      <td>NaN</td>\n",
              "      <td>1093.072180</td>\n",
              "    </tr>\n",
              "    <tr>\n",
              "      <th>2018-02-18</th>\n",
              "      <td>NaN</td>\n",
              "      <td>NaN</td>\n",
              "      <td>NaN</td>\n",
              "      <td>NaN</td>\n",
              "      <td>NaN</td>\n",
              "      <td>1111.431105</td>\n",
              "    </tr>\n",
              "    <tr>\n",
              "      <th>2018-02-19</th>\n",
              "      <td>NaN</td>\n",
              "      <td>NaN</td>\n",
              "      <td>NaN</td>\n",
              "      <td>NaN</td>\n",
              "      <td>NaN</td>\n",
              "      <td>1115.893051</td>\n",
              "    </tr>\n",
              "    <tr>\n",
              "      <th>2018-02-20</th>\n",
              "      <td>NaN</td>\n",
              "      <td>NaN</td>\n",
              "      <td>NaN</td>\n",
              "      <td>NaN</td>\n",
              "      <td>NaN</td>\n",
              "      <td>1130.811086</td>\n",
              "    </tr>\n",
              "    <tr>\n",
              "      <th>2018-02-21</th>\n",
              "      <td>NaN</td>\n",
              "      <td>NaN</td>\n",
              "      <td>NaN</td>\n",
              "      <td>NaN</td>\n",
              "      <td>NaN</td>\n",
              "      <td>1134.814758</td>\n",
              "    </tr>\n",
              "    <tr>\n",
              "      <th>2018-02-22</th>\n",
              "      <td>NaN</td>\n",
              "      <td>NaN</td>\n",
              "      <td>NaN</td>\n",
              "      <td>NaN</td>\n",
              "      <td>NaN</td>\n",
              "      <td>1133.454299</td>\n",
              "    </tr>\n",
              "    <tr>\n",
              "      <th>2018-02-23</th>\n",
              "      <td>NaN</td>\n",
              "      <td>NaN</td>\n",
              "      <td>NaN</td>\n",
              "      <td>NaN</td>\n",
              "      <td>NaN</td>\n",
              "      <td>1130.999480</td>\n",
              "    </tr>\n",
              "    <tr>\n",
              "      <th>2018-02-24</th>\n",
              "      <td>NaN</td>\n",
              "      <td>NaN</td>\n",
              "      <td>NaN</td>\n",
              "      <td>NaN</td>\n",
              "      <td>NaN</td>\n",
              "      <td>1132.780158</td>\n",
              "    </tr>\n",
              "    <tr>\n",
              "      <th>2018-02-25</th>\n",
              "      <td>NaN</td>\n",
              "      <td>NaN</td>\n",
              "      <td>NaN</td>\n",
              "      <td>NaN</td>\n",
              "      <td>NaN</td>\n",
              "      <td>1151.128996</td>\n",
              "    </tr>\n",
              "    <tr>\n",
              "      <th>2018-02-26</th>\n",
              "      <td>NaN</td>\n",
              "      <td>NaN</td>\n",
              "      <td>NaN</td>\n",
              "      <td>NaN</td>\n",
              "      <td>NaN</td>\n",
              "      <td>1150.150417</td>\n",
              "    </tr>\n",
              "    <tr>\n",
              "      <th>2018-02-27</th>\n",
              "      <td>NaN</td>\n",
              "      <td>NaN</td>\n",
              "      <td>NaN</td>\n",
              "      <td>NaN</td>\n",
              "      <td>NaN</td>\n",
              "      <td>1160.355243</td>\n",
              "    </tr>\n",
              "    <tr>\n",
              "      <th>2018-02-28</th>\n",
              "      <td>NaN</td>\n",
              "      <td>NaN</td>\n",
              "      <td>NaN</td>\n",
              "      <td>NaN</td>\n",
              "      <td>NaN</td>\n",
              "      <td>1156.898594</td>\n",
              "    </tr>\n",
              "    <tr>\n",
              "      <th>2018-03-01</th>\n",
              "      <td>NaN</td>\n",
              "      <td>NaN</td>\n",
              "      <td>NaN</td>\n",
              "      <td>NaN</td>\n",
              "      <td>NaN</td>\n",
              "      <td>1164.696678</td>\n",
              "    </tr>\n",
              "    <tr>\n",
              "      <th>2018-03-02</th>\n",
              "      <td>NaN</td>\n",
              "      <td>NaN</td>\n",
              "      <td>NaN</td>\n",
              "      <td>NaN</td>\n",
              "      <td>NaN</td>\n",
              "      <td>1184.927365</td>\n",
              "    </tr>\n",
              "    <tr>\n",
              "      <th>2018-03-03</th>\n",
              "      <td>NaN</td>\n",
              "      <td>NaN</td>\n",
              "      <td>NaN</td>\n",
              "      <td>NaN</td>\n",
              "      <td>NaN</td>\n",
              "      <td>1197.289853</td>\n",
              "    </tr>\n",
              "    <tr>\n",
              "      <th>2018-03-04</th>\n",
              "      <td>NaN</td>\n",
              "      <td>NaN</td>\n",
              "      <td>NaN</td>\n",
              "      <td>NaN</td>\n",
              "      <td>NaN</td>\n",
              "      <td>1191.474880</td>\n",
              "    </tr>\n",
              "    <tr>\n",
              "      <th>2018-03-05</th>\n",
              "      <td>NaN</td>\n",
              "      <td>NaN</td>\n",
              "      <td>NaN</td>\n",
              "      <td>NaN</td>\n",
              "      <td>NaN</td>\n",
              "      <td>1203.524671</td>\n",
              "    </tr>\n",
              "    <tr>\n",
              "      <th>2018-03-06</th>\n",
              "      <td>NaN</td>\n",
              "      <td>NaN</td>\n",
              "      <td>NaN</td>\n",
              "      <td>NaN</td>\n",
              "      <td>NaN</td>\n",
              "      <td>1209.084883</td>\n",
              "    </tr>\n",
              "    <tr>\n",
              "      <th>2018-03-07</th>\n",
              "      <td>NaN</td>\n",
              "      <td>NaN</td>\n",
              "      <td>NaN</td>\n",
              "      <td>NaN</td>\n",
              "      <td>NaN</td>\n",
              "      <td>1207.063702</td>\n",
              "    </tr>\n",
              "    <tr>\n",
              "      <th>2018-03-08</th>\n",
              "      <td>NaN</td>\n",
              "      <td>NaN</td>\n",
              "      <td>NaN</td>\n",
              "      <td>NaN</td>\n",
              "      <td>NaN</td>\n",
              "      <td>1197.834884</td>\n",
              "    </tr>\n",
              "    <tr>\n",
              "      <th>2018-03-09</th>\n",
              "      <td>NaN</td>\n",
              "      <td>NaN</td>\n",
              "      <td>NaN</td>\n",
              "      <td>NaN</td>\n",
              "      <td>NaN</td>\n",
              "      <td>1203.458505</td>\n",
              "    </tr>\n",
              "    <tr>\n",
              "      <th>2018-03-10</th>\n",
              "      <td>NaN</td>\n",
              "      <td>NaN</td>\n",
              "      <td>NaN</td>\n",
              "      <td>NaN</td>\n",
              "      <td>NaN</td>\n",
              "      <td>1202.046243</td>\n",
              "    </tr>\n",
              "    <tr>\n",
              "      <th>2018-03-11</th>\n",
              "      <td>NaN</td>\n",
              "      <td>NaN</td>\n",
              "      <td>NaN</td>\n",
              "      <td>NaN</td>\n",
              "      <td>NaN</td>\n",
              "      <td>1137.596336</td>\n",
              "    </tr>\n",
              "    <tr>\n",
              "      <th>2018-03-12</th>\n",
              "      <td>NaN</td>\n",
              "      <td>NaN</td>\n",
              "      <td>NaN</td>\n",
              "      <td>NaN</td>\n",
              "      <td>NaN</td>\n",
              "      <td>1084.293195</td>\n",
              "    </tr>\n",
              "  </tbody>\n",
              "</table>\n",
              "</div>"
            ],
            "text/plain": [
              "            Adj. Close    HL_PCT  PCT_change  Adj. Volume    label     Forecast\n",
              "Date                                                                           \n",
              "2018-02-02     1119.20  1.081129   -0.729098    5798880.0  1054.09          NaN\n",
              "2018-02-05     1068.76  4.325574   -2.893850    3742469.0  1006.94          NaN\n",
              "2018-02-06         NaN       NaN         NaN          NaN      NaN  1076.915978\n",
              "2018-02-07         NaN       NaN         NaN          NaN      NaN  1091.528071\n",
              "2018-02-08         NaN       NaN         NaN          NaN      NaN  1105.541529\n",
              "2018-02-09         NaN       NaN         NaN          NaN      NaN  1100.150087\n",
              "2018-02-10         NaN       NaN         NaN          NaN      NaN  1093.652244\n",
              "2018-02-11         NaN       NaN         NaN          NaN      NaN  1091.038650\n",
              "2018-02-12         NaN       NaN         NaN          NaN      NaN  1089.495885\n",
              "2018-02-13         NaN       NaN         NaN          NaN      NaN  1086.464063\n",
              "2018-02-14         NaN       NaN         NaN          NaN      NaN  1080.252725\n",
              "2018-02-15         NaN       NaN         NaN          NaN      NaN  1075.886438\n",
              "2018-02-16         NaN       NaN         NaN          NaN      NaN  1073.608792\n",
              "2018-02-17         NaN       NaN         NaN          NaN      NaN  1093.072180\n",
              "2018-02-18         NaN       NaN         NaN          NaN      NaN  1111.431105\n",
              "2018-02-19         NaN       NaN         NaN          NaN      NaN  1115.893051\n",
              "2018-02-20         NaN       NaN         NaN          NaN      NaN  1130.811086\n",
              "2018-02-21         NaN       NaN         NaN          NaN      NaN  1134.814758\n",
              "2018-02-22         NaN       NaN         NaN          NaN      NaN  1133.454299\n",
              "2018-02-23         NaN       NaN         NaN          NaN      NaN  1130.999480\n",
              "2018-02-24         NaN       NaN         NaN          NaN      NaN  1132.780158\n",
              "2018-02-25         NaN       NaN         NaN          NaN      NaN  1151.128996\n",
              "2018-02-26         NaN       NaN         NaN          NaN      NaN  1150.150417\n",
              "2018-02-27         NaN       NaN         NaN          NaN      NaN  1160.355243\n",
              "2018-02-28         NaN       NaN         NaN          NaN      NaN  1156.898594\n",
              "2018-03-01         NaN       NaN         NaN          NaN      NaN  1164.696678\n",
              "2018-03-02         NaN       NaN         NaN          NaN      NaN  1184.927365\n",
              "2018-03-03         NaN       NaN         NaN          NaN      NaN  1197.289853\n",
              "2018-03-04         NaN       NaN         NaN          NaN      NaN  1191.474880\n",
              "2018-03-05         NaN       NaN         NaN          NaN      NaN  1203.524671\n",
              "2018-03-06         NaN       NaN         NaN          NaN      NaN  1209.084883\n",
              "2018-03-07         NaN       NaN         NaN          NaN      NaN  1207.063702\n",
              "2018-03-08         NaN       NaN         NaN          NaN      NaN  1197.834884\n",
              "2018-03-09         NaN       NaN         NaN          NaN      NaN  1203.458505\n",
              "2018-03-10         NaN       NaN         NaN          NaN      NaN  1202.046243\n",
              "2018-03-11         NaN       NaN         NaN          NaN      NaN  1137.596336\n",
              "2018-03-12         NaN       NaN         NaN          NaN      NaN  1084.293195"
            ]
          },
          "metadata": {
            "tags": []
          },
          "execution_count": 167
        }
      ]
    },
    {
      "cell_type": "code",
      "metadata": {
        "id": "ZxvCFpFL9tl2",
        "colab_type": "code",
        "colab": {
          "base_uri": "https://localhost:8080/",
          "height": 234
        },
        "outputId": "b017ef1a-f5db-44c6-bd8a-82ec1edcdf80"
      },
      "source": [
        "df.head()"
      ],
      "execution_count": 168,
      "outputs": [
        {
          "output_type": "execute_result",
          "data": {
            "text/html": [
              "<div>\n",
              "<style scoped>\n",
              "    .dataframe tbody tr th:only-of-type {\n",
              "        vertical-align: middle;\n",
              "    }\n",
              "\n",
              "    .dataframe tbody tr th {\n",
              "        vertical-align: top;\n",
              "    }\n",
              "\n",
              "    .dataframe thead th {\n",
              "        text-align: right;\n",
              "    }\n",
              "</style>\n",
              "<table border=\"1\" class=\"dataframe\">\n",
              "  <thead>\n",
              "    <tr style=\"text-align: right;\">\n",
              "      <th></th>\n",
              "      <th>Adj. Close</th>\n",
              "      <th>HL_PCT</th>\n",
              "      <th>PCT_change</th>\n",
              "      <th>Adj. Volume</th>\n",
              "      <th>label</th>\n",
              "      <th>Forecast</th>\n",
              "    </tr>\n",
              "    <tr>\n",
              "      <th>Date</th>\n",
              "      <th></th>\n",
              "      <th></th>\n",
              "      <th></th>\n",
              "      <th></th>\n",
              "      <th></th>\n",
              "      <th></th>\n",
              "    </tr>\n",
              "  </thead>\n",
              "  <tbody>\n",
              "    <tr>\n",
              "      <th>2004-08-19</th>\n",
              "      <td>50.322842</td>\n",
              "      <td>3.712563</td>\n",
              "      <td>0.324968</td>\n",
              "      <td>44659000.0</td>\n",
              "      <td>69.078238</td>\n",
              "      <td>NaN</td>\n",
              "    </tr>\n",
              "    <tr>\n",
              "      <th>2004-08-20</th>\n",
              "      <td>54.322689</td>\n",
              "      <td>0.710922</td>\n",
              "      <td>7.227007</td>\n",
              "      <td>22834300.0</td>\n",
              "      <td>67.839414</td>\n",
              "      <td>NaN</td>\n",
              "    </tr>\n",
              "    <tr>\n",
              "      <th>2004-08-23</th>\n",
              "      <td>54.869377</td>\n",
              "      <td>3.729433</td>\n",
              "      <td>-1.227880</td>\n",
              "      <td>18256100.0</td>\n",
              "      <td>68.912727</td>\n",
              "      <td>NaN</td>\n",
              "    </tr>\n",
              "    <tr>\n",
              "      <th>2004-08-24</th>\n",
              "      <td>52.597363</td>\n",
              "      <td>6.417469</td>\n",
              "      <td>-5.726357</td>\n",
              "      <td>15247300.0</td>\n",
              "      <td>70.668146</td>\n",
              "      <td>NaN</td>\n",
              "    </tr>\n",
              "    <tr>\n",
              "      <th>2004-08-25</th>\n",
              "      <td>53.164113</td>\n",
              "      <td>1.886792</td>\n",
              "      <td>1.183658</td>\n",
              "      <td>9188600.0</td>\n",
              "      <td>71.219849</td>\n",
              "      <td>NaN</td>\n",
              "    </tr>\n",
              "  </tbody>\n",
              "</table>\n",
              "</div>"
            ],
            "text/plain": [
              "            Adj. Close    HL_PCT  PCT_change  Adj. Volume      label  Forecast\n",
              "Date                                                                          \n",
              "2004-08-19   50.322842  3.712563    0.324968   44659000.0  69.078238       NaN\n",
              "2004-08-20   54.322689  0.710922    7.227007   22834300.0  67.839414       NaN\n",
              "2004-08-23   54.869377  3.729433   -1.227880   18256100.0  68.912727       NaN\n",
              "2004-08-24   52.597363  6.417469   -5.726357   15247300.0  70.668146       NaN\n",
              "2004-08-25   53.164113  1.886792    1.183658    9188600.0  71.219849       NaN"
            ]
          },
          "metadata": {
            "tags": []
          },
          "execution_count": 168
        }
      ]
    },
    {
      "cell_type": "code",
      "metadata": {
        "id": "pIjOtvtqM0Xs",
        "colab_type": "code",
        "colab": {
          "base_uri": "https://localhost:8080/",
          "height": 234
        },
        "outputId": "791f5385-b166-4367-8250-fc78e5fc0ac6"
      },
      "source": [
        "df.tail()"
      ],
      "execution_count": 169,
      "outputs": [
        {
          "output_type": "execute_result",
          "data": {
            "text/html": [
              "<div>\n",
              "<style scoped>\n",
              "    .dataframe tbody tr th:only-of-type {\n",
              "        vertical-align: middle;\n",
              "    }\n",
              "\n",
              "    .dataframe tbody tr th {\n",
              "        vertical-align: top;\n",
              "    }\n",
              "\n",
              "    .dataframe thead th {\n",
              "        text-align: right;\n",
              "    }\n",
              "</style>\n",
              "<table border=\"1\" class=\"dataframe\">\n",
              "  <thead>\n",
              "    <tr style=\"text-align: right;\">\n",
              "      <th></th>\n",
              "      <th>Adj. Close</th>\n",
              "      <th>HL_PCT</th>\n",
              "      <th>PCT_change</th>\n",
              "      <th>Adj. Volume</th>\n",
              "      <th>label</th>\n",
              "      <th>Forecast</th>\n",
              "    </tr>\n",
              "    <tr>\n",
              "      <th>Date</th>\n",
              "      <th></th>\n",
              "      <th></th>\n",
              "      <th></th>\n",
              "      <th></th>\n",
              "      <th></th>\n",
              "      <th></th>\n",
              "    </tr>\n",
              "  </thead>\n",
              "  <tbody>\n",
              "    <tr>\n",
              "      <th>2018-03-08</th>\n",
              "      <td>NaN</td>\n",
              "      <td>NaN</td>\n",
              "      <td>NaN</td>\n",
              "      <td>NaN</td>\n",
              "      <td>NaN</td>\n",
              "      <td>1197.834884</td>\n",
              "    </tr>\n",
              "    <tr>\n",
              "      <th>2018-03-09</th>\n",
              "      <td>NaN</td>\n",
              "      <td>NaN</td>\n",
              "      <td>NaN</td>\n",
              "      <td>NaN</td>\n",
              "      <td>NaN</td>\n",
              "      <td>1203.458505</td>\n",
              "    </tr>\n",
              "    <tr>\n",
              "      <th>2018-03-10</th>\n",
              "      <td>NaN</td>\n",
              "      <td>NaN</td>\n",
              "      <td>NaN</td>\n",
              "      <td>NaN</td>\n",
              "      <td>NaN</td>\n",
              "      <td>1202.046243</td>\n",
              "    </tr>\n",
              "    <tr>\n",
              "      <th>2018-03-11</th>\n",
              "      <td>NaN</td>\n",
              "      <td>NaN</td>\n",
              "      <td>NaN</td>\n",
              "      <td>NaN</td>\n",
              "      <td>NaN</td>\n",
              "      <td>1137.596336</td>\n",
              "    </tr>\n",
              "    <tr>\n",
              "      <th>2018-03-12</th>\n",
              "      <td>NaN</td>\n",
              "      <td>NaN</td>\n",
              "      <td>NaN</td>\n",
              "      <td>NaN</td>\n",
              "      <td>NaN</td>\n",
              "      <td>1084.293195</td>\n",
              "    </tr>\n",
              "  </tbody>\n",
              "</table>\n",
              "</div>"
            ],
            "text/plain": [
              "            Adj. Close  HL_PCT  PCT_change  Adj. Volume  label     Forecast\n",
              "Date                                                                       \n",
              "2018-03-08         NaN     NaN         NaN          NaN    NaN  1197.834884\n",
              "2018-03-09         NaN     NaN         NaN          NaN    NaN  1203.458505\n",
              "2018-03-10         NaN     NaN         NaN          NaN    NaN  1202.046243\n",
              "2018-03-11         NaN     NaN         NaN          NaN    NaN  1137.596336\n",
              "2018-03-12         NaN     NaN         NaN          NaN    NaN  1084.293195"
            ]
          },
          "metadata": {
            "tags": []
          },
          "execution_count": 169
        }
      ]
    },
    {
      "cell_type": "code",
      "metadata": {
        "id": "KuKk6RhGILbx",
        "colab_type": "code",
        "colab": {
          "base_uri": "https://localhost:8080/",
          "height": 68
        },
        "outputId": "9ca9bb37-013c-4ce0-9aa1-30036fe3c5ad"
      },
      "source": [
        "df.columns"
      ],
      "execution_count": 170,
      "outputs": [
        {
          "output_type": "execute_result",
          "data": {
            "text/plain": [
              "Index(['Adj. Close', 'HL_PCT', 'PCT_change', 'Adj. Volume', 'label',\n",
              "       'Forecast'],\n",
              "      dtype='object')"
            ]
          },
          "metadata": {
            "tags": []
          },
          "execution_count": 170
        }
      ]
    },
    {
      "cell_type": "code",
      "metadata": {
        "id": "_TZ60Sr7J1qc",
        "colab_type": "code",
        "colab": {
          "base_uri": "https://localhost:8080/",
          "height": 289
        },
        "outputId": "73269a8c-50e1-44bf-9564-d9fff62b7b01"
      },
      "source": [
        "df['Adj. Close'].plot()"
      ],
      "execution_count": 171,
      "outputs": [
        {
          "output_type": "execute_result",
          "data": {
            "text/plain": [
              "<matplotlib.axes._subplots.AxesSubplot at 0x7f7f91935ac8>"
            ]
          },
          "metadata": {
            "tags": []
          },
          "execution_count": 171
        },
        {
          "output_type": "display_data",
          "data": {
            "image/png": "[encoded data removed]",
            "text/plain": [
              "<Figure size 432x288 with 1 Axes>"
            ]
          },
          "metadata": {
            "tags": []
          }
        }
      ]
    },
    {
      "cell_type": "code",
      "metadata": {
        "id": "7A8OY6EwKJ7j",
        "colab_type": "code",
        "colab": {
          "base_uri": "https://localhost:8080/",
          "height": 305
        },
        "outputId": "efdbfc85-33c5-4c5f-c754-a7df65e9533b"
      },
      "source": [
        "df['Forecast'].plot()"
      ],
      "execution_count": 172,
      "outputs": [
        {
          "output_type": "execute_result",
          "data": {
            "text/plain": [
              "<matplotlib.axes._subplots.AxesSubplot at 0x7f7f9183ac50>"
            ]
          },
          "metadata": {
            "tags": []
          },
          "execution_count": 172
        },
        {
          "output_type": "display_data",
          "data": {
            "image/png": "[encoded data removed]",
            "text/plain": [
              "<Figure size 432x288 with 1 Axes>"
            ]
          },
          "metadata": {
            "tags": []
          }
        }
      ]
    },
    {
      "cell_type": "markdown",
      "metadata": {
        "id": "Xb07jtNuNcYc",
        "colab_type": "text"
      },
      "source": [
        "- loc = 1 means top right\n",
        "- loc = 2 means top left\n",
        "- loc = 3 means bottom left\n",
        "- loc = 4 means bottom right"
      ]
    },
    {
      "cell_type": "code",
      "metadata": {
        "id": "xovnEndRKer8",
        "colab_type": "code",
        "colab": {
          "base_uri": "https://localhost:8080/",
          "height": 289
        },
        "outputId": "21a66a47-2c6e-47f2-d42a-6813b6a09d07"
      },
      "source": [
        "df['Adj. Close'].plot()\n",
        "df['Forecast'].plot()\n",
        "plt.legend(loc = 4)\n",
        "plt.xlabel('Date')\n",
        "plt.ylabel('Price')\n"
      ],
      "execution_count": 173,
      "outputs": [
        {
          "output_type": "execute_result",
          "data": {
            "text/plain": [
              "Text(0, 0.5, 'Price')"
            ]
          },
          "metadata": {
            "tags": []
          },
          "execution_count": 173
        },
        {
          "output_type": "display_data",
          "data": {
            "image/png": "[encoded data removed]",
            "text/plain": [
              "<Figure size 432x288 with 1 Axes>"
            ]
          },
          "metadata": {
            "tags": []
          }
        }
      ]
    },
    {
      "cell_type": "markdown",
      "metadata": {
        "id": "b1RdbGsY5ggU",
        "colab_type": "text"
      },
      "source": [
        "Pickling is done if you have a large amount of data for training, this takes time if you are training on a lot of data, so for you to remove the time of training your data, you can store it in a pickle file and use to score your data and predict labels from features.\n",
        "Pickle saves time."
      ]
    },
    {
      "cell_type": "code",
      "metadata": {
        "id": "D9LKeUFdNXEk",
        "colab_type": "code",
        "colab": {}
      },
      "source": [
        "import pickle"
      ],
      "execution_count": 174,
      "outputs": []
    },
    {
      "cell_type": "code",
      "metadata": {
        "id": "2OO2esBS6XQ-",
        "colab_type": "code",
        "colab": {}
      },
      "source": [
        "from sklearn.linear_model import LinearRegression"
      ],
      "execution_count": 175,
      "outputs": []
    },
    {
      "cell_type": "code",
      "metadata": {
        "id": "syDCZPe75ekf",
        "colab_type": "code",
        "colab": {
          "base_uri": "https://localhost:8080/",
          "height": 34
        },
        "outputId": "a7bac9f4-9ee8-4f8f-be02-688878ca06a8"
      },
      "source": [
        "classifier = LinearRegression(n_jobs= -1)\n",
        "classifier.fit(X_train,y_train)\n"
      ],
      "execution_count": 176,
      "outputs": [
        {
          "output_type": "execute_result",
          "data": {
            "text/plain": [
              "LinearRegression(copy_X=True, fit_intercept=True, n_jobs=-1, normalize=False)"
            ]
          },
          "metadata": {
            "tags": []
          },
          "execution_count": 176
        }
      ]
    },
    {
      "cell_type": "markdown",
      "metadata": {
        "id": "SrrJqYXQ6vSQ",
        "colab_type": "text"
      },
      "source": [
        "## **with open (creeating and write file content)**"
      ]
    },
    {
      "cell_type": "markdown",
      "metadata": {
        "id": "IxsMiHzk6sYm",
        "colab_type": "text"
      },
      "source": [
        "- with open('linearregression.pickle', 'wb')\n",
        "- this here looks like the way nano and vim works in linux, where you can open a file and write into it then save when you are done.\n",
        "- linearregression.pickle will be the name of the file with .pickle extension\n",
        "- for 'wb', w means write the data while b means as a binary file\n",
        " "
      ]
    },
    {
      "cell_type": "markdown",
      "metadata": {
        "id": "Cuo9sZUY69bD",
        "colab_type": "text"
      },
      "source": [
        "## **Opening the file**"
      ]
    },
    {
      "cell_type": "markdown",
      "metadata": {
        "id": "4nxF80a67ND7",
        "colab_type": "text"
      },
      "source": [
        "-  open('linearregression.pickle', 'rb')\n",
        "\n",
        "- linearregression.pickle will be the name of the file with .pickle extension\n",
        "- for 'rb', r means read the data while b means as a binary file\n",
        " "
      ]
    },
    {
      "cell_type": "code",
      "metadata": {
        "id": "FEhuow8f2sS_",
        "colab_type": "code",
        "colab": {}
      },
      "source": [
        "with open('linearregression.pickle', 'wb') as f:\n",
        "  pickle.dump(classifier, f) #this dumbs the trained classifier into the pickle file named linearregression.pickle, which has n alias f\n",
        "\n",
        "#using the pickle file\n",
        "pickle_in = open('linearregression.pickle', 'rb')\n",
        "\n",
        "\n",
        "classifier = pickle.load(pickle_in)"
      ],
      "execution_count": 177,
      "outputs": []
    },
    {
      "cell_type": "code",
      "metadata": {
        "id": "obvxl-FG6VWy",
        "colab_type": "code",
        "colab": {
          "base_uri": "https://localhost:8080/",
          "height": 34
        },
        "outputId": "bbe5c670-2dbd-40c0-dfcc-39e6ebce7725"
      },
      "source": [
        "classifier_accuracy = classifier.score(X_test,y_test)\n",
        "classifier_accuracy"
      ],
      "execution_count": 178,
      "outputs": [
        {
          "output_type": "execute_result",
          "data": {
            "text/plain": [
              "0.9774503278357185"
            ]
          },
          "metadata": {
            "tags": []
          },
          "execution_count": 178
        }
      ]
    },
    {
      "cell_type": "code",
      "metadata": {
        "id": "HJKnCDEbDD4u",
        "colab_type": "code",
        "colab": {}
      },
      "source": [
        "import numpy as np"
      ],
      "execution_count": 179,
      "outputs": []
    },
    {
      "cell_type": "code",
      "metadata": {
        "id": "IqVZ6MG3DKtd",
        "colab_type": "code",
        "colab": {
          "base_uri": "https://localhost:8080/",
          "height": 1000
        },
        "outputId": "8963b774-a8bc-4669-c2d4-02d5a6ea4796"
      },
      "source": [
        "dir(np)"
      ],
      "execution_count": 180,
      "outputs": [
        {
          "output_type": "execute_result",
          "data": {
            "text/plain": [
              "['ALLOW_THREADS',\n",
              " 'AxisError',\n",
              " 'BUFSIZE',\n",
              " 'CLIP',\n",
              " 'ComplexWarning',\n",
              " 'DataSource',\n",
              " 'ERR_CALL',\n",
              " 'ERR_DEFAULT',\n",
              " 'ERR_IGNORE',\n",
              " 'ERR_LOG',\n",
              " 'ERR_PRINT',\n",
              " 'ERR_RAISE',\n",
              " 'ERR_WARN',\n",
              " 'FLOATING_POINT_SUPPORT',\n",
              " 'FPE_DIVIDEBYZERO',\n",
              " 'FPE_INVALID',\n",
              " 'FPE_OVERFLOW',\n",
              " 'FPE_UNDERFLOW',\n",
              " 'False_',\n",
              " 'Inf',\n",
              " 'Infinity',\n",
              " 'MAXDIMS',\n",
              " 'MAY_SHARE_BOUNDS',\n",
              " 'MAY_SHARE_EXACT',\n",
              " 'MachAr',\n",
              " 'ModuleDeprecationWarning',\n",
              " 'NAN',\n",
              " 'NINF',\n",
              " 'NZERO',\n",
              " 'NaN',\n",
              " 'PINF',\n",
              " 'PZERO',\n",
              " 'RAISE',\n",
              " 'RankWarning',\n",
              " 'SHIFT_DIVIDEBYZERO',\n",
              " 'SHIFT_INVALID',\n",
              " 'SHIFT_OVERFLOW',\n",
              " 'SHIFT_UNDERFLOW',\n",
              " 'ScalarType',\n",
              " 'Tester',\n",
              " 'TooHardError',\n",
              " 'True_',\n",
              " 'UFUNC_BUFSIZE_DEFAULT',\n",
              " 'UFUNC_PYVALS_NAME',\n",
              " 'VisibleDeprecationWarning',\n",
              " 'WRAP',\n",
              " '_NoValue',\n",
              " '_UFUNC_API',\n",
              " '__NUMPY_SETUP__',\n",
              " '__all__',\n",
              " '__builtins__',\n",
              " '__cached__',\n",
              " '__config__',\n",
              " '__doc__',\n",
              " '__file__',\n",
              " '__git_revision__',\n",
              " '__loader__',\n",
              " '__name__',\n",
              " '__package__',\n",
              " '__path__',\n",
              " '__spec__',\n",
              " '__version__',\n",
              " '_add_newdoc_ufunc',\n",
              " '_distributor_init',\n",
              " '_globals',\n",
              " '_mat',\n",
              " '_pytesttester',\n",
              " 'abs',\n",
              " 'absolute',\n",
              " 'absolute_import',\n",
              " 'add',\n",
              " 'add_docstring',\n",
              " 'add_newdoc',\n",
              " 'add_newdoc_ufunc',\n",
              " 'alen',\n",
              " 'all',\n",
              " 'allclose',\n",
              " 'alltrue',\n",
              " 'amax',\n",
              " 'amin',\n",
              " 'angle',\n",
              " 'any',\n",
              " 'append',\n",
              " 'apply_along_axis',\n",
              " 'apply_over_axes',\n",
              " 'arange',\n",
              " 'arccos',\n",
              " 'arccosh',\n",
              " 'arcsin',\n",
              " 'arcsinh',\n",
              " 'arctan',\n",
              " 'arctan2',\n",
              " 'arctanh',\n",
              " 'argmax',\n",
              " 'argmin',\n",
              " 'argpartition',\n",
              " 'argsort',\n",
              " 'argwhere',\n",
              " 'around',\n",
              " 'array',\n",
              " 'array2string',\n",
              " 'array_equal',\n",
              " 'array_equiv',\n",
              " 'array_repr',\n",
              " 'array_split',\n",
              " 'array_str',\n",
              " 'asanyarray',\n",
              " 'asarray',\n",
              " 'asarray_chkfinite',\n",
              " 'ascontiguousarray',\n",
              " 'asfarray',\n",
              " 'asfortranarray',\n",
              " 'asmatrix',\n",
              " 'asscalar',\n",
              " 'atleast_1d',\n",
              " 'atleast_2d',\n",
              " 'atleast_3d',\n",
              " 'average',\n",
              " 'bartlett',\n",
              " 'base_repr',\n",
              " 'binary_repr',\n",
              " 'bincount',\n",
              " 'bitwise_and',\n",
              " 'bitwise_not',\n",
              " 'bitwise_or',\n",
              " 'bitwise_xor',\n",
              " 'blackman',\n",
              " 'block',\n",
              " 'bmat',\n",
              " 'bool',\n",
              " 'bool8',\n",
              " 'bool_',\n",
              " 'broadcast',\n",
              " 'broadcast_arrays',\n",
              " 'broadcast_to',\n",
              " 'busday_count',\n",
              " 'busday_offset',\n",
              " 'busdaycalendar',\n",
              " 'byte',\n",
              " 'byte_bounds',\n",
              " 'bytes0',\n",
              " 'bytes_',\n",
              " 'c_',\n",
              " 'can_cast',\n",
              " 'cast',\n",
              " 'cbrt',\n",
              " 'cdouble',\n",
              " 'ceil',\n",
              " 'cfloat',\n",
              " 'char',\n",
              " 'character',\n",
              " 'chararray',\n",
              " 'choose',\n",
              " 'clip',\n",
              " 'clongdouble',\n",
              " 'clongfloat',\n",
              " 'column_stack',\n",
              " 'common_type',\n",
              " 'compare_chararrays',\n",
              " 'compat',\n",
              " 'complex',\n",
              " 'complex128',\n",
              " 'complex256',\n",
              " 'complex64',\n",
              " 'complex_',\n",
              " 'complexfloating',\n",
              " 'compress',\n",
              " 'concatenate',\n",
              " 'conj',\n",
              " 'conjugate',\n",
              " 'convolve',\n",
              " 'copy',\n",
              " 'copysign',\n",
              " 'copyto',\n",
              " 'core',\n",
              " 'corrcoef',\n",
              " 'correlate',\n",
              " 'cos',\n",
              " 'cosh',\n",
              " 'count_nonzero',\n",
              " 'cov',\n",
              " 'cross',\n",
              " 'csingle',\n",
              " 'ctypeslib',\n",
              " 'cumprod',\n",
              " 'cumproduct',\n",
              " 'cumsum',\n",
              " 'datetime64',\n",
              " 'datetime_as_string',\n",
              " 'datetime_data',\n",
              " 'deg2rad',\n",
              " 'degrees',\n",
              " 'delete',\n",
              " 'deprecate',\n",
              " 'deprecate_with_doc',\n",
              " 'diag',\n",
              " 'diag_indices',\n",
              " 'diag_indices_from',\n",
              " 'diagflat',\n",
              " 'diagonal',\n",
              " 'diff',\n",
              " 'digitize',\n",
              " 'disp',\n",
              " 'divide',\n",
              " 'division',\n",
              " 'divmod',\n",
              " 'dot',\n",
              " 'double',\n",
              " 'dsplit',\n",
              " 'dstack',\n",
              " 'dtype',\n",
              " 'dual',\n",
              " 'e',\n",
              " 'ediff1d',\n",
              " 'einsum',\n",
              " 'einsum_path',\n",
              " 'emath',\n",
              " 'empty',\n",
              " 'empty_like',\n",
              " 'equal',\n",
              " 'errstate',\n",
              " 'euler_gamma',\n",
              " 'exp',\n",
              " 'exp2',\n",
              " 'expand_dims',\n",
              " 'expm1',\n",
              " 'extract',\n",
              " 'eye',\n",
              " 'fabs',\n",
              " 'fastCopyAndTranspose',\n",
              " 'fft',\n",
              " 'fill_diagonal',\n",
              " 'find_common_type',\n",
              " 'finfo',\n",
              " 'fix',\n",
              " 'flatiter',\n",
              " 'flatnonzero',\n",
              " 'flexible',\n",
              " 'flip',\n",
              " 'fliplr',\n",
              " 'flipud',\n",
              " 'float',\n",
              " 'float128',\n",
              " 'float16',\n",
              " 'float32',\n",
              " 'float64',\n",
              " 'float_',\n",
              " 'float_power',\n",
              " 'floating',\n",
              " 'floor',\n",
              " 'floor_divide',\n",
              " 'fmax',\n",
              " 'fmin',\n",
              " 'fmod',\n",
              " 'format_float_positional',\n",
              " 'format_float_scientific',\n",
              " 'format_parser',\n",
              " 'frexp',\n",
              " 'frombuffer',\n",
              " 'fromfile',\n",
              " 'fromfunction',\n",
              " 'fromiter',\n",
              " 'frompyfunc',\n",
              " 'fromregex',\n",
              " 'fromstring',\n",
              " 'full',\n",
              " 'full_like',\n",
              " 'fv',\n",
              " 'gcd',\n",
              " 'generic',\n",
              " 'genfromtxt',\n",
              " 'geomspace',\n",
              " 'get_array_wrap',\n",
              " 'get_include',\n",
              " 'get_printoptions',\n",
              " 'getbufsize',\n",
              " 'geterr',\n",
              " 'geterrcall',\n",
              " 'geterrobj',\n",
              " 'gradient',\n",
              " 'greater',\n",
              " 'greater_equal',\n",
              " 'half',\n",
              " 'hamming',\n",
              " 'hanning',\n",
              " 'heaviside',\n",
              " 'histogram',\n",
              " 'histogram2d',\n",
              " 'histogram_bin_edges',\n",
              " 'histogramdd',\n",
              " 'hsplit',\n",
              " 'hstack',\n",
              " 'hypot',\n",
              " 'i0',\n",
              " 'identity',\n",
              " 'iinfo',\n",
              " 'imag',\n",
              " 'in1d',\n",
              " 'index_exp',\n",
              " 'indices',\n",
              " 'inexact',\n",
              " 'inf',\n",
              " 'info',\n",
              " 'infty',\n",
              " 'inner',\n",
              " 'insert',\n",
              " 'int',\n",
              " 'int0',\n",
              " 'int16',\n",
              " 'int32',\n",
              " 'int64',\n",
              " 'int8',\n",
              " 'int_',\n",
              " 'int_asbuffer',\n",
              " 'intc',\n",
              " 'integer',\n",
              " 'interp',\n",
              " 'intersect1d',\n",
              " 'intp',\n",
              " 'invert',\n",
              " 'ipmt',\n",
              " 'irr',\n",
              " 'is_busday',\n",
              " 'isclose',\n",
              " 'iscomplex',\n",
              " 'iscomplexobj',\n",
              " 'isfinite',\n",
              " 'isfortran',\n",
              " 'isin',\n",
              " 'isinf',\n",
              " 'isnan',\n",
              " 'isnat',\n",
              " 'isneginf',\n",
              " 'isposinf',\n",
              " 'isreal',\n",
              " 'isrealobj',\n",
              " 'isscalar',\n",
              " 'issctype',\n",
              " 'issubclass_',\n",
              " 'issubdtype',\n",
              " 'issubsctype',\n",
              " 'iterable',\n",
              " 'ix_',\n",
              " 'kaiser',\n",
              " 'kron',\n",
              " 'lcm',\n",
              " 'ldexp',\n",
              " 'left_shift',\n",
              " 'less',\n",
              " 'less_equal',\n",
              " 'lexsort',\n",
              " 'lib',\n",
              " 'linalg',\n",
              " 'linspace',\n",
              " 'little_endian',\n",
              " 'load',\n",
              " 'loads',\n",
              " 'loadtxt',\n",
              " 'log',\n",
              " 'log10',\n",
              " 'log1p',\n",
              " 'log2',\n",
              " 'logaddexp',\n",
              " 'logaddexp2',\n",
              " 'logical_and',\n",
              " 'logical_not',\n",
              " 'logical_or',\n",
              " 'logical_xor',\n",
              " 'logspace',\n",
              " 'long',\n",
              " 'longcomplex',\n",
              " 'longdouble',\n",
              " 'longfloat',\n",
              " 'longlong',\n",
              " 'lookfor',\n",
              " 'ma',\n",
              " 'mafromtxt',\n",
              " 'mask_indices',\n",
              " 'mat',\n",
              " 'math',\n",
              " 'matmul',\n",
              " 'matrix',\n",
              " 'matrixlib',\n",
              " 'max',\n",
              " 'maximum',\n",
              " 'maximum_sctype',\n",
              " 'may_share_memory',\n",
              " 'mean',\n",
              " 'median',\n",
              " 'memmap',\n",
              " 'meshgrid',\n",
              " 'mgrid',\n",
              " 'min',\n",
              " 'min_scalar_type',\n",
              " 'minimum',\n",
              " 'mintypecode',\n",
              " 'mirr',\n",
              " 'mod',\n",
              " 'modf',\n",
              " 'moveaxis',\n",
              " 'msort',\n",
              " 'multiply',\n",
              " 'nan',\n",
              " 'nan_to_num',\n",
              " 'nanargmax',\n",
              " 'nanargmin',\n",
              " 'nancumprod',\n",
              " 'nancumsum',\n",
              " 'nanmax',\n",
              " 'nanmean',\n",
              " 'nanmedian',\n",
              " 'nanmin',\n",
              " 'nanpercentile',\n",
              " 'nanprod',\n",
              " 'nanquantile',\n",
              " 'nanstd',\n",
              " 'nansum',\n",
              " 'nanvar',\n",
              " 'nbytes',\n",
              " 'ndarray',\n",
              " 'ndenumerate',\n",
              " 'ndfromtxt',\n",
              " 'ndim',\n",
              " 'ndindex',\n",
              " 'nditer',\n",
              " 'negative',\n",
              " 'nested_iters',\n",
              " 'newaxis',\n",
              " 'nextafter',\n",
              " 'nonzero',\n",
              " 'not_equal',\n",
              " 'nper',\n",
              " 'npv',\n",
              " 'numarray',\n",
              " 'number',\n",
              " 'obj2sctype',\n",
              " 'object',\n",
              " 'object0',\n",
              " 'object_',\n",
              " 'ogrid',\n",
              " 'oldnumeric',\n",
              " 'ones',\n",
              " 'ones_like',\n",
              " 'outer',\n",
              " 'packbits',\n",
              " 'pad',\n",
              " 'partition',\n",
              " 'percentile',\n",
              " 'pi',\n",
              " 'piecewise',\n",
              " 'place',\n",
              " 'pmt',\n",
              " 'poly',\n",
              " 'poly1d',\n",
              " 'polyadd',\n",
              " 'polyder',\n",
              " 'polydiv',\n",
              " 'polyfit',\n",
              " 'polyint',\n",
              " 'polymul',\n",
              " 'polynomial',\n",
              " 'polysub',\n",
              " 'polyval',\n",
              " 'positive',\n",
              " 'power',\n",
              " 'ppmt',\n",
              " 'print_function',\n",
              " 'printoptions',\n",
              " 'prod',\n",
              " 'product',\n",
              " 'promote_types',\n",
              " 'ptp',\n",
              " 'put',\n",
              " 'put_along_axis',\n",
              " 'putmask',\n",
              " 'pv',\n",
              " 'quantile',\n",
              " 'r_',\n",
              " 'rad2deg',\n",
              " 'radians',\n",
              " 'random',\n",
              " 'rate',\n",
              " 'ravel',\n",
              " 'ravel_multi_index',\n",
              " 'real',\n",
              " 'real_if_close',\n",
              " 'rec',\n",
              " 'recarray',\n",
              " 'recfromcsv',\n",
              " 'recfromtxt',\n",
              " 'reciprocal',\n",
              " 'record',\n",
              " 'remainder',\n",
              " 'repeat',\n",
              " 'require',\n",
              " 'reshape',\n",
              " 'resize',\n",
              " 'result_type',\n",
              " 'right_shift',\n",
              " 'rint',\n",
              " 'roll',\n",
              " 'rollaxis',\n",
              " 'roots',\n",
              " 'rot90',\n",
              " 'round',\n",
              " 'round_',\n",
              " 'row_stack',\n",
              " 's_',\n",
              " 'safe_eval',\n",
              " 'save',\n",
              " 'savetxt',\n",
              " 'savez',\n",
              " 'savez_compressed',\n",
              " 'sctype2char',\n",
              " 'sctypeDict',\n",
              " 'sctypeNA',\n",
              " 'sctypes',\n",
              " 'searchsorted',\n",
              " 'select',\n",
              " 'set_numeric_ops',\n",
              " 'set_printoptions',\n",
              " 'set_string_function',\n",
              " 'setbufsize',\n",
              " 'setdiff1d',\n",
              " 'seterr',\n",
              " 'seterrcall',\n",
              " 'seterrobj',\n",
              " 'setxor1d',\n",
              " 'shape',\n",
              " 'shares_memory',\n",
              " 'short',\n",
              " 'show_config',\n",
              " 'sign',\n",
              " 'signbit',\n",
              " 'signedinteger',\n",
              " 'sin',\n",
              " 'sinc',\n",
              " 'single',\n",
              " 'singlecomplex',\n",
              " 'sinh',\n",
              " 'size',\n",
              " 'sometrue',\n",
              " 'sort',\n",
              " 'sort_complex',\n",
              " 'source',\n",
              " 'spacing',\n",
              " 'split',\n",
              " 'sqrt',\n",
              " 'square',\n",
              " 'squeeze',\n",
              " 'stack',\n",
              " 'std',\n",
              " 'str',\n",
              " 'str0',\n",
              " 'str_',\n",
              " 'string_',\n",
              " 'subtract',\n",
              " 'sum',\n",
              " 'swapaxes',\n",
              " 'sys',\n",
              " 'take',\n",
              " 'take_along_axis',\n",
              " 'tan',\n",
              " 'tanh',\n",
              " 'tensordot',\n",
              " 'test',\n",
              " 'testing',\n",
              " 'tile',\n",
              " 'timedelta64',\n",
              " 'trace',\n",
              " 'tracemalloc_domain',\n",
              " 'transpose',\n",
              " 'trapz',\n",
              " 'tri',\n",
              " 'tril',\n",
              " 'tril_indices',\n",
              " 'tril_indices_from',\n",
              " 'trim_zeros',\n",
              " 'triu',\n",
              " 'triu_indices',\n",
              " 'triu_indices_from',\n",
              " 'true_divide',\n",
              " 'trunc',\n",
              " 'typeDict',\n",
              " 'typeNA',\n",
              " 'typecodes',\n",
              " 'typename',\n",
              " 'ubyte',\n",
              " 'ufunc',\n",
              " 'uint',\n",
              " 'uint0',\n",
              " 'uint16',\n",
              " 'uint32',\n",
              " 'uint64',\n",
              " 'uint8',\n",
              " 'uintc',\n",
              " 'uintp',\n",
              " 'ulonglong',\n",
              " 'unicode',\n",
              " 'unicode_',\n",
              " 'union1d',\n",
              " 'unique',\n",
              " 'unpackbits',\n",
              " 'unravel_index',\n",
              " 'unsignedinteger',\n",
              " 'unwrap',\n",
              " 'ushort',\n",
              " 'vander',\n",
              " 'var',\n",
              " 'vdot',\n",
              " 'vectorize',\n",
              " 'version',\n",
              " 'void',\n",
              " 'void0',\n",
              " 'vsplit',\n",
              " 'vstack',\n",
              " 'warnings',\n",
              " 'where',\n",
              " 'who',\n",
              " 'zeros',\n",
              " 'zeros_like']"
            ]
          },
          "metadata": {
            "tags": []
          },
          "execution_count": 180
        }
      ]
    },
    {
      "cell_type": "code",
      "metadata": {
        "id": "J0TNnLc3FSgs",
        "colab_type": "code",
        "colab": {
          "base_uri": "https://localhost:8080/",
          "height": 943
        },
        "outputId": "436506da-077a-4df6-d21f-37529737bde8"
      },
      "source": [
        "dir(math)"
      ],
      "execution_count": 181,
      "outputs": [
        {
          "output_type": "execute_result",
          "data": {
            "text/plain": [
              "['__doc__',\n",
              " '__loader__',\n",
              " '__name__',\n",
              " '__package__',\n",
              " '__spec__',\n",
              " 'acos',\n",
              " 'acosh',\n",
              " 'asin',\n",
              " 'asinh',\n",
              " 'atan',\n",
              " 'atan2',\n",
              " 'atanh',\n",
              " 'ceil',\n",
              " 'copysign',\n",
              " 'cos',\n",
              " 'cosh',\n",
              " 'degrees',\n",
              " 'e',\n",
              " 'erf',\n",
              " 'erfc',\n",
              " 'exp',\n",
              " 'expm1',\n",
              " 'fabs',\n",
              " 'factorial',\n",
              " 'floor',\n",
              " 'fmod',\n",
              " 'frexp',\n",
              " 'fsum',\n",
              " 'gamma',\n",
              " 'gcd',\n",
              " 'hypot',\n",
              " 'inf',\n",
              " 'isclose',\n",
              " 'isfinite',\n",
              " 'isinf',\n",
              " 'isnan',\n",
              " 'ldexp',\n",
              " 'lgamma',\n",
              " 'log',\n",
              " 'log10',\n",
              " 'log1p',\n",
              " 'log2',\n",
              " 'modf',\n",
              " 'nan',\n",
              " 'pi',\n",
              " 'pow',\n",
              " 'radians',\n",
              " 'sin',\n",
              " 'sinh',\n",
              " 'sqrt',\n",
              " 'tan',\n",
              " 'tanh',\n",
              " 'tau',\n",
              " 'trunc']"
            ]
          },
          "metadata": {
            "tags": []
          },
          "execution_count": 181
        }
      ]
    },
    {
      "cell_type": "code",
      "metadata": {
        "id": "MSdMc2q88EIc",
        "colab_type": "code",
        "colab": {}
      },
      "source": [
        "import numpy as np\n",
        "xs = np.array([1,2,3,4,5,6])\n",
        "ys = np.array([5,4,6,5,6,7])\n",
        "\n",
        "\n",
        "def best_fit_slope(xs,ys):\n",
        "\n",
        "  m = ( ( np.mean(xs) * np.mean(ys) ) - ( np.mean(xs*ys) ) ) / ( np.mean(xs)**2 - np.mean(xs ** 2) )\n",
        "\n",
        "  b = np.mean(ys) - (m * (np.mean(xs)))\n",
        "  return m, b"
      ],
      "execution_count": 182,
      "outputs": []
    },
    {
      "cell_type": "code",
      "metadata": {
        "id": "mdqKAUOBHvH5",
        "colab_type": "code",
        "colab": {
          "base_uri": "https://localhost:8080/",
          "height": 34
        },
        "outputId": "43f517ca-5f76-4e77-d461-f2844b1e7744"
      },
      "source": [
        "m, b = best_fit_slope(xs,ys)\n",
        "m,b"
      ],
      "execution_count": 183,
      "outputs": [
        {
          "output_type": "execute_result",
          "data": {
            "text/plain": [
              "(0.42857142857142866, 4.0)"
            ]
          },
          "metadata": {
            "tags": []
          },
          "execution_count": 183
        }
      ]
    },
    {
      "cell_type": "code",
      "metadata": {
        "id": "tpDzG9kdC_UP",
        "colab_type": "code",
        "colab": {}
      },
      "source": [
        "regression_line =  [(m*x) + b for x in xs]\n",
        "\n",
        "\n",
        "#for x in xs:#\n",
        "# regression_line.append()"
      ],
      "execution_count": 184,
      "outputs": []
    },
    {
      "cell_type": "code",
      "metadata": {
        "id": "1fM7_74dXsAC",
        "colab_type": "code",
        "colab": {
          "base_uri": "https://localhost:8080/",
          "height": 120
        },
        "outputId": "fddea5d7-b478-46d4-bb74-75f45655061a"
      },
      "source": [
        "regression_line"
      ],
      "execution_count": 185,
      "outputs": [
        {
          "output_type": "execute_result",
          "data": {
            "text/plain": [
              "[4.428571428571429,\n",
              " 4.857142857142858,\n",
              " 5.2857142857142865,\n",
              " 5.714285714285714,\n",
              " 6.142857142857143,\n",
              " 6.571428571428572]"
            ]
          },
          "metadata": {
            "tags": []
          },
          "execution_count": 185
        }
      ]
    },
    {
      "cell_type": "code",
      "metadata": {
        "id": "K4dL5AL4XtRh",
        "colab_type": "code",
        "colab": {
          "base_uri": "https://localhost:8080/",
          "height": 282
        },
        "outputId": "35626843-279b-4b81-a4bc-a219ee122940"
      },
      "source": [
        "import matplotlib.pyplot as plt\n",
        "from matplotlib import style\n",
        "\n",
        "\n",
        "plt.scatter(xs, ys)\n",
        "plt.plot(xs, regression_line)\n"
      ],
      "execution_count": 186,
      "outputs": [
        {
          "output_type": "execute_result",
          "data": {
            "text/plain": [
              "[<matplotlib.lines.Line2D at 0x7f7f9126dd68>]"
            ]
          },
          "metadata": {
            "tags": []
          },
          "execution_count": 186
        },
        {
          "output_type": "display_data",
          "data": {
            "image/png": "[encoded data removed]",
            "text/plain": [
              "<Figure size 432x288 with 1 Axes>"
            ]
          },
          "metadata": {
            "tags": []
          }
        }
      ]
    },
    {
      "cell_type": "markdown",
      "metadata": {
        "id": "dWoi6D0auLgL",
        "colab_type": "text"
      },
      "source": [
        "## **Testing For Loop**"
      ]
    },
    {
      "cell_type": "code",
      "metadata": {
        "id": "NjaUUgE6f4VW",
        "colab_type": "code",
        "colab": {
          "base_uri": "https://localhost:8080/",
          "height": 34
        },
        "outputId": "70a1a5d9-2317-4799-919e-cd8c4a924b6a"
      },
      "source": [
        "a = [2,4,6,8]\n",
        "a"
      ],
      "execution_count": 187,
      "outputs": [
        {
          "output_type": "execute_result",
          "data": {
            "text/plain": [
              "[2, 4, 6, 8]"
            ]
          },
          "metadata": {
            "tags": []
          },
          "execution_count": 187
        }
      ]
    },
    {
      "cell_type": "code",
      "metadata": {
        "id": "qa54MDK-uRyf",
        "colab_type": "code",
        "colab": {
          "base_uri": "https://localhost:8080/",
          "height": 34
        },
        "outputId": "82d14fb3-e8c1-4ad8-8eba-1e54cb45cc5c"
      },
      "source": [
        "[np.mean(i) for i in a ]"
      ],
      "execution_count": 188,
      "outputs": [
        {
          "output_type": "execute_result",
          "data": {
            "text/plain": [
              "[2.0, 4.0, 6.0, 8.0]"
            ]
          },
          "metadata": {
            "tags": []
          },
          "execution_count": 188
        }
      ]
    },
    {
      "cell_type": "code",
      "metadata": {
        "id": "Tzq8qqVjujbs",
        "colab_type": "code",
        "colab": {
          "base_uri": "https://localhost:8080/",
          "height": 34
        },
        "outputId": "555d4b04-d519-4573-ea97-0b9e0fc778fa"
      },
      "source": [
        "[np.mean(a) for i in a ]"
      ],
      "execution_count": 189,
      "outputs": [
        {
          "output_type": "execute_result",
          "data": {
            "text/plain": [
              "[5.0, 5.0, 5.0, 5.0]"
            ]
          },
          "metadata": {
            "tags": []
          },
          "execution_count": 189
        }
      ]
    },
    {
      "cell_type": "code",
      "metadata": {
        "id": "9ftCKqD-5fjO",
        "colab_type": "code",
        "colab": {
          "base_uri": "https://localhost:8080/",
          "height": 34
        },
        "outputId": "aa34483e-8242-465c-e608-f944936237d9"
      },
      "source": [
        "ys"
      ],
      "execution_count": 190,
      "outputs": [
        {
          "output_type": "execute_result",
          "data": {
            "text/plain": [
              "array([5, 4, 6, 5, 6, 7])"
            ]
          },
          "metadata": {
            "tags": []
          },
          "execution_count": 190
        }
      ]
    },
    {
      "cell_type": "code",
      "metadata": {
        "id": "y9RLvvPh6gyD",
        "colab_type": "code",
        "colab": {
          "base_uri": "https://localhost:8080/",
          "height": 120
        },
        "outputId": "9f0562c0-6192-4168-9da6-fcb07f832b7e"
      },
      "source": [
        "regression_line"
      ],
      "execution_count": 191,
      "outputs": [
        {
          "output_type": "execute_result",
          "data": {
            "text/plain": [
              "[4.428571428571429,\n",
              " 4.857142857142858,\n",
              " 5.2857142857142865,\n",
              " 5.714285714285714,\n",
              " 6.142857142857143,\n",
              " 6.571428571428572]"
            ]
          },
          "metadata": {
            "tags": []
          },
          "execution_count": 191
        }
      ]
    },
    {
      "cell_type": "code",
      "metadata": {
        "id": "BfVm_znN7nC5",
        "colab_type": "code",
        "colab": {}
      },
      "source": [
        ""
      ],
      "execution_count": 191,
      "outputs": []
    },
    {
      "cell_type": "code",
      "metadata": {
        "id": "BFDb8lgruoR4",
        "colab_type": "code",
        "colab": {}
      },
      "source": [
        "def squared_error(ys_orig, ys_line):\n",
        "  return sum( (ys_line - ys_orig) ** 2 )\n",
        "\n",
        "\n",
        "def coefficient_of_determination(ys_orig, ys_line): #ys_orig id individual y-point, y_line is regression line/ line of best fit\n",
        "  y_mean_line = [np.mean(ys_orig) for y in ys_orig]\n",
        "  squared_error_regr = squared_error(ys_orig, ys_line)\n",
        "  squared_error_y_mean = squared_error(ys_orig, y_mean_line)\n",
        "\n",
        "  return 1 - (squared_error_regr / squared_error_y_mean)"
      ],
      "execution_count": 192,
      "outputs": []
    },
    {
      "cell_type": "code",
      "metadata": {
        "id": "iyMyyp0MwzNu",
        "colab_type": "code",
        "colab": {
          "base_uri": "https://localhost:8080/",
          "height": 34
        },
        "outputId": "f56361a9-0431-4f9b-b587-73cace98bef9"
      },
      "source": [
        "r_squared = coefficient_of_determination(ys, regression_line)\n",
        "r_squared"
      ],
      "execution_count": 193,
      "outputs": [
        {
          "output_type": "execute_result",
          "data": {
            "text/plain": [
              "0.5844155844155845"
            ]
          },
          "metadata": {
            "tags": []
          },
          "execution_count": 193
        }
      ]
    },
    {
      "cell_type": "code",
      "metadata": {
        "id": "c_cL9Lnf_jtI",
        "colab_type": "code",
        "colab": {}
      },
      "source": [
        "import random"
      ],
      "execution_count": 194,
      "outputs": []
    },
    {
      "cell_type": "markdown",
      "metadata": {
        "id": "H2ioofY3ACvf",
        "colab_type": "text"
      },
      "source": [
        "- random.randrange(-10,18)\n",
        "- this outputs just one number randomly within the specified range"
      ]
    },
    {
      "cell_type": "code",
      "metadata": {
        "id": "C9sd_Xpy_jrF",
        "colab_type": "code",
        "colab": {
          "base_uri": "https://localhost:8080/",
          "height": 34
        },
        "outputId": "35d7c46b-f42c-4f66-e265-960479773f3d"
      },
      "source": [
        "random.randrange(-2,2)"
      ],
      "execution_count": 195,
      "outputs": [
        {
          "output_type": "execute_result",
          "data": {
            "text/plain": [
              "-1"
            ]
          },
          "metadata": {
            "tags": []
          },
          "execution_count": 195
        }
      ]
    },
    {
      "cell_type": "code",
      "metadata": {
        "id": "sUmP8Faj_n5w",
        "colab_type": "code",
        "colab": {
          "base_uri": "https://localhost:8080/",
          "height": 34
        },
        "outputId": "65d2cebb-336b-4338-845e-3d3ec4106df9"
      },
      "source": [
        "random.randrange(-5,5)"
      ],
      "execution_count": 196,
      "outputs": [
        {
          "output_type": "execute_result",
          "data": {
            "text/plain": [
              "-1"
            ]
          },
          "metadata": {
            "tags": []
          },
          "execution_count": 196
        }
      ]
    },
    {
      "cell_type": "code",
      "metadata": {
        "id": "VIYAYV5z_nzw",
        "colab_type": "code",
        "colab": {
          "base_uri": "https://localhost:8080/",
          "height": 34
        },
        "outputId": "838af422-1f32-4314-a41c-d3a21202f0dd"
      },
      "source": [
        "random.randrange(-10,15)"
      ],
      "execution_count": 197,
      "outputs": [
        {
          "output_type": "execute_result",
          "data": {
            "text/plain": [
              "3"
            ]
          },
          "metadata": {
            "tags": []
          },
          "execution_count": 197
        }
      ]
    },
    {
      "cell_type": "markdown",
      "metadata": {
        "id": "MIfrUujHBzRB",
        "colab_type": "text"
      },
      "source": [
        "## **Creating a Dataset**"
      ]
    },
    {
      "cell_type": "code",
      "metadata": {
        "id": "At9MYeYt_jo_",
        "colab_type": "code",
        "colab": {}
      },
      "source": [
        "def create_dataset(hm, variance, step = 2, correlation = False): #This means step default value is 2 and step correlation value is False\n",
        "  val = 1\n",
        "  mys = []\n",
        "  for i in range(hm): #this basically means loop hm times\n",
        "    y_ = val + random.randrange(-variance, variance)\n",
        "    mys.append(y_) #this assigns the created value of y in a new list called mys\n",
        "    if correlation and correlation == 'pos': #checks if correlation == False and == 'pos' is met\n",
        "      val = val + step #this can also be written as val +=step\n",
        "    elif correlation and correlation == 'neg': #checks if correlation == False and == 'neg' is met\n",
        "      val = val - step #this can also be written as val -=step\n",
        "  mxs = [i for i in range(len(mys))] #return each element between the range of the length of mys\n",
        "  return np.array(mxs, dtype= np.float64) , np.array(mys, dtype= np.float64) #this returns two things, mxs and mys"
      ],
      "execution_count": 198,
      "outputs": []
    },
    {
      "cell_type": "code",
      "metadata": {
        "id": "8YF-NXTK_jmv",
        "colab_type": "code",
        "colab": {
          "base_uri": "https://localhost:8080/",
          "height": 120
        },
        "outputId": "313cdfea-7aa3-4e06-84a2-67fc186f4c77"
      },
      "source": [
        "mxs, mys = create_dataset(40, 40, 2, correlation = 'pos')\n",
        "print(mxs)\n",
        "print(mys)"
      ],
      "execution_count": 199,
      "outputs": [
        {
          "output_type": "stream",
          "text": [
            "[ 0.  1.  2.  3.  4.  5.  6.  7.  8.  9. 10. 11. 12. 13. 14. 15. 16. 17.\n",
            " 18. 19. 20. 21. 22. 23. 24. 25. 26. 27. 28. 29. 30. 31. 32. 33. 34. 35.\n",
            " 36. 37. 38. 39.]\n",
            "[ -7.  17. -34. -12. -21. -10.  27.  54. -15.  49.  33.  41.  43.  27.\n",
            "  67.  62.  45.   3.  11.  10.  10.  34.  71.  55.  78.  39.  50.  50.\n",
            "  60.  86.  91. 102.  71.  54.  77.  45.  49.  62.  67.  95.]\n"
          ],
          "name": "stdout"
        }
      ]
    },
    {
      "cell_type": "markdown",
      "metadata": {
        "id": "-tHIEnU6F4_9",
        "colab_type": "text"
      },
      "source": [
        "## **Testing the new dataset**"
      ]
    },
    {
      "cell_type": "code",
      "metadata": {
        "id": "ycdqkVmdGLrF",
        "colab_type": "code",
        "colab": {
          "base_uri": "https://localhost:8080/",
          "height": 51
        },
        "outputId": "f54a6fbc-1c39-4033-86a6-c3a0c47a78b9"
      },
      "source": [
        "slope , y_intercept = best_fit_slope(mxs,mys)\n",
        "print(slope)\n",
        "print(y_intercept)"
      ],
      "execution_count": 200,
      "outputs": [
        {
          "output_type": "stream",
          "text": [
            "2.11500938086304\n",
            "-0.34268292682927637\n"
          ],
          "name": "stdout"
        }
      ]
    },
    {
      "cell_type": "code",
      "metadata": {
        "id": "A7xxwoCpGLoN",
        "colab_type": "code",
        "colab": {
          "base_uri": "https://localhost:8080/",
          "height": 703
        },
        "outputId": "b1d52b09-a7bb-4a05-853a-e56b8b596de5"
      },
      "source": [
        "line_of_regression = [(slope * x) + y_intercept for x in mxs]\n",
        "line_of_regression"
      ],
      "execution_count": 201,
      "outputs": [
        {
          "output_type": "execute_result",
          "data": {
            "text/plain": [
              "[-0.34268292682927637,\n",
              " 1.7723264540337635,\n",
              " 3.8873358348968035,\n",
              " 6.002345215759844,\n",
              " 8.117354596622883,\n",
              " 10.232363977485923,\n",
              " 12.347373358348964,\n",
              " 14.462382739212003,\n",
              " 16.577392120075043,\n",
              " 18.692401500938082,\n",
              " 20.807410881801122,\n",
              " 22.92242026266416,\n",
              " 25.037429643527204,\n",
              " 27.152439024390244,\n",
              " 29.267448405253283,\n",
              " 31.382457786116323,\n",
              " 33.49746716697936,\n",
              " 35.612476547842405,\n",
              " 37.72748592870544,\n",
              " 39.842495309568484,\n",
              " 41.95750469043152,\n",
              " 44.07251407129456,\n",
              " 46.1875234521576,\n",
              " 48.30253283302064,\n",
              " 50.417542213883685,\n",
              " 52.53255159474672,\n",
              " 54.647560975609764,\n",
              " 56.7625703564728,\n",
              " 58.87757973733584,\n",
              " 60.99258911819888,\n",
              " 63.10759849906192,\n",
              " 65.22260787992496,\n",
              " 67.337617260788,\n",
              " 69.45262664165105,\n",
              " 71.56763602251408,\n",
              " 73.68264540337711,\n",
              " 75.79765478424017,\n",
              " 77.9126641651032,\n",
              " 80.02767354596625,\n",
              " 82.14268292682928]"
            ]
          },
          "metadata": {
            "tags": []
          },
          "execution_count": 201
        }
      ]
    },
    {
      "cell_type": "code",
      "metadata": {
        "id": "Cwn072EyGLlw",
        "colab_type": "code",
        "colab": {
          "base_uri": "https://localhost:8080/",
          "height": 34
        },
        "outputId": "b51ee516-da81-4a3f-db38-d18da74b76fa"
      },
      "source": [
        "x_prediction = 8\n",
        "y_prediction = (slope * x_prediction) + y_intercept \n",
        "print(y_prediction)"
      ],
      "execution_count": 202,
      "outputs": [
        {
          "output_type": "stream",
          "text": [
            "16.577392120075043\n"
          ],
          "name": "stdout"
        }
      ]
    },
    {
      "cell_type": "code",
      "metadata": {
        "id": "GkTCgDyoW3kG",
        "colab_type": "code",
        "colab": {
          "base_uri": "https://localhost:8080/",
          "height": 34
        },
        "outputId": "4c4897a4-6785-4444-a448-3d445e66336e"
      },
      "source": [
        "r_squared_value = coefficient_of_determination(mys, line_of_regression)\n",
        "print(r_squared_value)"
      ],
      "execution_count": 203,
      "outputs": [
        {
          "output_type": "stream",
          "text": [
            "0.5327742639474129\n"
          ],
          "name": "stdout"
        }
      ]
    },
    {
      "cell_type": "markdown",
      "metadata": {
        "id": "wJdzoMfVXM2T",
        "colab_type": "text"
      },
      "source": [
        "## **Plotting**"
      ]
    },
    {
      "cell_type": "code",
      "metadata": {
        "id": "rW8nSTNbW3d9",
        "colab_type": "code",
        "colab": {
          "base_uri": "https://localhost:8080/",
          "height": 282
        },
        "outputId": "7925c683-4e33-4e26-f808-528d7450ec20"
      },
      "source": [
        "import matplotlib.pyplot as plt\n",
        "\n",
        "plt.plot(mxs, line_of_regression)\n",
        "plt.scatter(mxs, mys)\n",
        "plt.scatter(x_prediction, y_prediction, color = 'g')"
      ],
      "execution_count": 204,
      "outputs": [
        {
          "output_type": "execute_result",
          "data": {
            "text/plain": [
              "<matplotlib.collections.PathCollection at 0x7f7f9119ada0>"
            ]
          },
          "metadata": {
            "tags": []
          },
          "execution_count": 204
        },
        {
          "output_type": "display_data",
          "data": {
            "image/png": "[encoded data removed]",
            "text/plain": [
              "<Figure size 432x288 with 1 Axes>"
            ]
          },
          "metadata": {
            "tags": []
          }
        }
      ]
    },
    {
      "cell_type": "code",
      "metadata": {
        "id": "iV4QKaeMW3ab",
        "colab_type": "code",
        "colab": {}
      },
      "source": [
        ""
      ],
      "execution_count": 204,
      "outputs": []
    },
    {
      "cell_type": "code",
      "metadata": {
        "id": "TyazWfB01ANE",
        "colab_type": "code",
        "colab": {
          "base_uri": "https://localhost:8080/",
          "height": 68
        },
        "outputId": "67340d13-333f-4867-d451-363ce7de5a5c"
      },
      "source": [
        "from platform import platform\n",
        "\n",
        "print(platform())\n",
        "print(platform(1))\n",
        "print(platform(0, 1))"
      ],
      "execution_count": 205,
      "outputs": [
        {
          "output_type": "stream",
          "text": [
            "Linux-4.19.112+-x86_64-with-Ubuntu-18.04-bionic\n",
            "Linux-4.19.112+-x86_64-with-Ubuntu-18.04-bionic\n",
            "Linux-4.19.112+-x86_64-with-glibc2.25\n"
          ],
          "name": "stdout"
        }
      ]
    },
    {
      "cell_type": "code",
      "metadata": {
        "id": "_W_gbUZd1BXp",
        "colab_type": "code",
        "colab": {
          "base_uri": "https://localhost:8080/",
          "height": 34
        },
        "outputId": "ae0dddd7-e628-4f6e-9ef9-9b0b101a3862"
      },
      "source": [
        "print(platform(0, 2))"
      ],
      "execution_count": 206,
      "outputs": [
        {
          "output_type": "stream",
          "text": [
            "Linux-4.19.112+-x86_64-with-glibc2.25\n"
          ],
          "name": "stdout"
        }
      ]
    },
    {
      "cell_type": "code",
      "metadata": {
        "id": "O5S6g5F81JPV",
        "colab_type": "code",
        "colab": {
          "base_uri": "https://localhost:8080/",
          "height": 617
        },
        "outputId": "0a26ec6c-44f5-40b8-f4f3-f0b11f160646"
      },
      "source": [
        "dir(platform)"
      ],
      "execution_count": 207,
      "outputs": [
        {
          "output_type": "execute_result",
          "data": {
            "text/plain": [
              "['__annotations__',\n",
              " '__call__',\n",
              " '__class__',\n",
              " '__closure__',\n",
              " '__code__',\n",
              " '__defaults__',\n",
              " '__delattr__',\n",
              " '__dict__',\n",
              " '__dir__',\n",
              " '__doc__',\n",
              " '__eq__',\n",
              " '__format__',\n",
              " '__ge__',\n",
              " '__get__',\n",
              " '__getattribute__',\n",
              " '__globals__',\n",
              " '__gt__',\n",
              " '__hash__',\n",
              " '__init__',\n",
              " '__init_subclass__',\n",
              " '__kwdefaults__',\n",
              " '__le__',\n",
              " '__lt__',\n",
              " '__module__',\n",
              " '__name__',\n",
              " '__ne__',\n",
              " '__new__',\n",
              " '__qualname__',\n",
              " '__reduce__',\n",
              " '__reduce_ex__',\n",
              " '__repr__',\n",
              " '__setattr__',\n",
              " '__sizeof__',\n",
              " '__str__',\n",
              " '__subclasshook__']"
            ]
          },
          "metadata": {
            "tags": []
          },
          "execution_count": 207
        }
      ]
    },
    {
      "cell_type": "code",
      "metadata": {
        "id": "G_q6uUef1MrO",
        "colab_type": "code",
        "colab": {}
      },
      "source": [
        "import platform"
      ],
      "execution_count": 208,
      "outputs": []
    },
    {
      "cell_type": "code",
      "metadata": {
        "id": "SHRWi2901cUv",
        "colab_type": "code",
        "colab": {
          "base_uri": "https://localhost:8080/",
          "height": 1000
        },
        "outputId": "016e433d-7cbf-4533-d710-dd202aae08a5"
      },
      "source": [
        "dir(platform)"
      ],
      "execution_count": 209,
      "outputs": [
        {
          "output_type": "execute_result",
          "data": {
            "text/plain": [
              "['DEV_NULL',\n",
              " '_UNIXCONFDIR',\n",
              " '_WIN32_CLIENT_RELEASES',\n",
              " '_WIN32_SERVER_RELEASES',\n",
              " '__builtins__',\n",
              " '__cached__',\n",
              " '__copyright__',\n",
              " '__doc__',\n",
              " '__file__',\n",
              " '__loader__',\n",
              " '__name__',\n",
              " '__package__',\n",
              " '__spec__',\n",
              " '__version__',\n",
              " '__warningregistry__',\n",
              " '_codename_file_re',\n",
              " '_comparable_version',\n",
              " '_component_re',\n",
              " '_default_architecture',\n",
              " '_dist_try_harder',\n",
              " '_distributor_id_file_re',\n",
              " '_follow_symlinks',\n",
              " '_ironpython26_sys_version_parser',\n",
              " '_ironpython_sys_version_parser',\n",
              " '_java_getprop',\n",
              " '_libc_search',\n",
              " '_linux_distribution',\n",
              " '_lsb_release_version',\n",
              " '_mac_ver_xml',\n",
              " '_node',\n",
              " '_norm_version',\n",
              " '_parse_release_file',\n",
              " '_platform',\n",
              " '_platform_cache',\n",
              " '_pypy_sys_version_parser',\n",
              " '_release_file_re',\n",
              " '_release_filename',\n",
              " '_release_version',\n",
              " '_supported_dists',\n",
              " '_sys_version',\n",
              " '_sys_version_cache',\n",
              " '_sys_version_parser',\n",
              " '_syscmd_file',\n",
              " '_syscmd_uname',\n",
              " '_syscmd_ver',\n",
              " '_uname_cache',\n",
              " '_ver_output',\n",
              " '_ver_stages',\n",
              " 'architecture',\n",
              " 'collections',\n",
              " 'dist',\n",
              " 'java_ver',\n",
              " 'libc_ver',\n",
              " 'linux_distribution',\n",
              " 'mac_ver',\n",
              " 'machine',\n",
              " 'node',\n",
              " 'os',\n",
              " 'platform',\n",
              " 'popen',\n",
              " 'processor',\n",
              " 'python_branch',\n",
              " 'python_build',\n",
              " 'python_compiler',\n",
              " 'python_implementation',\n",
              " 'python_revision',\n",
              " 'python_version',\n",
              " 'python_version_tuple',\n",
              " 're',\n",
              " 'release',\n",
              " 'subprocess',\n",
              " 'sys',\n",
              " 'system',\n",
              " 'system_alias',\n",
              " 'uname',\n",
              " 'uname_result',\n",
              " 'version',\n",
              " 'warnings',\n",
              " 'win32_ver']"
            ]
          },
          "metadata": {
            "tags": []
          },
          "execution_count": 209
        }
      ]
    },
    {
      "cell_type": "code",
      "metadata": {
        "id": "hNXltJ9h1d3l",
        "colab_type": "code",
        "colab": {
          "base_uri": "https://localhost:8080/",
          "height": 34
        },
        "outputId": "733790a0-97aa-4193-9273-8d418b5fa740"
      },
      "source": [
        "print(platform.machine())"
      ],
      "execution_count": 210,
      "outputs": [
        {
          "output_type": "stream",
          "text": [
            "x86_64\n"
          ],
          "name": "stdout"
        }
      ]
    },
    {
      "cell_type": "code",
      "metadata": {
        "id": "TSHksCOG1kgH",
        "colab_type": "code",
        "colab": {
          "base_uri": "https://localhost:8080/",
          "height": 34
        },
        "outputId": "cf440f65-a4fa-4247-b64a-625739e50c29"
      },
      "source": [
        "print(platform.processor())"
      ],
      "execution_count": 211,
      "outputs": [
        {
          "output_type": "stream",
          "text": [
            "x86_64\n"
          ],
          "name": "stdout"
        }
      ]
    },
    {
      "cell_type": "code",
      "metadata": {
        "id": "4Zxw5nKD2Aro",
        "colab_type": "code",
        "colab": {
          "base_uri": "https://localhost:8080/",
          "height": 34
        },
        "outputId": "1ff6c31b-ae0f-4c1f-c921-aa6b25b134a6"
      },
      "source": [
        "print(platform.system())"
      ],
      "execution_count": 212,
      "outputs": [
        {
          "output_type": "stream",
          "text": [
            "Linux\n"
          ],
          "name": "stdout"
        }
      ]
    },
    {
      "cell_type": "code",
      "metadata": {
        "id": "QXMlD_so2JKS",
        "colab_type": "code",
        "colab": {
          "base_uri": "https://localhost:8080/",
          "height": 34
        },
        "outputId": "6246fd17-2e10-452a-93d0-7402c12be68a"
      },
      "source": [
        "print(platform.python_implementation())"
      ],
      "execution_count": 213,
      "outputs": [
        {
          "output_type": "stream",
          "text": [
            "CPython\n"
          ],
          "name": "stdout"
        }
      ]
    },
    {
      "cell_type": "code",
      "metadata": {
        "id": "SQGCTcBK3GSq",
        "colab_type": "code",
        "colab": {
          "base_uri": "https://localhost:8080/",
          "height": 68
        },
        "outputId": "4d107588-4453-4331-ed90-08170506b58a"
      },
      "source": [
        "for i in platform.python_version_tuple():\n",
        "  print(i) #major, minor, patch"
      ],
      "execution_count": 214,
      "outputs": [
        {
          "output_type": "stream",
          "text": [
            "3\n",
            "6\n",
            "9\n"
          ],
          "name": "stdout"
        }
      ]
    },
    {
      "cell_type": "code",
      "metadata": {
        "id": "ZjERd5zB3TNv",
        "colab_type": "code",
        "colab": {}
      },
      "source": [
        ""
      ],
      "execution_count": 214,
      "outputs": []
    }
  ]
}